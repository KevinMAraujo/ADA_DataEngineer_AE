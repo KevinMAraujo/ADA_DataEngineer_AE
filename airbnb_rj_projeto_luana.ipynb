{
 "cells": [
  {
   "cell_type": "markdown",
   "metadata": {},
   "source": [
    "# Projeto Final | Analytics Engineering\n",
    "----\n",
    "**Engenharia de Dados e Garantia de Qualidade no Conjunto de Dados do Airbnb no Rio de Janeiro**"
   ]
  },
  {
   "cell_type": "markdown",
   "metadata": {},
   "source": [
    "# Etapa 1:\n",
    "\n",
    "**Aquisição de Dados e Armazenamento de Dados em PostgreSQL - Camada Bronze**"
   ]
  },
  {
   "cell_type": "markdown",
   "metadata": {},
   "source": [
    "   - Baixe o conjunto de dados \"Inside Airbnb\" do Rio de Janeiro da fonte oficial (http://insideairbnb.com/) e promova uma estruturação simples nos dados.\n",
    "   - Crie um banco de dados PostgreSQL para armazenar os dados brutos das 3 tabelas (\"Listing\", \"Reviews\" e Calendar\") na camada \"bronze\"."
   ]
  },
  {
   "cell_type": "markdown",
   "metadata": {},
   "source": [
    "## Bibliotecas"
   ]
  },
  {
   "cell_type": "code",
   "execution_count": null,
   "metadata": {},
   "outputs": [],
   "source": [
    "from sqlalchemy import create_engine, text as sql_text\n",
    "import pandas as pd\n",
    "import datetime\n",
    "\n",
    "import os"
   ]
  },
  {
   "cell_type": "markdown",
   "metadata": {},
   "source": [
    "### Chamada da biblioteca para usar o SQL"
   ]
  },
  {
   "cell_type": "code",
   "execution_count": null,
   "metadata": {},
   "outputs": [],
   "source": [
    "%load_ext sql"
   ]
  },
  {
   "cell_type": "markdown",
   "metadata": {},
   "source": [
    "## Camada Landing - Extração de dados"
   ]
  },
  {
   "cell_type": "code",
   "execution_count": 2,
   "metadata": {},
   "outputs": [
    {
     "name": "stdout",
     "output_type": "stream",
     "text": [
      "O diretório ./data/ não existe e tentaremos criar.\n",
      "Diretório criado com sucesso!!\n",
      "Efetuando a requisição para a url https://data.insideairbnb.com/brazil/rj/rio-de-janeiro/2023-12-26/data/listings.csv.gz\n",
      "Efetuando a requisição para a url https://data.insideairbnb.com/brazil/rj/rio-de-janeiro/2023-12-26/data/calendar.csv.gz\n",
      "Efetuando a requisição para a url https://data.insideairbnb.com/brazil/rj/rio-de-janeiro/2023-12-26/data/reviews.csv.gz\n",
      "Salvando o arquivo ./data/listings.csv.gz\n",
      "Salvando o arquivo ./data/reviews.csv.gz\n",
      "Salvando o arquivo ./data/calendar.csv.gz\n"
     ]
    }
   ],
   "source": [
    "## Importar modulo para extração dos dados\n",
    "from modules.etl import Landing\n",
    "\n",
    "url = [\n",
    "    'https://data.insideairbnb.com/brazil/rj/rio-de-janeiro/2023-12-26/data/listings.csv.gz',\n",
    "    'https://data.insideairbnb.com/brazil/rj/rio-de-janeiro/2023-12-26/data/calendar.csv.gz',\n",
    "    'https://data.insideairbnb.com/brazil/rj/rio-de-janeiro/2023-12-26/data/reviews.csv.gz'\n",
    "]\n",
    "data_path = './data/'\n",
    "landing_step = Landing(landing_path=data_path)\n",
    "landing_step.extract(url=url)\n",
    "landing_step.transform()"
   ]
  },
  {
   "cell_type": "markdown",
   "metadata": {},
   "source": [
    "## Preparação do Datalake"
   ]
  },
  {
   "cell_type": "code",
   "execution_count": 3,
   "metadata": {},
   "outputs": [
    {
     "name": "stdout",
     "output_type": "stream",
     "text": [
      "O banco de dados datalake já existe.\n",
      "O Schema 'bronze' ja existe.\n",
      "O Schema 'silver' ja existe.\n",
      "O Schema 'gold' ja existe.\n"
     ]
    }
   ],
   "source": [
    "import modules.database as db\n",
    "\n",
    "db.criar_database()\n",
    "db.criar_schemas()"
   ]
  },
  {
   "cell_type": "markdown",
   "metadata": {},
   "source": [
    "## Camada Bronze - Ingestão e Análise dos Dados"
   ]
  },
  {
   "cell_type": "code",
   "execution_count": 4,
   "metadata": {},
   "outputs": [
    {
     "name": "stdout",
     "output_type": "stream",
     "text": [
      "Iniciando a estapa bronze.\n",
      "Criando a tabela 'listings' no schema 'bronze'....\n",
      "A tabela 'listings' foi criada no schema 'bronze', e os dados foram inseridos.\n",
      "Criando a tabela 'reviews' no schema 'bronze'....\n",
      "A tabela 'reviews' foi criada no schema 'bronze', e os dados foram inseridos.\n",
      "Criando a tabela 'calendar' no schema 'bronze'....\n",
      "A tabela 'calendar' foi criada no schema 'bronze', e os dados foram inseridos.\n",
      "Etapas bronze executada com sucesso!!\n"
     ]
    }
   ],
   "source": [
    "import pandas as pd\n",
    "import modules.database as db\n",
    "\n",
    "# Testar a conexão\n",
    "try:\n",
    "    print(\"Iniciando a estapa bronze.\")\n",
    "\n",
    "    ## Listings\n",
    "    data_path = './data/'\n",
    "    df_listings = pd.read_csv(data_path + 'listings.csv') # Carregando o csv listings em um Dataframe Python\n",
    "    db.criar_tabela_df('bronze', 'listings', df_listings,'replace') # Criar e salvar o DataFrame na tabela \"listings\" dentro do esquema \"bronze\"\n",
    "\n",
    "    ## Reviews\n",
    "    df_reviews = pd.read_csv(data_path + 'reviews.csv') # Carregando o csv reviews em um Dataframe Python\n",
    "    db.criar_tabela_df('bronze', 'reviews', df_reviews,'replace') # Criar e salvar o DataFrame na tabela \"reviews\" dentro do esquema \"bronze\"\n",
    "\n",
    "    ## Calendar\n",
    "    df_calendar = pd.read_csv(data_path + 'calendar.csv') # Carregando o csv calendar em um Dataframe Python\n",
    "    db.criar_tabela_df('bronze', 'calendar', df_calendar,'replace') # Criar e salvar o DataFrame na tabela \"calendar\" dentro do esquema \"bronze\"\n",
    "\n",
    "    print(\"Etapas bronze executada com sucesso!!\")\n",
    "except Exception as e:\n",
    "    print(\"Ocorreu um erro inesperado ao efetua a etapa bronze:\", e)"
   ]
  },
  {
   "cell_type": "markdown",
   "metadata": {},
   "source": [
    "# Etapa 2:\n",
    "\n",
    "**Data Clean - Camada Silver**"
   ]
  },
  {
   "cell_type": "markdown",
   "metadata": {},
   "source": [
    "   - Identifique e lide com valores ausentes, duplicatas e outliers nos dados brutos da camada \"bronze\".\n",
    "   - Padronize e limpe os nomes das colunas, convertendo-os em um formato consistente.\n",
    "   - Realize uma limpeza textual em campos, como descrições de propriedades, removendo caracteres especiais e erros de digitação."
   ]
  },
  {
   "cell_type": "markdown",
   "metadata": {},
   "source": [
    "## Camada Silver - Limpeza de Dados e Criação de colunas"
   ]
  },
  {
   "cell_type": "markdown",
   "metadata": {},
   "source": [
    "### Leitura das tabelas bronze"
   ]
  },
  {
   "cell_type": "code",
   "execution_count": 6,
   "metadata": {},
   "outputs": [],
   "source": [
    "from modules.database import engine_db\n",
    "\n",
    "df_silver_listings = pd.read_sql_table(table_name='listings',schema='bronze',con=engine_db())\n",
    "df_silver_reviews = pd.read_sql_table(table_name='reviews',schema='bronze',con=engine_db())\n",
    "df_silver_calendar = pd.read_sql_table(table_name='calendar',schema='bronze',con=engine_db())"
   ]
  },
  {
   "cell_type": "markdown",
   "metadata": {},
   "source": [
    "### Importação da biblioteca de limpeza"
   ]
  },
  {
   "cell_type": "code",
   "execution_count": null,
   "metadata": {},
   "outputs": [],
   "source": [
    "from modules.utils import data_profiling, remove_special_caracters, process_dataframe, remove_outliers #, change_t_for_1"
   ]
  },
  {
   "cell_type": "markdown",
   "metadata": {},
   "source": [
    "### Relatório com informações do perfil dos dados"
   ]
  },
  {
   "cell_type": "code",
   "execution_count": null,
   "metadata": {},
   "outputs": [],
   "source": [
    "data_profiling(df_silver_listings, 'listings', 'data_profiling/')\n",
    "# data_profiling(df_silver_reviews, 'reviews', 'data_profiling/')\n",
    "# data_profiling(df_silver_calendar, 'calendar', 'data_profiling/')"
   ]
  },
  {
   "cell_type": "markdown",
   "metadata": {},
   "source": [
    "### Processamento da tabela **listings**"
   ]
  },
  {
   "cell_type": "markdown",
   "metadata": {},
   "source": [
    "##### Limpeza de caracteres"
   ]
  },
  {
   "cell_type": "code",
   "execution_count": null,
   "metadata": {},
   "outputs": [],
   "source": [
    "df_silver_listings[\"neighborhood_overview\"] = df_silver_listings[\"neighborhood_overview\"].apply(remove_special_caracters)\n",
    "df_silver_listings[\"host_about\"] = df_silver_listings[\"host_about\"].apply(remove_special_caracters)"
   ]
  },
  {
   "cell_type": "markdown",
   "metadata": {},
   "source": [
    "##### Identificar e lidar com valores ausentes, duplicatas e outliers"
   ]
  },
  {
   "cell_type": "code",
   "execution_count": null,
   "metadata": {},
   "outputs": [],
   "source": [
    "# colunas para considerar a eliminação de outliers\n",
    "cols_listings = ['review_scores_communication', 'review_scores_location', 'review_scores_value', 'reviews_per_month']\n",
    "\n",
    "df_process = process_dataframe(df_silver_listings, 'listings')\n",
    "df_silver_listings = remove_outliers(df_process, cols_listings)"
   ]
  },
  {
   "cell_type": "markdown",
   "metadata": {},
   "source": [
    "##### Conversão do T e F para 1 e 0"
   ]
  },
  {
   "cell_type": "code",
   "execution_count": null,
   "metadata": {},
   "outputs": [],
   "source": [
    "cols_listings2 = ['host_is_superhost', 'host_has_profile_pic', 'host_identity_verified', 'instant_bookable']\n",
    "\n",
    "for col in cols_listings2:\n",
    "    df_silver_listings[col] = df_silver_listings[col].apply(change_t_for_1).astype(\"int\")"
   ]
  },
  {
   "cell_type": "markdown",
   "metadata": {},
   "source": [
    "##### Transformação da coluna bathroom_text em 2 colunas"
   ]
  },
  {
   "cell_type": "code",
   "execution_count": null,
   "metadata": {},
   "outputs": [],
   "source": [
    "df_silver_listings['bathrooms_text'].unique()"
   ]
  },
  {
   "cell_type": "code",
   "execution_count": null,
   "metadata": {},
   "outputs": [],
   "source": [
    "# Preencha os valores nulos na coluna 'bathrooms_text' com '0 bath'\n",
    "df_silver_listings['bathrooms_text'] = df_silver_listings['bathrooms_text'].fillna('0 bath')\n",
    "    \n",
    "# Defina o tipo de banheiro\n",
    "df_silver_listings['bathroom_type'] = df_silver_listings['bathrooms_text'].str.replace(r'(\\d+\\.?\\d*)', '', regex=True)\n",
    "    \n",
    "# Remova 's' do final de 'baths e traz o strip()'\n",
    "df_silver_listings['bathroom_type'] = df_silver_listings['bathroom_type'].str.replace(r's?$', '', regex=True).apply(lambda x: x.strip())\n",
    "    \n",
    "# Extraia o número de banheiros usando expressões regulares\n",
    "df_silver_listings['bathroom_quantity'] = df_silver_listings['bathrooms_text'].str.extract(r'(\\d+\\.?\\d*)')[0].astype(float)\n",
    "    \n",
    "# Converta a coluna 'bathroom_quantity' para tipo numérico\n",
    "df_silver_listings['bathroom_quantity'] = pd.to_numeric(df_silver_listings['bathroom_quantity'], errors='coerce').fillna(0)"
   ]
  },
  {
   "cell_type": "code",
   "execution_count": null,
   "metadata": {},
   "outputs": [],
   "source": [
    "df_silver_listings['bathroom_type'].unique()"
   ]
  },
  {
   "cell_type": "code",
   "execution_count": null,
   "metadata": {},
   "outputs": [],
   "source": [
    "df_silver_listings[[\"bathroom_type\",'bathroom_quantity']]"
   ]
  },
  {
   "cell_type": "markdown",
   "metadata": {},
   "source": [
    "##### Padronização dos nomes e tipos das colunas"
   ]
  },
  {
   "cell_type": "code",
   "execution_count": null,
   "metadata": {},
   "outputs": [],
   "source": [
    "# Definir o tipo das colunas que não serão de texto\n",
    "list_int_listings = ['id', 'host_id', 'calculated_host_listings_count', 'calculated_host_listings_count_entire_homes', 'calculated_host_listings_count_private_rooms', 'calculated_host_listings_count_shared_rooms']\n",
    "list_datetime_listings = ['last_scraped']\n",
    "list_float_listings = ['review_scores_location', 'review_scores_value', 'reviews_per_month']"
   ]
  },
  {
   "cell_type": "code",
   "execution_count": null,
   "metadata": {},
   "outputs": [],
   "source": [
    "## Tipos das colunas\n",
    "\n",
    "print('Integer')\n",
    "print(df_silver_listings[list_int_listings].dtypes)\n",
    "\n",
    "print('\\nDatetime')\n",
    "print(df_silver_listings[list_datetime_listings].dtypes)\n",
    "\n",
    "print('\\nFloat')\n",
    "print(df_silver_listings[list_float_listings].dtypes)"
   ]
  },
  {
   "cell_type": "code",
   "execution_count": null,
   "metadata": {},
   "outputs": [],
   "source": [
    "## Nessário apenas alterar o tipo das colunas 'last_scraped'\n",
    "df_silver_listings['last_scraped'] = pd.to_datetime(df_silver_listings['last_scraped'], format='%Y-%m-%d')"
   ]
  },
  {
   "cell_type": "code",
   "execution_count": null,
   "metadata": {},
   "outputs": [],
   "source": [
    "df_silver_listings[list_datetime_listings].dtypes"
   ]
  },
  {
   "cell_type": "markdown",
   "metadata": {},
   "source": [
    "### Processamento da tabela **reviews**"
   ]
  },
  {
   "cell_type": "markdown",
   "metadata": {},
   "source": [
    "##### Limpeza de caracteres"
   ]
  },
  {
   "cell_type": "code",
   "execution_count": null,
   "metadata": {},
   "outputs": [],
   "source": [
    "df_silver_reviews[\"comments\"] = df_silver_reviews[\"comments\"].apply(remove_special_caracters)"
   ]
  },
  {
   "cell_type": "markdown",
   "metadata": {},
   "source": [
    "##### Identificar e lidar com valores ausentes, duplicatas e outliers"
   ]
  },
  {
   "cell_type": "code",
   "execution_count": null,
   "metadata": {},
   "outputs": [],
   "source": [
    "# colunas para considerar a eliminação de outliers\n",
    "# cols_reviews = []\n",
    "\n",
    "df_process = process_dataframe(df_silver_reviews, 'reviews')\n",
    "# df_silver_reviews = remove_outliers(df_process, cols_reviews)"
   ]
  },
  {
   "cell_type": "markdown",
   "metadata": {},
   "source": [
    "##### Padronização dos nomes e tipos das colunas"
   ]
  },
  {
   "cell_type": "code",
   "execution_count": null,
   "metadata": {},
   "outputs": [],
   "source": [
    "# Definir o tipo das colunas que não serão de texto\n",
    "list_int_reviews = ['listing_id', 'id', 'reviewer_id']\n",
    "list_datetime_reviews = ['date']"
   ]
  },
  {
   "cell_type": "code",
   "execution_count": null,
   "metadata": {},
   "outputs": [],
   "source": [
    "df_silver_reviews.dtypes"
   ]
  },
  {
   "cell_type": "code",
   "execution_count": null,
   "metadata": {},
   "outputs": [],
   "source": [
    "## Apenas a alteração do tipo da coluna 'date' é necessária.\n",
    "df_silver_reviews['date'] = pd.to_datetime(df_silver_reviews['date'], format='%Y-%m-%d')"
   ]
  },
  {
   "cell_type": "code",
   "execution_count": null,
   "metadata": {},
   "outputs": [],
   "source": [
    "df_silver_reviews.dtypes"
   ]
  },
  {
   "cell_type": "markdown",
   "metadata": {},
   "source": [
    "### Processamento da tabela **calendar**"
   ]
  },
  {
   "cell_type": "markdown",
   "metadata": {},
   "source": [
    "##### Limpeza de caracteres"
   ]
  },
  {
   "cell_type": "code",
   "execution_count": null,
   "metadata": {},
   "outputs": [],
   "source": [
    "df_silver_calendar[\"price\"] = df_silver_calendar[\"price\"].apply(remove_special_caracters).astype(\"float\")"
   ]
  },
  {
   "cell_type": "markdown",
   "metadata": {},
   "source": [
    "##### Identificar e lidar com valores ausentes, duplicatas e outliers"
   ]
  },
  {
   "cell_type": "code",
   "execution_count": null,
   "metadata": {},
   "outputs": [],
   "source": [
    "# colunas para considerar a eliminação de outliers\n",
    "cols_calendar = ['price']\n",
    "\n",
    "df_process = process_dataframe(df_silver_calendar, 'calendar')\n",
    "df_silver_calendar = remove_outliers(df_process, cols_calendar)"
   ]
  },
  {
   "cell_type": "markdown",
   "metadata": {},
   "source": [
    "##### Conversão do T e F para 1 e 0"
   ]
  },
  {
   "cell_type": "code",
   "execution_count": null,
   "metadata": {},
   "outputs": [],
   "source": [
    "cols_calendar2 = ['avaliable']\n",
    "\n",
    "for col in cols_calendar2:\n",
    "    df_silver_calendar[col] = df_silver_calendar[col].apply(change_t_for_1).astype(\"int\")"
   ]
  },
  {
   "cell_type": "markdown",
   "metadata": {},
   "source": [
    "##### Padronização dos nomes e tipos das colunas"
   ]
  },
  {
   "cell_type": "code",
   "execution_count": null,
   "metadata": {},
   "outputs": [],
   "source": [
    "# Definir o tipo das colunas que não serão de texto\n",
    "list_int_calendar = ['listing_id', 'minimum_nights', 'maximum_nights']\n",
    "list_datetime_calendar = ['date']\n",
    "list_float_calendar = ['price']"
   ]
  },
  {
   "cell_type": "code",
   "execution_count": null,
   "metadata": {},
   "outputs": [],
   "source": [
    "df_silver_calendar.dtypes"
   ]
  },
  {
   "cell_type": "code",
   "execution_count": null,
   "metadata": {},
   "outputs": [],
   "source": [
    "## Nessário apenas alterar o tipo das colunas 'date','minimum_nights', 'maximum_nights'\n",
    "df_silver_calendar['date'] = pd.to_datetime(df_silver_calendar['date'], format='%Y-%m-%d')"
   ]
  },
  {
   "cell_type": "code",
   "execution_count": null,
   "metadata": {},
   "outputs": [],
   "source": [
    "for column in ['minimum_nights', 'maximum_nights']:\n",
    "    #transforma a coluna para o tipo inteiro\n",
    "    df_silver_calendar[column] = df_silver_calendar[column].astype(\"int\")"
   ]
  },
  {
   "cell_type": "code",
   "execution_count": null,
   "metadata": {},
   "outputs": [],
   "source": [
    "df_silver_calendar.dtypes"
   ]
  },
  {
   "cell_type": "markdown",
   "metadata": {},
   "source": [
    "# Etapa 3:\n",
    "\n",
    "**Data Quality - Camada Silver**"
   ]
  },
  {
   "cell_type": "markdown",
   "metadata": {},
   "source": [
    "   - Defina métricas de qualidade de dados, como integridade, precisão e consistência para os dados da camada \"bronze\".\n",
    "   - Implemente verificações para garantir que os dados da camada \"silver\" estejam em conformidade com essas métricas.\n",
    "   - Estabeleça um sistema de monitoramento contínuo da qualidade dos dados da camada \"silver\"."
   ]
  },
  {
   "cell_type": "markdown",
   "metadata": {},
   "source": [
    "### Função para verificar os casos nulos"
   ]
  },
  {
   "cell_type": "code",
   "execution_count": null,
   "metadata": {},
   "outputs": [],
   "source": [
    "def check_missing(df):\n",
    "    res_missing = df.isna().sum()\n",
    "    res_missing = (res_missing/len(df))*100\n",
    "    return res_missing[res_missing != 0]"
   ]
  },
  {
   "cell_type": "code",
   "execution_count": null,
   "metadata": {},
   "outputs": [],
   "source": [
    "## Todas as colunas com dados faltantes \n",
    "check_missing(df_silver_listings).sort_values(ascending=False)"
   ]
  },
  {
   "cell_type": "code",
   "execution_count": null,
   "metadata": {},
   "outputs": [],
   "source": []
  },
  {
   "cell_type": "markdown",
   "metadata": {},
   "source": [
    "### Preenchimento dos campos nulos com valores fixos\n",
    "- df_cln['notRepairedDamage'] = df_cln['notRepairedDamage'].fillna(\"no_info\")\n",
    "\n",
    "### Preenchimento dos campos nulos com o campo que mais se repete\n",
    "- high_freq = df_cln['fuelType'].value_counts().idxmax()\n",
    "- df_cln['fuelType'] = df_cln['fuelType'].fillna(high_freq)\n",
    "\n",
    "### Preenchimento dos campos nulos com valores fixos de outra coluna\n",
    "- df_cln['model'] = df_cln['model'].fillna(df_cln['vehicleType'])"
   ]
  },
  {
   "cell_type": "markdown",
   "metadata": {},
   "source": [
    "### Verificação da precisão dos dados\n",
    "ALGUMAS POSSÍVEIS VERIFICAÇÕES:\n",
    "\n",
    "- Os meses precisam estar no intervalo: 1 <= meses <= 12\n",
    "- Os anos precisam estar no intervalo: 1900 <= ano <= 2016\n",
    "```python\n",
    "df_cln.loc[(df_cln['yearOfRegistration']<1900) | (df_cln['yearOfRegistration']>2016), 'yearOfRegistration'] = 1900\n",
    "```\n",
    "\n",
    "- Os preços precisam ser maiores que 0"
   ]
  },
  {
   "cell_type": "code",
   "execution_count": null,
   "metadata": {},
   "outputs": [],
   "source": []
  },
  {
   "cell_type": "markdown",
   "metadata": {},
   "source": [
    "# Etapa 4:\n",
    "\n",
    "**Testes de Qualidade - Camada Silver**"
   ]
  },
  {
   "cell_type": "markdown",
   "metadata": {},
   "source": [
    "   - Utilize a biblioteca Great Expectations para criar testes de qualidade automatizados que verifiquem as expectativas definidas para os dados da camada \"silver\".\n",
    "   - Desenvolva testes que assegurem que os dados da camada \"silver\" atendam às regras de negócios e aos requisitos de qualidade."
   ]
  },
  {
   "cell_type": "code",
   "execution_count": null,
   "metadata": {},
   "outputs": [],
   "source": []
  },
  {
   "cell_type": "code",
   "execution_count": null,
   "metadata": {},
   "outputs": [],
   "source": []
  },
  {
   "cell_type": "code",
   "execution_count": null,
   "metadata": {},
   "outputs": [],
   "source": []
  },
  {
   "cell_type": "markdown",
   "metadata": {},
   "source": [
    "# Etapa 5:\n",
    "\n",
    "**Transformação de Dados com dbt - Camada Silver**"
   ]
  },
  {
   "cell_type": "markdown",
   "metadata": {},
   "source": [
    "   - Utilize a ferramenta dbt para criar a camada \"silver\" de dados, realizando transformações e preparando os dados da camada em questão.\n",
    "   - Mantenha um controle de versão dos modelos dbt relacionados à camada \"silver\" e automatize a execução das transformações."
   ]
  },
  {
   "cell_type": "code",
   "execution_count": null,
   "metadata": {},
   "outputs": [],
   "source": []
  },
  {
   "cell_type": "code",
   "execution_count": null,
   "metadata": {},
   "outputs": [],
   "source": []
  },
  {
   "cell_type": "code",
   "execution_count": null,
   "metadata": {},
   "outputs": [],
   "source": []
  },
  {
   "cell_type": "markdown",
   "metadata": {},
   "source": [
    "# Etapa 6:\n",
    "\n",
    "**Armazenamento de Dados em PostgreSQL - Camada Silver**"
   ]
  },
  {
   "cell_type": "markdown",
   "metadata": {},
   "source": [
    "   - Armazene os dados da camada \"silver\" no mesmo banco de dados PostgreSQL.\n",
    "   - Estabeleça conexões entre o dbt e o PostgreSQL para carregar os dados transformados da camada \"silver\" no banco."
   ]
  },
  {
   "cell_type": "code",
   "execution_count": null,
   "metadata": {},
   "outputs": [],
   "source": []
  },
  {
   "cell_type": "code",
   "execution_count": null,
   "metadata": {},
   "outputs": [],
   "source": []
  },
  {
   "cell_type": "code",
   "execution_count": null,
   "metadata": {},
   "outputs": [],
   "source": []
  },
  {
   "cell_type": "markdown",
   "metadata": {},
   "source": [
    "# Etapa 7:\n",
    "\n",
    "**Validação de Expectativas com Great Expectations - Camada Silver**"
   ]
  },
  {
   "cell_type": "markdown",
   "metadata": {},
   "source": [
    "   - Implemente validações adicionais usando Great Expectations nas camadas de dados da camada \"silver\".\n",
    "   - Monitore a qualidade dos dados da camada \"silver\" após cada transformação e ajuste os testes de acordo."
   ]
  },
  {
   "cell_type": "code",
   "execution_count": null,
   "metadata": {},
   "outputs": [],
   "source": []
  },
  {
   "cell_type": "code",
   "execution_count": null,
   "metadata": {},
   "outputs": [],
   "source": []
  },
  {
   "cell_type": "code",
   "execution_count": null,
   "metadata": {},
   "outputs": [],
   "source": []
  },
  {
   "cell_type": "markdown",
   "metadata": {},
   "source": [
    "# Etapa 8:\n",
    "\n",
    "**Transformação de Dados com dbt - Camada Gold**"
   ]
  },
  {
   "cell_type": "markdown",
   "metadata": {},
   "source": [
    "   - Utilize o dbt para criar a camada \"gold\" de dados, aplicando agregações especializadas, como médias de preços por propriedade, por período, e outras agregações especializadas.\n",
    "   - Mantenha um controle de versão dos modelos dbt relacionados à camada \"gold\" e automatize a execução das transformações.\n",
    "   - Armazene os dados da camada \"gold\" no mesmo banco de dados PostgreSQL, mantendo a estrutura de dados otimizada para consultas analíticas."
   ]
  },
  {
   "cell_type": "code",
   "execution_count": null,
   "metadata": {},
   "outputs": [],
   "source": []
  },
  {
   "cell_type": "code",
   "execution_count": null,
   "metadata": {},
   "outputs": [],
   "source": []
  },
  {
   "cell_type": "code",
   "execution_count": null,
   "metadata": {},
   "outputs": [],
   "source": []
  },
  {
   "cell_type": "code",
   "execution_count": null,
   "metadata": {},
   "outputs": [],
   "source": []
  },
  {
   "cell_type": "code",
   "execution_count": null,
   "metadata": {},
   "outputs": [],
   "source": []
  },
  {
   "cell_type": "code",
   "execution_count": null,
   "metadata": {},
   "outputs": [],
   "source": []
  },
  {
   "cell_type": "code",
   "execution_count": null,
   "metadata": {},
   "outputs": [],
   "source": []
  },
  {
   "cell_type": "code",
   "execution_count": null,
   "metadata": {},
   "outputs": [],
   "source": []
  }
 ],
 "metadata": {
  "kernelspec": {
   "display_name": "Python 3",
   "language": "python",
   "name": "python3"
  },
  "language_info": {
   "codemirror_mode": {
    "name": "ipython",
    "version": 3
   },
   "file_extension": ".py",
   "mimetype": "text/x-python",
   "name": "python",
   "nbconvert_exporter": "python",
   "pygments_lexer": "ipython3",
   "version": "3.11.4"
  }
 },
 "nbformat": 4,
 "nbformat_minor": 2
}
