{
 "cells": [
  {
   "cell_type": "markdown",
   "id": "17045a36",
   "metadata": {},
   "source": [
    "# Análise Exploratória de Dados - EDA"
   ]
  },
  {
   "cell_type": "code",
   "execution_count": 1,
   "id": "d787bc27",
   "metadata": {},
   "outputs": [],
   "source": [
    "import warnings\n",
    "warnings.filterwarnings('ignore')"
   ]
  },
  {
   "cell_type": "code",
   "execution_count": 2,
   "id": "de6737eb",
   "metadata": {},
   "outputs": [],
   "source": [
    "import numpy as np\n",
    "import pandas as pd\n",
    "\n",
    "import matplotlib.pyplot as plt\n",
    "import seaborn as sns\n",
    "from datetime import datetime\n",
    "%matplotlib inline\n",
    "\n"
   ]
  },
  {
   "cell_type": "code",
   "execution_count": 3,
   "id": "f770ce78",
   "metadata": {},
   "outputs": [],
   "source": [
    "#missing data\n",
    "def missingData(df:pd.DataFrame, num:int=20, limit=0.0):\n",
    "    total = df.isnull().sum().sort_values(ascending=False)   \n",
    "    percent = (df.isnull().sum()/df.isnull().count()).sort_values(ascending=False)\n",
    "    missing_data = pd.concat([total, percent], axis=1, keys=['Total','Percent'])\n",
    "    if limit != 0.0:\n",
    "        limit_perc = missing_data['Percent'] >= limit\n",
    "        num = missing_data.Percent[limit_perc].count()\n",
    "    return missing_data.head(num)"
   ]
  },
  {
   "cell_type": "code",
   "execution_count": 4,
   "id": "c235228c",
   "metadata": {},
   "outputs": [],
   "source": [
    "def infoDf( df:pd.DataFrame):\n",
    "    df_info = pd.DataFrame({\n",
    "      'Columns': df.columns,\n",
    "      'Type': df.dtypes,\n",
    "      'Unique': df.nunique(),\n",
    "      'Size': df.shape[0],\n",
    "      'Missing': df.isna().sum()\n",
    "  })\n",
    "    df_info['% Unique'] = round(df_info['Unique']/df_info['Size'], 6)\n",
    "    df_info['% Missing'] = (df_info['Missing']/df_info['Size'])\n",
    "    return df_info"
   ]
  },
  {
   "cell_type": "code",
   "execution_count": 5,
   "id": "b0bfd18a",
   "metadata": {},
   "outputs": [],
   "source": [
    "landing_path = \"./data/landing/\"\n",
    "file_listing = landing_path + 'listings.csv'"
   ]
  },
  {
   "cell_type": "code",
   "execution_count": 6,
   "id": "310e2a23",
   "metadata": {},
   "outputs": [
    {
     "data": {
      "text/plain": [
       "(36008, 75)"
      ]
     },
     "execution_count": 6,
     "metadata": {},
     "output_type": "execute_result"
    }
   ],
   "source": [
    "df_listings = pd.read_csv(file_listing)\n",
    "df_listings.shape"
   ]
  },
  {
   "cell_type": "code",
   "execution_count": 7,
   "id": "4d2c03a7",
   "metadata": {
    "scrolled": true
   },
   "outputs": [
    {
     "data": {
      "text/html": [
       "<div>\n",
       "<style scoped>\n",
       "    .dataframe tbody tr th:only-of-type {\n",
       "        vertical-align: middle;\n",
       "    }\n",
       "\n",
       "    .dataframe tbody tr th {\n",
       "        vertical-align: top;\n",
       "    }\n",
       "\n",
       "    .dataframe thead th {\n",
       "        text-align: right;\n",
       "    }\n",
       "</style>\n",
       "<table border=\"1\" class=\"dataframe\">\n",
       "  <thead>\n",
       "    <tr style=\"text-align: right;\">\n",
       "      <th></th>\n",
       "      <th>id</th>\n",
       "      <th>listing_url</th>\n",
       "      <th>scrape_id</th>\n",
       "      <th>last_scraped</th>\n",
       "      <th>source</th>\n",
       "      <th>name</th>\n",
       "      <th>description</th>\n",
       "      <th>neighborhood_overview</th>\n",
       "      <th>picture_url</th>\n",
       "      <th>host_id</th>\n",
       "      <th>...</th>\n",
       "      <th>review_scores_communication</th>\n",
       "      <th>review_scores_location</th>\n",
       "      <th>review_scores_value</th>\n",
       "      <th>license</th>\n",
       "      <th>instant_bookable</th>\n",
       "      <th>calculated_host_listings_count</th>\n",
       "      <th>calculated_host_listings_count_entire_homes</th>\n",
       "      <th>calculated_host_listings_count_private_rooms</th>\n",
       "      <th>calculated_host_listings_count_shared_rooms</th>\n",
       "      <th>reviews_per_month</th>\n",
       "    </tr>\n",
       "  </thead>\n",
       "  <tbody>\n",
       "    <tr>\n",
       "      <th>0</th>\n",
       "      <td>17878</td>\n",
       "      <td>https://www.airbnb.com/rooms/17878</td>\n",
       "      <td>20231226034138</td>\n",
       "      <td>2023-12-27</td>\n",
       "      <td>city scrape</td>\n",
       "      <td>Condo in Rio de Janeiro · ★4.70 · 2 bedrooms ·...</td>\n",
       "      <td>NaN</td>\n",
       "      <td>This is the one of the bests spots in Rio. Bec...</td>\n",
       "      <td>https://a0.muscache.com/pictures/65320518/3069...</td>\n",
       "      <td>68997</td>\n",
       "      <td>...</td>\n",
       "      <td>4.91</td>\n",
       "      <td>4.77</td>\n",
       "      <td>4.67</td>\n",
       "      <td>NaN</td>\n",
       "      <td>f</td>\n",
       "      <td>1</td>\n",
       "      <td>1</td>\n",
       "      <td>0</td>\n",
       "      <td>0</td>\n",
       "      <td>1.90</td>\n",
       "    </tr>\n",
       "    <tr>\n",
       "      <th>1</th>\n",
       "      <td>25026</td>\n",
       "      <td>https://www.airbnb.com/rooms/25026</td>\n",
       "      <td>20231226034138</td>\n",
       "      <td>2023-12-27</td>\n",
       "      <td>city scrape</td>\n",
       "      <td>Rental unit in Rio de Janeiro · ★4.72 · 1 bedr...</td>\n",
       "      <td>NaN</td>\n",
       "      <td>Copacabana is a lively neighborhood and the ap...</td>\n",
       "      <td>https://a0.muscache.com/pictures/a745aa21-b8dd...</td>\n",
       "      <td>102840</td>\n",
       "      <td>...</td>\n",
       "      <td>4.92</td>\n",
       "      <td>4.84</td>\n",
       "      <td>4.60</td>\n",
       "      <td>NaN</td>\n",
       "      <td>f</td>\n",
       "      <td>1</td>\n",
       "      <td>1</td>\n",
       "      <td>0</td>\n",
       "      <td>0</td>\n",
       "      <td>1.67</td>\n",
       "    </tr>\n",
       "    <tr>\n",
       "      <th>2</th>\n",
       "      <td>35764</td>\n",
       "      <td>https://www.airbnb.com/rooms/35764</td>\n",
       "      <td>20231226034138</td>\n",
       "      <td>2023-12-27</td>\n",
       "      <td>city scrape</td>\n",
       "      <td>Loft in Rio de Janeiro · ★4.90 · 1 bedroom · 1...</td>\n",
       "      <td>NaN</td>\n",
       "      <td>Our guests will experience living with a local...</td>\n",
       "      <td>https://a0.muscache.com/pictures/23782972/1d3e...</td>\n",
       "      <td>153691</td>\n",
       "      <td>...</td>\n",
       "      <td>4.95</td>\n",
       "      <td>4.94</td>\n",
       "      <td>4.89</td>\n",
       "      <td>NaN</td>\n",
       "      <td>f</td>\n",
       "      <td>1</td>\n",
       "      <td>1</td>\n",
       "      <td>0</td>\n",
       "      <td>0</td>\n",
       "      <td>2.82</td>\n",
       "    </tr>\n",
       "    <tr>\n",
       "      <th>3</th>\n",
       "      <td>41198</td>\n",
       "      <td>https://www.airbnb.com/rooms/41198</td>\n",
       "      <td>20231226034138</td>\n",
       "      <td>2023-12-27</td>\n",
       "      <td>city scrape</td>\n",
       "      <td>Rental unit in Rio de Janeiro · ★4.21 · 2 bedr...</td>\n",
       "      <td>NaN</td>\n",
       "      <td>NaN</td>\n",
       "      <td>https://a0.muscache.com/pictures/3576716/2d6a9...</td>\n",
       "      <td>178975</td>\n",
       "      <td>...</td>\n",
       "      <td>4.56</td>\n",
       "      <td>4.44</td>\n",
       "      <td>4.38</td>\n",
       "      <td>NaN</td>\n",
       "      <td>f</td>\n",
       "      <td>2</td>\n",
       "      <td>2</td>\n",
       "      <td>0</td>\n",
       "      <td>0</td>\n",
       "      <td>0.13</td>\n",
       "    </tr>\n",
       "    <tr>\n",
       "      <th>4</th>\n",
       "      <td>326205</td>\n",
       "      <td>https://www.airbnb.com/rooms/326205</td>\n",
       "      <td>20231226034138</td>\n",
       "      <td>2023-12-27</td>\n",
       "      <td>city scrape</td>\n",
       "      <td>Condo in Rio de Janeiro · ★4.57 · 1 bedroom · ...</td>\n",
       "      <td>NaN</td>\n",
       "      <td>NaN</td>\n",
       "      <td>https://a0.muscache.com/pictures/c550151d-910c...</td>\n",
       "      <td>1603206</td>\n",
       "      <td>...</td>\n",
       "      <td>4.77</td>\n",
       "      <td>4.83</td>\n",
       "      <td>4.59</td>\n",
       "      <td>NaN</td>\n",
       "      <td>f</td>\n",
       "      <td>5</td>\n",
       "      <td>5</td>\n",
       "      <td>0</td>\n",
       "      <td>0</td>\n",
       "      <td>1.07</td>\n",
       "    </tr>\n",
       "  </tbody>\n",
       "</table>\n",
       "<p>5 rows × 75 columns</p>\n",
       "</div>"
      ],
      "text/plain": [
       "       id                          listing_url       scrape_id last_scraped  \\\n",
       "0   17878   https://www.airbnb.com/rooms/17878  20231226034138   2023-12-27   \n",
       "1   25026   https://www.airbnb.com/rooms/25026  20231226034138   2023-12-27   \n",
       "2   35764   https://www.airbnb.com/rooms/35764  20231226034138   2023-12-27   \n",
       "3   41198   https://www.airbnb.com/rooms/41198  20231226034138   2023-12-27   \n",
       "4  326205  https://www.airbnb.com/rooms/326205  20231226034138   2023-12-27   \n",
       "\n",
       "        source                                               name  \\\n",
       "0  city scrape  Condo in Rio de Janeiro · ★4.70 · 2 bedrooms ·...   \n",
       "1  city scrape  Rental unit in Rio de Janeiro · ★4.72 · 1 bedr...   \n",
       "2  city scrape  Loft in Rio de Janeiro · ★4.90 · 1 bedroom · 1...   \n",
       "3  city scrape  Rental unit in Rio de Janeiro · ★4.21 · 2 bedr...   \n",
       "4  city scrape  Condo in Rio de Janeiro · ★4.57 · 1 bedroom · ...   \n",
       "\n",
       "   description                              neighborhood_overview  \\\n",
       "0          NaN  This is the one of the bests spots in Rio. Bec...   \n",
       "1          NaN  Copacabana is a lively neighborhood and the ap...   \n",
       "2          NaN  Our guests will experience living with a local...   \n",
       "3          NaN                                                NaN   \n",
       "4          NaN                                                NaN   \n",
       "\n",
       "                                         picture_url  host_id  ...  \\\n",
       "0  https://a0.muscache.com/pictures/65320518/3069...    68997  ...   \n",
       "1  https://a0.muscache.com/pictures/a745aa21-b8dd...   102840  ...   \n",
       "2  https://a0.muscache.com/pictures/23782972/1d3e...   153691  ...   \n",
       "3  https://a0.muscache.com/pictures/3576716/2d6a9...   178975  ...   \n",
       "4  https://a0.muscache.com/pictures/c550151d-910c...  1603206  ...   \n",
       "\n",
       "  review_scores_communication review_scores_location review_scores_value  \\\n",
       "0                        4.91                   4.77                4.67   \n",
       "1                        4.92                   4.84                4.60   \n",
       "2                        4.95                   4.94                4.89   \n",
       "3                        4.56                   4.44                4.38   \n",
       "4                        4.77                   4.83                4.59   \n",
       "\n",
       "  license instant_bookable calculated_host_listings_count  \\\n",
       "0     NaN                f                              1   \n",
       "1     NaN                f                              1   \n",
       "2     NaN                f                              1   \n",
       "3     NaN                f                              2   \n",
       "4     NaN                f                              5   \n",
       "\n",
       "  calculated_host_listings_count_entire_homes  \\\n",
       "0                                           1   \n",
       "1                                           1   \n",
       "2                                           1   \n",
       "3                                           2   \n",
       "4                                           5   \n",
       "\n",
       "  calculated_host_listings_count_private_rooms  \\\n",
       "0                                            0   \n",
       "1                                            0   \n",
       "2                                            0   \n",
       "3                                            0   \n",
       "4                                            0   \n",
       "\n",
       "  calculated_host_listings_count_shared_rooms reviews_per_month  \n",
       "0                                           0              1.90  \n",
       "1                                           0              1.67  \n",
       "2                                           0              2.82  \n",
       "3                                           0              0.13  \n",
       "4                                           0              1.07  \n",
       "\n",
       "[5 rows x 75 columns]"
      ]
     },
     "execution_count": 7,
     "metadata": {},
     "output_type": "execute_result"
    }
   ],
   "source": [
    "df_listings.head()"
   ]
  },
  {
   "cell_type": "code",
   "execution_count": 7,
   "id": "766c217f",
   "metadata": {},
   "outputs": [],
   "source": [
    "#!pip install ydata_profiling\n",
    "#from ydata_profiling import ProfileReport\n",
    "#profile = ProfileReport(df_listings, title=\"Pandas Profiling Report\") #cria o relatório\n",
    "\n",
    "#profile.to_file(\"resultados.html\") #salva os resultados em um arquivo"
   ]
  },
  {
   "cell_type": "code",
   "execution_count": null,
   "id": "173f57a5",
   "metadata": {},
   "outputs": [],
   "source": []
  },
  {
   "cell_type": "markdown",
   "id": "27dd22f9",
   "metadata": {},
   "source": [
    "# 1. Analisandos Features e Dados Missing"
   ]
  },
  {
   "cell_type": "code",
   "execution_count": 8,
   "id": "0d553835",
   "metadata": {},
   "outputs": [
    {
     "data": {
      "text/html": [
       "<div>\n",
       "<style scoped>\n",
       "    .dataframe tbody tr th:only-of-type {\n",
       "        vertical-align: middle;\n",
       "    }\n",
       "\n",
       "    .dataframe tbody tr th {\n",
       "        vertical-align: top;\n",
       "    }\n",
       "\n",
       "    .dataframe thead th {\n",
       "        text-align: right;\n",
       "    }\n",
       "</style>\n",
       "<table border=\"1\" class=\"dataframe\">\n",
       "  <thead>\n",
       "    <tr style=\"text-align: right;\">\n",
       "      <th></th>\n",
       "      <th>Columns</th>\n",
       "      <th>Type</th>\n",
       "      <th>Unique</th>\n",
       "      <th>Size</th>\n",
       "      <th>Missing</th>\n",
       "      <th>% Unique</th>\n",
       "      <th>% Missing</th>\n",
       "    </tr>\n",
       "  </thead>\n",
       "  <tbody>\n",
       "    <tr>\n",
       "      <th>id</th>\n",
       "      <td>id</td>\n",
       "      <td>int64</td>\n",
       "      <td>36008</td>\n",
       "      <td>36008</td>\n",
       "      <td>0</td>\n",
       "      <td>1.000000</td>\n",
       "      <td>0.000000</td>\n",
       "    </tr>\n",
       "    <tr>\n",
       "      <th>listing_url</th>\n",
       "      <td>listing_url</td>\n",
       "      <td>object</td>\n",
       "      <td>36008</td>\n",
       "      <td>36008</td>\n",
       "      <td>0</td>\n",
       "      <td>1.000000</td>\n",
       "      <td>0.000000</td>\n",
       "    </tr>\n",
       "    <tr>\n",
       "      <th>scrape_id</th>\n",
       "      <td>scrape_id</td>\n",
       "      <td>int64</td>\n",
       "      <td>1</td>\n",
       "      <td>36008</td>\n",
       "      <td>0</td>\n",
       "      <td>0.000028</td>\n",
       "      <td>0.000000</td>\n",
       "    </tr>\n",
       "    <tr>\n",
       "      <th>last_scraped</th>\n",
       "      <td>last_scraped</td>\n",
       "      <td>object</td>\n",
       "      <td>5</td>\n",
       "      <td>36008</td>\n",
       "      <td>0</td>\n",
       "      <td>0.000139</td>\n",
       "      <td>0.000000</td>\n",
       "    </tr>\n",
       "    <tr>\n",
       "      <th>source</th>\n",
       "      <td>source</td>\n",
       "      <td>object</td>\n",
       "      <td>2</td>\n",
       "      <td>36008</td>\n",
       "      <td>0</td>\n",
       "      <td>0.000056</td>\n",
       "      <td>0.000000</td>\n",
       "    </tr>\n",
       "    <tr>\n",
       "      <th>...</th>\n",
       "      <td>...</td>\n",
       "      <td>...</td>\n",
       "      <td>...</td>\n",
       "      <td>...</td>\n",
       "      <td>...</td>\n",
       "      <td>...</td>\n",
       "      <td>...</td>\n",
       "    </tr>\n",
       "    <tr>\n",
       "      <th>calculated_host_listings_count</th>\n",
       "      <td>calculated_host_listings_count</td>\n",
       "      <td>int64</td>\n",
       "      <td>58</td>\n",
       "      <td>36008</td>\n",
       "      <td>0</td>\n",
       "      <td>0.001611</td>\n",
       "      <td>0.000000</td>\n",
       "    </tr>\n",
       "    <tr>\n",
       "      <th>calculated_host_listings_count_entire_homes</th>\n",
       "      <td>calculated_host_listings_count_entire_homes</td>\n",
       "      <td>int64</td>\n",
       "      <td>60</td>\n",
       "      <td>36008</td>\n",
       "      <td>0</td>\n",
       "      <td>0.001666</td>\n",
       "      <td>0.000000</td>\n",
       "    </tr>\n",
       "    <tr>\n",
       "      <th>calculated_host_listings_count_private_rooms</th>\n",
       "      <td>calculated_host_listings_count_private_rooms</td>\n",
       "      <td>int64</td>\n",
       "      <td>18</td>\n",
       "      <td>36008</td>\n",
       "      <td>0</td>\n",
       "      <td>0.000500</td>\n",
       "      <td>0.000000</td>\n",
       "    </tr>\n",
       "    <tr>\n",
       "      <th>calculated_host_listings_count_shared_rooms</th>\n",
       "      <td>calculated_host_listings_count_shared_rooms</td>\n",
       "      <td>int64</td>\n",
       "      <td>16</td>\n",
       "      <td>36008</td>\n",
       "      <td>0</td>\n",
       "      <td>0.000444</td>\n",
       "      <td>0.000000</td>\n",
       "    </tr>\n",
       "    <tr>\n",
       "      <th>reviews_per_month</th>\n",
       "      <td>reviews_per_month</td>\n",
       "      <td>float64</td>\n",
       "      <td>678</td>\n",
       "      <td>36008</td>\n",
       "      <td>10302</td>\n",
       "      <td>0.018829</td>\n",
       "      <td>0.286103</td>\n",
       "    </tr>\n",
       "  </tbody>\n",
       "</table>\n",
       "<p>75 rows × 7 columns</p>\n",
       "</div>"
      ],
      "text/plain": [
       "                                                                                   Columns  \\\n",
       "id                                                                                      id   \n",
       "listing_url                                                                    listing_url   \n",
       "scrape_id                                                                        scrape_id   \n",
       "last_scraped                                                                  last_scraped   \n",
       "source                                                                              source   \n",
       "...                                                                                    ...   \n",
       "calculated_host_listings_count                              calculated_host_listings_count   \n",
       "calculated_host_listings_count_entire_homes    calculated_host_listings_count_entire_homes   \n",
       "calculated_host_listings_count_private_rooms  calculated_host_listings_count_private_rooms   \n",
       "calculated_host_listings_count_shared_rooms    calculated_host_listings_count_shared_rooms   \n",
       "reviews_per_month                                                        reviews_per_month   \n",
       "\n",
       "                                                 Type  Unique   Size  Missing  \\\n",
       "id                                              int64   36008  36008        0   \n",
       "listing_url                                    object   36008  36008        0   \n",
       "scrape_id                                       int64       1  36008        0   \n",
       "last_scraped                                   object       5  36008        0   \n",
       "source                                         object       2  36008        0   \n",
       "...                                               ...     ...    ...      ...   \n",
       "calculated_host_listings_count                  int64      58  36008        0   \n",
       "calculated_host_listings_count_entire_homes     int64      60  36008        0   \n",
       "calculated_host_listings_count_private_rooms    int64      18  36008        0   \n",
       "calculated_host_listings_count_shared_rooms     int64      16  36008        0   \n",
       "reviews_per_month                             float64     678  36008    10302   \n",
       "\n",
       "                                              % Unique  % Missing  \n",
       "id                                            1.000000   0.000000  \n",
       "listing_url                                   1.000000   0.000000  \n",
       "scrape_id                                     0.000028   0.000000  \n",
       "last_scraped                                  0.000139   0.000000  \n",
       "source                                        0.000056   0.000000  \n",
       "...                                                ...        ...  \n",
       "calculated_host_listings_count                0.001611   0.000000  \n",
       "calculated_host_listings_count_entire_homes   0.001666   0.000000  \n",
       "calculated_host_listings_count_private_rooms  0.000500   0.000000  \n",
       "calculated_host_listings_count_shared_rooms   0.000444   0.000000  \n",
       "reviews_per_month                             0.018829   0.286103  \n",
       "\n",
       "[75 rows x 7 columns]"
      ]
     },
     "execution_count": 8,
     "metadata": {},
     "output_type": "execute_result"
    }
   ],
   "source": [
    "infoDf(df_listings)"
   ]
  },
  {
   "cell_type": "code",
   "execution_count": 130,
   "id": "ced3fef6",
   "metadata": {},
   "outputs": [
    {
     "data": {
      "text/html": [
       "<div>\n",
       "<style scoped>\n",
       "    .dataframe tbody tr th:only-of-type {\n",
       "        vertical-align: middle;\n",
       "    }\n",
       "\n",
       "    .dataframe tbody tr th {\n",
       "        vertical-align: top;\n",
       "    }\n",
       "\n",
       "    .dataframe thead th {\n",
       "        text-align: right;\n",
       "    }\n",
       "</style>\n",
       "<table border=\"1\" class=\"dataframe\">\n",
       "  <thead>\n",
       "    <tr style=\"text-align: right;\">\n",
       "      <th></th>\n",
       "      <th>Total</th>\n",
       "      <th>Percent</th>\n",
       "    </tr>\n",
       "  </thead>\n",
       "  <tbody>\n",
       "    <tr>\n",
       "      <th>bedrooms</th>\n",
       "      <td>36008</td>\n",
       "      <td>1.000000</td>\n",
       "    </tr>\n",
       "    <tr>\n",
       "      <th>license</th>\n",
       "      <td>36008</td>\n",
       "      <td>1.000000</td>\n",
       "    </tr>\n",
       "    <tr>\n",
       "      <th>calendar_updated</th>\n",
       "      <td>36008</td>\n",
       "      <td>1.000000</td>\n",
       "    </tr>\n",
       "    <tr>\n",
       "      <th>description</th>\n",
       "      <td>36008</td>\n",
       "      <td>1.000000</td>\n",
       "    </tr>\n",
       "    <tr>\n",
       "      <th>bathrooms</th>\n",
       "      <td>36008</td>\n",
       "      <td>1.000000</td>\n",
       "    </tr>\n",
       "    <tr>\n",
       "      <th>neighbourhood_group_cleansed</th>\n",
       "      <td>36008</td>\n",
       "      <td>1.000000</td>\n",
       "    </tr>\n",
       "    <tr>\n",
       "      <th>host_about</th>\n",
       "      <td>18644</td>\n",
       "      <td>0.517774</td>\n",
       "    </tr>\n",
       "    <tr>\n",
       "      <th>neighborhood_overview</th>\n",
       "      <td>17736</td>\n",
       "      <td>0.492557</td>\n",
       "    </tr>\n",
       "    <tr>\n",
       "      <th>neighbourhood</th>\n",
       "      <td>17736</td>\n",
       "      <td>0.492557</td>\n",
       "    </tr>\n",
       "    <tr>\n",
       "      <th>last_review</th>\n",
       "      <td>10302</td>\n",
       "      <td>0.286103</td>\n",
       "    </tr>\n",
       "    <tr>\n",
       "      <th>first_review</th>\n",
       "      <td>10302</td>\n",
       "      <td>0.286103</td>\n",
       "    </tr>\n",
       "    <tr>\n",
       "      <th>reviews_per_month</th>\n",
       "      <td>10302</td>\n",
       "      <td>0.286103</td>\n",
       "    </tr>\n",
       "    <tr>\n",
       "      <th>review_scores_checkin</th>\n",
       "      <td>10287</td>\n",
       "      <td>0.285687</td>\n",
       "    </tr>\n",
       "    <tr>\n",
       "      <th>review_scores_location</th>\n",
       "      <td>10286</td>\n",
       "      <td>0.285659</td>\n",
       "    </tr>\n",
       "    <tr>\n",
       "      <th>review_scores_value</th>\n",
       "      <td>10286</td>\n",
       "      <td>0.285659</td>\n",
       "    </tr>\n",
       "    <tr>\n",
       "      <th>review_scores_accuracy</th>\n",
       "      <td>10286</td>\n",
       "      <td>0.285659</td>\n",
       "    </tr>\n",
       "    <tr>\n",
       "      <th>review_scores_communication</th>\n",
       "      <td>10285</td>\n",
       "      <td>0.285631</td>\n",
       "    </tr>\n",
       "    <tr>\n",
       "      <th>review_scores_cleanliness</th>\n",
       "      <td>10285</td>\n",
       "      <td>0.285631</td>\n",
       "    </tr>\n",
       "    <tr>\n",
       "      <th>review_scores_rating</th>\n",
       "      <td>10283</td>\n",
       "      <td>0.285575</td>\n",
       "    </tr>\n",
       "    <tr>\n",
       "      <th>host_neighbourhood</th>\n",
       "      <td>7677</td>\n",
       "      <td>0.213203</td>\n",
       "    </tr>\n",
       "    <tr>\n",
       "      <th>host_location</th>\n",
       "      <td>7029</td>\n",
       "      <td>0.195207</td>\n",
       "    </tr>\n",
       "    <tr>\n",
       "      <th>host_response_rate</th>\n",
       "      <td>5039</td>\n",
       "      <td>0.139941</td>\n",
       "    </tr>\n",
       "    <tr>\n",
       "      <th>host_response_time</th>\n",
       "      <td>5039</td>\n",
       "      <td>0.139941</td>\n",
       "    </tr>\n",
       "    <tr>\n",
       "      <th>host_acceptance_rate</th>\n",
       "      <td>4802</td>\n",
       "      <td>0.133359</td>\n",
       "    </tr>\n",
       "    <tr>\n",
       "      <th>has_availability</th>\n",
       "      <td>1771</td>\n",
       "      <td>0.049184</td>\n",
       "    </tr>\n",
       "    <tr>\n",
       "      <th>price</th>\n",
       "      <td>1771</td>\n",
       "      <td>0.049184</td>\n",
       "    </tr>\n",
       "    <tr>\n",
       "      <th>beds</th>\n",
       "      <td>707</td>\n",
       "      <td>0.019635</td>\n",
       "    </tr>\n",
       "    <tr>\n",
       "      <th>host_is_superhost</th>\n",
       "      <td>73</td>\n",
       "      <td>0.002027</td>\n",
       "    </tr>\n",
       "    <tr>\n",
       "      <th>bathrooms_text</th>\n",
       "      <td>30</td>\n",
       "      <td>0.000833</td>\n",
       "    </tr>\n",
       "    <tr>\n",
       "      <th>host_since</th>\n",
       "      <td>9</td>\n",
       "      <td>0.000250</td>\n",
       "    </tr>\n",
       "    <tr>\n",
       "      <th>host_identity_verified</th>\n",
       "      <td>9</td>\n",
       "      <td>0.000250</td>\n",
       "    </tr>\n",
       "    <tr>\n",
       "      <th>host_has_profile_pic</th>\n",
       "      <td>9</td>\n",
       "      <td>0.000250</td>\n",
       "    </tr>\n",
       "    <tr>\n",
       "      <th>host_verifications</th>\n",
       "      <td>9</td>\n",
       "      <td>0.000250</td>\n",
       "    </tr>\n",
       "    <tr>\n",
       "      <th>host_total_listings_count</th>\n",
       "      <td>9</td>\n",
       "      <td>0.000250</td>\n",
       "    </tr>\n",
       "    <tr>\n",
       "      <th>host_listings_count</th>\n",
       "      <td>9</td>\n",
       "      <td>0.000250</td>\n",
       "    </tr>\n",
       "    <tr>\n",
       "      <th>host_picture_url</th>\n",
       "      <td>9</td>\n",
       "      <td>0.000250</td>\n",
       "    </tr>\n",
       "    <tr>\n",
       "      <th>host_thumbnail_url</th>\n",
       "      <td>9</td>\n",
       "      <td>0.000250</td>\n",
       "    </tr>\n",
       "    <tr>\n",
       "      <th>host_name</th>\n",
       "      <td>9</td>\n",
       "      <td>0.000250</td>\n",
       "    </tr>\n",
       "  </tbody>\n",
       "</table>\n",
       "</div>"
      ],
      "text/plain": [
       "                              Total   Percent\n",
       "bedrooms                      36008  1.000000\n",
       "license                       36008  1.000000\n",
       "calendar_updated              36008  1.000000\n",
       "description                   36008  1.000000\n",
       "bathrooms                     36008  1.000000\n",
       "neighbourhood_group_cleansed  36008  1.000000\n",
       "host_about                    18644  0.517774\n",
       "neighborhood_overview         17736  0.492557\n",
       "neighbourhood                 17736  0.492557\n",
       "last_review                   10302  0.286103\n",
       "first_review                  10302  0.286103\n",
       "reviews_per_month             10302  0.286103\n",
       "review_scores_checkin         10287  0.285687\n",
       "review_scores_location        10286  0.285659\n",
       "review_scores_value           10286  0.285659\n",
       "review_scores_accuracy        10286  0.285659\n",
       "review_scores_communication   10285  0.285631\n",
       "review_scores_cleanliness     10285  0.285631\n",
       "review_scores_rating          10283  0.285575\n",
       "host_neighbourhood             7677  0.213203\n",
       "host_location                  7029  0.195207\n",
       "host_response_rate             5039  0.139941\n",
       "host_response_time             5039  0.139941\n",
       "host_acceptance_rate           4802  0.133359\n",
       "has_availability               1771  0.049184\n",
       "price                          1771  0.049184\n",
       "beds                            707  0.019635\n",
       "host_is_superhost                73  0.002027\n",
       "bathrooms_text                   30  0.000833\n",
       "host_since                        9  0.000250\n",
       "host_identity_verified            9  0.000250\n",
       "host_has_profile_pic              9  0.000250\n",
       "host_verifications                9  0.000250\n",
       "host_total_listings_count         9  0.000250\n",
       "host_listings_count               9  0.000250\n",
       "host_picture_url                  9  0.000250\n",
       "host_thumbnail_url                9  0.000250\n",
       "host_name                         9  0.000250"
      ]
     },
     "execution_count": 130,
     "metadata": {},
     "output_type": "execute_result"
    }
   ],
   "source": [
    "missingData(df_listings, num=77, limit=0.000001)"
   ]
  },
  {
   "cell_type": "code",
   "execution_count": 10,
   "id": "623d3cea",
   "metadata": {},
   "outputs": [],
   "source": [
    "def analiseDeColunasComCorrespondencia(filtro:pd.Series, df:pd.DataFrame(), coluna_alvo:str ):\n",
    "    '''\n",
    "    Essa função faz um verificação dos valores da coluna_alvo com os valores contidos em outras colunas.\n",
    "    Objetivo dela é tentar obter informações que sejam relavantes para o entendimentos dos dados,\n",
    "    como por exemplo se os valores dessa coluna_alvo estão contidos em outras colunas,\n",
    "    ou se quando a coluna_alvo é nula outras colunas tambem são.\n",
    "    '''\n",
    "    columns = df[filtro].columns\n",
    "\n",
    "    df_result = pd.DataFrame({\n",
    "                    'Columns': df[filtro].columns,\n",
    "                    'quantidade': 0, \n",
    "                    'NaN':0,\n",
    "                    'Qtd.Registros':df[filtro].shape[0]\n",
    "                    \n",
    "                      })\n",
    "\n",
    "    for index, row in df[filtro].iterrows():\n",
    "        for col in columns:\n",
    "            if col != coluna_alvo:\n",
    "                filtra_registro = (df_result['Columns'] == col)\n",
    "                if str(row[coluna_alvo]) in str(row[col]):                    \n",
    "                    df_result.quantidade[filtra_registro] = df_result.quantidade[filtra_registro] + 1                \n",
    "\n",
    "                if str(row[col])=='nan' :\n",
    "                    df_result['NaN'][filtra_registro] += 1\n",
    "                    \n",
    "    df_result['%'] = round(df_result.quantidade / df[filtro].shape[0], 6)\n",
    "    df_result['% NaN'] = round(df_result['NaN'] / df[filtro].shape[0], 6)\n",
    "    return df_result"
   ]
  },
  {
   "cell_type": "markdown",
   "id": "8764d4b7",
   "metadata": {},
   "source": [
    "## 1.2. Removendo colunas com 100% de valores NaN"
   ]
  },
  {
   "cell_type": "markdown",
   "id": "fc9c90ef",
   "metadata": {},
   "source": [
    "Com base nas informações de quantidade de valores missing que existem em cada uma das colunas, identificamos que as colunas ***\"bedrooms\", \"license\", \"calendar_updated\", \"description\", \"bathrooms\",\"neighbourhood_group_cleansed\"*** estão com 100% dos seus dados com valores missing."
   ]
  },
  {
   "cell_type": "code",
   "execution_count": 11,
   "id": "921c347c",
   "metadata": {},
   "outputs": [],
   "source": [
    "temp_missing = missingData(df_listings, num=75, limit=1)"
   ]
  },
  {
   "cell_type": "code",
   "execution_count": 12,
   "id": "8942193f",
   "metadata": {},
   "outputs": [
    {
     "name": "stdout",
     "output_type": "stream",
     "text": [
      "bedrooms:  [nan]\n",
      "license:  [nan]\n",
      "calendar_updated:  [nan]\n",
      "description:  [nan]\n",
      "bathrooms:  [nan]\n",
      "neighbourhood_group_cleansed:  [nan]\n"
     ]
    }
   ],
   "source": [
    "for col in temp_missing.index:\n",
    "    print(f\"{col}: \", df_listings[col].unique())\n",
    "    "
   ]
  },
  {
   "cell_type": "code",
   "execution_count": 13,
   "id": "de887ab4",
   "metadata": {},
   "outputs": [
    {
     "data": {
      "text/plain": [
       "((36008, 69), (36008, 75))"
      ]
     },
     "execution_count": 13,
     "metadata": {},
     "output_type": "execute_result"
    }
   ],
   "source": [
    "# Identificando as colunas com 100% de missing values\n",
    "colunas_nan = temp_missing.index\n",
    "\n",
    "df_eda = df_listings.copy()\n",
    "df_eda.drop(columns=colunas_nan, inplace=True)\n",
    "df_eda.shape, df_listings.shape\n"
   ]
  },
  {
   "cell_type": "markdown",
   "id": "dd339828",
   "metadata": {},
   "source": [
    "----"
   ]
  },
  {
   "cell_type": "markdown",
   "id": "ceffd7f5",
   "metadata": {},
   "source": [
    "## 1.3. Analisando Dados missing das outras colunas com valores NaN"
   ]
  },
  {
   "cell_type": "code",
   "execution_count": 14,
   "id": "763c01ec",
   "metadata": {},
   "outputs": [
    {
     "data": {
      "text/html": [
       "<div>\n",
       "<style scoped>\n",
       "    .dataframe tbody tr th:only-of-type {\n",
       "        vertical-align: middle;\n",
       "    }\n",
       "\n",
       "    .dataframe tbody tr th {\n",
       "        vertical-align: top;\n",
       "    }\n",
       "\n",
       "    .dataframe thead th {\n",
       "        text-align: right;\n",
       "    }\n",
       "</style>\n",
       "<table border=\"1\" class=\"dataframe\">\n",
       "  <thead>\n",
       "    <tr style=\"text-align: right;\">\n",
       "      <th></th>\n",
       "      <th>Total</th>\n",
       "      <th>Percent</th>\n",
       "    </tr>\n",
       "  </thead>\n",
       "  <tbody>\n",
       "    <tr>\n",
       "      <th>host_about</th>\n",
       "      <td>18644</td>\n",
       "      <td>0.517774</td>\n",
       "    </tr>\n",
       "    <tr>\n",
       "      <th>neighbourhood</th>\n",
       "      <td>17736</td>\n",
       "      <td>0.492557</td>\n",
       "    </tr>\n",
       "    <tr>\n",
       "      <th>neighborhood_overview</th>\n",
       "      <td>17736</td>\n",
       "      <td>0.492557</td>\n",
       "    </tr>\n",
       "    <tr>\n",
       "      <th>first_review</th>\n",
       "      <td>10302</td>\n",
       "      <td>0.286103</td>\n",
       "    </tr>\n",
       "    <tr>\n",
       "      <th>reviews_per_month</th>\n",
       "      <td>10302</td>\n",
       "      <td>0.286103</td>\n",
       "    </tr>\n",
       "    <tr>\n",
       "      <th>last_review</th>\n",
       "      <td>10302</td>\n",
       "      <td>0.286103</td>\n",
       "    </tr>\n",
       "    <tr>\n",
       "      <th>review_scores_checkin</th>\n",
       "      <td>10287</td>\n",
       "      <td>0.285687</td>\n",
       "    </tr>\n",
       "    <tr>\n",
       "      <th>review_scores_accuracy</th>\n",
       "      <td>10286</td>\n",
       "      <td>0.285659</td>\n",
       "    </tr>\n",
       "    <tr>\n",
       "      <th>review_scores_location</th>\n",
       "      <td>10286</td>\n",
       "      <td>0.285659</td>\n",
       "    </tr>\n",
       "    <tr>\n",
       "      <th>review_scores_value</th>\n",
       "      <td>10286</td>\n",
       "      <td>0.285659</td>\n",
       "    </tr>\n",
       "    <tr>\n",
       "      <th>review_scores_communication</th>\n",
       "      <td>10285</td>\n",
       "      <td>0.285631</td>\n",
       "    </tr>\n",
       "    <tr>\n",
       "      <th>review_scores_cleanliness</th>\n",
       "      <td>10285</td>\n",
       "      <td>0.285631</td>\n",
       "    </tr>\n",
       "    <tr>\n",
       "      <th>review_scores_rating</th>\n",
       "      <td>10283</td>\n",
       "      <td>0.285575</td>\n",
       "    </tr>\n",
       "    <tr>\n",
       "      <th>host_neighbourhood</th>\n",
       "      <td>7677</td>\n",
       "      <td>0.213203</td>\n",
       "    </tr>\n",
       "    <tr>\n",
       "      <th>host_location</th>\n",
       "      <td>7029</td>\n",
       "      <td>0.195207</td>\n",
       "    </tr>\n",
       "    <tr>\n",
       "      <th>host_response_time</th>\n",
       "      <td>5039</td>\n",
       "      <td>0.139941</td>\n",
       "    </tr>\n",
       "    <tr>\n",
       "      <th>host_response_rate</th>\n",
       "      <td>5039</td>\n",
       "      <td>0.139941</td>\n",
       "    </tr>\n",
       "    <tr>\n",
       "      <th>host_acceptance_rate</th>\n",
       "      <td>4802</td>\n",
       "      <td>0.133359</td>\n",
       "    </tr>\n",
       "    <tr>\n",
       "      <th>has_availability</th>\n",
       "      <td>1771</td>\n",
       "      <td>0.049184</td>\n",
       "    </tr>\n",
       "    <tr>\n",
       "      <th>price</th>\n",
       "      <td>1771</td>\n",
       "      <td>0.049184</td>\n",
       "    </tr>\n",
       "    <tr>\n",
       "      <th>beds</th>\n",
       "      <td>707</td>\n",
       "      <td>0.019635</td>\n",
       "    </tr>\n",
       "    <tr>\n",
       "      <th>host_is_superhost</th>\n",
       "      <td>73</td>\n",
       "      <td>0.002027</td>\n",
       "    </tr>\n",
       "    <tr>\n",
       "      <th>bathrooms_text</th>\n",
       "      <td>30</td>\n",
       "      <td>0.000833</td>\n",
       "    </tr>\n",
       "    <tr>\n",
       "      <th>host_name</th>\n",
       "      <td>9</td>\n",
       "      <td>0.000250</td>\n",
       "    </tr>\n",
       "    <tr>\n",
       "      <th>host_since</th>\n",
       "      <td>9</td>\n",
       "      <td>0.000250</td>\n",
       "    </tr>\n",
       "    <tr>\n",
       "      <th>host_total_listings_count</th>\n",
       "      <td>9</td>\n",
       "      <td>0.000250</td>\n",
       "    </tr>\n",
       "    <tr>\n",
       "      <th>host_thumbnail_url</th>\n",
       "      <td>9</td>\n",
       "      <td>0.000250</td>\n",
       "    </tr>\n",
       "    <tr>\n",
       "      <th>host_listings_count</th>\n",
       "      <td>9</td>\n",
       "      <td>0.000250</td>\n",
       "    </tr>\n",
       "    <tr>\n",
       "      <th>host_identity_verified</th>\n",
       "      <td>9</td>\n",
       "      <td>0.000250</td>\n",
       "    </tr>\n",
       "    <tr>\n",
       "      <th>host_has_profile_pic</th>\n",
       "      <td>9</td>\n",
       "      <td>0.000250</td>\n",
       "    </tr>\n",
       "    <tr>\n",
       "      <th>host_verifications</th>\n",
       "      <td>9</td>\n",
       "      <td>0.000250</td>\n",
       "    </tr>\n",
       "    <tr>\n",
       "      <th>host_picture_url</th>\n",
       "      <td>9</td>\n",
       "      <td>0.000250</td>\n",
       "    </tr>\n",
       "  </tbody>\n",
       "</table>\n",
       "</div>"
      ],
      "text/plain": [
       "                             Total   Percent\n",
       "host_about                   18644  0.517774\n",
       "neighbourhood                17736  0.492557\n",
       "neighborhood_overview        17736  0.492557\n",
       "first_review                 10302  0.286103\n",
       "reviews_per_month            10302  0.286103\n",
       "last_review                  10302  0.286103\n",
       "review_scores_checkin        10287  0.285687\n",
       "review_scores_accuracy       10286  0.285659\n",
       "review_scores_location       10286  0.285659\n",
       "review_scores_value          10286  0.285659\n",
       "review_scores_communication  10285  0.285631\n",
       "review_scores_cleanliness    10285  0.285631\n",
       "review_scores_rating         10283  0.285575\n",
       "host_neighbourhood            7677  0.213203\n",
       "host_location                 7029  0.195207\n",
       "host_response_time            5039  0.139941\n",
       "host_response_rate            5039  0.139941\n",
       "host_acceptance_rate          4802  0.133359\n",
       "has_availability              1771  0.049184\n",
       "price                         1771  0.049184\n",
       "beds                           707  0.019635\n",
       "host_is_superhost               73  0.002027\n",
       "bathrooms_text                  30  0.000833\n",
       "host_name                        9  0.000250\n",
       "host_since                       9  0.000250\n",
       "host_total_listings_count        9  0.000250\n",
       "host_thumbnail_url               9  0.000250\n",
       "host_listings_count              9  0.000250\n",
       "host_identity_verified           9  0.000250\n",
       "host_has_profile_pic             9  0.000250\n",
       "host_verifications               9  0.000250\n",
       "host_picture_url                 9  0.000250"
      ]
     },
     "execution_count": 14,
     "metadata": {},
     "output_type": "execute_result"
    }
   ],
   "source": [
    "#df_missing = missingData(df_eda, num=75, limit=0.00001)\n",
    "missingData(df_eda, num=75, limit=0.00001)"
   ]
  },
  {
   "cell_type": "code",
   "execution_count": 15,
   "id": "25f2c7bd",
   "metadata": {},
   "outputs": [],
   "source": [
    "df_info = infoDf(df_eda)"
   ]
  },
  {
   "cell_type": "code",
   "execution_count": 16,
   "id": "e83c09fe",
   "metadata": {},
   "outputs": [
    {
     "name": "stdout",
     "output_type": "stream",
     "text": [
      "==============================\n",
      "Coluna: neighborhood_overview\n",
      "*                                       Columns    Type  Unique   Size  Missing  \\\n",
      "neighborhood_overview  neighborhood_overview  object   16008  36008    17736   \n",
      "\n",
      "                       % Unique  % Missing  \n",
      "neighborhood_overview  0.444568   0.492557  \n",
      "############\n",
      "Unique:  <bound method Series.unique of 0        This is the one of the bests spots in Rio. Bec...\n",
      "1        Copacabana is a lively neighborhood and the ap...\n",
      "2        Our guests will experience living with a local...\n",
      "3                                                      NaN\n",
      "4                                                      NaN\n",
      "                               ...                        \n",
      "36003                                                  NaN\n",
      "36004    Copacabana is located in Rio de Janeiro's stun...\n",
      "36005                                                  NaN\n",
      "36006                                                  NaN\n",
      "36007    O apartamento está localizado no centro do Rio...\n",
      "Name: neighborhood_overview, Length: 36008, dtype: object>\n",
      "############\n",
      "==============================\n",
      "Coluna: host_name\n",
      "*               Columns    Type  Unique   Size  Missing  % Unique  % Missing\n",
      "host_name  host_name  object    6268  36008        9  0.174072    0.00025\n",
      "############\n",
      "Unique:  <bound method Series.unique of 0                        Matthias\n",
      "1                         Viviane\n",
      "2        Patricia Miranda & Paulo\n",
      "3                           Nicky\n",
      "4                             Bob\n",
      "                   ...           \n",
      "36003                       Marco\n",
      "36004                 Omar Do Rio\n",
      "36005                       Pablo\n",
      "36006                      Izaias\n",
      "36007                      Samuel\n",
      "Name: host_name, Length: 36008, dtype: object>\n",
      "############\n",
      "==============================\n",
      "Coluna: host_since\n",
      "*                 Columns    Type  Unique   Size  Missing  % Unique  % Missing\n",
      "host_since  host_since  object    4441  36008        9  0.123334    0.00025\n",
      "############\n",
      "Unique:  <bound method Series.unique of 0        2010-01-08\n",
      "1        2010-04-03\n",
      "2        2010-06-27\n",
      "3        2010-07-23\n",
      "4        2012-01-13\n",
      "            ...    \n",
      "36003    2022-07-18\n",
      "36004    2013-04-19\n",
      "36005    2018-08-02\n",
      "36006    2023-09-13\n",
      "36007    2011-06-12\n",
      "Name: host_since, Length: 36008, dtype: object>\n",
      "############\n",
      "==============================\n",
      "Coluna: host_location\n",
      "*                       Columns    Type  Unique   Size  Missing  % Unique  \\\n",
      "host_location  host_location  object     592  36008     7029  0.016441   \n",
      "\n",
      "               % Missing  \n",
      "host_location   0.195207  \n",
      "############\n",
      "Unique:  <bound method Series.unique of 0         Rio de Janeiro, Brazil\n",
      "1         Rio de Janeiro, Brazil\n",
      "2         Rio de Janeiro, Brazil\n",
      "3         Rio de Janeiro, Brazil\n",
      "4         Rio de Janeiro, Brazil\n",
      "                  ...           \n",
      "36003     Rio de Janeiro, Brazil\n",
      "36004     Rio de Janeiro, Brazil\n",
      "36005    Buenos Aires, Argentina\n",
      "36006            Toronto, Canada\n",
      "36007     Rio de Janeiro, Brazil\n",
      "Name: host_location, Length: 36008, dtype: object>\n",
      "############\n",
      "==============================\n",
      "Coluna: host_about\n",
      "*                 Columns    Type  Unique   Size  Missing  % Unique  % Missing\n",
      "host_about  host_about  object    8243  36008    18644  0.228921   0.517774\n",
      "############\n",
      "Unique:  <bound method Series.unique of 0        I  am a  journalist/writer. Lived  in NYC for ...\n",
      "1        Hi guys,\\n\\nViviane is a commercial photograph...\n",
      "2        Hello,   We are Patricia Miranda and Paulo.\\nW...\n",
      "3        Hi fellow Airbnb-ers,\\r\\nMr Francis , Nixx, Ni...\n",
      "4        I'm originally from the US, but moved to this ...\n",
      "                               ...                        \n",
      "36003                                                  NaN\n",
      "36004    Olá! \\n\\nSomos a Omar do Rio, empresa que atua...\n",
      "36005                                                  NaN\n",
      "36006                                                  NaN\n",
      "36007    I am a young Swiss architect who is spending m...\n",
      "Name: host_about, Length: 36008, dtype: object>\n",
      "############\n",
      "==============================\n",
      "Coluna: host_response_time\n",
      "*                                 Columns    Type  Unique   Size  Missing  \\\n",
      "host_response_time  host_response_time  object       4  36008     5039   \n",
      "\n",
      "                    % Unique  % Missing  \n",
      "host_response_time  0.000111   0.139941  \n",
      "############\n",
      "Unique:  <bound method Series.unique of 0            within an hour\n",
      "1            within an hour\n",
      "2            within an hour\n",
      "3            within an hour\n",
      "4        within a few hours\n",
      "                ...        \n",
      "36003        within an hour\n",
      "36004        within an hour\n",
      "36005                   NaN\n",
      "36006    a few days or more\n",
      "36007                   NaN\n",
      "Name: host_response_time, Length: 36008, dtype: object>\n",
      "############\n",
      "==============================\n",
      "Coluna: host_response_rate\n",
      "*                                 Columns    Type  Unique   Size  Missing  \\\n",
      "host_response_rate  host_response_rate  object      89  36008     5039   \n",
      "\n",
      "                    % Unique  % Missing  \n",
      "host_response_rate  0.002472   0.139941  \n",
      "############\n",
      "Unique:  <bound method Series.unique of 0        100%\n",
      "1        100%\n",
      "2        100%\n",
      "3         90%\n",
      "4        100%\n",
      "         ... \n",
      "36003    100%\n",
      "36004     99%\n",
      "36005     NaN\n",
      "36006     18%\n",
      "36007     NaN\n",
      "Name: host_response_rate, Length: 36008, dtype: object>\n",
      "############\n",
      "==============================\n",
      "Coluna: host_acceptance_rate\n",
      "*                                     Columns    Type  Unique   Size  Missing  \\\n",
      "host_acceptance_rate  host_acceptance_rate  object     100  36008     4802   \n",
      "\n",
      "                      % Unique  % Missing  \n",
      "host_acceptance_rate  0.002777   0.133359  \n",
      "############\n",
      "Unique:  <bound method Series.unique of 0         96%\n",
      "1         80%\n",
      "2         98%\n",
      "3         89%\n",
      "4         93%\n",
      "         ... \n",
      "36003     91%\n",
      "36004     99%\n",
      "36005     NaN\n",
      "36006    100%\n",
      "36007     NaN\n",
      "Name: host_acceptance_rate, Length: 36008, dtype: object>\n",
      "############\n",
      "==============================\n",
      "Coluna: host_is_superhost\n",
      "*                               Columns    Type  Unique   Size  Missing  \\\n",
      "host_is_superhost  host_is_superhost  object       2  36008       73   \n",
      "\n",
      "                   % Unique  % Missing  \n",
      "host_is_superhost  0.000056   0.002027  \n",
      "############\n",
      "Unique:  <bound method Series.unique of 0        t\n",
      "1        t\n",
      "2        t\n",
      "3        f\n",
      "4        f\n",
      "        ..\n",
      "36003    f\n",
      "36004    f\n",
      "36005    f\n",
      "36006    f\n",
      "36007    f\n",
      "Name: host_is_superhost, Length: 36008, dtype: object>\n",
      "############\n",
      "==============================\n",
      "Coluna: host_thumbnail_url\n",
      "*                                 Columns    Type  Unique   Size  Missing  \\\n",
      "host_thumbnail_url  host_thumbnail_url  object   21152  36008        9   \n",
      "\n",
      "                    % Unique  % Missing  \n",
      "host_thumbnail_url  0.587425    0.00025  \n",
      "############\n",
      "Unique:  <bound method Series.unique of 0        https://a0.muscache.com/im/pictures/user/67b13...\n",
      "1        https://a0.muscache.com/im/pictures/user/315dd...\n",
      "2        https://a0.muscache.com/im/users/153691/profil...\n",
      "3        https://a0.muscache.com/im/users/178975/profil...\n",
      "4        https://a0.muscache.com/im/pictures/user/d9351...\n",
      "                               ...                        \n",
      "36003    https://a0.muscache.com/im/pictures/user/dc864...\n",
      "36004    https://a0.muscache.com/im/pictures/user/c1738...\n",
      "36005    https://a0.muscache.com/im/pictures/user/66c69...\n",
      "36006    https://a0.muscache.com/im/pictures/user/User-...\n",
      "36007    https://a0.muscache.com/im/pictures/user/User-...\n",
      "Name: host_thumbnail_url, Length: 36008, dtype: object>\n",
      "############\n",
      "==============================\n",
      "Coluna: host_picture_url\n",
      "*                             Columns    Type  Unique   Size  Missing  % Unique  \\\n",
      "host_picture_url  host_picture_url  object   21152  36008        9  0.587425   \n",
      "\n",
      "                  % Missing  \n",
      "host_picture_url    0.00025  \n",
      "############\n",
      "Unique:  <bound method Series.unique of 0        https://a0.muscache.com/im/pictures/user/67b13...\n",
      "1        https://a0.muscache.com/im/pictures/user/315dd...\n",
      "2        https://a0.muscache.com/im/users/153691/profil...\n",
      "3        https://a0.muscache.com/im/users/178975/profil...\n",
      "4        https://a0.muscache.com/im/pictures/user/d9351...\n",
      "                               ...                        \n",
      "36003    https://a0.muscache.com/im/pictures/user/dc864...\n",
      "36004    https://a0.muscache.com/im/pictures/user/c1738...\n",
      "36005    https://a0.muscache.com/im/pictures/user/66c69...\n",
      "36006    https://a0.muscache.com/im/pictures/user/User-...\n",
      "36007    https://a0.muscache.com/im/pictures/user/User-...\n",
      "Name: host_picture_url, Length: 36008, dtype: object>\n",
      "############\n",
      "==============================\n",
      "Coluna: host_neighbourhood\n",
      "*                                 Columns    Type  Unique   Size  Missing  \\\n",
      "host_neighbourhood  host_neighbourhood  object     474  36008     7677   \n",
      "\n",
      "                    % Unique  % Missing  \n",
      "host_neighbourhood  0.013164   0.213203  \n",
      "############\n",
      "Unique:  <bound method Series.unique of 0        Copacabana\n",
      "1        Copacabana\n",
      "2        Copacabana\n",
      "3        Copacabana\n",
      "4        Copacabana\n",
      "            ...    \n",
      "36003      Botafogo\n",
      "36004       Vidigal\n",
      "36005    Copacabana\n",
      "36006       Vidigal\n",
      "36007        Centro\n",
      "Name: host_neighbourhood, Length: 36008, dtype: object>\n",
      "############\n",
      "==============================\n",
      "Coluna: host_listings_count\n",
      "*                                   Columns     Type  Unique   Size  Missing  \\\n",
      "host_listings_count  host_listings_count  float64      87  36008        9   \n",
      "\n",
      "                     % Unique  % Missing  \n",
      "host_listings_count  0.002416    0.00025  \n",
      "############\n",
      "Unique:  <bound method Series.unique of 0          2.0\n",
      "1          1.0\n",
      "2          1.0\n",
      "3          4.0\n",
      "4          7.0\n",
      "         ...  \n",
      "36003      8.0\n",
      "36004    191.0\n",
      "36005      1.0\n",
      "36006      7.0\n",
      "36007      1.0\n",
      "Name: host_listings_count, Length: 36008, dtype: float64>\n",
      "############\n",
      "==============================\n",
      "Coluna: host_total_listings_count\n",
      "*                                               Columns     Type  Unique   Size  \\\n",
      "host_total_listings_count  host_total_listings_count  float64     122  36008   \n",
      "\n",
      "                           Missing  % Unique  % Missing  \n",
      "host_total_listings_count        9  0.003388    0.00025  \n",
      "############\n",
      "Unique:  <bound method Series.unique of 0          5.0\n",
      "1          5.0\n",
      "2          2.0\n",
      "3          5.0\n",
      "4          7.0\n",
      "         ...  \n",
      "36003     11.0\n",
      "36004    304.0\n",
      "36005      1.0\n",
      "36006      9.0\n",
      "36007      1.0\n",
      "Name: host_total_listings_count, Length: 36008, dtype: float64>\n",
      "############\n",
      "==============================\n",
      "Coluna: host_verifications\n",
      "*                                 Columns    Type  Unique   Size  Missing  \\\n",
      "host_verifications  host_verifications  object       8  36008        9   \n",
      "\n",
      "                    % Unique  % Missing  \n",
      "host_verifications  0.000222    0.00025  \n",
      "############\n",
      "Unique:  <bound method Series.unique of 0        ['email', 'phone']\n",
      "1        ['email', 'phone']\n",
      "2        ['email', 'phone']\n",
      "3        ['email', 'phone']\n",
      "4        ['email', 'phone']\n",
      "                ...        \n",
      "36003    ['email', 'phone']\n",
      "36004    ['email', 'phone']\n",
      "36005    ['email', 'phone']\n",
      "36006    ['email', 'phone']\n",
      "36007    ['email', 'phone']\n",
      "Name: host_verifications, Length: 36008, dtype: object>\n",
      "############\n",
      "==============================\n",
      "Coluna: host_has_profile_pic\n",
      "*                                     Columns    Type  Unique   Size  Missing  \\\n",
      "host_has_profile_pic  host_has_profile_pic  object       2  36008        9   \n",
      "\n",
      "                      % Unique  % Missing  \n",
      "host_has_profile_pic  0.000056    0.00025  \n",
      "############\n",
      "Unique:  <bound method Series.unique of 0        t\n",
      "1        t\n",
      "2        t\n",
      "3        t\n",
      "4        t\n",
      "        ..\n",
      "36003    t\n",
      "36004    t\n",
      "36005    t\n",
      "36006    t\n",
      "36007    t\n",
      "Name: host_has_profile_pic, Length: 36008, dtype: object>\n",
      "############\n",
      "==============================\n",
      "Coluna: host_identity_verified\n",
      "*                                         Columns    Type  Unique   Size  \\\n",
      "host_identity_verified  host_identity_verified  object       2  36008   \n",
      "\n",
      "                        Missing  % Unique  % Missing  \n",
      "host_identity_verified        9  0.000056    0.00025  \n",
      "############\n",
      "Unique:  <bound method Series.unique of 0        t\n",
      "1        t\n",
      "2        t\n",
      "3        t\n",
      "4        f\n",
      "        ..\n",
      "36003    t\n",
      "36004    t\n",
      "36005    t\n",
      "36006    t\n",
      "36007    t\n",
      "Name: host_identity_verified, Length: 36008, dtype: object>\n",
      "############\n",
      "==============================\n",
      "Coluna: neighbourhood\n",
      "*                       Columns    Type  Unique   Size  Missing  % Unique  \\\n",
      "neighbourhood  neighbourhood  object     286  36008    17736  0.007943   \n",
      "\n",
      "               % Missing  \n",
      "neighbourhood   0.492557  \n",
      "############\n",
      "Unique:  <bound method Series.unique of 0        Rio de Janeiro, Brazil\n",
      "1        Rio de Janeiro, Brazil\n",
      "2        Rio de Janeiro, Brazil\n",
      "3                           NaN\n",
      "4                           NaN\n",
      "                  ...          \n",
      "36003                       NaN\n",
      "36004    Rio de Janeiro, Brazil\n",
      "36005                       NaN\n",
      "36006                       NaN\n",
      "36007    Rio de Janeiro, Brazil\n",
      "Name: neighbourhood, Length: 36008, dtype: object>\n",
      "############\n",
      "==============================\n",
      "Coluna: bathrooms_text\n",
      "*                         Columns    Type  Unique   Size  Missing  % Unique  \\\n",
      "bathrooms_text  bathrooms_text  object      51  36008       30  0.001416   \n",
      "\n",
      "                % Missing  \n",
      "bathrooms_text   0.000833  \n",
      "############\n",
      "Unique:  <bound method Series.unique of 0           1 bath\n",
      "1           1 bath\n",
      "2        1.5 baths\n",
      "3           1 bath\n",
      "4           1 bath\n",
      "           ...    \n",
      "36003       1 bath\n",
      "36004       1 bath\n",
      "36005       1 bath\n",
      "36006       1 bath\n",
      "36007       1 bath\n",
      "Name: bathrooms_text, Length: 36008, dtype: object>\n",
      "############\n",
      "==============================\n",
      "Coluna: beds\n",
      "*       Columns     Type  Unique   Size  Missing  % Unique  % Missing\n",
      "beds    beds  float64      43  36008      707  0.001194   0.019635\n",
      "############\n",
      "Unique:  <bound method Series.unique of 0        2.0\n",
      "1        1.0\n",
      "2        1.0\n",
      "3        NaN\n",
      "4        1.0\n",
      "        ... \n",
      "36003    4.0\n",
      "36004    2.0\n",
      "36005    1.0\n",
      "36006    NaN\n",
      "36007    1.0\n",
      "Name: beds, Length: 36008, dtype: float64>\n",
      "############\n",
      "==============================\n",
      "Coluna: price\n",
      "*        Columns    Type  Unique   Size  Missing  % Unique  % Missing\n",
      "price   price  object    3230  36008     1771  0.089702   0.049184\n",
      "############\n",
      "Unique:  <bound method Series.unique of 0        $1,357.00\n",
      "1          $865.00\n",
      "2          $373.00\n",
      "3        $1,701.00\n",
      "4          $366.00\n",
      "           ...    \n",
      "36003      $200.00\n",
      "36004      $727.00\n",
      "36005      $743.00\n",
      "36006      $560.00\n",
      "36007      $175.00\n",
      "Name: price, Length: 36008, dtype: object>\n",
      "############\n",
      "==============================\n",
      "Coluna: has_availability\n",
      "*                             Columns    Type  Unique   Size  Missing  % Unique  \\\n",
      "has_availability  has_availability  object       2  36008     1771  0.000056   \n",
      "\n",
      "                  % Missing  \n",
      "has_availability   0.049184  \n",
      "############\n",
      "Unique:  <bound method Series.unique of 0        t\n",
      "1        t\n",
      "2        t\n",
      "3        t\n",
      "4        t\n",
      "        ..\n",
      "36003    t\n",
      "36004    t\n",
      "36005    t\n",
      "36006    t\n",
      "36007    f\n",
      "Name: has_availability, Length: 36008, dtype: object>\n",
      "############\n",
      "==============================\n",
      "Coluna: first_review\n",
      "*                     Columns    Type  Unique   Size  Missing  % Unique  \\\n",
      "first_review  first_review  object    3218  36008    10302  0.089369   \n",
      "\n",
      "              % Missing  \n",
      "first_review   0.286103  \n",
      "############\n",
      "Unique:  <bound method Series.unique of 0        2010-07-15\n",
      "1        2010-06-07\n",
      "2        2010-10-03\n",
      "3        2013-06-04\n",
      "4        2012-04-18\n",
      "            ...    \n",
      "36003           NaN\n",
      "36004           NaN\n",
      "36005           NaN\n",
      "36006           NaN\n",
      "36007           NaN\n",
      "Name: first_review, Length: 36008, dtype: object>\n",
      "############\n",
      "==============================\n",
      "Coluna: last_review\n",
      "*                   Columns    Type  Unique   Size  Missing  % Unique  % Missing\n",
      "last_review  last_review  object    1424  36008    10302  0.039547   0.286103\n",
      "############\n",
      "Unique:  <bound method Series.unique of 0        2023-12-22\n",
      "1        2023-12-03\n",
      "2        2023-12-17\n",
      "3        2016-02-09\n",
      "4        2023-11-21\n",
      "            ...    \n",
      "36003           NaN\n",
      "36004           NaN\n",
      "36005           NaN\n",
      "36006           NaN\n",
      "36007           NaN\n",
      "Name: last_review, Length: 36008, dtype: object>\n",
      "############\n",
      "==============================\n",
      "Coluna: review_scores_rating\n",
      "*                                     Columns     Type  Unique   Size  Missing  \\\n",
      "review_scores_rating  review_scores_rating  float64     139  36008    10283   \n",
      "\n",
      "                      % Unique  % Missing  \n",
      "review_scores_rating   0.00386   0.285575  \n",
      "############\n",
      "Unique:  <bound method Series.unique of 0        4.70\n",
      "1        4.72\n",
      "2        4.90\n",
      "3        4.21\n",
      "4        4.57\n",
      "         ... \n",
      "36003     NaN\n",
      "36004     NaN\n",
      "36005     NaN\n",
      "36006     NaN\n",
      "36007     NaN\n",
      "Name: review_scores_rating, Length: 36008, dtype: float64>\n",
      "############\n",
      "==============================\n",
      "Coluna: review_scores_accuracy\n",
      "*                                         Columns     Type  Unique   Size  \\\n",
      "review_scores_accuracy  review_scores_accuracy  float64     139  36008   \n",
      "\n",
      "                        Missing  % Unique  % Missing  \n",
      "review_scores_accuracy    10286   0.00386   0.285659  \n",
      "############\n",
      "Unique:  <bound method Series.unique of 0        4.77\n",
      "1        4.70\n",
      "2        4.93\n",
      "3        3.88\n",
      "4        4.72\n",
      "         ... \n",
      "36003     NaN\n",
      "36004     NaN\n",
      "36005     NaN\n",
      "36006     NaN\n",
      "36007     NaN\n",
      "Name: review_scores_accuracy, Length: 36008, dtype: float64>\n",
      "############\n",
      "==============================\n",
      "Coluna: review_scores_cleanliness\n",
      "*                                               Columns     Type  Unique   Size  \\\n",
      "review_scores_cleanliness  review_scores_cleanliness  float64     166  36008   \n",
      "\n",
      "                           Missing  % Unique  % Missing  \n",
      "review_scores_cleanliness    10285   0.00461   0.285631  \n",
      "############\n",
      "Unique:  <bound method Series.unique of 0        4.65\n",
      "1        4.79\n",
      "2        4.93\n",
      "3        4.25\n",
      "4        4.46\n",
      "         ... \n",
      "36003     NaN\n",
      "36004     NaN\n",
      "36005     NaN\n",
      "36006     NaN\n",
      "36007     NaN\n",
      "Name: review_scores_cleanliness, Length: 36008, dtype: float64>\n",
      "############\n",
      "==============================\n",
      "Coluna: review_scores_checkin\n",
      "*                                       Columns     Type  Unique   Size  Missing  \\\n",
      "review_scores_checkin  review_scores_checkin  float64     116  36008    10287   \n",
      "\n",
      "                       % Unique  % Missing  \n",
      "review_scores_checkin  0.003222   0.285687  \n",
      "############\n",
      "Unique:  <bound method Series.unique of 0        4.83\n",
      "1        4.81\n",
      "2        4.97\n",
      "3        4.69\n",
      "4        4.83\n",
      "         ... \n",
      "36003     NaN\n",
      "36004     NaN\n",
      "36005     NaN\n",
      "36006     NaN\n",
      "36007     NaN\n",
      "Name: review_scores_checkin, Length: 36008, dtype: float64>\n",
      "############\n",
      "==============================\n",
      "Coluna: review_scores_communication\n",
      "*                                                   Columns     Type  Unique  \\\n",
      "review_scores_communication  review_scores_communication  float64     134   \n",
      "\n",
      "                              Size  Missing  % Unique  % Missing  \n",
      "review_scores_communication  36008    10285  0.003721   0.285631  \n",
      "############\n",
      "Unique:  <bound method Series.unique of 0        4.91\n",
      "1        4.92\n",
      "2        4.95\n",
      "3        4.56\n",
      "4        4.77\n",
      "         ... \n",
      "36003     NaN\n",
      "36004     NaN\n",
      "36005     NaN\n",
      "36006     NaN\n",
      "36007     NaN\n",
      "Name: review_scores_communication, Length: 36008, dtype: float64>\n",
      "############\n",
      "==============================\n",
      "Coluna: review_scores_location\n",
      "*                                         Columns     Type  Unique   Size  \\\n",
      "review_scores_location  review_scores_location  float64     128  36008   \n",
      "\n",
      "                        Missing  % Unique  % Missing  \n",
      "review_scores_location    10286  0.003555   0.285659  \n",
      "############\n",
      "Unique:  <bound method Series.unique of 0        4.77\n",
      "1        4.84\n",
      "2        4.94\n",
      "3        4.44\n",
      "4        4.83\n",
      "         ... \n",
      "36003     NaN\n",
      "36004     NaN\n",
      "36005     NaN\n",
      "36006     NaN\n",
      "36007     NaN\n",
      "Name: review_scores_location, Length: 36008, dtype: float64>\n",
      "############\n",
      "==============================\n",
      "Coluna: review_scores_value\n",
      "*                                   Columns     Type  Unique   Size  Missing  \\\n",
      "review_scores_value  review_scores_value  float64     144  36008    10286   \n",
      "\n",
      "                     % Unique  % Missing  \n",
      "review_scores_value  0.003999   0.285659  \n",
      "############\n",
      "Unique:  <bound method Series.unique of 0        4.67\n",
      "1        4.60\n",
      "2        4.89\n",
      "3        4.38\n",
      "4        4.59\n",
      "         ... \n",
      "36003     NaN\n",
      "36004     NaN\n",
      "36005     NaN\n",
      "36006     NaN\n",
      "36007     NaN\n",
      "Name: review_scores_value, Length: 36008, dtype: float64>\n",
      "############\n",
      "==============================\n",
      "Coluna: reviews_per_month\n",
      "*                               Columns     Type  Unique   Size  Missing  \\\n",
      "reviews_per_month  reviews_per_month  float64     678  36008    10302   \n",
      "\n",
      "                   % Unique  % Missing  \n",
      "reviews_per_month  0.018829   0.286103  \n",
      "############\n",
      "Unique:  <bound method Series.unique of 0        1.90\n",
      "1        1.67\n",
      "2        2.82\n",
      "3        0.13\n",
      "4        1.07\n",
      "         ... \n",
      "36003     NaN\n",
      "36004     NaN\n",
      "36005     NaN\n",
      "36006     NaN\n",
      "36007     NaN\n",
      "Name: reviews_per_month, Length: 36008, dtype: float64>\n",
      "############\n"
     ]
    }
   ],
   "source": [
    "# Analisando os valores de cada uma das colunas que possuem valores missing\n",
    "perc_missing = df_info['% Missing'] >= 0.000001\n",
    "\n",
    "for col in df_info[perc_missing].index:\n",
    "    row = df_info.index == col\n",
    "    unique = df_eda[col].unique\n",
    "    print(\"==============================\")\n",
    "    print(f\"Coluna: {col}\")\n",
    "    print(\"* \", df_info[row])\n",
    "    print('############')\n",
    "    print(\"Unique: \", unique)\n",
    "    print('############')\n",
    "    "
   ]
  },
  {
   "cell_type": "markdown",
   "id": "cedbf74c",
   "metadata": {},
   "source": [
    "Iremos realizar a analise individual de coluna a coluna para entender melhor os seus dados e escolher a melhor de forma de tratar os dados missing de cada uma individualmente."
   ]
  },
  {
   "cell_type": "code",
   "execution_count": 17,
   "id": "36bc2081",
   "metadata": {},
   "outputs": [
    {
     "data": {
      "text/plain": [
       "Index(['neighborhood_overview', 'host_name', 'host_since', 'host_location',\n",
       "       'host_about', 'host_response_time', 'host_response_rate',\n",
       "       'host_acceptance_rate', 'host_is_superhost', 'host_thumbnail_url',\n",
       "       'host_picture_url', 'host_neighbourhood', 'host_listings_count',\n",
       "       'host_total_listings_count', 'host_verifications',\n",
       "       'host_has_profile_pic', 'host_identity_verified', 'neighbourhood',\n",
       "       'bathrooms_text', 'beds', 'price', 'has_availability', 'first_review',\n",
       "       'last_review', 'review_scores_rating', 'review_scores_accuracy',\n",
       "       'review_scores_cleanliness', 'review_scores_checkin',\n",
       "       'review_scores_communication', 'review_scores_location',\n",
       "       'review_scores_value', 'reviews_per_month'],\n",
       "      dtype='object')"
      ]
     },
     "execution_count": 17,
     "metadata": {},
     "output_type": "execute_result"
    }
   ],
   "source": [
    "# Lista de Colunas com Dados Missing\n",
    "perc_missing = df_info['% Missing'] > 0.0\n",
    "df_info[perc_missing].index"
   ]
  },
  {
   "cell_type": "code",
   "execution_count": null,
   "id": "d5468ff4",
   "metadata": {},
   "outputs": [],
   "source": []
  },
  {
   "cell_type": "code",
   "execution_count": null,
   "id": "17c840ba",
   "metadata": {},
   "outputs": [],
   "source": []
  },
  {
   "cell_type": "markdown",
   "id": "38cc4cc1",
   "metadata": {},
   "source": [
    "### 1.3.1. Feature: *'neighborhood_overview'*"
   ]
  },
  {
   "cell_type": "code",
   "execution_count": 18,
   "id": "a053c5b3",
   "metadata": {
    "scrolled": false
   },
   "outputs": [
    {
     "data": {
      "text/plain": [
       "array(['This is the one of the bests spots in Rio. Because of the large balcony and proximity to the beach, it has huge advantages in the current situation.',\n",
       "       \"Copacabana is a lively neighborhood and the apartment is located very close to an area in Copa full of bars, cafes and restaurants at Rua Bolivar and Domingos Ferreira. Copacabana never sleeps, there is always movement and it's a great mix of all kinds of people.\",\n",
       "       'Our guests will experience living with a local peole \"Carioca\"  in a very friendly building with 24 hours a day security with all kind of stores, banks, transports, restaurants.',\n",
       "       ...,\n",
       "       'Apartamento se localiza no melhor ponto de Copacabana, munido de toda infraestrutura para uma estadia de comodidade: próximo a bares, restaurantes, supermercados, lojas de conveniência, quiosques beira mar.',\n",
       "       'Barra da Tijuca é um dos bairros mais nobres do Rio de Janeiro, que conta com as melhores praias e restaurantes. Vale conhecer a Praia da Joatinga, uma das mais bonitas do mundo. A região onde o imóvel está localizado é considerada segura pelos moradores e hóspedes.',\n",
       "       'O apartamento está localizado no centro do Rio de Janeiro, em frente ao MAM e ao Aterro do Flamengo. O aeroporto Santos Dumont (SDU) e o metrô Cinelândia estão a menos de 10 minutos a pé. Há uma estação de VLT e um ponto de Bike Itaú em frente ao prédio e também, linhas de ônibus que dão acesso a zona sul, norte e oeste. Nas proximidades estão Vivo Rio, Marina da Glória, Consulado dos EUA, Consulado Geral da França, Consolato Generale d’Italia e Praça Paris.'],\n",
       "      dtype=object)"
      ]
     },
     "execution_count": 18,
     "metadata": {},
     "output_type": "execute_result"
    }
   ],
   "source": [
    "df_eda['neighborhood_overview'].unique()"
   ]
  },
  {
   "cell_type": "code",
   "execution_count": 19,
   "id": "18acfed1",
   "metadata": {
    "scrolled": true
   },
   "outputs": [
    {
     "data": {
      "text/html": [
       "<div>\n",
       "<style scoped>\n",
       "    .dataframe tbody tr th:only-of-type {\n",
       "        vertical-align: middle;\n",
       "    }\n",
       "\n",
       "    .dataframe tbody tr th {\n",
       "        vertical-align: top;\n",
       "    }\n",
       "\n",
       "    .dataframe thead th {\n",
       "        text-align: right;\n",
       "    }\n",
       "</style>\n",
       "<table border=\"1\" class=\"dataframe\">\n",
       "  <thead>\n",
       "    <tr style=\"text-align: right;\">\n",
       "      <th></th>\n",
       "      <th>Columns</th>\n",
       "      <th>Type</th>\n",
       "      <th>Unique</th>\n",
       "      <th>Size</th>\n",
       "      <th>Missing</th>\n",
       "      <th>% Unique</th>\n",
       "      <th>% Missing</th>\n",
       "    </tr>\n",
       "  </thead>\n",
       "  <tbody>\n",
       "    <tr>\n",
       "      <th>neighborhood_overview</th>\n",
       "      <td>neighborhood_overview</td>\n",
       "      <td>object</td>\n",
       "      <td>16008</td>\n",
       "      <td>36008</td>\n",
       "      <td>17736</td>\n",
       "      <td>0.444568</td>\n",
       "      <td>0.492557</td>\n",
       "    </tr>\n",
       "  </tbody>\n",
       "</table>\n",
       "</div>"
      ],
      "text/plain": [
       "                                     Columns    Type  Unique   Size  Missing  \\\n",
       "neighborhood_overview  neighborhood_overview  object   16008  36008    17736   \n",
       "\n",
       "                       % Unique  % Missing  \n",
       "neighborhood_overview  0.444568   0.492557  "
      ]
     },
     "execution_count": 19,
     "metadata": {},
     "output_type": "execute_result"
    }
   ],
   "source": [
    "df_info[df_info.index =='neighborhood_overview']"
   ]
  },
  {
   "cell_type": "markdown",
   "id": "4129ea4d",
   "metadata": {},
   "source": [
    "**neighborhood_overview.isna()**"
   ]
  },
  {
   "cell_type": "code",
   "execution_count": null,
   "id": "40eda75a",
   "metadata": {
    "scrolled": true
   },
   "outputs": [],
   "source": [
    "#neighborhood_overview_isna = df_eda['neighborhood_overview'].isna()\n",
    "#df_infneighborhood_overview = analiseDeColunasComCorrespondencia(filtro=neighborhood_overview_isna, df=df_eda, coluna_alvo='neighborhood_overview' )\n"
   ]
  },
  {
   "cell_type": "code",
   "execution_count": null,
   "id": "7a1a475a",
   "metadata": {},
   "outputs": [],
   "source": [
    "#df_infneighborhood_overview"
   ]
  },
  {
   "cell_type": "code",
   "execution_count": null,
   "id": "3e1e8a10",
   "metadata": {},
   "outputs": [],
   "source": [
    "#df_infneighborhood_overview[df_infneighborhood_overview['%']>0]"
   ]
  },
  {
   "cell_type": "code",
   "execution_count": null,
   "id": "875e3e14",
   "metadata": {},
   "outputs": [],
   "source": []
  },
  {
   "cell_type": "markdown",
   "id": "de6c7c92",
   "metadata": {},
   "source": [
    "**neighborhood_overview.notna()**"
   ]
  },
  {
   "cell_type": "code",
   "execution_count": null,
   "id": "48e26f9e",
   "metadata": {},
   "outputs": [],
   "source": [
    "#neighborhood_overview_notna = df_eda['neighborhood_overview'].notna()\n",
    "#df_infNeighbourhood_notna = analiseDeColunasComCorrespondencia(filtro=neighborhood_overview_notna, df=df_eda, coluna_alvo='neighborhood_overview' )\n"
   ]
  },
  {
   "cell_type": "code",
   "execution_count": null,
   "id": "be73db4e",
   "metadata": {},
   "outputs": [],
   "source": [
    "#df_infNeighbourhood_notna"
   ]
  },
  {
   "cell_type": "code",
   "execution_count": null,
   "id": "ce1b03b6",
   "metadata": {},
   "outputs": [],
   "source": [
    "#df_infNeighbourhood_notna[df_infNeighbourhood_notna['%']>0]"
   ]
  },
  {
   "cell_type": "code",
   "execution_count": null,
   "id": "21a88793",
   "metadata": {},
   "outputs": [],
   "source": []
  },
  {
   "cell_type": "code",
   "execution_count": null,
   "id": "309bb01b",
   "metadata": {},
   "outputs": [],
   "source": []
  },
  {
   "cell_type": "code",
   "execution_count": null,
   "id": "d95597cc",
   "metadata": {},
   "outputs": [],
   "source": []
  },
  {
   "cell_type": "code",
   "execution_count": null,
   "id": "921edd32",
   "metadata": {},
   "outputs": [],
   "source": []
  },
  {
   "cell_type": "code",
   "execution_count": 20,
   "id": "e2a9e80d",
   "metadata": {},
   "outputs": [],
   "source": [
    "# A feature neighborhood_overview apresenta dados de texto, e por esse motivo iremos substituir os valores NaN por \"Não informado\".\n",
    "df_eda['neighborhood_overview'].fillna(\"nao informado\", inplace=True)"
   ]
  },
  {
   "cell_type": "code",
   "execution_count": null,
   "id": "39754450",
   "metadata": {},
   "outputs": [],
   "source": []
  },
  {
   "cell_type": "markdown",
   "id": "c9b21de0",
   "metadata": {},
   "source": [
    "### 1.3.2. Feature: *''neighbourhood'*"
   ]
  },
  {
   "cell_type": "code",
   "execution_count": 21,
   "id": "6bbb7a1a",
   "metadata": {
    "scrolled": true
   },
   "outputs": [
    {
     "data": {
      "text/html": [
       "<div>\n",
       "<style scoped>\n",
       "    .dataframe tbody tr th:only-of-type {\n",
       "        vertical-align: middle;\n",
       "    }\n",
       "\n",
       "    .dataframe tbody tr th {\n",
       "        vertical-align: top;\n",
       "    }\n",
       "\n",
       "    .dataframe thead th {\n",
       "        text-align: right;\n",
       "    }\n",
       "</style>\n",
       "<table border=\"1\" class=\"dataframe\">\n",
       "  <thead>\n",
       "    <tr style=\"text-align: right;\">\n",
       "      <th></th>\n",
       "      <th>Columns</th>\n",
       "      <th>Type</th>\n",
       "      <th>Unique</th>\n",
       "      <th>Size</th>\n",
       "      <th>Missing</th>\n",
       "      <th>% Unique</th>\n",
       "      <th>% Missing</th>\n",
       "    </tr>\n",
       "  </thead>\n",
       "  <tbody>\n",
       "    <tr>\n",
       "      <th>neighbourhood</th>\n",
       "      <td>neighbourhood</td>\n",
       "      <td>object</td>\n",
       "      <td>286</td>\n",
       "      <td>36008</td>\n",
       "      <td>17736</td>\n",
       "      <td>0.007943</td>\n",
       "      <td>0.492557</td>\n",
       "    </tr>\n",
       "  </tbody>\n",
       "</table>\n",
       "</div>"
      ],
      "text/plain": [
       "                     Columns    Type  Unique   Size  Missing  % Unique  \\\n",
       "neighbourhood  neighbourhood  object     286  36008    17736  0.007943   \n",
       "\n",
       "               % Missing  \n",
       "neighbourhood   0.492557  "
      ]
     },
     "execution_count": 21,
     "metadata": {},
     "output_type": "execute_result"
    }
   ],
   "source": [
    "df_info[df_info.index =='neighbourhood']"
   ]
  },
  {
   "cell_type": "code",
   "execution_count": 22,
   "id": "3ab80a09",
   "metadata": {
    "scrolled": true
   },
   "outputs": [
    {
     "data": {
      "text/plain": [
       "array(['Rio de Janeiro, Brazil', nan, 'Ipanema, Rio de Janeiro, Brazil',\n",
       "       'Rio, Rio de Janeiro, Brazil', 'Rio de Janeiro, Rj, Brazil',\n",
       "       'Joatinga, Rio de Janeiro, Brazil',\n",
       "       'Santa Teresa, Rio de Janeiro, Brazil',\n",
       "       'Rio de Janeiro , Rio de Janeiro, Brazil',\n",
       "       'Rio de janeiro , Rio de Janeiro, Brazil',\n",
       "       'Barra da Tijuca, Rio de Janeiro, Brazil',\n",
       "       'Itanhangá, Rio de Janeiro, Brazil',\n",
       "       'Praça Seca, Rio de Janeiro, Brazil',\n",
       "       'Copacabana, Rio de Janeiro, Brazil',\n",
       "       'Rio de Janeiro / Copacabana , Rio de Janeiro, Brazil',\n",
       "       'Urca, Rio de Janeiro, Brazil',\n",
       "       'Rio de Janeiro - Leblon, Rio de Janeiro, Brazil',\n",
       "       'Rio de Janeiro, Recreio dos bandeirantes, Brazil',\n",
       "       'Jacarepagua, Rio de Janeiro, Brazil',\n",
       "       'Rio de Janeiro, Copacabana, Brazil',\n",
       "       'Rio de Janeiro, État de Rio de Janeiro, Brazil',\n",
       "       'RJ, Rio de Janeiro, Brazil', 'Riocentro, Rio de Janeiro, Brazil',\n",
       "       'Rio De Janeiro, Brazil',\n",
       "       'Copacabana, Rio de Janeiro , Rio de Janeiro, Brazil',\n",
       "       'Copacabana - Rio de Janeiro, Rio de Janeiro, Brazil',\n",
       "       'Rio de Janeiro, Ipanema, Brazil',\n",
       "       ' Copacabana, Rio de Janeiro, Brazil',\n",
       "       'Rio de Janeiro, Rio De Janeiro, Brazil',\n",
       "       'Leme, Rio de Janeiro, Brazil', 'Rj, Brazil',\n",
       "       'Flamengo, Rio de Janeiro, Brazil',\n",
       "       'Ipanema, Rio de Janeiro, Rio de Janeiro, Brazil',\n",
       "       'Rio, État de Rio de Janeiro, Brazil',\n",
       "       'Santa Tereza, Rio de Janeiro, Brazil',\n",
       "       'Rio - Grajaú, Rio de Janeiro, Brazil',\n",
       "       'Rio de Janeiro, Leme, Brazil',\n",
       "       'Rio de Janeiro, Copacabana, Rio de Janeiro, Brazil',\n",
       "       'Rio de janeiro, Rio de Janeiro, Brazil',\n",
       "       'Rio Ipanema, Rio de Janeiro, Brazil',\n",
       "       'Botafogo, Rio de Janeiro, Brazil',\n",
       "       'Ipanema , Rio de Janeiro, Rio de Janeiro, Brazil',\n",
       "       'Maracanã, Rio de Janeiro, Brazil',\n",
       "       'Vargem Pequena, Rio de Janeiro, Brazil',\n",
       "       'rio de janeiro, Rio de Janeiro, Brazil',\n",
       "       'Pechincha, Jacarepagua, Rio de Janeiro, Rio de Janeiro, Brazil',\n",
       "       'Gávea, Rio de Janeiro, Brazil', 'Rio De Janeiro, Rj, Brazil',\n",
       "       'Glória, Rio de Janeiro, Brazil',\n",
       "       'Copacabana - Rio de Janeiro,  Rio de Janeiro, Brazil',\n",
       "       'CopaCabana, Rio de Janeiro, Brazil',\n",
       "       'Rio de Janeiro - Copacabana, Rio de Janeiro, Brazil',\n",
       "       'Rio de Janeiro, Leblon, Brazil',\n",
       "       'Terreirão, Recreio dos Bandeirantes , Rio de Janeiro, Brazil',\n",
       "       'Centro, Rio de Janeiro, Brazil',\n",
       "       'Ipanema - Rio de Janeiro, Rio de Janeiro, Brazil',\n",
       "       'RJ - Lapa / Cores da Lapa, Brazil',\n",
       "       'cabo frio, Rio de Janeiro, Brazil',\n",
       "       'Rio de Janeiro,, Rio de Janeiro, Brazil',\n",
       "       'Recreio dos Bandeirantes, Rio de Janeiro, Brazil',\n",
       "       'Rio de Janeiro, Copacabana - Rio de Janeiro, Brazil',\n",
       "       'Praia de Ipanema, Rio de Janeiro, Brazil',\n",
       "       'Rio De Janeiro, Rio de Janeiro, Brazil',\n",
       "       'Leblon, Rio de Janeiro, Brazil', 'Tijuca, Rio de Janeiro, Brazil',\n",
       "       'Copacabana, RJ, Rio de Janeiro, Brazil',\n",
       "       ' Rio de Janeiro, Rio de Janeiro, Brazil',\n",
       "       'Rio Comprido, Rio de Janeiro, Brazil',\n",
       "       'Vargem Grande, Rio de Janeiro, Brazil',\n",
       "       'Vargem Pequena , Rio de Janeiro, Brazil',\n",
       "       'Rio de Janeiro, barra da tijuca, Brazil',\n",
       "       'Rio de Janeiro, RJ -, Brazil',\n",
       "       'Recreio dos Bandeirantes, Rio de Janeiro/ RJ, Brazil',\n",
       "       'Campinho, Rio de Janeiro, Brazil',\n",
       "       'Parque das Rosas/ Barra da Tijuca, Rio de Janeiro, Brazil',\n",
       "       'Catete - Rio de Janeiro, Rio de Janeiro, Brazil',\n",
       "       'Leblon, Bairro Leblon, Brazil',\n",
       "       'Río de Janeiro, Rio de Janeiro, Brazil',\n",
       "       'Rio de Janeiro, R.J., Brazil', 'Recreio, Rio de Janeiro, Brazil',\n",
       "       'Jardim Botânico, Rio de Janeiro, Brazil',\n",
       "       'Cosme Velho, Rio de Janeiro, Brazil',\n",
       "       'Engenho de Dentro , Rio de Janeiro, Brazil',\n",
       "       'Ilha de Paquetá, Rio de Janeiro, Brazil',\n",
       "       'Rio de Janeiro , Rj, Brazil', 'Rio de Janeiro, Glória, Brazil',\n",
       "       'São Conrado, Rio de Janeiro, Brazil',\n",
       "       'rio de Janeiro , Rio de Janeiro, Brazil',\n",
       "       'Rio de Janeiro, Jacarepaguá, Brazil',\n",
       "       'Recreio dos Bandeirantes , Rio de Janeiro, Brazil',\n",
       "       'Rio de Janeiro, Barra da Tijuca, Brazil',\n",
       "       'Gardênia Azul, Rio de Janeiro, Brazil',\n",
       "       'Recreio dos Bandeirantes - RJ., Rio de Janeiro, Brazil',\n",
       "       'Lagoa, Rio de Janeiro, Brazil',\n",
       "       'Barra da Tijuca , Rio de Janeiro, Brazil',\n",
       "       'Flamengo , Rio de Janeiro, Brazil',\n",
       "       'Copacabana,Rio de Janeiro, Rio de Janeiro, Brazil',\n",
       "       'Bairro Recreio do Bandeirantes, Rio de Janeiro, Brazil',\n",
       "       'Curicica, Rio de Janeiro, Brazil', 'Brazil',\n",
       "       'Rio de janeiro centro, Lapa, Rio de Janeiro, Brazil',\n",
       "       'Copacabana , Rio de Janeiro, Brazil',\n",
       "       'Copacabana, Rio de janeiro, Brazil',\n",
       "       'Irajá, Rio de Janeiro, Brazil',\n",
       "       'Guaratiba, Rio de Janeiro, Brazil', 'Rio de Janeiro, Ri, Brazil',\n",
       "       'Sepetiba, Rio de Janeiro, Brazil',\n",
       "       'Rio de , Rio de Janeiro, Brazil', 'Tauá, Rio de Janeiro, Brazil',\n",
       "       'Laranjeiras, Rio de Janeiro, Brazil',\n",
       "       'Catete, Rio de Janeiro, Brazil', 'Lapa, Rio de Janeiro, Brazil',\n",
       "       'Vila Valqueire, Rio de Janeiro, Brazil',\n",
       "       'Catumbi, Rio de Janeiro, Brazil', 'Joá, Rio de Janeiro, Brazil',\n",
       "       'São Cristóvão, Rio de Janeiro, Brazil',\n",
       "       'Engenho Novo, Rio de Janeiro, Brazil',\n",
       "       'Humaitá, Rio de Janeiro, Brazil',\n",
       "       'Taquara, Rio de Janeiro, Brazil',\n",
       "       'Abolição, Rio de Janeiro, Brazil',\n",
       "       'Tanque, Rio de Janeiro, Brazil',\n",
       "       'Bráz De Pina, Rio de Janeiro, Brazil',\n",
       "       'Santa Cruz, Rio de Janeiro, Brazil',\n",
       "       'Vidigal, Rio de Janeiro, Brazil',\n",
       "       'Portuguesa, Rio de Janeiro, Brazil',\n",
       "       'Jacarepaguá , Rio de Janeiro, Brazil',\n",
       "       'Estácio, Rio de Janeiro, Brazil',\n",
       "       'Bairro das Laranjeiras, Rio de Janeiro, Brazil',\n",
       "       'Gloria, Rio de Janeiro, Brazil',\n",
       "       'Praca da Bandeira, Rio de Janeiro, Brazil',\n",
       "       'Andarai, Rio de Janeiro, Brazil',\n",
       "       'Tijuca - Rio de Janeiro, Rio de Janeiro, Brazil',\n",
       "       'Rio de Janeiro, RJ, Jacarepaguá, Brazil',\n",
       "       'Freguesia (Jacarepaguá), Rio de Janeiro, Brazil',\n",
       "       'Jardim Guanabara, Rio de Janeiro, Brazil',\n",
       "       'Vila Isabel, Rio de Janeiro, Brazil',\n",
       "       'Água Santa, Rio de Janeiro, Brazil',\n",
       "       'Piedade, Rio de Janeiro, Brazil',\n",
       "       'Bonsucesso, Rio de Janeiro, Brazil',\n",
       "       'Camorim, Rio de Janeiro, Brazil',\n",
       "       'Alto da Boa Vista, Rio de Janeiro, Brazil',\n",
       "       'Vicente de Carvalh, Rio de Janeiro, Brazil',\n",
       "       'Padre Miguel, Rio de Janeiro, Brazil',\n",
       "       'Pitangueiras, Rio de Janeiro, Brazil',\n",
       "       'Riachuelo, Rio de Janeiro, Brazil', 'Rio de janeiro, Brazil',\n",
       "       'Cidade Nova, Rio de Janeiro, Brazil',\n",
       "       'Freguesia (Ilha do Governador), Rio de Janeiro, Brazil',\n",
       "       'Pedra de Guaratiba, Rio de Janeiro, Brazil',\n",
       "       'Santo Cristo, Rio de Janeiro, Brazil',\n",
       "       'Cacuia, Rio de Janeiro, Brazil', 'Grajau, Rio de Janeiro, Brazil',\n",
       "       'Pilares, Rio de Janeiro, Brazil',\n",
       "       'Copacaban, Rio de Janeiro, Brazil',\n",
       "       'Paquetá, Rio de Janeiro, Brazil',\n",
       "       'Barra Guaratiba, Rio de Janeiro, Brazil',\n",
       "       'Penha, Rio de Janeiro, Brazil',\n",
       "       'Cachambi, Rio de Janeiro, Brazil', 'Copacabana, Ri, Brazil',\n",
       "       'Rio de Jameiro, Rio de Janeiro, Brazil',\n",
       "       'Rocinha, Rio de Janeiro, Brazil', 'Anil, Rio de Janeiro, Brazil',\n",
       "       'Copacabana, Rio de Janeiro, Rio de Janeiro, Brazil',\n",
       "       'Recreio Dos Bandeirantes , Rio de Janeiro, Brazil',\n",
       "       'Jacarepaguá, Rio de Janeiro, Brazil',\n",
       "       'Teresopolis, Rio de Janeiro, Brazil',\n",
       "       'Camorim, Barra, Rio de Janeiro, Brazil',\n",
       "       'Pechincha, Rio de Janeiro, Brazil',\n",
       "       'Vicente de Carvalho, Rio de Janeiro, Brazil',\n",
       "       'Barra de Guaratiba, Rio de Janeiro, Brazil',\n",
       "       'Madureira, Rio de Janeiro, Brazil',\n",
       "       'Praia de Guaratiba , Bahia, Brazil',\n",
       "       'Copacabana / RJ, Rio de Janeiro, Brazil',\n",
       "       'Parada de Lucas, Rio de Janeiro, Rio de Janeiro, Brazil',\n",
       "       'Bento Ribeiro, Rio de Janeiro, Brazil',\n",
       "       'Rio de Janeiro, Rio De Janeiro (state), Brazil',\n",
       "       'Estrada Dos Bandeirante 8328, Bloco 3 apartamento 705, Jacarepaqua Bairrio do Camorim, 22783-115, Rio de Janeiro, Brazil, Brazil',\n",
       "       'Barra Olimpíca, Rio de Janeiro, Brazil',\n",
       "       'Cordovil, Rio de Janeiro, Brazil',\n",
       "       'Brás de Pina, Rio de Janeiro, Brazil',\n",
       "       'Méier, Rio de Janeiro, Brazil',\n",
       "       'R dos Bandeirantes, Rio de Janeiro, Brazil',\n",
       "       'Campo Grande, Rio de Janeiro, Brazil',\n",
       "       'Recreio Bandeirante, Rio de Janeiro, Brazil',\n",
       "       'Copacabana , RIo de Janeiro cep, Brazil',\n",
       "       'Paciência, Rio de Janeiro, Brazil',\n",
       "       'Alto da Boa Vista , Rio de Janeiro, Brazil',\n",
       "       'Freguesia de Jacarépagua, Rio de Janeiro, Brazil',\n",
       "       'Rocha Miranda, Rio de Janeiro, Brazil',\n",
       "       'Barra da Tijuca, Rj, Brazil',\n",
       "       'Freguesia de Jacarepaguá, Rio de Janeiro, Brazil',\n",
       "       'Santa Teresa, Rio de Janeiro, Rio de Janeiro, Brazil',\n",
       "       'Inhoaiba, Rio de Janeiro, Brazil',\n",
       "       'A Barra da Tijuca,  Rio de janeiro , Brazil',\n",
       "       'Leblon, Rio de Janeiro, Rio de Janeiro, Brazil',\n",
       "       'Rcr Bandeirantes, Rio de Janeiro, Brazil',\n",
       "       'Jardim Sulacap, Rio de Janeiro, Brazil',\n",
       "       'Vila da Penha, Rio de Janeiro, Brazil',\n",
       "       'Honório Gurgel, Rio de Janeiro, Brazil',\n",
       "       'Rj, Rio de Janeiro, Brazil',\n",
       "       'Parque Anchieta, Rio de Janeiro, Brazil',\n",
       "       'Copacabana, Goiás, Brazil', 'Gloria , Rio de Janeiro, Brazil',\n",
       "       'Cocotá, Rio de Janeiro, Brazil', 'Cosmos, Rio de Janeiro, Brazil',\n",
       "       'Bairro de Fátima, Rio de Janeiro, Brazil',\n",
       "       'Olaria, Rio de Janeiro, Brazil',\n",
       "       'R. Bandeirantes, Rio de Janeiro, Brazil',\n",
       "       'Benfica, Rio de Janeiro, Brazil', 'Rio de janeiro, Rj, Brazil',\n",
       "       'Leblon, Rio de Janeiro , Brazil', 'Saúde, Rio de Janeiro, Brazil',\n",
       "       'Recreio dos Bandeirante, Rio de Janeiro, Brazil',\n",
       "       'Rio de Janeiro , Brazil', 'Pavuna, Rio de Janeiro, Brazil',\n",
       "       'Anchieta, Rio de Janeiro, Brazil',\n",
       "       'Senador Camará, Rio de Janeiro, Brazil',\n",
       "       'Coelho Neto, Rio de Janeiro, Brazil',\n",
       "       'Vasco da Gama, Rio de Janeiro, Brazil',\n",
       "       'Barra da Tijuca, Rio Grande do Sul, Brazil',\n",
       "       'Vila Militar, Rio de Janeiro, Brazil',\n",
       "       'Recreio dos Bandeir, Rio de Janeiro, Brazil',\n",
       "       'Ricardo de Albuquerque, Rio de Janeiro, Brazil',\n",
       "       'Gamboa, Rio de Janeiro, Brazil',\n",
       "       'Cidade Universitária da Universidade Federal do Rio de Janeiro, Rio de Janeiro, Brazil',\n",
       "       'Magalhães Bastos, Rio de Janeiro, Brazil',\n",
       "       'Inhoaíba, Rio de Janeiro, Brazil',\n",
       "       'Copacabana, Rio de Janeiro , Brazil',\n",
       "       'Sampaio, Rio de Janeiro, Brazil',\n",
       "       'Paraty, Rio de Janeiro, Brazil',\n",
       "       'Rio de Janeiro, , Rio de Janeiro, Brazil',\n",
       "       'Rocha, Rio de Janeiro, Brazil',\n",
       "       'Mangueira, Rio de Janeiro, Brazil',\n",
       "       'Tijuca, Rio de Janeiro, Rio de Janeiro, Brazil',\n",
       "       'Guadalupe, Rio de Janeiro, Brazil',\n",
       "       'Senador Vasconcelos, Rio de Janeiro, Brazil',\n",
       "       'Recreio dos Bandeirantes, Rio de Janeiro, Rio de Janeiro, Brazil',\n",
       "       'Bangu, Rio de Janeiro, Brazil',\n",
       "       'Bancários, Rio de Janeiro, Brazil',\n",
       "       'Centro , Rio de Janeiro, Brazil', 'Ramos, Rio de Janeiro, Brazil',\n",
       "       'Maria da Graça, Rio de Janeiro, Brazil',\n",
       "       'Ilha do Governador, Rio de Janeiro, Brazil',\n",
       "       'Cidade de Deus, Rio de Janeiro, Brazil', 'Leblon, Ri, Brazil',\n",
       "       'Rio de Janeiro, Campo Grande, Brazil',\n",
       "       'Jardim Carioca, Rio de Janeiro, Brazil',\n",
       "       'Lins de Vasconcelos, Rio de Janeiro, Brazil',\n",
       "       'Alto da Boa Vista  Bairro: Itanhanga, Rio de Janeiro, Brazil',\n",
       "       'RIO DE JANEIRO, Rio de Janeiro, Brazil', 'Ipanema, Ri, Brazil',\n",
       "       'Ipanema , Rio de Janeiro, Brazil',\n",
       "       'Moneró, Rio de Janeiro, Brazil',\n",
       "       'Ribeira, Rio de Janeiro, Brazil',\n",
       "       'Barra da Tijuca , Rj, Rio de Janeiro, Brazil',\n",
       "       'Andaraí, Rio de Janeiro, Brazil',\n",
       "       'Engenho de Dentro, Rio de Janeiro, Brazil',\n",
       "       'Maricá, Rio de Janeiro, Brazil',\n",
       "       'Botafogo, Rio de Janeiro, Rio de Janeiro, Brazil',\n",
       "       'Todos os Santos, Rio de Janeiro, Brazil',\n",
       "       'Jardim Oceânico - Barra da Tijuca, Rio de Janeiro, Brazil',\n",
       "       'Praia do Flamengo, Rio de Janeiro, Brazil',\n",
       "       'Vista Alegre, Rio de Janeiro, Brazil',\n",
       "       'Rio Janeiro, Rio de Janeiro, Brazil',\n",
       "       'Jardim America, Rio de Janeiro, Brazil',\n",
       "       'Del Castilho, Rio de Janeiro, Brazil',\n",
       "       'Barra da Tijuca, Rio de Janeiro, Rio de Janeiro, Brazil',\n",
       "       'Freguesia de Jacarepaguá, Rio de Janeiro, Rio de Janeiro, Brazil',\n",
       "       'Recreio dos bandeirantes, Rio de janeiro, Brazil',\n",
       "       'Rio de Janeiro, Rio de janeiro, Brazil',\n",
       "       'Rio de Janeiro, Rio de Janeiro, Copacabana, Brazil',\n",
       "       'Jacarepaguá - Rio de Janeiro, Rio de Janeiro, Brazil',\n",
       "       'Rio de Janeiro, Bairro Barra da Tijuca, Brazil',\n",
       "       'Rio de Janeiro, Rio Grande do Sul, Brazil',\n",
       "       'Rio de Janeiro, Leblon, Rio de Janeiro, Brazil',\n",
       "       'Copacabana, Brazil',\n",
       "       'Flamengo, Rio de Janeiro,  Rio de Janeiro, Brazil',\n",
       "       'Rio de Janeiro, Flamengo, Brazil',\n",
       "       'Cabo Frio, Rio de Janeiro, Brazil',\n",
       "       'Armação dos Búzios, Rio de Janeiro, Brazil',\n",
       "       'Nova Friburgo, Rio de Janeiro, Brazil',\n",
       "       'Macaé, Rio de Janeiro, Brazil',\n",
       "       'Botafogo - Rio de Janeiro, Rio de Janeiro, Brazil',\n",
       "       'Rio de Janeiro, Humaitá, Brazil',\n",
       "       'Engenho de Dentro - Rio de Janeiro, Rio de Janeiro, Brazil',\n",
       "       'Gávea, Rio de Janeiro, Rio de Janeiro, Brazil',\n",
       "       'Rio de Janeiro, Rio Janeiro, Brazil',\n",
       "       'Recreio dos Bandeirantes, Rio de Janeiro  , Brazil'], dtype=object)"
      ]
     },
     "execution_count": 22,
     "metadata": {},
     "output_type": "execute_result"
    }
   ],
   "source": [
    "df_eda['neighbourhood'].unique()"
   ]
  },
  {
   "cell_type": "markdown",
   "id": "7f3a7ed7",
   "metadata": {},
   "source": [
    "Analisando os valores unicos da features *'neighbourhood'* temos a impressão que essa features apresenta dados referente a localização do local, como cidade, estado, pais e em alguns casos bairros, ruas e outros detalhes da localização.\n",
    "\n",
    "Diante desse entendimento, iremos verificar se os registros que possuem a feature *'neighbourhood'* como não nulo possuem correspondencia outra feature. Caso isso seja confirmado, poderemos preencher os valores missing dessa features com base na features que ela possui mais correspondencia, ou até mesmo decidir pelo remoção dessa feature do conjunto de dados"
   ]
  },
  {
   "cell_type": "code",
   "execution_count": 23,
   "id": "3de4035b",
   "metadata": {},
   "outputs": [],
   "source": [
    "neighbourhood_isna = df_eda['neighbourhood'].isna()"
   ]
  },
  {
   "cell_type": "markdown",
   "id": "d56ead12",
   "metadata": {
    "scrolled": false
   },
   "source": [
    "Iremos realizar um comparativo nos registros que possuem valores não nulos na coluna *'neighbourhood'* com os valores das outras colunas. O objetivo é verificar qual coluna possue semelhanças com a *'neighbourhood'*, e quantidade de registros com essas semelhanças."
   ]
  },
  {
   "cell_type": "code",
   "execution_count": null,
   "id": "077413f8",
   "metadata": {},
   "outputs": [],
   "source": [
    "df_infNeighbourhood = analiseDeColunasComCorrespondencia(filtro=df_eda['neighbourhood'].notna(), df=df_eda, coluna_alvo='neighbourhood' )"
   ]
  },
  {
   "cell_type": "code",
   "execution_count": null,
   "id": "2d47e8a9",
   "metadata": {},
   "outputs": [],
   "source": [
    "df_infNeighbourhood[df_infNeighbourhood['quantidade']>0]"
   ]
  },
  {
   "cell_type": "markdown",
   "id": "57560326",
   "metadata": {},
   "source": [
    "Com as analises acima identificamos que a coluna *'host_location'* é a que mais possui correspondencia com a *\"neighbourhood\"*, porém apenas 41% dos registros que possuem correspondencia com ao *\"neighbourhood\"*.\n"
   ]
  },
  {
   "cell_type": "markdown",
   "id": "d7ab86ef",
   "metadata": {},
   "source": [
    "Visualização nos registros que possuem não correspondencia entre a *'host_location'* e a *\"neighbourhood\"*"
   ]
  },
  {
   "cell_type": "code",
   "execution_count": null,
   "id": "b3357676",
   "metadata": {},
   "outputs": [],
   "source": [
    "df_auxNeigbourhood = df_eda.copy()\n",
    "df_auxNeigbourhood['Neigh_Host'] = df_eda['neighbourhood']"
   ]
  },
  {
   "cell_type": "code",
   "execution_count": null,
   "id": "268e3fe4",
   "metadata": {},
   "outputs": [],
   "source": [
    "\n",
    "num = df_auxNeigbourhood.shape[0]\n",
    "for idx in range(0,num):    \n",
    "    if str(df_auxNeigbourhood['neighbourhood'].iloc[idx]) in str(df_auxNeigbourhood['host_location'].iloc[idx]):\n",
    "    \n",
    "        df_auxNeigbourhood['Neigh_Host'].iloc[idx] = 'S'\n",
    "    else:\n",
    "        df_auxNeigbourhood['Neigh_Host'].iloc[idx] = 'N'\n",
    "\n",
    "\n",
    "                                   "
   ]
  },
  {
   "cell_type": "code",
   "execution_count": null,
   "id": "0921052c",
   "metadata": {},
   "outputs": [],
   "source": [
    "filtro_1 = (df_auxNeigbourhood['Neigh_Host'] =='N')\n",
    "filtro_2 = (df_auxNeigbourhood['neighbourhood'].notna())\n",
    "colunas_ax = ['neighbourhood', 'host_location']\n",
    "\n",
    "df_auxNeigbourhood[colunas_ax][ filtro_1 & filtro_2]"
   ]
  },
  {
   "cell_type": "markdown",
   "id": "0eafc4ca",
   "metadata": {
    "collapsed": true
   },
   "source": [
    "O valor da *\"neighbourhood\"* é referente ao bairro, e devido ao numero de dados missing e a falta de padronização, iremos preencher todos que estão como NaN como \"Rio de Janeiro, Brazil\", devido esse dataset ser referente a dados do Rio de Janeiro, Brazil\""
   ]
  },
  {
   "cell_type": "code",
   "execution_count": 24,
   "id": "415373d0",
   "metadata": {},
   "outputs": [],
   "source": [
    "#neighbourhood_isna = df_eda['neighbourhood'].isna()\n",
    "#df_eda['neighbourhood'][neighbourhood_isna] = \"Rio de Janeiro, Brazil\"\n",
    "\n",
    "df_eda['neighbourhood'].fillna(\"nao informado\", inplace=True)"
   ]
  },
  {
   "cell_type": "code",
   "execution_count": null,
   "id": "6e83e096",
   "metadata": {},
   "outputs": [],
   "source": []
  },
  {
   "cell_type": "code",
   "execution_count": null,
   "id": "690e38c8",
   "metadata": {},
   "outputs": [],
   "source": []
  },
  {
   "cell_type": "code",
   "execution_count": null,
   "id": "0306a40e",
   "metadata": {},
   "outputs": [],
   "source": []
  },
  {
   "cell_type": "markdown",
   "id": "34aac99b",
   "metadata": {},
   "source": [
    "### 1.3.4. Feature: *'host_name'*"
   ]
  },
  {
   "cell_type": "markdown",
   "id": "6a1bbe14",
   "metadata": {},
   "source": [
    "Quando visualizamos o numero de missing de cada um das features podemos notar que a features *'host_name'* possuía a mesma quantidade de missing que outras colunas, então iremos verificar quais as outras features possuem dados missing quando o host_name possui um valor missing."
   ]
  },
  {
   "cell_type": "code",
   "execution_count": 25,
   "id": "8b980bc3",
   "metadata": {},
   "outputs": [
    {
     "data": {
      "text/plain": [
       "9"
      ]
     },
     "execution_count": 25,
     "metadata": {},
     "output_type": "execute_result"
    }
   ],
   "source": [
    "filtro_host_name = df_eda['host_name'].isna()\n",
    "df_eda.id[filtro_host_name].count()"
   ]
  },
  {
   "cell_type": "code",
   "execution_count": 26,
   "id": "02aa8f10",
   "metadata": {
    "scrolled": true
   },
   "outputs": [
    {
     "data": {
      "text/html": [
       "<div>\n",
       "<style scoped>\n",
       "    .dataframe tbody tr th:only-of-type {\n",
       "        vertical-align: middle;\n",
       "    }\n",
       "\n",
       "    .dataframe tbody tr th {\n",
       "        vertical-align: top;\n",
       "    }\n",
       "\n",
       "    .dataframe thead th {\n",
       "        text-align: right;\n",
       "    }\n",
       "</style>\n",
       "<table border=\"1\" class=\"dataframe\">\n",
       "  <thead>\n",
       "    <tr style=\"text-align: right;\">\n",
       "      <th></th>\n",
       "      <th>Columns</th>\n",
       "      <th>Type</th>\n",
       "      <th>Unique</th>\n",
       "      <th>Size</th>\n",
       "      <th>Missing</th>\n",
       "      <th>% Unique</th>\n",
       "      <th>% Missing</th>\n",
       "    </tr>\n",
       "  </thead>\n",
       "  <tbody>\n",
       "    <tr>\n",
       "      <th>host_name</th>\n",
       "      <td>host_name</td>\n",
       "      <td>object</td>\n",
       "      <td>6268</td>\n",
       "      <td>36008</td>\n",
       "      <td>9</td>\n",
       "      <td>0.174072</td>\n",
       "      <td>0.00025</td>\n",
       "    </tr>\n",
       "  </tbody>\n",
       "</table>\n",
       "</div>"
      ],
      "text/plain": [
       "             Columns    Type  Unique   Size  Missing  % Unique  % Missing\n",
       "host_name  host_name  object    6268  36008        9  0.174072    0.00025"
      ]
     },
     "execution_count": 26,
     "metadata": {},
     "output_type": "execute_result"
    }
   ],
   "source": [
    "df_info[df_info.index =='host_name']"
   ]
  },
  {
   "cell_type": "code",
   "execution_count": null,
   "id": "bfc7cac4",
   "metadata": {},
   "outputs": [],
   "source": [
    "filtro_host_name = df_eda['host_name'].isna()\n",
    "\n",
    "df_infHost = analiseDeColunasComCorrespondencia(filtro=filtro_host_name, df=df_eda, coluna_alvo='host_name' )"
   ]
  },
  {
   "cell_type": "code",
   "execution_count": null,
   "id": "36d23424",
   "metadata": {
    "scrolled": true
   },
   "outputs": [],
   "source": [
    "df_infHost[df_infHost['%']>0]"
   ]
  },
  {
   "cell_type": "code",
   "execution_count": null,
   "id": "4b449705",
   "metadata": {},
   "outputs": [],
   "source": [
    "df_infHost[df_infHost['%']>=1]"
   ]
  },
  {
   "cell_type": "code",
   "execution_count": null,
   "id": "5cad8781",
   "metadata": {},
   "outputs": [],
   "source": [
    "cols_infHost = df_infHost['Columns'][df_infHost['%']>=1]"
   ]
  },
  {
   "cell_type": "code",
   "execution_count": null,
   "id": "0b4c0e0d",
   "metadata": {},
   "outputs": [],
   "source": []
  },
  {
   "cell_type": "code",
   "execution_count": null,
   "id": "c8d53655",
   "metadata": {},
   "outputs": [],
   "source": [
    "missingData(df_eda[cols_infHost])"
   ]
  },
  {
   "cell_type": "markdown",
   "id": "c6ad37d2",
   "metadata": {},
   "source": [
    "O dataframe possui 9 registros com o campo \"host_name\" com valor missing. Com a analise de comparação de registros com valores missing na coluna \"host_name\" com as outras colunas, obtivemos um numero de 13 feature que sempre que a feature \"host_name\" é missing, os valores dessas outras colunas tambem são missing. Porém dentre essas 13 features, 7 delas sempre são NaN quando a *\"host_name\"* for NaN. As outras 6 colunas tambem possuem valor NaN quando a *\"host_name\"* é NaN, porém possui valores NaN em outros registros em que o *\"host_name\"* não é NaN."
   ]
  },
  {
   "cell_type": "markdown",
   "id": "0d9bc90a",
   "metadata": {},
   "source": [
    "host_name, host_since, host_thumbnail_url, host_picture_url, host_listings_count, host_total_listings_count, host_has_profile_pic, host_identity_verified\n",
    "\n"
   ]
  },
  {
   "cell_type": "markdown",
   "id": "b3d1bbfd",
   "metadata": {},
   "source": [
    "**Analise de NotNa na feature *'host_name'***"
   ]
  },
  {
   "cell_type": "code",
   "execution_count": null,
   "id": "3fa535b6",
   "metadata": {},
   "outputs": [],
   "source": [
    "filtro_host_name_notna = df_eda['host_name'].notna()\n",
    "\n",
    "df_infHost_notna = analiseDeColunasComCorrespondencia(filtro=filtro_host_name_notna, df=df_eda, coluna_alvo='host_name' )"
   ]
  },
  {
   "cell_type": "code",
   "execution_count": null,
   "id": "2628a27a",
   "metadata": {},
   "outputs": [],
   "source": []
  },
  {
   "cell_type": "code",
   "execution_count": null,
   "id": "17ee18d6",
   "metadata": {},
   "outputs": [],
   "source": [
    "df_infHost_notna[df_infHost_notna['%']>0]"
   ]
  },
  {
   "cell_type": "code",
   "execution_count": null,
   "id": "5c004d56",
   "metadata": {},
   "outputs": [],
   "source": []
  },
  {
   "cell_type": "code",
   "execution_count": 27,
   "id": "fc440a8b",
   "metadata": {
    "scrolled": true
   },
   "outputs": [
    {
     "data": {
      "text/plain": [
       "array(['Matthias', 'Viviane', 'Patricia Miranda & Paulo', ...,\n",
       "       'João Renato', 'Kauanne Bruna', 'Grenrick'], dtype=object)"
      ]
     },
     "execution_count": 27,
     "metadata": {},
     "output_type": "execute_result"
    }
   ],
   "source": [
    "df_eda['host_name'].unique()"
   ]
  },
  {
   "cell_type": "markdown",
   "id": "90e9ada0",
   "metadata": {},
   "source": [
    "Fizemos essa analise com o objetivo de verificar se alguma outra feature tivesse informações que poderiamos utilizar no preenchimento dos valores missing da feature *\"host_name\"*. Mas não conseguimos identificar nenhuma outra feature que poderíamos utilizar para o preenchimento dos missing values da feature *\"host_name\"*"
   ]
  },
  {
   "cell_type": "markdown",
   "id": "69fd9f3d",
   "metadata": {},
   "source": [
    "Desta forma, iremos tratar os dados missing da coluna host_name preenchendo com o valor 'nao informado'"
   ]
  },
  {
   "cell_type": "code",
   "execution_count": 28,
   "id": "f5ef1b5d",
   "metadata": {},
   "outputs": [],
   "source": [
    "df_eda['host_name'].fillna(\"nao informado\", inplace=True)"
   ]
  },
  {
   "cell_type": "code",
   "execution_count": null,
   "id": "4e19e326",
   "metadata": {},
   "outputs": [],
   "source": []
  },
  {
   "cell_type": "code",
   "execution_count": null,
   "id": "ae764c4f",
   "metadata": {},
   "outputs": [],
   "source": []
  },
  {
   "cell_type": "code",
   "execution_count": null,
   "id": "b225e692",
   "metadata": {},
   "outputs": [],
   "source": []
  },
  {
   "cell_type": "markdown",
   "id": "de471ce3",
   "metadata": {},
   "source": [
    "### 1.3.5. Feature: *'host_since'*"
   ]
  },
  {
   "cell_type": "code",
   "execution_count": 29,
   "id": "22633003",
   "metadata": {},
   "outputs": [
    {
     "data": {
      "text/html": [
       "<div>\n",
       "<style scoped>\n",
       "    .dataframe tbody tr th:only-of-type {\n",
       "        vertical-align: middle;\n",
       "    }\n",
       "\n",
       "    .dataframe tbody tr th {\n",
       "        vertical-align: top;\n",
       "    }\n",
       "\n",
       "    .dataframe thead th {\n",
       "        text-align: right;\n",
       "    }\n",
       "</style>\n",
       "<table border=\"1\" class=\"dataframe\">\n",
       "  <thead>\n",
       "    <tr style=\"text-align: right;\">\n",
       "      <th></th>\n",
       "      <th>Columns</th>\n",
       "      <th>Type</th>\n",
       "      <th>Unique</th>\n",
       "      <th>Size</th>\n",
       "      <th>Missing</th>\n",
       "      <th>% Unique</th>\n",
       "      <th>% Missing</th>\n",
       "    </tr>\n",
       "  </thead>\n",
       "  <tbody>\n",
       "    <tr>\n",
       "      <th>host_since</th>\n",
       "      <td>host_since</td>\n",
       "      <td>object</td>\n",
       "      <td>4441</td>\n",
       "      <td>36008</td>\n",
       "      <td>9</td>\n",
       "      <td>0.123334</td>\n",
       "      <td>0.00025</td>\n",
       "    </tr>\n",
       "  </tbody>\n",
       "</table>\n",
       "</div>"
      ],
      "text/plain": [
       "               Columns    Type  Unique   Size  Missing  % Unique  % Missing\n",
       "host_since  host_since  object    4441  36008        9  0.123334    0.00025"
      ]
     },
     "execution_count": 29,
     "metadata": {},
     "output_type": "execute_result"
    }
   ],
   "source": [
    "df_info[df_info.index =='host_since']"
   ]
  },
  {
   "cell_type": "code",
   "execution_count": 30,
   "id": "fafb7d3c",
   "metadata": {
    "scrolled": true
   },
   "outputs": [
    {
     "data": {
      "text/plain": [
       "array(['2010-01-08', '2010-04-03', '2010-06-27', ..., '2023-12-23',\n",
       "       '2019-11-29', '2023-12-24'], dtype=object)"
      ]
     },
     "execution_count": 30,
     "metadata": {},
     "output_type": "execute_result"
    }
   ],
   "source": [
    "df_eda['host_since'].unique()"
   ]
  },
  {
   "cell_type": "markdown",
   "id": "272a921f",
   "metadata": {},
   "source": [
    "o campo host_since se refere a quando o host tem cadastro, porem quando não tem um host não havera um data. Então para conseguirmos identificar quais são esses cadastros futuramente sem que percamos os dados, iremos preencher os campos null com uma data totalmente fora do padrão. \n",
    "\n",
    "Uma outra opção seria preencher os null com o mesmo valor que está na variavel *'last_scraped'*, mas optamos por seguir a alternativa anterior\n"
   ]
  },
  {
   "cell_type": "code",
   "execution_count": 31,
   "id": "84798c7e",
   "metadata": {},
   "outputs": [],
   "source": [
    "#host_since_isna = df_eda['host_since'].isna()\n",
    "#df_eda['host_since'][host_since_isna] = '1900-01-01'\n",
    "df_eda['host_since'].fillna(\"1990-01-01\", inplace=True)"
   ]
  },
  {
   "cell_type": "code",
   "execution_count": null,
   "id": "b305d609",
   "metadata": {},
   "outputs": [],
   "source": []
  },
  {
   "cell_type": "code",
   "execution_count": null,
   "id": "85e5ba09",
   "metadata": {},
   "outputs": [],
   "source": []
  },
  {
   "cell_type": "code",
   "execution_count": null,
   "id": "0439093f",
   "metadata": {},
   "outputs": [],
   "source": []
  },
  {
   "cell_type": "code",
   "execution_count": null,
   "id": "de6038d0",
   "metadata": {},
   "outputs": [],
   "source": []
  },
  {
   "cell_type": "code",
   "execution_count": null,
   "id": "510517d5",
   "metadata": {},
   "outputs": [],
   "source": []
  },
  {
   "cell_type": "markdown",
   "id": "56c54b8b",
   "metadata": {},
   "source": [
    "### 1.3.6. Feature: *'host_location'*"
   ]
  },
  {
   "cell_type": "code",
   "execution_count": 32,
   "id": "6343477a",
   "metadata": {
    "scrolled": true
   },
   "outputs": [
    {
     "data": {
      "text/html": [
       "<div>\n",
       "<style scoped>\n",
       "    .dataframe tbody tr th:only-of-type {\n",
       "        vertical-align: middle;\n",
       "    }\n",
       "\n",
       "    .dataframe tbody tr th {\n",
       "        vertical-align: top;\n",
       "    }\n",
       "\n",
       "    .dataframe thead th {\n",
       "        text-align: right;\n",
       "    }\n",
       "</style>\n",
       "<table border=\"1\" class=\"dataframe\">\n",
       "  <thead>\n",
       "    <tr style=\"text-align: right;\">\n",
       "      <th></th>\n",
       "      <th>Columns</th>\n",
       "      <th>Type</th>\n",
       "      <th>Unique</th>\n",
       "      <th>Size</th>\n",
       "      <th>Missing</th>\n",
       "      <th>% Unique</th>\n",
       "      <th>% Missing</th>\n",
       "    </tr>\n",
       "  </thead>\n",
       "  <tbody>\n",
       "    <tr>\n",
       "      <th>host_location</th>\n",
       "      <td>host_location</td>\n",
       "      <td>object</td>\n",
       "      <td>592</td>\n",
       "      <td>36008</td>\n",
       "      <td>7029</td>\n",
       "      <td>0.016441</td>\n",
       "      <td>0.195207</td>\n",
       "    </tr>\n",
       "  </tbody>\n",
       "</table>\n",
       "</div>"
      ],
      "text/plain": [
       "                     Columns    Type  Unique   Size  Missing  % Unique  \\\n",
       "host_location  host_location  object     592  36008     7029  0.016441   \n",
       "\n",
       "               % Missing  \n",
       "host_location   0.195207  "
      ]
     },
     "execution_count": 32,
     "metadata": {},
     "output_type": "execute_result"
    }
   ],
   "source": [
    "df_info[df_info.index =='host_location']"
   ]
  },
  {
   "cell_type": "code",
   "execution_count": 33,
   "id": "86571639",
   "metadata": {},
   "outputs": [
    {
     "data": {
      "text/plain": [
       "array(['Rio de Janeiro, Brazil', nan, 'Rio, Brazil', 'Brazil', 'Mesa, AZ',\n",
       "       'State of Rio de Janeiro, Brazil', 'San Diego, CA',\n",
       "       'Florianópolis, Brazil', 'Sao Paulo, Brazil', 'Berlin, Germany',\n",
       "       'Miami Beach, FL', 'Palma, Spain', 'Zug, Switzerland',\n",
       "       'Newport Beach, CA', 'Americana, Brazil', 'Barcelona, Spain',\n",
       "       'João Pessoa, Brazil', 'Los Angeles, CA', 'Santiago, Chile',\n",
       "       'London, United Kingdom', 'Massachusetts, United States',\n",
       "       'Manchester, United Kingdom', 'United States', 'Panama',\n",
       "       'São Paulo, Brazil', 'State of Espírito Santo, Brazil',\n",
       "       'Curitiba, Brazil', 'Germany', 'Opatija, Croatia', 'Wolcott, CT',\n",
       "       'Madrid, Spain', 'Lisbon, Portugal', 'New York, NY',\n",
       "       'Buenos Aires, Argentina', 'Aberdeen, United Kingdom',\n",
       "       'Alameda, CA', 'Além Paraíba, Brazil', 'Toulouse, France',\n",
       "       'Amsterdam, Netherlands', 'Tournai, Belgium',\n",
       "       'England, United Kingdom', 'Niterói, Brazil', 'Bangkok, Thailand',\n",
       "       'Weehawken, NJ', 'Melbourne, Australia', 'Belo Horizonte, Brazil',\n",
       "       'Brasília, Brazil', 'Federal District, Brazil', 'French Polynesia',\n",
       "       'Houston, TX', 'Brasilia, Brazil', 'Metz, France',\n",
       "       'Barranquilla, Colombia', 'Silver Spring, MD',\n",
       "       'São José dos Campos, Brazil', 'Niteroi, Brazil',\n",
       "       'Luxembourg, Luxembourg', 'Austin, TX', 'Paris, France',\n",
       "       'United Kingdom', 'Wainiha, HI', 'Salvador, Brazil', 'Sanibel, FL',\n",
       "       'State of São Paulo, Brazil', 'College Park, MD', 'Bergamo, Italy',\n",
       "       'Alto Paraíso de Goiás, Brazil', 'Petrópolis, Brazil',\n",
       "       'Christchurch, United Kingdom', 'Teresópolis, Brazil',\n",
       "       'Volta Redonda, Brazil', 'Munich, Germany', 'Enniskerry, Ireland',\n",
       "       'Porto, Portugal', 'Joinville, Brazil', 'Ubatuba, Brazil',\n",
       "       'Maputo, Mozambique', 'Bonn, Germany', 'Norwich, United Kingdom',\n",
       "       'Valladolid, Spain', 'Nova Friburgo, Brazil', 'Grenoble, France',\n",
       "       'State of Ceará, Brazil', 'Fortaleza, Brazil', 'Oslo, Norway',\n",
       "       'Armação dos Búzios, Brazil', 'Worcester, MA',\n",
       "       'Geneva, Switzerland', 'Walnut Creek, CA', 'Troy, NY',\n",
       "       'Cancún, Mexico', 'Brea, CA', 'Seevetal, Germany',\n",
       "       'Cabo Frio, Brazil', 'Milan, Italy', 'Reykjavik, Iceland',\n",
       "       'Caxias do Sul, Brazil', 'Rome, Italy', 'Tours, France',\n",
       "       'Rio das Ostras, Brazil', 'Vargem Grande Paulista, Brazil',\n",
       "       'Avaré, Brazil', 'Barra Mansa, Brazil', 'Orlando, FL',\n",
       "       'Distrito Federal, Brazil', 'Goiânia, Brazil', 'Lund, Sweden',\n",
       "       'Macaé, Brazil', 'Miami, FL', 'Alter do Chão, Brazil',\n",
       "       'Saquarema, Brazil', 'Porto Alegre, Brazil', 'Corumbá, Brazil',\n",
       "       'Florida, United States', 'Vancouver, Canada', 'Flagstaff, AZ',\n",
       "       'Cotia, Brazil', 'Chicago, IL', 'Juiz de Fora, Brazil', 'Cary, NC',\n",
       "       'São Luís, Brazil', 'Recreio, Brazil', 'Paraty, Brazil',\n",
       "       'Seropédica, Brazil', 'Montpellier, France',\n",
       "       'Santana de Parnaíba, Brazil', 'Revere, MA', 'Teresina, Brazil',\n",
       "       'Florence, Italy', 'Zurich, Switzerland', 'Cartagena, Colombia',\n",
       "       'Zola Predosa, Italy', 'Utrecht, Netherlands',\n",
       "       'State of Pernambuco, Brazil', 'Châteaurenard, France',\n",
       "       'Cuzco, Peru', 'Sergipe, Brazil', 'Miguel Pereira, Brazil',\n",
       "       'Lecco, Italy', 'Lido degli Estensi, Italy', 'Pisa, Italy',\n",
       "       'Campinas, Brazil', 'Cuiabá, Brazil', 'Trondheim, Norway',\n",
       "       'Vitória Brasil, Brazil', 'Guararapes, Brazil', 'Ceará, Brazil',\n",
       "       'Tijucas, Brazil', 'Marseille, France', 'Toronto, Canada',\n",
       "       'Aparecida de Goiânia, Brazil', 'Rio Grande do Sul, Brazil',\n",
       "       'Zürich, Switzerland', 'Campo Grande, Brazil', 'Aguaí, Brazil',\n",
       "       'Vitória, Brazil', 'Recife, Brazil', 'Venice, Italy', 'Boston, MA',\n",
       "       'Rahway, NJ', 'Strasbourg, France', 'Las Vegas, NV',\n",
       "       'Frutal, Brazil', 'Angra dos Reis, Brazil', 'Rio Verde, Brazil',\n",
       "       'Rio Grande do Norte, Brazil', 'São João Del Rei, Brazil',\n",
       "       'Windermere, FL', 'Culver City, CA', 'Barbacena, Brazil',\n",
       "       'Darmstadt, Germany', 'Échenevex, France', 'Resende, Brazil',\n",
       "       'The Hague, Netherlands', 'Río Cuarto, Argentina',\n",
       "       'State of Minas Gerais, Brazil', 'Campos, Brazil',\n",
       "       'Portugal, Brazil', 'São Caetano do Sul, Brazil',\n",
       "       'San Francisco, CA', 'Stockholm, Sweden', 'Santos, Brazil',\n",
       "       'Longboat Key, FL', 'Taubaté, Brazil', 'Boucherville, Canada',\n",
       "       'Lambari, Brazil', 'Katy, TX', 'Rotterdam, Netherlands',\n",
       "       'Viçosa, Brazil', 'Monaco', 'Italy', 'Lutry, Switzerland',\n",
       "       'Sydney, Australia', 'Itu, Brazil', 'Nuremberg, Germany',\n",
       "       'Dubai, United Arab Emirates', 'Passo de Torres, Brazil',\n",
       "       'Maricá, Brazil', 'Cambridge, United Kingdom', 'Vassouras, Brazil',\n",
       "       'Duque de Caxias, Brazil', 'Lexington, KY',\n",
       "       'Ambleside, United Kingdom', 'Avon, CO', 'Uberlândia, Brazil',\n",
       "       'Lumiar, Brazil', 'Ljubljana, Slovenia', 'Georgetown, Guyana',\n",
       "       'Netherlands', 'Lausanne, Switzerland', 'Fort Lauderdale, FL',\n",
       "       'State of Santa Catarina, Brazil', 'Aracaju, Brazil',\n",
       "       'California, United States', 'State of Bahia, Brazil',\n",
       "       'Minas Gerais, Brazil', 'Hollywood, FL', 'Barra do Piraí, Brazil',\n",
       "       'Marbella, Spain', 'Grimsby, United Kingdom', 'Asuncion, Paraguay',\n",
       "       'Atlanta, GA', 'Mexico City, Mexico', 'Araçatuba, Brazil',\n",
       "       'Aparecida, Brazil', 'Petah Tikva, Israel', 'Torrance, CA',\n",
       "       'State of Rio Grande do Norte, Brazil', 'Diadema, Brazil',\n",
       "       'Jaguariúna, Brazil', 'Belém, Brazil', 'Murrells Inlet, SC',\n",
       "       'Montes Claros, Brazil', 'Nova Iguaçu, Brazil', 'Maringá, Brazil',\n",
       "       'Vitória da Conquista, Brazil', 'Alesund, Norway',\n",
       "       'West Hollywood, CA', 'Fairfax, VA', 'Ribeirão Preto, Brazil',\n",
       "       'Gramado, Brazil', 'Corrientes, Argentina',\n",
       "       'Santiago Metropolitan Region, Chile', 'Natal, Brazil',\n",
       "       'Doha, Qatar', 'Manaus, Brazil', 'Jundiaí, Brazil',\n",
       "       'Paraíba do Sul, Brazil', 'Muriaé, Brazil', 'New Orleans, LA',\n",
       "       'Brisbane, Australia', 'Düsseldorf, Germany',\n",
       "       'State of Paraná, Brazil', 'Três Rios, Brazil', 'Italiana, Italy',\n",
       "       'West Hartford, CT', 'Florianopolis, Brazil', 'São José, Brazil',\n",
       "       'Beauvechain, Belgium', 'Anchorage, AK', 'Jacareí, Brazil',\n",
       "       'Asunción, Paraguay', 'Vila Velha, Brazil',\n",
       "       'Arraial do Cabo, Brazil', 'Washington, DC', 'Prague, Czechia',\n",
       "       'São João de Meriti, Brazil', 'Bordeaux, France',\n",
       "       'Primavera do Leste, Brazil', 'Anglet, France', 'Naples, Italy',\n",
       "       'Ubá, Brazil', 'Tervuren, Belgium', 'Maria da Fé, Brazil',\n",
       "       'Itaguaí, Brazil', 'Rosario, Argentina', 'Flower Mound, TX',\n",
       "       'Berkeley, CA', 'Limeira, Brazil', 'Beckum, Germany',\n",
       "       'Portland, OR', 'Cascais, Portugal',\n",
       "       'State of Rio Grande do Sul, Brazil',\n",
       "       'Cachoeiro de Itapemirim, Brazil', 'West Palm Beach, FL',\n",
       "       'Newburyport, MA', 'Renton, WA', 'Dielsdorf, Switzerland',\n",
       "       'Winter Garden, FL', 'São José do Rio Preto, Brazil',\n",
       "       'Daly City, CA', 'Escazu, Costa Rica', 'City of Brussels, Belgium',\n",
       "       'Uberaba, Brazil', 'Luanda, Angola', 'State of Pará, Brazil',\n",
       "       'Pernambuco, Brazil', 'Regensburg, Germany', 'Sorocaba, Brazil',\n",
       "       'Aiuruoca, Brazil', 'State of Alagoas, Brazil',\n",
       "       'Foz do Iguaçu, Brazil', 'Rio Grande, Brazil', 'Itapema, Brazil',\n",
       "       'Ipojuca, Brazil', 'Itaperuna, Brazil', 'Palmas, Brazil',\n",
       "       'Kissimmee, FL', 'Frankfurt, Germany',\n",
       "       'Le Perreux-sur-Marne, France', 'Montreal, Canada',\n",
       "       'Divinópolis, Brazil', 'Tokyo, Japan', 'Albuquerque, NM',\n",
       "       'Mangaratiba, Brazil', 'Piraí, Brazil', 'Cannes, France',\n",
       "       'Navegantes, Brazil', 'Tel Aviv-Yafo, Israel',\n",
       "       'Ramos Mejía, Argentina', 'Balneário Barra do Sul, Brazil',\n",
       "       'São Gabriel, Brazil', 'La Altagracia, Dominican Republic',\n",
       "       'Santa Catarina, Brazil', 'Cambridge, MA', 'Boca Raton, FL',\n",
       "       'Simpsonville, SC', 'Portugal', 'Lauro de Freitas, Brazil',\n",
       "       'Victoria, Canada', 'Guimarães, Portugal', 'Villemomble, France',\n",
       "       'Rio Grande, Argentina', 'Vitoria, Brazil', 'São Gonçalo, Brazil',\n",
       "       'Brumadinho, Brazil', 'Chêne-Bougeries, Switzerland',\n",
       "       'Araxá, Brazil', 'Auckland, New Zealand',\n",
       "       'State of Mato Grosso, Brazil', 'Itápolis, Brazil',\n",
       "       'Leer, Germany', 'Israel', 'Indian Springs Village, AL',\n",
       "       'Brussels, Belgium', 'Córdoba, Argentina', 'Dietikon, Switzerland',\n",
       "       'Maceió, Brazil', 'Leme, Brazil', 'Winter Park, FL',\n",
       "       'Maracajaú, Brazil', 'Seoul, South Korea', 'Burgos, Spain',\n",
       "       'Rio de Mouro, Portugal', 'Bayeux, Brazil', 'Greece',\n",
       "       'Long Beach, CA', 'Itatiaia, Brazil', 'Santo André, Brazil',\n",
       "       'Windermere, United Kingdom', 'Bromley, United Kingdom',\n",
       "       'Lucerne, Switzerland', 'Porto Seguro, Brazil', 'Vienna, Austria',\n",
       "       'Roches Noires, Mauritius', 'Santa Monica, CA', 'Malibu, CA',\n",
       "       'Birmingham, United Kingdom', 'Nice, France', 'Newark, NJ',\n",
       "       'Verona, Italy', 'State of Acre, Brazil', 'San Juan, Puerto Rico',\n",
       "       'Florida City, FL', 'Magé, Brazil', 'Ribeirao Preto, Brazil',\n",
       "       'Maryland, United States', 'Kailua, HI', 'Espírito Santo, Brazil',\n",
       "       'Meckenheim, Germany', 'Itupeva, Brazil',\n",
       "       'Santa Rita do Sapucaí, Brazil', 'Piauí, Brazil', 'Macapá, Brazil',\n",
       "       'Mirassol, Brazil', 'Pará, Brazil', 'Ilhabela, Brazil',\n",
       "       'Chapecó, Brazil', 'Campos do Jordão, Brazil', 'Oakhurst, CA',\n",
       "       'Mato Grosso, Brazil', 'Jaboticabal, Brazil',\n",
       "       'La Libertad Department, El Salvador',\n",
       "       'Ingeniero Maschwitz, Argentina', 'Kailua-Kona, HI',\n",
       "       'Budapest, Hungary', 'Curvelo, Brazil',\n",
       "       'Glastonbury, United Kingdom', 'Contagem, Brazil', 'Genoa, Italy',\n",
       "       'Fredericksburg, TX', 'Buritis, Brazil', 'Vitoria-Gasteiz, Spain',\n",
       "       'Encinitas, CA', 'Ouro Preto, Brazil', 'Pelotas, Brazil',\n",
       "       'Örkelljunga, Sweden', 'Franca, Brazil', 'Sorriso, Brazil',\n",
       "       'Reykjavík, Iceland', 'Westport, CT', 'Ibitinga, Brazil', 'Chile',\n",
       "       'Daytona Beach, FL', \"Arraial d'Ajuda, Brazil\", 'Lavras, Brazil',\n",
       "       'Bahia, Brazil', 'South Palm Beach, FL', 'Caxambu, Brazil',\n",
       "       'Mar del Plata, Argentina', 'Sunnyvale, CA', 'Barletta, Italy',\n",
       "       'Araruama, Brazil', 'Barueri, Brazil', 'Rio Claro, Brazil',\n",
       "       'Belém, Portugal', 'Poços de Caldas, Brazil',\n",
       "       'Friuli-Venezia Giulia, Italy', 'Tarpon Springs, FL',\n",
       "       'County Dublin, Ireland', 'Baarn, Netherlands',\n",
       "       'Rio Branco, Brazil', 'Capão da Canoa, Brazil', 'Weston, FL',\n",
       "       'Amazonas, Brazil', 'Vienna, VA', \"L'Haÿ-les-Roses, France\",\n",
       "       'Goiás, Brazil', 'Brandenburg, Germany',\n",
       "       'Bodman-Ludwigshafen, Germany', 'Bilbao, Spain',\n",
       "       'Castanhal, Brazil', 'Hamburg, Germany', 'Mississauga, Canada',\n",
       "       'Bad Säckingen, Germany', 'Boa Vista, Brazil',\n",
       "       'Sao Jose dos Campos, Brazil', 'Heidelberg, Germany',\n",
       "       'Laguna Woods, CA', 'Braga, Portugal',\n",
       "       'Mato Grosso do Sul, Brazil', 'Edgartown, MA', 'Canoas, Brazil',\n",
       "       'Uddevalla, Sweden', 'Itaboraí, Brazil',\n",
       "       'Colorado do Oeste, Brazil', 'Rancho Palos Verdes, CA',\n",
       "       'Bernal, Argentina', 'Brunswick, Germany', 'Nilópolis, Brazil',\n",
       "       'Basel, Switzerland', 'Antônio Carlos, Brazil',\n",
       "       'New Jersey, United States', 'Toledo, OH',\n",
       "       'North Richland Hills, TX', 'Nijmegen, Netherlands',\n",
       "       'Mesquita, Brazil', 'Monte Alto, Brazil', 'Hot Springs, NC',\n",
       "       'Nova Lima, Brazil', 'State of Amazonas, Brazil',\n",
       "       'Villa Carlos Paz, Argentina', 'Jijoca de Jericoacoara, Brazil',\n",
       "       'Singapore', 'Warsaw, Poland', 'Norderstedt, Germany',\n",
       "       'Arnhem, Netherlands', 'Pindamonhangaba, Brazil',\n",
       "       'Montrouge, France', 'Cataguases, Brazil', 'Nazaré, Portugal',\n",
       "       'São Sebastião, Brazil', 'Réclainville, France',\n",
       "       'São Pedro da Serra, Brazil', 'Seef, Bahrain',\n",
       "       'State of Goiás, Brazil', 'Japeri, Brazil', 'Nagoya, Japan',\n",
       "       'New York, United States', 'Bratislava, Slovakia',\n",
       "       'Grand Case, St. Martin', 'Lumio, France', 'Lille, France',\n",
       "       'St. Petersburg, FL', 'Minneapolis, MN', 'Pinheiros, Brazil',\n",
       "       'Santiago Maior, Portugal', 'Mountain View, CA',\n",
       "       'West New York, NJ', 'Monterrey, Mexico',\n",
       "       'Abu Dhabi, United Arab Emirates', 'Freiburg im Breisgau, Germany',\n",
       "       'Tulum, Mexico', 'Nissoria, Italy', 'Peypin, France',\n",
       "       'Minnesota, United States', 'Aveiro, Portugal',\n",
       "       'Ji-Paraná, Brazil', 'Roraima, Brazil', 'Imbituba, Brazil',\n",
       "       'Argentina', 'Coimbra, Portugal', 'Ilha Grande, Brazil',\n",
       "       'Applecross, Australia', 'Mogi das Cruzes, Brazil',\n",
       "       'Nova Odessa, Brazil', 'Bergen, Norway', 'Atibaia, Brazil',\n",
       "       'Indaiatuba, Brazil', 'Gravataí district, Brazil',\n",
       "       'Boa Esperança, Brazil', 'Três Pontas, Brazil', 'Hamilton, Canada',\n",
       "       'Maastricht, Netherlands', 'Santa Maria, Brazil',\n",
       "       'Varginha, Brazil', 'Jacksonville, FL', 'Laren, Netherlands',\n",
       "       'Guarulhos, Brazil', 'France', 'Barreiras, Brazil',\n",
       "       'Harmonia, Brazil', 'São Lourenço, Brazil',\n",
       "       'Glasgow, United Kingdom', 'Kristiansand, Norway',\n",
       "       'Dourados, Brazil', 'Campos dos Goytacazes, Brazil',\n",
       "       'Cayenne, French Guiana', 'São João da Boa Vista, Brazil',\n",
       "       'Pucón, Chile', 'Catania, Italy', 'Santarém, Brazil',\n",
       "       'Copacabana, Bolivia', 'Serra, Brazil', 'Bremen, Germany',\n",
       "       'Queimados, Brazil', 'Guarapari, Brazil', 'Ilhéus, Brazil',\n",
       "       'Guaratinguetá, Brazil', 'Marau, Brazil', 'Santa Rosa, Brazil',\n",
       "       'São Bernardo do Campo, Brazil', 'Rondonópolis, Brazil',\n",
       "       'Sinop, Brazil', 'Liège, Belgium', 'Sintra, Portugal',\n",
       "       'San Clemente, CA', 'Lima Duarte, Brazil', 'Gold Coast, Australia',\n",
       "       'Patos de Minas, Brazil', 'Taquara, Brazil', 'Fairfax, CA',\n",
       "       'Dublin, Ireland', 'Estância Velha, Brazil', 'Dunboyne, Ireland',\n",
       "       'São José do Barreiro, Brazil', 'Schiltigheim, France',\n",
       "       'Praia Grande, Brazil', 'Arouca, Portugal', 'Montevideo, Uruguay',\n",
       "       'Canton, MI', 'St. Catharines, Canada', 'Stockelsdorf, Germany',\n",
       "       'Louveira, Brazil', 'Independência, Brazil', 'Lanús, Argentina',\n",
       "       'Playa del Carmen, Mexico', 'Greater Poland Voivodeship, Poland',\n",
       "       'Trindade, Brazil', 'Balneário Camboriú, Brazil',\n",
       "       'Obergünzburg, Germany', 'Harare, Zimbabwe', 'Maipú, Argentina',\n",
       "       'Philadelphia, PA', 'Guarujá, Brazil', 'North Miami Beach, FL',\n",
       "       'Pinheiral, Brazil', 'Málaga, Spain', 'Sandwich, MA',\n",
       "       'El Calafate, Argentina', 'Salto de Pirapora, Brazil',\n",
       "       'Maranhão, Brazil', 'São Pedro da Aldeia, Brazil'], dtype=object)"
      ]
     },
     "execution_count": 33,
     "metadata": {},
     "output_type": "execute_result"
    }
   ],
   "source": [
    "df_eda['host_location'].unique()"
   ]
  },
  {
   "cell_type": "code",
   "execution_count": null,
   "id": "ed559d47",
   "metadata": {},
   "outputs": [],
   "source": [
    "filtro_host_location = df_eda['host_location'].isna()\n",
    "df_eda.id[filtro_host_location].count()\n",
    "\n",
    "df_infHost_location = analiseDeColunasComCorrespondencia(filtro=filtro_host_location, df=df_eda, coluna_alvo='host_location' )"
   ]
  },
  {
   "cell_type": "code",
   "execution_count": null,
   "id": "2ff86a79",
   "metadata": {
    "scrolled": true
   },
   "outputs": [],
   "source": [
    "df_infHost_location[df_infHost_location['%']>0]"
   ]
  },
  {
   "cell_type": "code",
   "execution_count": 33,
   "id": "05207066",
   "metadata": {},
   "outputs": [],
   "source": [
    "df_eda['host_location'].fillna(\"nao informado\", inplace=True)"
   ]
  },
  {
   "cell_type": "code",
   "execution_count": null,
   "id": "e5372780",
   "metadata": {},
   "outputs": [],
   "source": []
  },
  {
   "cell_type": "code",
   "execution_count": null,
   "id": "98ab128d",
   "metadata": {},
   "outputs": [],
   "source": []
  },
  {
   "cell_type": "markdown",
   "id": "099a0498",
   "metadata": {},
   "source": [
    "### 1.3.7. Feature: *'host_about'*"
   ]
  },
  {
   "cell_type": "code",
   "execution_count": 34,
   "id": "f032cebe",
   "metadata": {
    "scrolled": true
   },
   "outputs": [
    {
     "data": {
      "text/html": [
       "<div>\n",
       "<style scoped>\n",
       "    .dataframe tbody tr th:only-of-type {\n",
       "        vertical-align: middle;\n",
       "    }\n",
       "\n",
       "    .dataframe tbody tr th {\n",
       "        vertical-align: top;\n",
       "    }\n",
       "\n",
       "    .dataframe thead th {\n",
       "        text-align: right;\n",
       "    }\n",
       "</style>\n",
       "<table border=\"1\" class=\"dataframe\">\n",
       "  <thead>\n",
       "    <tr style=\"text-align: right;\">\n",
       "      <th></th>\n",
       "      <th>Columns</th>\n",
       "      <th>Type</th>\n",
       "      <th>Unique</th>\n",
       "      <th>Size</th>\n",
       "      <th>Missing</th>\n",
       "      <th>% Unique</th>\n",
       "      <th>% Missing</th>\n",
       "    </tr>\n",
       "  </thead>\n",
       "  <tbody>\n",
       "    <tr>\n",
       "      <th>host_about</th>\n",
       "      <td>host_about</td>\n",
       "      <td>object</td>\n",
       "      <td>8243</td>\n",
       "      <td>36008</td>\n",
       "      <td>18644</td>\n",
       "      <td>0.228921</td>\n",
       "      <td>0.517774</td>\n",
       "    </tr>\n",
       "  </tbody>\n",
       "</table>\n",
       "</div>"
      ],
      "text/plain": [
       "               Columns    Type  Unique   Size  Missing  % Unique  % Missing\n",
       "host_about  host_about  object    8243  36008    18644  0.228921   0.517774"
      ]
     },
     "execution_count": 34,
     "metadata": {},
     "output_type": "execute_result"
    }
   ],
   "source": [
    "df_info[df_info.index =='host_about']"
   ]
  },
  {
   "cell_type": "code",
   "execution_count": 35,
   "id": "1297b182",
   "metadata": {},
   "outputs": [
    {
     "data": {
      "text/plain": [
       "array(['I  am a  journalist/writer. Lived  in NYC for 15 years. I  am now based in Rio and published 3 volumes of travel stories on AMAZ0N: \"The World Is My Oyster\". If you have never been to Rio, check out the first story, and you\\'ll get an idea. Apart from Rio, you\\'ll find  29 other travel stories from all around the globe.',\n",
       "       'Hi guys,\\n\\nViviane is a commercial photographer, an avid world traveler,  (a former photographer for Airbnb) and an Airbnb superhost. And a free lance photographer for other wonderful clients. She loves life and meeting people.\\n\\nWe  work together in providing the best accommodation to people and we are\\nfirm believers of enjoying the moment as a prime attitude towards life!\\n',\n",
       "       'Hello,   We are Patricia Miranda and Paulo.\\nWe are a couple who love to meet new people, new cultures, we both are  very easy going persons,  We are retired after working for several years in tourism and an international airline company.  We also used do host in our  own residence International students from all over the world.  We are gay friendly and everybody is welcome! \\n\\n\\n\\n!',\n",
       "       ..., 'Design e viagem',\n",
       "       'Sou nascido e criado na cidade maravilhosa, carioca da gema! Trabalho com pesquisa acadêmica e estou cursando meu mestrado',\n",
       "       \"I am a young Swiss architect who is spending most of the year in Brazil for research on modern architecture. After renovating the apartment in 2022 I am renting it out during my stays in Switzerland as I believe it is an incredible place to stay in Rio de Janeiro and want to share this experience with you all. I hope you'll enjoy waking up with this splendid view as much as I do and take care of my home!\"],\n",
       "      dtype=object)"
      ]
     },
     "execution_count": 35,
     "metadata": {},
     "output_type": "execute_result"
    }
   ],
   "source": [
    "df_eda['host_about'].unique()"
   ]
  },
  {
   "cell_type": "code",
   "execution_count": 36,
   "id": "08fdfec6",
   "metadata": {},
   "outputs": [],
   "source": [
    "df_eda['host_about'].fillna(\"nao informado\", inplace=True)"
   ]
  },
  {
   "cell_type": "code",
   "execution_count": null,
   "id": "4516587c",
   "metadata": {},
   "outputs": [],
   "source": []
  },
  {
   "cell_type": "code",
   "execution_count": null,
   "id": "c20935f6",
   "metadata": {},
   "outputs": [],
   "source": []
  },
  {
   "cell_type": "code",
   "execution_count": null,
   "id": "b6b61073",
   "metadata": {},
   "outputs": [],
   "source": []
  },
  {
   "cell_type": "code",
   "execution_count": null,
   "id": "0b4fe72c",
   "metadata": {},
   "outputs": [],
   "source": []
  },
  {
   "cell_type": "code",
   "execution_count": null,
   "id": "2a8a3a83",
   "metadata": {},
   "outputs": [],
   "source": []
  },
  {
   "cell_type": "markdown",
   "id": "32a1c08a",
   "metadata": {},
   "source": [
    "### 1.3.8. Feature: *'host_response_time'*"
   ]
  },
  {
   "cell_type": "code",
   "execution_count": 37,
   "id": "9ece01d9",
   "metadata": {
    "scrolled": true
   },
   "outputs": [
    {
     "data": {
      "text/html": [
       "<div>\n",
       "<style scoped>\n",
       "    .dataframe tbody tr th:only-of-type {\n",
       "        vertical-align: middle;\n",
       "    }\n",
       "\n",
       "    .dataframe tbody tr th {\n",
       "        vertical-align: top;\n",
       "    }\n",
       "\n",
       "    .dataframe thead th {\n",
       "        text-align: right;\n",
       "    }\n",
       "</style>\n",
       "<table border=\"1\" class=\"dataframe\">\n",
       "  <thead>\n",
       "    <tr style=\"text-align: right;\">\n",
       "      <th></th>\n",
       "      <th>Columns</th>\n",
       "      <th>Type</th>\n",
       "      <th>Unique</th>\n",
       "      <th>Size</th>\n",
       "      <th>Missing</th>\n",
       "      <th>% Unique</th>\n",
       "      <th>% Missing</th>\n",
       "    </tr>\n",
       "  </thead>\n",
       "  <tbody>\n",
       "    <tr>\n",
       "      <th>host_response_time</th>\n",
       "      <td>host_response_time</td>\n",
       "      <td>object</td>\n",
       "      <td>4</td>\n",
       "      <td>36008</td>\n",
       "      <td>5039</td>\n",
       "      <td>0.000111</td>\n",
       "      <td>0.139941</td>\n",
       "    </tr>\n",
       "  </tbody>\n",
       "</table>\n",
       "</div>"
      ],
      "text/plain": [
       "                               Columns    Type  Unique   Size  Missing  \\\n",
       "host_response_time  host_response_time  object       4  36008     5039   \n",
       "\n",
       "                    % Unique  % Missing  \n",
       "host_response_time  0.000111   0.139941  "
      ]
     },
     "execution_count": 37,
     "metadata": {},
     "output_type": "execute_result"
    }
   ],
   "source": [
    "df_info[df_info.index =='host_response_time']"
   ]
  },
  {
   "cell_type": "code",
   "execution_count": 38,
   "id": "b670aa71",
   "metadata": {
    "scrolled": true
   },
   "outputs": [
    {
     "data": {
      "text/plain": [
       "array(['within an hour', 'within a few hours', 'a few days or more',\n",
       "       'within a day', nan], dtype=object)"
      ]
     },
     "execution_count": 38,
     "metadata": {},
     "output_type": "execute_result"
    }
   ],
   "source": [
    "df_eda['host_response_time'].unique()"
   ]
  },
  {
   "cell_type": "code",
   "execution_count": 39,
   "id": "4e5359f6",
   "metadata": {},
   "outputs": [],
   "source": [
    "df_eda['host_response_time'].fillna(\"nenhum\", inplace=True)"
   ]
  },
  {
   "cell_type": "code",
   "execution_count": null,
   "id": "d88bb97c",
   "metadata": {},
   "outputs": [],
   "source": []
  },
  {
   "cell_type": "code",
   "execution_count": null,
   "id": "49e14db0",
   "metadata": {},
   "outputs": [],
   "source": []
  },
  {
   "cell_type": "markdown",
   "id": "3ed66d9a",
   "metadata": {},
   "source": [
    "### 1.3.9. Feature: *'host_response_rate'*"
   ]
  },
  {
   "cell_type": "code",
   "execution_count": 40,
   "id": "367616ce",
   "metadata": {
    "scrolled": true
   },
   "outputs": [
    {
     "data": {
      "text/html": [
       "<div>\n",
       "<style scoped>\n",
       "    .dataframe tbody tr th:only-of-type {\n",
       "        vertical-align: middle;\n",
       "    }\n",
       "\n",
       "    .dataframe tbody tr th {\n",
       "        vertical-align: top;\n",
       "    }\n",
       "\n",
       "    .dataframe thead th {\n",
       "        text-align: right;\n",
       "    }\n",
       "</style>\n",
       "<table border=\"1\" class=\"dataframe\">\n",
       "  <thead>\n",
       "    <tr style=\"text-align: right;\">\n",
       "      <th></th>\n",
       "      <th>Columns</th>\n",
       "      <th>Type</th>\n",
       "      <th>Unique</th>\n",
       "      <th>Size</th>\n",
       "      <th>Missing</th>\n",
       "      <th>% Unique</th>\n",
       "      <th>% Missing</th>\n",
       "    </tr>\n",
       "  </thead>\n",
       "  <tbody>\n",
       "    <tr>\n",
       "      <th>host_response_rate</th>\n",
       "      <td>host_response_rate</td>\n",
       "      <td>object</td>\n",
       "      <td>89</td>\n",
       "      <td>36008</td>\n",
       "      <td>5039</td>\n",
       "      <td>0.002472</td>\n",
       "      <td>0.139941</td>\n",
       "    </tr>\n",
       "  </tbody>\n",
       "</table>\n",
       "</div>"
      ],
      "text/plain": [
       "                               Columns    Type  Unique   Size  Missing  \\\n",
       "host_response_rate  host_response_rate  object      89  36008     5039   \n",
       "\n",
       "                    % Unique  % Missing  \n",
       "host_response_rate  0.002472   0.139941  "
      ]
     },
     "execution_count": 40,
     "metadata": {},
     "output_type": "execute_result"
    }
   ],
   "source": [
    "df_info[df_info.index =='host_response_rate']"
   ]
  },
  {
   "cell_type": "code",
   "execution_count": 41,
   "id": "bc5dba2d",
   "metadata": {
    "scrolled": true
   },
   "outputs": [
    {
     "data": {
      "text/plain": [
       "array(['100%', '90%', '0%', '50%', nan, '96%', '70%', '63%', '80%', '99%',\n",
       "       '93%', '91%', '10%', '60%', '86%', '30%', '88%', '67%', '71%',\n",
       "       '89%', '97%', '11%', '78%', '68%', '17%', '81%', '21%', '75%',\n",
       "       '94%', '13%', '92%', '73%', '40%', '20%', '83%', '33%', '95%',\n",
       "       '14%', '25%', '29%', '43%', '69%', '98%', '22%', '79%', '55%',\n",
       "       '57%', '82%', '31%', '44%', '23%', '56%', '77%', '84%', '38%',\n",
       "       '87%', '3%', '72%', '85%', '53%', '49%', '62%', '52%', '18%',\n",
       "       '58%', '64%', '36%', '76%', '6%', '35%', '27%', '59%', '8%', '61%',\n",
       "       '42%', '37%', '47%', '65%', '46%', '41%', '74%', '9%', '7%', '39%',\n",
       "       '16%', '19%', '48%', '32%', '5%', '4%'], dtype=object)"
      ]
     },
     "execution_count": 41,
     "metadata": {},
     "output_type": "execute_result"
    }
   ],
   "source": [
    "df_eda['host_response_rate'].unique()"
   ]
  },
  {
   "cell_type": "code",
   "execution_count": 42,
   "id": "ff2dbe66",
   "metadata": {},
   "outputs": [],
   "source": [
    "df_eda['host_response_rate'].fillna(\"0%\", inplace=True)"
   ]
  },
  {
   "cell_type": "code",
   "execution_count": null,
   "id": "6cc75364",
   "metadata": {},
   "outputs": [],
   "source": []
  },
  {
   "cell_type": "code",
   "execution_count": null,
   "id": "a7fbe671",
   "metadata": {},
   "outputs": [],
   "source": []
  },
  {
   "cell_type": "code",
   "execution_count": null,
   "id": "8af747dd",
   "metadata": {},
   "outputs": [],
   "source": []
  },
  {
   "cell_type": "markdown",
   "id": "164b7c5b",
   "metadata": {},
   "source": [
    "### 1.3.10. Feature: *'host_acceptance_rate'*"
   ]
  },
  {
   "cell_type": "code",
   "execution_count": 43,
   "id": "49e54286",
   "metadata": {},
   "outputs": [
    {
     "data": {
      "text/html": [
       "<div>\n",
       "<style scoped>\n",
       "    .dataframe tbody tr th:only-of-type {\n",
       "        vertical-align: middle;\n",
       "    }\n",
       "\n",
       "    .dataframe tbody tr th {\n",
       "        vertical-align: top;\n",
       "    }\n",
       "\n",
       "    .dataframe thead th {\n",
       "        text-align: right;\n",
       "    }\n",
       "</style>\n",
       "<table border=\"1\" class=\"dataframe\">\n",
       "  <thead>\n",
       "    <tr style=\"text-align: right;\">\n",
       "      <th></th>\n",
       "      <th>Columns</th>\n",
       "      <th>Type</th>\n",
       "      <th>Unique</th>\n",
       "      <th>Size</th>\n",
       "      <th>Missing</th>\n",
       "      <th>% Unique</th>\n",
       "      <th>% Missing</th>\n",
       "    </tr>\n",
       "  </thead>\n",
       "  <tbody>\n",
       "    <tr>\n",
       "      <th>host_acceptance_rate</th>\n",
       "      <td>host_acceptance_rate</td>\n",
       "      <td>object</td>\n",
       "      <td>100</td>\n",
       "      <td>36008</td>\n",
       "      <td>4802</td>\n",
       "      <td>0.002777</td>\n",
       "      <td>0.133359</td>\n",
       "    </tr>\n",
       "  </tbody>\n",
       "</table>\n",
       "</div>"
      ],
      "text/plain": [
       "                                   Columns    Type  Unique   Size  Missing  \\\n",
       "host_acceptance_rate  host_acceptance_rate  object     100  36008     4802   \n",
       "\n",
       "                      % Unique  % Missing  \n",
       "host_acceptance_rate  0.002777   0.133359  "
      ]
     },
     "execution_count": 43,
     "metadata": {},
     "output_type": "execute_result"
    }
   ],
   "source": [
    "df_info[df_info.index =='host_acceptance_rate']"
   ]
  },
  {
   "cell_type": "code",
   "execution_count": 44,
   "id": "2242ec58",
   "metadata": {},
   "outputs": [
    {
     "data": {
      "text/plain": [
       "array(['96%', '80%', '98%', '89%', '93%', '69%', nan, '100%', '94%',\n",
       "       '40%', '0%', '95%', '77%', '39%', '92%', '55%', '86%', '75%',\n",
       "       '74%', '81%', '82%', '67%', '83%', '99%', '88%', '90%', '8%',\n",
       "       '97%', '78%', '57%', '91%', '56%', '25%', '71%', '6%', '84%',\n",
       "       '50%', '72%', '65%', '54%', '17%', '85%', '79%', '66%', '38%',\n",
       "       '10%', '58%', '37%', '29%', '73%', '9%', '68%', '33%', '64%',\n",
       "       '30%', '60%', '51%', '49%', '43%', '62%', '87%', '16%', '63%',\n",
       "       '61%', '7%', '23%', '45%', '20%', '47%', '52%', '44%', '53%',\n",
       "       '13%', '21%', '76%', '70%', '36%', '22%', '42%', '28%', '11%',\n",
       "       '14%', '18%', '46%', '3%', '48%', '27%', '19%', '4%', '59%', '15%',\n",
       "       '32%', '34%', '35%', '2%', '24%', '5%', '12%', '31%', '41%', '26%'],\n",
       "      dtype=object)"
      ]
     },
     "execution_count": 44,
     "metadata": {},
     "output_type": "execute_result"
    }
   ],
   "source": [
    "df_eda['host_acceptance_rate'].unique()\n"
   ]
  },
  {
   "cell_type": "code",
   "execution_count": 45,
   "id": "7714fee1",
   "metadata": {},
   "outputs": [],
   "source": [
    "df_eda['host_acceptance_rate'].fillna(\"0%\", inplace=True)"
   ]
  },
  {
   "cell_type": "code",
   "execution_count": null,
   "id": "25294cdb",
   "metadata": {},
   "outputs": [],
   "source": []
  },
  {
   "cell_type": "code",
   "execution_count": null,
   "id": "c5fe461b",
   "metadata": {},
   "outputs": [],
   "source": []
  },
  {
   "cell_type": "markdown",
   "id": "4a74d817",
   "metadata": {},
   "source": [
    "### 1.3.11. Feature: *'host_is_superhost'*"
   ]
  },
  {
   "cell_type": "code",
   "execution_count": 46,
   "id": "87195599",
   "metadata": {},
   "outputs": [
    {
     "data": {
      "text/html": [
       "<div>\n",
       "<style scoped>\n",
       "    .dataframe tbody tr th:only-of-type {\n",
       "        vertical-align: middle;\n",
       "    }\n",
       "\n",
       "    .dataframe tbody tr th {\n",
       "        vertical-align: top;\n",
       "    }\n",
       "\n",
       "    .dataframe thead th {\n",
       "        text-align: right;\n",
       "    }\n",
       "</style>\n",
       "<table border=\"1\" class=\"dataframe\">\n",
       "  <thead>\n",
       "    <tr style=\"text-align: right;\">\n",
       "      <th></th>\n",
       "      <th>Columns</th>\n",
       "      <th>Type</th>\n",
       "      <th>Unique</th>\n",
       "      <th>Size</th>\n",
       "      <th>Missing</th>\n",
       "      <th>% Unique</th>\n",
       "      <th>% Missing</th>\n",
       "    </tr>\n",
       "  </thead>\n",
       "  <tbody>\n",
       "    <tr>\n",
       "      <th>host_is_superhost</th>\n",
       "      <td>host_is_superhost</td>\n",
       "      <td>object</td>\n",
       "      <td>2</td>\n",
       "      <td>36008</td>\n",
       "      <td>73</td>\n",
       "      <td>0.000056</td>\n",
       "      <td>0.002027</td>\n",
       "    </tr>\n",
       "  </tbody>\n",
       "</table>\n",
       "</div>"
      ],
      "text/plain": [
       "                             Columns    Type  Unique   Size  Missing  \\\n",
       "host_is_superhost  host_is_superhost  object       2  36008       73   \n",
       "\n",
       "                   % Unique  % Missing  \n",
       "host_is_superhost  0.000056   0.002027  "
      ]
     },
     "execution_count": 46,
     "metadata": {},
     "output_type": "execute_result"
    }
   ],
   "source": [
    "df_info[df_info.index =='host_is_superhost']"
   ]
  },
  {
   "cell_type": "code",
   "execution_count": 47,
   "id": "d2ab2398",
   "metadata": {},
   "outputs": [
    {
     "data": {
      "text/plain": [
       "array(['t', 'f', nan], dtype=object)"
      ]
     },
     "execution_count": 47,
     "metadata": {},
     "output_type": "execute_result"
    }
   ],
   "source": [
    "df_eda['host_is_superhost'].unique()"
   ]
  },
  {
   "cell_type": "code",
   "execution_count": 48,
   "id": "bb813ee9",
   "metadata": {},
   "outputs": [],
   "source": [
    "df_eda['host_is_superhost'].fillna(\"f\", inplace=True)"
   ]
  },
  {
   "cell_type": "code",
   "execution_count": null,
   "id": "0e387451",
   "metadata": {},
   "outputs": [],
   "source": []
  },
  {
   "cell_type": "markdown",
   "id": "8c3208ba",
   "metadata": {},
   "source": [
    "### 1.3.12. Feature: *'host_thumbnail_url'*"
   ]
  },
  {
   "cell_type": "code",
   "execution_count": 49,
   "id": "37d3f824",
   "metadata": {},
   "outputs": [
    {
     "data": {
      "text/html": [
       "<div>\n",
       "<style scoped>\n",
       "    .dataframe tbody tr th:only-of-type {\n",
       "        vertical-align: middle;\n",
       "    }\n",
       "\n",
       "    .dataframe tbody tr th {\n",
       "        vertical-align: top;\n",
       "    }\n",
       "\n",
       "    .dataframe thead th {\n",
       "        text-align: right;\n",
       "    }\n",
       "</style>\n",
       "<table border=\"1\" class=\"dataframe\">\n",
       "  <thead>\n",
       "    <tr style=\"text-align: right;\">\n",
       "      <th></th>\n",
       "      <th>Columns</th>\n",
       "      <th>Type</th>\n",
       "      <th>Unique</th>\n",
       "      <th>Size</th>\n",
       "      <th>Missing</th>\n",
       "      <th>% Unique</th>\n",
       "      <th>% Missing</th>\n",
       "    </tr>\n",
       "  </thead>\n",
       "  <tbody>\n",
       "    <tr>\n",
       "      <th>host_thumbnail_url</th>\n",
       "      <td>host_thumbnail_url</td>\n",
       "      <td>object</td>\n",
       "      <td>21152</td>\n",
       "      <td>36008</td>\n",
       "      <td>9</td>\n",
       "      <td>0.587425</td>\n",
       "      <td>0.00025</td>\n",
       "    </tr>\n",
       "  </tbody>\n",
       "</table>\n",
       "</div>"
      ],
      "text/plain": [
       "                               Columns    Type  Unique   Size  Missing  \\\n",
       "host_thumbnail_url  host_thumbnail_url  object   21152  36008        9   \n",
       "\n",
       "                    % Unique  % Missing  \n",
       "host_thumbnail_url  0.587425    0.00025  "
      ]
     },
     "execution_count": 49,
     "metadata": {},
     "output_type": "execute_result"
    }
   ],
   "source": [
    "df_info[df_info.index =='host_thumbnail_url']"
   ]
  },
  {
   "cell_type": "code",
   "execution_count": 50,
   "id": "feea5cd2",
   "metadata": {},
   "outputs": [
    {
     "data": {
      "text/plain": [
       "array(['https://a0.muscache.com/im/pictures/user/67b13cea-8c11-49c0-a08d-7f42c330676e.jpg?aki_policy=profile_small',\n",
       "       'https://a0.muscache.com/im/pictures/user/315ddc81-bea3-4bf0-8fc7-be197a6541ff.jpg?aki_policy=profile_small',\n",
       "       'https://a0.muscache.com/im/users/153691/profile_pic/1277774787/original.jpg?aki_policy=profile_small',\n",
       "       ...,\n",
       "       'https://a0.muscache.com/im/pictures/user/66c691eb-1b74-4360-ab38-9a7db0c508e8.jpg?aki_policy=profile_small',\n",
       "       'https://a0.muscache.com/im/pictures/user/User-536983374/original/4e564f8e-4b02-4be6-89bd-626a8af86a05.jpeg?aki_policy=profile_small',\n",
       "       'https://a0.muscache.com/im/pictures/user/User-694816/original/8b1a8b4b-e697-483f-ac68-b13ef2c35e01.jpeg?aki_policy=profile_small'],\n",
       "      dtype=object)"
      ]
     },
     "execution_count": 50,
     "metadata": {},
     "output_type": "execute_result"
    }
   ],
   "source": [
    "df_eda['host_thumbnail_url'].unique()\n"
   ]
  },
  {
   "cell_type": "code",
   "execution_count": 51,
   "id": "5fa8e3d9",
   "metadata": {},
   "outputs": [],
   "source": [
    "#df_eda['host_thumbnail_url'].fillna(\"nao informado\", inplace=True)\n",
    "#ou \n",
    "#df_eda.drop(columns=['host_thumbnail_url'], inplace=True)"
   ]
  },
  {
   "cell_type": "markdown",
   "id": "1c12bc19",
   "metadata": {},
   "source": [
    "### 1.3.13. Feature: *'host_picture_url'*"
   ]
  },
  {
   "cell_type": "code",
   "execution_count": 52,
   "id": "3fc4eef9",
   "metadata": {},
   "outputs": [
    {
     "data": {
      "text/html": [
       "<div>\n",
       "<style scoped>\n",
       "    .dataframe tbody tr th:only-of-type {\n",
       "        vertical-align: middle;\n",
       "    }\n",
       "\n",
       "    .dataframe tbody tr th {\n",
       "        vertical-align: top;\n",
       "    }\n",
       "\n",
       "    .dataframe thead th {\n",
       "        text-align: right;\n",
       "    }\n",
       "</style>\n",
       "<table border=\"1\" class=\"dataframe\">\n",
       "  <thead>\n",
       "    <tr style=\"text-align: right;\">\n",
       "      <th></th>\n",
       "      <th>Columns</th>\n",
       "      <th>Type</th>\n",
       "      <th>Unique</th>\n",
       "      <th>Size</th>\n",
       "      <th>Missing</th>\n",
       "      <th>% Unique</th>\n",
       "      <th>% Missing</th>\n",
       "    </tr>\n",
       "  </thead>\n",
       "  <tbody>\n",
       "    <tr>\n",
       "      <th>host_picture_url</th>\n",
       "      <td>host_picture_url</td>\n",
       "      <td>object</td>\n",
       "      <td>21152</td>\n",
       "      <td>36008</td>\n",
       "      <td>9</td>\n",
       "      <td>0.587425</td>\n",
       "      <td>0.00025</td>\n",
       "    </tr>\n",
       "  </tbody>\n",
       "</table>\n",
       "</div>"
      ],
      "text/plain": [
       "                           Columns    Type  Unique   Size  Missing  % Unique  \\\n",
       "host_picture_url  host_picture_url  object   21152  36008        9  0.587425   \n",
       "\n",
       "                  % Missing  \n",
       "host_picture_url    0.00025  "
      ]
     },
     "execution_count": 52,
     "metadata": {},
     "output_type": "execute_result"
    }
   ],
   "source": [
    "df_info[df_info.index =='host_picture_url']"
   ]
  },
  {
   "cell_type": "code",
   "execution_count": 53,
   "id": "650baee3",
   "metadata": {},
   "outputs": [
    {
     "data": {
      "text/plain": [
       "array(['https://a0.muscache.com/im/pictures/user/67b13cea-8c11-49c0-a08d-7f42c330676e.jpg?aki_policy=profile_x_medium',\n",
       "       'https://a0.muscache.com/im/pictures/user/315ddc81-bea3-4bf0-8fc7-be197a6541ff.jpg?aki_policy=profile_x_medium',\n",
       "       'https://a0.muscache.com/im/users/153691/profile_pic/1277774787/original.jpg?aki_policy=profile_x_medium',\n",
       "       ...,\n",
       "       'https://a0.muscache.com/im/pictures/user/66c691eb-1b74-4360-ab38-9a7db0c508e8.jpg?aki_policy=profile_x_medium',\n",
       "       'https://a0.muscache.com/im/pictures/user/User-536983374/original/4e564f8e-4b02-4be6-89bd-626a8af86a05.jpeg?aki_policy=profile_x_medium',\n",
       "       'https://a0.muscache.com/im/pictures/user/User-694816/original/8b1a8b4b-e697-483f-ac68-b13ef2c35e01.jpeg?aki_policy=profile_x_medium'],\n",
       "      dtype=object)"
      ]
     },
     "execution_count": 53,
     "metadata": {},
     "output_type": "execute_result"
    }
   ],
   "source": [
    "df_eda['host_picture_url'].unique()"
   ]
  },
  {
   "cell_type": "code",
   "execution_count": null,
   "id": "7b877b6f",
   "metadata": {},
   "outputs": [],
   "source": [
    "#df_eda['host_picture_url'].fillna(\"nao informado\", inplace=True)\n",
    "#ou \n",
    "#df_eda.drop(columns=['host_picture_url'], inplace=True)"
   ]
  },
  {
   "cell_type": "code",
   "execution_count": null,
   "id": "5d305bf3",
   "metadata": {},
   "outputs": [],
   "source": []
  },
  {
   "cell_type": "code",
   "execution_count": null,
   "id": "cfde55eb",
   "metadata": {},
   "outputs": [],
   "source": []
  },
  {
   "cell_type": "markdown",
   "id": "144b03cf",
   "metadata": {},
   "source": [
    "### 1.3.14. Feature: *'host_neighbourhood'*"
   ]
  },
  {
   "cell_type": "code",
   "execution_count": 54,
   "id": "4322303a",
   "metadata": {},
   "outputs": [
    {
     "data": {
      "text/html": [
       "<div>\n",
       "<style scoped>\n",
       "    .dataframe tbody tr th:only-of-type {\n",
       "        vertical-align: middle;\n",
       "    }\n",
       "\n",
       "    .dataframe tbody tr th {\n",
       "        vertical-align: top;\n",
       "    }\n",
       "\n",
       "    .dataframe thead th {\n",
       "        text-align: right;\n",
       "    }\n",
       "</style>\n",
       "<table border=\"1\" class=\"dataframe\">\n",
       "  <thead>\n",
       "    <tr style=\"text-align: right;\">\n",
       "      <th></th>\n",
       "      <th>Columns</th>\n",
       "      <th>Type</th>\n",
       "      <th>Unique</th>\n",
       "      <th>Size</th>\n",
       "      <th>Missing</th>\n",
       "      <th>% Unique</th>\n",
       "      <th>% Missing</th>\n",
       "    </tr>\n",
       "  </thead>\n",
       "  <tbody>\n",
       "    <tr>\n",
       "      <th>host_neighbourhood</th>\n",
       "      <td>host_neighbourhood</td>\n",
       "      <td>object</td>\n",
       "      <td>474</td>\n",
       "      <td>36008</td>\n",
       "      <td>7677</td>\n",
       "      <td>0.013164</td>\n",
       "      <td>0.213203</td>\n",
       "    </tr>\n",
       "  </tbody>\n",
       "</table>\n",
       "</div>"
      ],
      "text/plain": [
       "                               Columns    Type  Unique   Size  Missing  \\\n",
       "host_neighbourhood  host_neighbourhood  object     474  36008     7677   \n",
       "\n",
       "                    % Unique  % Missing  \n",
       "host_neighbourhood  0.013164   0.213203  "
      ]
     },
     "execution_count": 54,
     "metadata": {},
     "output_type": "execute_result"
    }
   ],
   "source": [
    "df_info[df_info.index =='host_neighbourhood']"
   ]
  },
  {
   "cell_type": "code",
   "execution_count": 55,
   "id": "83f72ae4",
   "metadata": {},
   "outputs": [
    {
     "data": {
      "text/plain": [
       "array(['Copacabana', 'Flamengo', 'Ipanema', 'Laranjeiras', 'Santa Teresa',\n",
       "       'Tijuca', 'Joá', 'Barra da Tijuca', 'Jardin Botânico', 'Leblon',\n",
       "       'Vila da Penha', 'Botafogo', 'Lapa', 'Gávea', 'Leme', 'Vidigal',\n",
       "       nan, 'Recreio dos Bandeirantes', 'Santo Cristo', 'Lagoa',\n",
       "       'Humaitá', 'Itanhangá', 'São Conrado', 'Praça Seca', 'Glória',\n",
       "       'Consolacao', 'Montmartre', 'Urca', 'Centro', 'Jardim Botânico',\n",
       "       'Cosme Velho', 'Penha Circular', 'Independência', 'Estacio',\n",
       "       'Praça da Bandeira', 'Gamboa', 'Bonsucesso', 'Barra de Guaratiba',\n",
       "       'Piedade', 'Estácio', 'São Miguel', 'Curicica', 'Catete',\n",
       "       'Engenho Novo', 'Rio Comprido', 'Loteamento Triangulo de Buzios',\n",
       "       'Andaraí', 'Vila Isabel', 'Maracanã', 'Silom', 'Rocha',\n",
       "       'Lins de Vasconcelos', 'Cavalcante', 'Todos os Santos',\n",
       "       'Jacarepaguá', 'Caju', 'Grajaú', 'Engenho de Dentro',\n",
       "       'Maria da Graça', 'Cidade Nova', 'Méier', 'Rocha Miranda',\n",
       "       'Riachuelo', 'Catumbi', 'São Cristóvão', 'Astoria', 'Barra',\n",
       "       'Engenho da Rainha', 'Jardim Paulista', 'Guadalupe', 'Rocinha',\n",
       "       'Vila Mariana', 'Pavuna', 'East Village', 'Itaipava',\n",
       "       'Jardim Guanabara', 'Vila Suissa', 'Vila Rachid', 'Deodoro',\n",
       "       'Penha', 'Grajau', 'Quintino Bocaiúva', 'Brás de Pina',\n",
       "       'São Sebastiao', 'Parione', 'Ipê', 'Chácara Inglesa', 'Bigorrilho',\n",
       "       'Balneario Gaivotas', 'Vila Luiza', 'Santana', 'Madureira',\n",
       "       'Complexo da Maré', 'Pompéia', 'Nogueira', 'Cachambi', 'Icaraí',\n",
       "       'Passagem', 'Ponta da Cruz', 'Praia do Jardim', 'Dubai Marina',\n",
       "       'Itaúna', 'Nova Guarapari', 'Bessa', 'Parque Guararapes',\n",
       "       'Holland Park', 'Abolição', 'Araras', 'Ingleses Norte', 'Sampaio',\n",
       "       'Encantado', 'Suiço', 'Pedro do Rio', 'Balneario São Pedro',\n",
       "       'Bento Ribeiro', 'Inhaúma', 'Irajá', 'San Nicolás', 'Camorim',\n",
       "       'Praia de Iracema', 'République', 'Paquetá', 'Soho',\n",
       "       'Balneario Praia Seca', 'Jardim Caiçara', 'Itacuruçá',\n",
       "       'Freguesia de Jacarepaguá', 'Manguinhos', 'Vargem Pequena',\n",
       "       'Cacuia', 'Châtelet - Les Halles - Beaubourg', 'Agronômica',\n",
       "       'Jardim Europa', 'Santa Cruz', 'Chácara Bela Vista',\n",
       "       'Catu de Abrantes', 'Portuguesa', 'Ramos', 'Islington',\n",
       "       'Camboinhas', 'Tomás Coelho', 'Cascadura', 'Bela Vista',\n",
       "       'Prenzlauer Berg', 'Sant Antoni', 'Pilares', 'Vila Ida',\n",
       "       'Pinheiros', 'Parque Anchieta', 'Tauá', 'Peró', 'Itaipuaçu',\n",
       "       'Vila Uberabinha', 'Guaratiba', 'Ibiraquera', 'Saúde',\n",
       "       'Parada de Lucas', 'Marinas', 'Comercio', 'Coração de Jesus',\n",
       "       'Imperial Point', 'Cordovil', 'Anil', 'Pechincha', 'Campo Grande',\n",
       "       'Vila Santa Cecília', 'Vila Nova Conceição', 'Honório Gurgel',\n",
       "       'Cabo Branco', 'Zacarias', 'Grumari', 'Barros Filho',\n",
       "       'Engenheiro Leal', 'Olaria', 'Benfica', 'Ilha da Madeira', 'Ogiva',\n",
       "       'CAMINHO VERDE', 'Vila do Abraão', 'Jardim Martineli', 'Várzea',\n",
       "       'Coelho Neto', 'Cuiabá', 'Bazílio', 'Formoso', 'Jurerê',\n",
       "       'Parque Industrial Tomas Edson', 'Bananeiras', 'Cavalinho Branco',\n",
       "       'Santo Antônio', 'Lourdes', 'Canela', 'Taquara', 'Ingá',\n",
       "       'República', 'Jardins', 'Vila Muriqui', 'Cascatinha', 'Campinho',\n",
       "       'Vila Caiçara', 'Pontal', 'Engenho Velho da Federacao', 'Pantanal',\n",
       "       'Seminário', 'Mangueira', 'Vargem Grande', 'Ribeira', 'Mury',\n",
       "       'Moema', 'Praia da Juréia', 'Higienópolis', 'Vila de Ponta Negra',\n",
       "       'Ondina', 'Bosque', 'Posse', 'Vila Nova', 'Jardim Dom Bosco',\n",
       "       'Pirangi do Norte', 'Corrêas', 'Alto da Boa Vista', 'Portogalo',\n",
       "       'Village Rio das Ostras', 'SHIN', 'Palmeiras', 'Prainha',\n",
       "       'Cascata do Imbuí', 'Vila Clementino', 'Vila Olímpia',\n",
       "       'Casa Amarela', 'Monte Serrat', 'Anchieta', 'City Areal',\n",
       "       'Jardim Carioca', 'Esplanada do Rio Quente', 'Penedo', 'Estoril',\n",
       "       'Freguesia (Ilha do Governador)', 'Nova Esperança', 'Cosmos',\n",
       "       'Cidade Ocian', 'Chatuba', 'Ponta Negra', 'Rasgo',\n",
       "       'Jardim das Américas', 'Partenon', 'Landstraße', 'Porto da Roça',\n",
       "       'Loteamento Sitio do Campinho', 'Porto de Galinhas', 'Unamar',\n",
       "       'Praia do Morro', 'Bracuí', 'Cidade de Deus',\n",
       "       'Barrio aguas calientes', 'Iriri', 'Barra Guaratiba',\n",
       "       'Loteamento Santa Luiza', 'XANGRI-LÁ', 'Braga', 'Jrd Araras',\n",
       "       'Geriba', 'Iguaba Pequena', 'OGIVA', 'Del Castilho', 'Palermo',\n",
       "       'Barra Funda', 'Porto Belo', 'Rasa',\n",
       "       'Loteamento Praia Baia Formosa', 'Urbanova', 'Brickell',\n",
       "       'Cerqueira César', 'Morro Da Cocacola', 'Setor Bela Vista',\n",
       "       'Barra da Lagoa', 'Mosqueiro', 'Canellas City', 'Rialto',\n",
       "       'Vila Rica', 'Barrio Norte', 'Upper West Side', 'Setor Sudoeste',\n",
       "       'Vila da Rainha', 'Praca da Bandeira', 'Village de Búzios',\n",
       "       'Pacific Beach', 'Soledade', 'Caimbé', 'Navegantes', 'Itaipu',\n",
       "       'Prainha de Mambucaba', 'Galeão', 'R. Bandeirantes', 'Itaim Bibi',\n",
       "       'Funcionários', 'Carlos Guinle', 'Padre Miguel', 'Trastevere',\n",
       "       'Campeche Central', 'Turiaçu', 'Praia de Boiçucanga', 'Moneró',\n",
       "       'Portinho', 'Gardênia Azul', 'casa', 'Duque De Caxias',\n",
       "       'Marechal Hermes', 'Colégio', 'Brentwood', 'Sumaré', 'Vila Canaa',\n",
       "       'Zumbi', 'Praia Linda', 'Alphabet City', 'Parque do Castelo',\n",
       "       'São Francisco Xavier', 'Senador Camará', 'Barra Nova', 'Mazomba',\n",
       "       'Mission District', 'Engenho do Mato', 'Jardim Pero', 'Bangu',\n",
       "       'Cidade Universitária da Universidade Federal do Rio de Janeiro',\n",
       "       'São Pedro da Serra', 'Hunter Hills',\n",
       "       'Setor de Clubes Esportivos Sul', 'Praia da Vila',\n",
       "       'Maria Joaquina', 'East Fort Lauderdale', 'Reserva do Pero',\n",
       "       'Indianópolis', 'Setor Oeste', 'São Bento', 'Joana Darc',\n",
       "       'Mondubim', 'Alto Lagoa Funda', 'Ponta do Capim', 'Edgewater',\n",
       "       'Jardim America', 'Jardim Excelcior', 'Ilha do Governador',\n",
       "       'South Beach', 'Vila Militar', 'Cruzeiro', 'Jardim Salaco',\n",
       "       'Paciência', 'Vila Kosmos', 'Ponte dos Leites', 'Vila do Sol',\n",
       "       'Pedra de Guaratiba', 'Itapoã', 'Rio Tavares', 'Calhoun Isles',\n",
       "       'Lumiar', 'Senador Vasconcelos', 'Meireles', 'Paraíso',\n",
       "       'Vila Tortuga', 'Jardim Sulacap', 'Mariland', 'Vila Valqueire',\n",
       "       'Piraquara', 'Praia de Maresias', 'Algodoal', 'Váz Lobo',\n",
       "       'Carniel', 'Vigário Geral', 'Alto de Pinheiros',\n",
       "       'Northwest Washington', \"L'Antiga Esquerra de l'Eixample\",\n",
       "       'Serra da Cruz', 'São Mateus', 'Vasco da Gama', 'Vila Clais',\n",
       "       'Jardim da Penha', 'Aruana', 'Sao Lourenco', 'Sertão da Quina',\n",
       "       'Riviera de São Lourenço', 'Praia de Juquehy', 'Rcr Bandeirantes',\n",
       "       'Birch Cliff', 'Bedford-Stuyvesant', 'Vicente de Carvalh',\n",
       "       'Recreio', 'Praia Rasa', 'Loteamento Joao Batista Juliao',\n",
       "       'Sepetiba', 'Chaperó', 'Pitangueiras', 'Realengo',\n",
       "       'Praia dos Anjos', 'Caieira', 'Inhauma', 'Neukölln',\n",
       "       'Parque Alvorada', 'Enseada Azul', 'Exposicao',\n",
       "       'Ricardo de Albuquerque', 'Barra Olímpica', 'Maré', 'Oswaldo Cruz',\n",
       "       'Jatiúca', 'CARAZAL', 'Toninhas', '66', 'Balneário Remanso',\n",
       "       'III Arrondissement', 'Rio Vermelho', 'Brás', 'Porto Novo',\n",
       "       'Asa Sul', 'Cannes', 'Cordeirinho', 'Vila Poran',\n",
       "       'Loteamento Costa do Sol', 'São Brás', 'Bonfim',\n",
       "       'Loteamento Portal da Ferradura', 'Village São Roque', 'Tanque',\n",
       "       'Praia Grande', 'Hollywood Hills', 'Barreiras', 'Cidade Monções',\n",
       "       'Praia do Una', 'Praia do Apara', 'Vicente de Carvalho',\n",
       "       'Praia de Armação do Itapocorói', 'Capivari',\n",
       "       'Jardim Atlântico Leste', 'Perdizes', 'Cocotá', 'Culcommon',\n",
       "       'Laureles', 'Água Santa', 'Coqueiros', 'Costazul', 'Quitandinha',\n",
       "       'Buraquinho', 'Barro Vermelho', 'Iguaçu', 'Morro da Boa Vista',\n",
       "       'Ibicuí', 'São Lourenço', 'Ponta da Praia',\n",
       "       'Planalto Treze de Maio', 'East Riverside - Oltorf',\n",
       "       'Nossa Senhora de Fátima', 'Parque Leopoldina', 'Morumbi',\n",
       "       'Centro de Apoio I (Alphaville)', 'Saco da Ribeira', 'Dinamérica',\n",
       "       'Santíssimo', 'Vila Imperial', 'Provetá', 'Porto Frade',\n",
       "       'Asa Norte', 'Covent Garden', 'Jardim Santa Genoveva',\n",
       "       'Bairro Nova Califórnia', 'Centro Histórico', 'Recanto das Dunas',\n",
       "       'Caborê', 'Conceição de Jacareí', 'Caminho de Búzios', 'Vitória',\n",
       "       'Santa Rita do Bracui (Cunhambebe)', 'Petrópolis', 'Jardim Leal',\n",
       "       'Parque Zabulao', 'Padre Eustáquio', 'Ouro Verde'], dtype=object)"
      ]
     },
     "execution_count": 55,
     "metadata": {},
     "output_type": "execute_result"
    }
   ],
   "source": [
    "df_eda['host_neighbourhood'].unique()\n"
   ]
  },
  {
   "cell_type": "code",
   "execution_count": 56,
   "id": "67723d3b",
   "metadata": {},
   "outputs": [],
   "source": [
    "df_eda['host_neighbourhood'].fillna(\"nao informado\", inplace=True)"
   ]
  },
  {
   "cell_type": "markdown",
   "id": "2044640b",
   "metadata": {},
   "source": [
    "### 1.3.15. Feature: *'host_listings_count'*"
   ]
  },
  {
   "cell_type": "code",
   "execution_count": 57,
   "id": "7e510172",
   "metadata": {},
   "outputs": [
    {
     "data": {
      "text/html": [
       "<div>\n",
       "<style scoped>\n",
       "    .dataframe tbody tr th:only-of-type {\n",
       "        vertical-align: middle;\n",
       "    }\n",
       "\n",
       "    .dataframe tbody tr th {\n",
       "        vertical-align: top;\n",
       "    }\n",
       "\n",
       "    .dataframe thead th {\n",
       "        text-align: right;\n",
       "    }\n",
       "</style>\n",
       "<table border=\"1\" class=\"dataframe\">\n",
       "  <thead>\n",
       "    <tr style=\"text-align: right;\">\n",
       "      <th></th>\n",
       "      <th>Columns</th>\n",
       "      <th>Type</th>\n",
       "      <th>Unique</th>\n",
       "      <th>Size</th>\n",
       "      <th>Missing</th>\n",
       "      <th>% Unique</th>\n",
       "      <th>% Missing</th>\n",
       "    </tr>\n",
       "  </thead>\n",
       "  <tbody>\n",
       "    <tr>\n",
       "      <th>host_listings_count</th>\n",
       "      <td>host_listings_count</td>\n",
       "      <td>float64</td>\n",
       "      <td>87</td>\n",
       "      <td>36008</td>\n",
       "      <td>9</td>\n",
       "      <td>0.002416</td>\n",
       "      <td>0.00025</td>\n",
       "    </tr>\n",
       "  </tbody>\n",
       "</table>\n",
       "</div>"
      ],
      "text/plain": [
       "                                 Columns     Type  Unique   Size  Missing  \\\n",
       "host_listings_count  host_listings_count  float64      87  36008        9   \n",
       "\n",
       "                     % Unique  % Missing  \n",
       "host_listings_count  0.002416    0.00025  "
      ]
     },
     "execution_count": 57,
     "metadata": {},
     "output_type": "execute_result"
    }
   ],
   "source": [
    "df_info[df_info.index =='host_listings_count']"
   ]
  },
  {
   "cell_type": "code",
   "execution_count": 58,
   "id": "c2db0817",
   "metadata": {},
   "outputs": [
    {
     "data": {
      "text/plain": [
       "array([2.000e+00, 1.000e+00, 4.000e+00, 7.000e+00, 1.200e+01, 3.000e+00,\n",
       "       1.900e+01, 8.000e+00, 6.000e+00, 5.000e+00, 1.000e+01, 1.440e+02,\n",
       "       1.100e+01, 1.090e+02, 5.600e+01, 1.500e+01, 4.900e+01, 1.600e+01,\n",
       "       1.400e+01, 9.000e+00, 4.800e+01, 2.400e+01,       nan, 5.500e+01,\n",
       "       5.000e+01, 1.300e+01, 3.000e+01, 1.800e+01, 3.700e+01, 2.700e+01,\n",
       "       3.600e+01, 1.700e+01, 2.500e+01, 6.100e+01, 8.200e+01, 2.000e+01,\n",
       "       2.100e+01, 9.900e+01, 2.300e+01, 2.800e+01, 3.100e+01, 3.500e+01,\n",
       "       6.200e+01, 4.000e+01, 1.260e+02, 2.260e+02, 3.800e+01, 3.400e+01,\n",
       "       2.200e+01, 4.500e+01, 5.100e+01, 4.300e+01, 3.200e+01, 3.900e+01,\n",
       "       2.660e+02, 1.910e+02, 5.700e+01, 4.200e+01, 2.080e+02, 5.300e+01,\n",
       "       2.600e+01, 1.480e+02, 4.100e+01, 8.400e+01, 1.640e+02, 5.900e+01,\n",
       "       1.660e+02, 7.900e+01, 1.680e+02, 3.300e+01, 1.990e+02, 2.270e+02,\n",
       "       3.740e+02, 6.830e+02, 6.400e+01, 1.405e+03, 6.500e+01, 2.900e+01,\n",
       "       4.700e+01, 1.930e+02, 6.600e+01, 5.200e+01, 1.120e+02, 9.800e+01,\n",
       "       6.700e+01, 3.430e+02, 7.800e+01, 1.580e+02])"
      ]
     },
     "execution_count": 58,
     "metadata": {},
     "output_type": "execute_result"
    }
   ],
   "source": [
    "df_eda['host_listings_count'].unique()\n"
   ]
  },
  {
   "cell_type": "code",
   "execution_count": 59,
   "id": "21341ad4",
   "metadata": {},
   "outputs": [],
   "source": [
    "df_eda['host_listings_count'].fillna(\"0.0\", inplace=True)"
   ]
  },
  {
   "cell_type": "code",
   "execution_count": null,
   "id": "bb8e891c",
   "metadata": {},
   "outputs": [],
   "source": []
  },
  {
   "cell_type": "markdown",
   "id": "8fc96cfd",
   "metadata": {},
   "source": [
    "### 1.3.16. Feature: *'host_total_listings_count'*"
   ]
  },
  {
   "cell_type": "code",
   "execution_count": 60,
   "id": "9f4ed2be",
   "metadata": {},
   "outputs": [
    {
     "data": {
      "text/html": [
       "<div>\n",
       "<style scoped>\n",
       "    .dataframe tbody tr th:only-of-type {\n",
       "        vertical-align: middle;\n",
       "    }\n",
       "\n",
       "    .dataframe tbody tr th {\n",
       "        vertical-align: top;\n",
       "    }\n",
       "\n",
       "    .dataframe thead th {\n",
       "        text-align: right;\n",
       "    }\n",
       "</style>\n",
       "<table border=\"1\" class=\"dataframe\">\n",
       "  <thead>\n",
       "    <tr style=\"text-align: right;\">\n",
       "      <th></th>\n",
       "      <th>Columns</th>\n",
       "      <th>Type</th>\n",
       "      <th>Unique</th>\n",
       "      <th>Size</th>\n",
       "      <th>Missing</th>\n",
       "      <th>% Unique</th>\n",
       "      <th>% Missing</th>\n",
       "    </tr>\n",
       "  </thead>\n",
       "  <tbody>\n",
       "    <tr>\n",
       "      <th>host_total_listings_count</th>\n",
       "      <td>host_total_listings_count</td>\n",
       "      <td>float64</td>\n",
       "      <td>122</td>\n",
       "      <td>36008</td>\n",
       "      <td>9</td>\n",
       "      <td>0.003388</td>\n",
       "      <td>0.00025</td>\n",
       "    </tr>\n",
       "  </tbody>\n",
       "</table>\n",
       "</div>"
      ],
      "text/plain": [
       "                                             Columns     Type  Unique   Size  \\\n",
       "host_total_listings_count  host_total_listings_count  float64     122  36008   \n",
       "\n",
       "                           Missing  % Unique  % Missing  \n",
       "host_total_listings_count        9  0.003388    0.00025  "
      ]
     },
     "execution_count": 60,
     "metadata": {},
     "output_type": "execute_result"
    }
   ],
   "source": [
    "df_info[df_info.index =='host_total_listings_count']"
   ]
  },
  {
   "cell_type": "code",
   "execution_count": 61,
   "id": "6901a92c",
   "metadata": {},
   "outputs": [
    {
     "data": {
      "text/plain": [
       "array([5.000e+00, 2.000e+00, 7.000e+00, 8.000e+00, 1.000e+00, 3.300e+01,\n",
       "       6.000e+00, 4.000e+00, 2.300e+01, 1.100e+01, 3.000e+00, 1.500e+01,\n",
       "       2.700e+01, 9.000e+00, 2.800e+01, 1.000e+01, 2.100e+01, 1.700e+01,\n",
       "       4.290e+02, 1.300e+01, 3.100e+01, 1.400e+01, 3.260e+02, 1.200e+01,\n",
       "       2.500e+01, 8.600e+01, 2.000e+01, 1.360e+02, 1.900e+01, 1.290e+02,\n",
       "       3.900e+01, 1.600e+01, 2.200e+01, 2.600e+01, 5.400e+01, 3.600e+01,\n",
       "             nan, 6.900e+01, 5.900e+01, 1.800e+01, 4.500e+01, 1.240e+02,\n",
       "       6.400e+01, 5.800e+01, 2.900e+01, 3.800e+01, 5.300e+01, 3.200e+01,\n",
       "       1.540e+02, 8.900e+01, 4.800e+01, 1.340e+02, 6.200e+01, 4.600e+01,\n",
       "       1.330e+02, 5.100e+01, 9.300e+01, 9.800e+01, 2.490e+02, 6.500e+01,\n",
       "       3.500e+01, 3.000e+01, 1.380e+02, 1.630e+02, 6.330e+02, 6.700e+01,\n",
       "       2.400e+01, 4.000e+01, 7.400e+01, 1.930e+02, 4.900e+01, 6.100e+01,\n",
       "       6.000e+01, 5.020e+02, 9.700e+01, 3.040e+02, 9.900e+01, 1.950e+02,\n",
       "       3.700e+01, 5.000e+01, 5.970e+02, 8.800e+01, 1.080e+02, 5.200e+01,\n",
       "       3.400e+01, 1.110e+02, 1.120e+02, 1.740e+02, 7.700e+01, 4.400e+01,\n",
       "       4.300e+01, 8.700e+01, 1.230e+02, 9.500e+01, 5.620e+02, 7.000e+01,\n",
       "       4.200e+01, 4.100e+01, 3.110e+02, 1.370e+02, 2.700e+02, 9.000e+01,\n",
       "       3.460e+02, 2.390e+02, 4.150e+02, 7.980e+02, 1.060e+02, 1.927e+03,\n",
       "       7.600e+01, 8.300e+01, 8.100e+01, 2.460e+02, 1.050e+02, 2.120e+02,\n",
       "       1.790e+02, 7.900e+01, 7.100e+01, 9.400e+01, 3.710e+02, 7.300e+01,\n",
       "       1.560e+02, 8.400e+01, 1.730e+02])"
      ]
     },
     "execution_count": 61,
     "metadata": {},
     "output_type": "execute_result"
    }
   ],
   "source": [
    "df_eda['host_total_listings_count'].unique()\n"
   ]
  },
  {
   "cell_type": "code",
   "execution_count": 62,
   "id": "453ee40a",
   "metadata": {},
   "outputs": [],
   "source": [
    "df_eda['host_total_listings_count'].fillna(\"0.0\", inplace=True)"
   ]
  },
  {
   "cell_type": "markdown",
   "id": "35db4e9d",
   "metadata": {},
   "source": [
    "### 1.3.17. Feature: *'host_has_profile_pic'*"
   ]
  },
  {
   "cell_type": "code",
   "execution_count": 63,
   "id": "48d37cf1",
   "metadata": {},
   "outputs": [
    {
     "data": {
      "text/html": [
       "<div>\n",
       "<style scoped>\n",
       "    .dataframe tbody tr th:only-of-type {\n",
       "        vertical-align: middle;\n",
       "    }\n",
       "\n",
       "    .dataframe tbody tr th {\n",
       "        vertical-align: top;\n",
       "    }\n",
       "\n",
       "    .dataframe thead th {\n",
       "        text-align: right;\n",
       "    }\n",
       "</style>\n",
       "<table border=\"1\" class=\"dataframe\">\n",
       "  <thead>\n",
       "    <tr style=\"text-align: right;\">\n",
       "      <th></th>\n",
       "      <th>Columns</th>\n",
       "      <th>Type</th>\n",
       "      <th>Unique</th>\n",
       "      <th>Size</th>\n",
       "      <th>Missing</th>\n",
       "      <th>% Unique</th>\n",
       "      <th>% Missing</th>\n",
       "    </tr>\n",
       "  </thead>\n",
       "  <tbody>\n",
       "    <tr>\n",
       "      <th>host_has_profile_pic</th>\n",
       "      <td>host_has_profile_pic</td>\n",
       "      <td>object</td>\n",
       "      <td>2</td>\n",
       "      <td>36008</td>\n",
       "      <td>9</td>\n",
       "      <td>0.000056</td>\n",
       "      <td>0.00025</td>\n",
       "    </tr>\n",
       "  </tbody>\n",
       "</table>\n",
       "</div>"
      ],
      "text/plain": [
       "                                   Columns    Type  Unique   Size  Missing  \\\n",
       "host_has_profile_pic  host_has_profile_pic  object       2  36008        9   \n",
       "\n",
       "                      % Unique  % Missing  \n",
       "host_has_profile_pic  0.000056    0.00025  "
      ]
     },
     "execution_count": 63,
     "metadata": {},
     "output_type": "execute_result"
    }
   ],
   "source": [
    "df_info[df_info.index =='host_has_profile_pic']"
   ]
  },
  {
   "cell_type": "code",
   "execution_count": 64,
   "id": "8c9a6966",
   "metadata": {},
   "outputs": [
    {
     "data": {
      "text/plain": [
       "array(['t', nan, 'f'], dtype=object)"
      ]
     },
     "execution_count": 64,
     "metadata": {},
     "output_type": "execute_result"
    }
   ],
   "source": [
    "df_eda['host_has_profile_pic'].unique()\n"
   ]
  },
  {
   "cell_type": "code",
   "execution_count": 65,
   "id": "8830f4cb",
   "metadata": {},
   "outputs": [],
   "source": [
    "df_eda['host_has_profile_pic'].fillna(\"f\", inplace=True)"
   ]
  },
  {
   "cell_type": "markdown",
   "id": "6be5aa1d",
   "metadata": {},
   "source": [
    "### 1.3.18. Feature: *'host_identity_verified'*"
   ]
  },
  {
   "cell_type": "code",
   "execution_count": 66,
   "id": "43f7f223",
   "metadata": {},
   "outputs": [
    {
     "data": {
      "text/html": [
       "<div>\n",
       "<style scoped>\n",
       "    .dataframe tbody tr th:only-of-type {\n",
       "        vertical-align: middle;\n",
       "    }\n",
       "\n",
       "    .dataframe tbody tr th {\n",
       "        vertical-align: top;\n",
       "    }\n",
       "\n",
       "    .dataframe thead th {\n",
       "        text-align: right;\n",
       "    }\n",
       "</style>\n",
       "<table border=\"1\" class=\"dataframe\">\n",
       "  <thead>\n",
       "    <tr style=\"text-align: right;\">\n",
       "      <th></th>\n",
       "      <th>Columns</th>\n",
       "      <th>Type</th>\n",
       "      <th>Unique</th>\n",
       "      <th>Size</th>\n",
       "      <th>Missing</th>\n",
       "      <th>% Unique</th>\n",
       "      <th>% Missing</th>\n",
       "    </tr>\n",
       "  </thead>\n",
       "  <tbody>\n",
       "    <tr>\n",
       "      <th>host_identity_verified</th>\n",
       "      <td>host_identity_verified</td>\n",
       "      <td>object</td>\n",
       "      <td>2</td>\n",
       "      <td>36008</td>\n",
       "      <td>9</td>\n",
       "      <td>0.000056</td>\n",
       "      <td>0.00025</td>\n",
       "    </tr>\n",
       "  </tbody>\n",
       "</table>\n",
       "</div>"
      ],
      "text/plain": [
       "                                       Columns    Type  Unique   Size  \\\n",
       "host_identity_verified  host_identity_verified  object       2  36008   \n",
       "\n",
       "                        Missing  % Unique  % Missing  \n",
       "host_identity_verified        9  0.000056    0.00025  "
      ]
     },
     "execution_count": 66,
     "metadata": {},
     "output_type": "execute_result"
    }
   ],
   "source": [
    "df_info[df_info.index =='host_identity_verified']"
   ]
  },
  {
   "cell_type": "code",
   "execution_count": 67,
   "id": "7957e533",
   "metadata": {},
   "outputs": [
    {
     "data": {
      "text/plain": [
       "array(['t', 'f', nan], dtype=object)"
      ]
     },
     "execution_count": 67,
     "metadata": {},
     "output_type": "execute_result"
    }
   ],
   "source": [
    "df_eda['host_identity_verified'].unique()\n"
   ]
  },
  {
   "cell_type": "code",
   "execution_count": 68,
   "id": "aa491ba6",
   "metadata": {},
   "outputs": [],
   "source": [
    "df_eda['host_identity_verified'].fillna(\"f\", inplace=True)"
   ]
  },
  {
   "cell_type": "markdown",
   "id": "143b906d",
   "metadata": {},
   "source": [
    "### 1.3.19. Feature: *'bathrooms_text'*"
   ]
  },
  {
   "cell_type": "code",
   "execution_count": 90,
   "id": "62288b57",
   "metadata": {},
   "outputs": [
    {
     "data": {
      "text/html": [
       "<div>\n",
       "<style scoped>\n",
       "    .dataframe tbody tr th:only-of-type {\n",
       "        vertical-align: middle;\n",
       "    }\n",
       "\n",
       "    .dataframe tbody tr th {\n",
       "        vertical-align: top;\n",
       "    }\n",
       "\n",
       "    .dataframe thead th {\n",
       "        text-align: right;\n",
       "    }\n",
       "</style>\n",
       "<table border=\"1\" class=\"dataframe\">\n",
       "  <thead>\n",
       "    <tr style=\"text-align: right;\">\n",
       "      <th></th>\n",
       "      <th>Columns</th>\n",
       "      <th>Type</th>\n",
       "      <th>Unique</th>\n",
       "      <th>Size</th>\n",
       "      <th>Missing</th>\n",
       "      <th>% Unique</th>\n",
       "      <th>% Missing</th>\n",
       "    </tr>\n",
       "  </thead>\n",
       "  <tbody>\n",
       "    <tr>\n",
       "      <th>bathrooms_text</th>\n",
       "      <td>bathrooms_text</td>\n",
       "      <td>object</td>\n",
       "      <td>51</td>\n",
       "      <td>36008</td>\n",
       "      <td>30</td>\n",
       "      <td>0.001416</td>\n",
       "      <td>0.000833</td>\n",
       "    </tr>\n",
       "  </tbody>\n",
       "</table>\n",
       "</div>"
      ],
      "text/plain": [
       "                       Columns    Type  Unique   Size  Missing  % Unique  \\\n",
       "bathrooms_text  bathrooms_text  object      51  36008       30  0.001416   \n",
       "\n",
       "                % Missing  \n",
       "bathrooms_text   0.000833  "
      ]
     },
     "execution_count": 90,
     "metadata": {},
     "output_type": "execute_result"
    }
   ],
   "source": [
    "df_info[df_info.index =='bathrooms_text']"
   ]
  },
  {
   "cell_type": "code",
   "execution_count": 91,
   "id": "ab13a4ad",
   "metadata": {},
   "outputs": [
    {
     "data": {
      "text/plain": [
       "array(['1 bath', '1.5 baths', '2 baths', '7 baths', '1 shared bath',\n",
       "       '3 baths', '1 private bath', '2.5 baths', '5 baths', '4 baths',\n",
       "       '5 shared baths', nan, '3.5 baths', '2.5 shared baths',\n",
       "       '2 shared baths', '4.5 baths', '0 shared baths', '0 baths',\n",
       "       'Shared half-bath', '1.5 shared baths', '8 baths', '6 baths',\n",
       "       '6.5 baths', '3 shared baths', '3.5 shared baths', '5.5 baths',\n",
       "       '4 shared baths', '7.5 baths', '15 baths', '8.5 baths',\n",
       "       '20 shared baths', 'Half-bath', '4.5 shared baths',\n",
       "       '6.5 shared baths', '10 baths', '15.5 baths', 'Private half-bath',\n",
       "       '12 baths', '6 shared baths', '7 shared baths', '9 baths',\n",
       "       '11 baths', '16 baths', '8.5 shared baths', '9.5 baths',\n",
       "       '5.5 shared baths', '11.5 baths', '8 shared baths',\n",
       "       '9 shared baths', '12 shared baths', '13 baths', '11 shared baths'],\n",
       "      dtype=object)"
      ]
     },
     "execution_count": 91,
     "metadata": {},
     "output_type": "execute_result"
    }
   ],
   "source": [
    "df_eda['bathrooms_text'].unique()\n"
   ]
  },
  {
   "cell_type": "code",
   "execution_count": 92,
   "id": "41ad974b",
   "metadata": {},
   "outputs": [],
   "source": [
    "df_eda['bathrooms_text'].fillna('0 bath', inplace=True)"
   ]
  },
  {
   "cell_type": "code",
   "execution_count": 93,
   "id": "7b8d73e0",
   "metadata": {},
   "outputs": [],
   "source": [
    "df_eda['bathrooms_text'] = [str(x).lower().replace('half-bath','0.5') for x in df_eda['bathrooms_text'] ]\n",
    "#df_eda['bathrooms_count'].apply(lambda x: str(x).lower().replace('half-bath', '0.5') )"
   ]
  },
  {
   "cell_type": "code",
   "execution_count": 94,
   "id": "4517b85f",
   "metadata": {},
   "outputs": [
    {
     "data": {
      "text/plain": [
       "array(['1 bath', '1.5 baths', '2 baths', '7 baths', '1 shared bath',\n",
       "       '3 baths', '1 private bath', '2.5 baths', '5 baths', '4 baths',\n",
       "       '5 shared baths', '0 bath', '3.5 baths', '2.5 shared baths',\n",
       "       '2 shared baths', '4.5 baths', '0 shared baths', '0 baths',\n",
       "       'shared 0.5', '1.5 shared baths', '8 baths', '6 baths',\n",
       "       '6.5 baths', '3 shared baths', '3.5 shared baths', '5.5 baths',\n",
       "       '4 shared baths', '7.5 baths', '15 baths', '8.5 baths',\n",
       "       '20 shared baths', '0.5', '4.5 shared baths', '6.5 shared baths',\n",
       "       '10 baths', '15.5 baths', 'private 0.5', '12 baths',\n",
       "       '6 shared baths', '7 shared baths', '9 baths', '11 baths',\n",
       "       '16 baths', '8.5 shared baths', '9.5 baths', '5.5 shared baths',\n",
       "       '11.5 baths', '8 shared baths', '9 shared baths',\n",
       "       '12 shared baths', '13 baths', '11 shared baths'], dtype=object)"
      ]
     },
     "execution_count": 94,
     "metadata": {},
     "output_type": "execute_result"
    }
   ],
   "source": [
    "df_eda['bathrooms_text'].unique()"
   ]
  },
  {
   "cell_type": "code",
   "execution_count": 96,
   "id": "294a620d",
   "metadata": {},
   "outputs": [
    {
     "data": {
      "text/plain": [
       "array(['1 bath', '1.5 bath', '2 bath', '7 bath', '1 shared bath',\n",
       "       '3 bath', '1 private bath', '2.5 bath', '5 bath', '4 bath',\n",
       "       '5 shared bath', '0 bath', '3.5 bath', '2.5 shared bath',\n",
       "       '2 shared bath', '4.5 bath', '0 shared bath', 'shared 0.5',\n",
       "       '1.5 shared bath', '8 bath', '6 bath', '6.5 bath', '3 shared bath',\n",
       "       '3.5 shared bath', '5.5 bath', '4 shared bath', '7.5 bath',\n",
       "       '15 bath', '8.5 bath', '20 shared bath', '0.5', '4.5 shared bath',\n",
       "       '6.5 shared bath', '10 bath', '15.5 bath', 'private 0.5',\n",
       "       '12 bath', '6 shared bath', '7 shared bath', '9 bath', '11 bath',\n",
       "       '16 bath', '8.5 shared bath', '9.5 bath', '5.5 shared bath',\n",
       "       '11.5 bath', '8 shared bath', '9 shared bath', '12 shared bath',\n",
       "       '13 bath', '11 shared bath'], dtype=object)"
      ]
     },
     "execution_count": 96,
     "metadata": {},
     "output_type": "execute_result"
    }
   ],
   "source": [
    "df_eda['bathroom_type'] = df_eda['bathrooms_text'].str.replace(r'(\\d+\\.?\\d*)', '', regex=True)\n",
    "df_eda['bathroom_type'] = df_eda['bathrooms_text'].str.replace(r's?$', '', regex=True).apply(lambda x: x.strip())\n",
    "df_eda['bathroom_type'].unique()"
   ]
  },
  {
   "cell_type": "code",
   "execution_count": 85,
   "id": "5abc61df",
   "metadata": {},
   "outputs": [
    {
     "data": {
      "text/plain": [
       "array(['bath', 'shared bath', 'private bath', 'shared', '', 'private'],\n",
       "      dtype=object)"
      ]
     },
     "execution_count": 85,
     "metadata": {},
     "output_type": "execute_result"
    }
   ],
   "source": [
    "df_eda['bathrooms_text'].str.replace(r'baths', 'bath').unique()\n"
   ]
  },
  {
   "cell_type": "code",
   "execution_count": 86,
   "id": "c1114ebc",
   "metadata": {},
   "outputs": [],
   "source": []
  },
  {
   "cell_type": "code",
   "execution_count": 136,
   "id": "06003cb9",
   "metadata": {},
   "outputs": [],
   "source": [
    "df_eda['bathrooms_count']= df_eda['bathrooms_text']"
   ]
  },
  {
   "cell_type": "code",
   "execution_count": 139,
   "id": "a7eaa674",
   "metadata": {},
   "outputs": [
    {
     "data": {
      "text/plain": [
       "array(['1 bath', '1.5 baths', '2 baths', '7 baths', '1 shared bath',\n",
       "       '3 baths', '1 private bath', '2.5 baths', '5 baths', '4 baths',\n",
       "       '5 shared baths', '0 bath', '3.5 baths', '2.5 shared baths',\n",
       "       '2 shared baths', '4.5 baths', '0 shared baths', '0 baths',\n",
       "       'shared 0.5', '1.5 shared baths', '8 baths', '6 baths',\n",
       "       '6.5 baths', '3 shared baths', '3.5 shared baths', '5.5 baths',\n",
       "       '4 shared baths', '7.5 baths', '15 baths', '8.5 baths',\n",
       "       '20 shared baths', '0.5', '4.5 shared baths', '6.5 shared baths',\n",
       "       '10 baths', '15.5 baths', 'private 0.5', '12 baths',\n",
       "       '6 shared baths', '7 shared baths', '9 baths', '11 baths',\n",
       "       '16 baths', '8.5 shared baths', '9.5 baths', '5.5 shared baths',\n",
       "       '11.5 baths', '8 shared baths', '9 shared baths',\n",
       "       '12 shared baths', '13 baths', '11 shared baths'], dtype=object)"
      ]
     },
     "execution_count": 139,
     "metadata": {},
     "output_type": "execute_result"
    }
   ],
   "source": [
    "df_eda['bathrooms_count'].unique()"
   ]
  },
  {
   "cell_type": "code",
   "execution_count": null,
   "id": "aaa0abef",
   "metadata": {},
   "outputs": [],
   "source": [
    "df_eda['bathrooms_type']=df_eda['bathrooms_text']"
   ]
  },
  {
   "cell_type": "markdown",
   "id": "297d9b58",
   "metadata": {},
   "source": [
    "### 1.3.20. Feature: *'beds'*"
   ]
  },
  {
   "cell_type": "code",
   "execution_count": 97,
   "id": "1dc5e984",
   "metadata": {},
   "outputs": [
    {
     "data": {
      "text/html": [
       "<div>\n",
       "<style scoped>\n",
       "    .dataframe tbody tr th:only-of-type {\n",
       "        vertical-align: middle;\n",
       "    }\n",
       "\n",
       "    .dataframe tbody tr th {\n",
       "        vertical-align: top;\n",
       "    }\n",
       "\n",
       "    .dataframe thead th {\n",
       "        text-align: right;\n",
       "    }\n",
       "</style>\n",
       "<table border=\"1\" class=\"dataframe\">\n",
       "  <thead>\n",
       "    <tr style=\"text-align: right;\">\n",
       "      <th></th>\n",
       "      <th>Columns</th>\n",
       "      <th>Type</th>\n",
       "      <th>Unique</th>\n",
       "      <th>Size</th>\n",
       "      <th>Missing</th>\n",
       "      <th>% Unique</th>\n",
       "      <th>% Missing</th>\n",
       "    </tr>\n",
       "  </thead>\n",
       "  <tbody>\n",
       "    <tr>\n",
       "      <th>beds</th>\n",
       "      <td>beds</td>\n",
       "      <td>float64</td>\n",
       "      <td>43</td>\n",
       "      <td>36008</td>\n",
       "      <td>707</td>\n",
       "      <td>0.001194</td>\n",
       "      <td>0.019635</td>\n",
       "    </tr>\n",
       "  </tbody>\n",
       "</table>\n",
       "</div>"
      ],
      "text/plain": [
       "     Columns     Type  Unique   Size  Missing  % Unique  % Missing\n",
       "beds    beds  float64      43  36008      707  0.001194   0.019635"
      ]
     },
     "execution_count": 97,
     "metadata": {},
     "output_type": "execute_result"
    }
   ],
   "source": [
    "df_info[df_info.index =='beds']"
   ]
  },
  {
   "cell_type": "code",
   "execution_count": 102,
   "id": "86cc903b",
   "metadata": {},
   "outputs": [
    {
     "data": {
      "text/plain": [
       "array([2.0, 1.0, '0.0', 3.0, 7.0, 5.0, 16.0, 10.0, 6.0, 4.0, 8.0, 11.0,\n",
       "       14.0, 9.0, 13.0, 15.0, 17.0, 12.0, 20.0, 91.0, 35.0, 18.0, 22.0,\n",
       "       27.0, 50.0, 25.0, 30.0, 38.0, 26.0, 24.0, 23.0, 43.0, 28.0, 44.0,\n",
       "       32.0, 56.0, 46.0, 29.0, 31.0, 21.0, 39.0, 41.0, 19.0, 33.0],\n",
       "      dtype=object)"
      ]
     },
     "execution_count": 102,
     "metadata": {},
     "output_type": "execute_result"
    }
   ],
   "source": [
    "df_eda['beds'].unique()"
   ]
  },
  {
   "cell_type": "code",
   "execution_count": 101,
   "id": "cb2b0b32",
   "metadata": {},
   "outputs": [],
   "source": [
    "df_eda['beds'].fillna(0.0, inplace=True)"
   ]
  },
  {
   "cell_type": "code",
   "execution_count": 104,
   "id": "af23be52",
   "metadata": {},
   "outputs": [],
   "source": [
    "df_eda['beds'] = df_eda['beds'].astype(float)"
   ]
  },
  {
   "cell_type": "markdown",
   "id": "634b904d",
   "metadata": {},
   "source": [
    "### 1.3.21. Feature: *'price'*"
   ]
  },
  {
   "cell_type": "code",
   "execution_count": 99,
   "id": "60d2c7df",
   "metadata": {},
   "outputs": [
    {
     "data": {
      "text/html": [
       "<div>\n",
       "<style scoped>\n",
       "    .dataframe tbody tr th:only-of-type {\n",
       "        vertical-align: middle;\n",
       "    }\n",
       "\n",
       "    .dataframe tbody tr th {\n",
       "        vertical-align: top;\n",
       "    }\n",
       "\n",
       "    .dataframe thead th {\n",
       "        text-align: right;\n",
       "    }\n",
       "</style>\n",
       "<table border=\"1\" class=\"dataframe\">\n",
       "  <thead>\n",
       "    <tr style=\"text-align: right;\">\n",
       "      <th></th>\n",
       "      <th>Columns</th>\n",
       "      <th>Type</th>\n",
       "      <th>Unique</th>\n",
       "      <th>Size</th>\n",
       "      <th>Missing</th>\n",
       "      <th>% Unique</th>\n",
       "      <th>% Missing</th>\n",
       "    </tr>\n",
       "  </thead>\n",
       "  <tbody>\n",
       "    <tr>\n",
       "      <th>price</th>\n",
       "      <td>price</td>\n",
       "      <td>object</td>\n",
       "      <td>3230</td>\n",
       "      <td>36008</td>\n",
       "      <td>1771</td>\n",
       "      <td>0.089702</td>\n",
       "      <td>0.049184</td>\n",
       "    </tr>\n",
       "  </tbody>\n",
       "</table>\n",
       "</div>"
      ],
      "text/plain": [
       "      Columns    Type  Unique   Size  Missing  % Unique  % Missing\n",
       "price   price  object    3230  36008     1771  0.089702   0.049184"
      ]
     },
     "execution_count": 99,
     "metadata": {},
     "output_type": "execute_result"
    }
   ],
   "source": [
    "df_info[df_info.index =='price']"
   ]
  },
  {
   "cell_type": "code",
   "execution_count": 100,
   "id": "2043e7c0",
   "metadata": {},
   "outputs": [
    {
     "data": {
      "text/plain": [
       "array(['$1,357.00', '$865.00', '$373.00', ..., '$1,197.00', '$2,777.00',\n",
       "       '$2,537.00'], dtype=object)"
      ]
     },
     "execution_count": 100,
     "metadata": {},
     "output_type": "execute_result"
    }
   ],
   "source": [
    "df_eda['price'].unique()\n"
   ]
  },
  {
   "cell_type": "code",
   "execution_count": 106,
   "id": "334e6012",
   "metadata": {},
   "outputs": [],
   "source": [
    "df_eda['price'].fillna('$0.0', inplace=True)\n",
    "df_eda['price'] = df_eda['price'].str.replace(r',','',regex=False).replace(r'$', '', regex=False).apply(lambda x: x.strip())\n",
    "df_eda['price'] = df_eda['price'].astype(float)"
   ]
  },
  {
   "cell_type": "code",
   "execution_count": 107,
   "id": "59be2132",
   "metadata": {},
   "outputs": [
    {
     "data": {
      "text/plain": [
       "array([1357.,  865.,  373., ..., 1197., 2777., 2537.])"
      ]
     },
     "execution_count": 107,
     "metadata": {},
     "output_type": "execute_result"
    }
   ],
   "source": [
    "df_eda['price'].unique()"
   ]
  },
  {
   "cell_type": "code",
   "execution_count": null,
   "id": "4954bed6",
   "metadata": {},
   "outputs": [],
   "source": []
  },
  {
   "cell_type": "markdown",
   "id": "68bed1cd",
   "metadata": {},
   "source": [
    "### 1.3.22. Feature: *'has_availability'*"
   ]
  },
  {
   "cell_type": "code",
   "execution_count": 70,
   "id": "ba50bcff",
   "metadata": {},
   "outputs": [
    {
     "data": {
      "text/html": [
       "<div>\n",
       "<style scoped>\n",
       "    .dataframe tbody tr th:only-of-type {\n",
       "        vertical-align: middle;\n",
       "    }\n",
       "\n",
       "    .dataframe tbody tr th {\n",
       "        vertical-align: top;\n",
       "    }\n",
       "\n",
       "    .dataframe thead th {\n",
       "        text-align: right;\n",
       "    }\n",
       "</style>\n",
       "<table border=\"1\" class=\"dataframe\">\n",
       "  <thead>\n",
       "    <tr style=\"text-align: right;\">\n",
       "      <th></th>\n",
       "      <th>Columns</th>\n",
       "      <th>Type</th>\n",
       "      <th>Unique</th>\n",
       "      <th>Size</th>\n",
       "      <th>Missing</th>\n",
       "      <th>% Unique</th>\n",
       "      <th>% Missing</th>\n",
       "    </tr>\n",
       "  </thead>\n",
       "  <tbody>\n",
       "    <tr>\n",
       "      <th>has_availability</th>\n",
       "      <td>has_availability</td>\n",
       "      <td>object</td>\n",
       "      <td>2</td>\n",
       "      <td>36008</td>\n",
       "      <td>1771</td>\n",
       "      <td>0.000056</td>\n",
       "      <td>0.049184</td>\n",
       "    </tr>\n",
       "  </tbody>\n",
       "</table>\n",
       "</div>"
      ],
      "text/plain": [
       "                           Columns    Type  Unique   Size  Missing  % Unique  \\\n",
       "has_availability  has_availability  object       2  36008     1771  0.000056   \n",
       "\n",
       "                  % Missing  \n",
       "has_availability   0.049184  "
      ]
     },
     "execution_count": 70,
     "metadata": {},
     "output_type": "execute_result"
    }
   ],
   "source": [
    "df_info[df_info.index =='has_availability']"
   ]
  },
  {
   "cell_type": "code",
   "execution_count": 71,
   "id": "4bd1d7b9",
   "metadata": {},
   "outputs": [
    {
     "data": {
      "text/plain": [
       "array(['t', nan, 'f'], dtype=object)"
      ]
     },
     "execution_count": 71,
     "metadata": {},
     "output_type": "execute_result"
    }
   ],
   "source": [
    "df_eda['has_availability'].unique()\n"
   ]
  },
  {
   "cell_type": "code",
   "execution_count": null,
   "id": "596fe5d8",
   "metadata": {},
   "outputs": [],
   "source": [
    "df_eda['has_availability'].fillna('$0.0', inplace=True)"
   ]
  },
  {
   "cell_type": "markdown",
   "id": "f8290bb0",
   "metadata": {},
   "source": [
    "### 1.3.23. Feature: *'first_review'*"
   ]
  },
  {
   "cell_type": "code",
   "execution_count": 72,
   "id": "86e0d7f3",
   "metadata": {},
   "outputs": [
    {
     "data": {
      "text/html": [
       "<div>\n",
       "<style scoped>\n",
       "    .dataframe tbody tr th:only-of-type {\n",
       "        vertical-align: middle;\n",
       "    }\n",
       "\n",
       "    .dataframe tbody tr th {\n",
       "        vertical-align: top;\n",
       "    }\n",
       "\n",
       "    .dataframe thead th {\n",
       "        text-align: right;\n",
       "    }\n",
       "</style>\n",
       "<table border=\"1\" class=\"dataframe\">\n",
       "  <thead>\n",
       "    <tr style=\"text-align: right;\">\n",
       "      <th></th>\n",
       "      <th>Columns</th>\n",
       "      <th>Type</th>\n",
       "      <th>Unique</th>\n",
       "      <th>Size</th>\n",
       "      <th>Missing</th>\n",
       "      <th>% Unique</th>\n",
       "      <th>% Missing</th>\n",
       "    </tr>\n",
       "  </thead>\n",
       "  <tbody>\n",
       "    <tr>\n",
       "      <th>first_review</th>\n",
       "      <td>first_review</td>\n",
       "      <td>object</td>\n",
       "      <td>3218</td>\n",
       "      <td>36008</td>\n",
       "      <td>10302</td>\n",
       "      <td>0.089369</td>\n",
       "      <td>0.286103</td>\n",
       "    </tr>\n",
       "  </tbody>\n",
       "</table>\n",
       "</div>"
      ],
      "text/plain": [
       "                   Columns    Type  Unique   Size  Missing  % Unique  \\\n",
       "first_review  first_review  object    3218  36008    10302  0.089369   \n",
       "\n",
       "              % Missing  \n",
       "first_review   0.286103  "
      ]
     },
     "execution_count": 72,
     "metadata": {},
     "output_type": "execute_result"
    }
   ],
   "source": [
    "df_info[df_info.index =='first_review']"
   ]
  },
  {
   "cell_type": "code",
   "execution_count": 73,
   "id": "ec986c2f",
   "metadata": {},
   "outputs": [
    {
     "data": {
      "text/plain": [
       "array(['2010-07-15', '2010-06-07', '2010-10-03', ..., '2023-12-22',\n",
       "       '2023-12-26', '2023-12-25'], dtype=object)"
      ]
     },
     "execution_count": 73,
     "metadata": {},
     "output_type": "execute_result"
    }
   ],
   "source": [
    "df_eda['first_review'].unique()\n"
   ]
  },
  {
   "cell_type": "code",
   "execution_count": null,
   "id": "0c70d795",
   "metadata": {},
   "outputs": [],
   "source": []
  },
  {
   "cell_type": "markdown",
   "id": "c754ef59",
   "metadata": {},
   "source": [
    "### 1.3.24. Feature: *'last_review'*"
   ]
  },
  {
   "cell_type": "code",
   "execution_count": 74,
   "id": "ae351354",
   "metadata": {},
   "outputs": [
    {
     "data": {
      "text/html": [
       "<div>\n",
       "<style scoped>\n",
       "    .dataframe tbody tr th:only-of-type {\n",
       "        vertical-align: middle;\n",
       "    }\n",
       "\n",
       "    .dataframe tbody tr th {\n",
       "        vertical-align: top;\n",
       "    }\n",
       "\n",
       "    .dataframe thead th {\n",
       "        text-align: right;\n",
       "    }\n",
       "</style>\n",
       "<table border=\"1\" class=\"dataframe\">\n",
       "  <thead>\n",
       "    <tr style=\"text-align: right;\">\n",
       "      <th></th>\n",
       "      <th>Columns</th>\n",
       "      <th>Type</th>\n",
       "      <th>Unique</th>\n",
       "      <th>Size</th>\n",
       "      <th>Missing</th>\n",
       "      <th>% Unique</th>\n",
       "      <th>% Missing</th>\n",
       "    </tr>\n",
       "  </thead>\n",
       "  <tbody>\n",
       "    <tr>\n",
       "      <th>last_review</th>\n",
       "      <td>last_review</td>\n",
       "      <td>object</td>\n",
       "      <td>1424</td>\n",
       "      <td>36008</td>\n",
       "      <td>10302</td>\n",
       "      <td>0.039547</td>\n",
       "      <td>0.286103</td>\n",
       "    </tr>\n",
       "  </tbody>\n",
       "</table>\n",
       "</div>"
      ],
      "text/plain": [
       "                 Columns    Type  Unique   Size  Missing  % Unique  % Missing\n",
       "last_review  last_review  object    1424  36008    10302  0.039547   0.286103"
      ]
     },
     "execution_count": 74,
     "metadata": {},
     "output_type": "execute_result"
    }
   ],
   "source": [
    "df_info[df_info.index =='last_review']"
   ]
  },
  {
   "cell_type": "code",
   "execution_count": 75,
   "id": "adc1afc5",
   "metadata": {},
   "outputs": [
    {
     "data": {
      "text/plain": [
       "array(['2023-12-22', '2023-12-03', '2023-12-17', ..., '2023-07-12',\n",
       "       '2023-02-07', '2022-12-16'], dtype=object)"
      ]
     },
     "execution_count": 75,
     "metadata": {},
     "output_type": "execute_result"
    }
   ],
   "source": [
    "df_eda['last_review'].unique()\n"
   ]
  },
  {
   "cell_type": "code",
   "execution_count": null,
   "id": "e8c173dd",
   "metadata": {},
   "outputs": [],
   "source": []
  },
  {
   "cell_type": "markdown",
   "id": "04540cf2",
   "metadata": {},
   "source": [
    "### 1.3.25. Feature: *'review_scores_rating'*"
   ]
  },
  {
   "cell_type": "code",
   "execution_count": 76,
   "id": "8e23e62c",
   "metadata": {},
   "outputs": [
    {
     "data": {
      "text/html": [
       "<div>\n",
       "<style scoped>\n",
       "    .dataframe tbody tr th:only-of-type {\n",
       "        vertical-align: middle;\n",
       "    }\n",
       "\n",
       "    .dataframe tbody tr th {\n",
       "        vertical-align: top;\n",
       "    }\n",
       "\n",
       "    .dataframe thead th {\n",
       "        text-align: right;\n",
       "    }\n",
       "</style>\n",
       "<table border=\"1\" class=\"dataframe\">\n",
       "  <thead>\n",
       "    <tr style=\"text-align: right;\">\n",
       "      <th></th>\n",
       "      <th>Columns</th>\n",
       "      <th>Type</th>\n",
       "      <th>Unique</th>\n",
       "      <th>Size</th>\n",
       "      <th>Missing</th>\n",
       "      <th>% Unique</th>\n",
       "      <th>% Missing</th>\n",
       "    </tr>\n",
       "  </thead>\n",
       "  <tbody>\n",
       "    <tr>\n",
       "      <th>review_scores_rating</th>\n",
       "      <td>review_scores_rating</td>\n",
       "      <td>float64</td>\n",
       "      <td>139</td>\n",
       "      <td>36008</td>\n",
       "      <td>10283</td>\n",
       "      <td>0.00386</td>\n",
       "      <td>0.285575</td>\n",
       "    </tr>\n",
       "  </tbody>\n",
       "</table>\n",
       "</div>"
      ],
      "text/plain": [
       "                                   Columns     Type  Unique   Size  Missing  \\\n",
       "review_scores_rating  review_scores_rating  float64     139  36008    10283   \n",
       "\n",
       "                      % Unique  % Missing  \n",
       "review_scores_rating   0.00386   0.285575  "
      ]
     },
     "execution_count": 76,
     "metadata": {},
     "output_type": "execute_result"
    }
   ],
   "source": [
    "df_info[df_info.index =='review_scores_rating']"
   ]
  },
  {
   "cell_type": "code",
   "execution_count": 77,
   "id": "5452d6d9",
   "metadata": {},
   "outputs": [
    {
     "data": {
      "text/plain": [
       "array([4.7 , 4.72, 4.9 , 4.21, 4.57, 4.81,  nan, 4.76, 4.96, 4.82, 4.5 ,\n",
       "       5.  , 4.  , 4.63, 4.86, 4.74, 4.78, 4.51, 4.95, 4.89, 4.8 , 4.79,\n",
       "       4.25, 4.73, 4.83, 4.59, 4.4 , 4.88, 4.92, 4.91, 4.19, 4.34, 4.68,\n",
       "       4.67, 4.53, 4.6 , 4.66, 4.84, 4.87, 4.98, 4.85, 4.71, 4.65, 4.14,\n",
       "       4.62, 4.29, 4.58, 4.54, 4.09, 3.63, 4.45, 4.47, 4.28, 4.64, 4.56,\n",
       "       4.94, 4.93, 4.97, 4.17, 4.48, 4.61, 4.55, 4.75, 4.22, 3.67, 4.69,\n",
       "       4.3 , 4.26, 3.  , 4.36, 4.31, 3.86, 4.44, 3.71, 4.77, 4.43, 4.18,\n",
       "       4.46, 4.33, 4.37, 4.27, 4.2 , 4.16, 4.39, 4.52, 0.  , 4.41, 2.5 ,\n",
       "       4.49, 3.5 , 4.35, 4.38, 1.  , 3.83, 4.99, 4.23, 3.8 , 2.67, 4.42,\n",
       "       3.75, 2.  , 2.25, 4.11, 4.06, 4.24, 4.04, 3.78, 3.89, 4.32, 3.33,\n",
       "       3.2 , 3.43, 3.92, 3.94, 2.33, 4.05, 3.7 , 4.15, 3.6 , 4.13, 3.95,\n",
       "       4.07, 3.25, 3.4 , 3.22, 4.1 , 3.88, 3.91, 1.5 , 4.08, 3.93, 2.75,\n",
       "       1.67, 3.82, 3.57, 3.85, 4.12, 3.69, 3.29, 3.17])"
      ]
     },
     "execution_count": 77,
     "metadata": {},
     "output_type": "execute_result"
    }
   ],
   "source": [
    "df_eda['review_scores_rating'].unique()\n"
   ]
  },
  {
   "cell_type": "code",
   "execution_count": null,
   "id": "58517b60",
   "metadata": {},
   "outputs": [],
   "source": []
  },
  {
   "cell_type": "markdown",
   "id": "614a229c",
   "metadata": {},
   "source": [
    "### 1.3.26. Feature: *'review_scores_accuracy*"
   ]
  },
  {
   "cell_type": "code",
   "execution_count": 78,
   "id": "b31314fb",
   "metadata": {},
   "outputs": [
    {
     "data": {
      "text/html": [
       "<div>\n",
       "<style scoped>\n",
       "    .dataframe tbody tr th:only-of-type {\n",
       "        vertical-align: middle;\n",
       "    }\n",
       "\n",
       "    .dataframe tbody tr th {\n",
       "        vertical-align: top;\n",
       "    }\n",
       "\n",
       "    .dataframe thead th {\n",
       "        text-align: right;\n",
       "    }\n",
       "</style>\n",
       "<table border=\"1\" class=\"dataframe\">\n",
       "  <thead>\n",
       "    <tr style=\"text-align: right;\">\n",
       "      <th></th>\n",
       "      <th>Columns</th>\n",
       "      <th>Type</th>\n",
       "      <th>Unique</th>\n",
       "      <th>Size</th>\n",
       "      <th>Missing</th>\n",
       "      <th>% Unique</th>\n",
       "      <th>% Missing</th>\n",
       "    </tr>\n",
       "  </thead>\n",
       "  <tbody>\n",
       "    <tr>\n",
       "      <th>review_scores_accuracy</th>\n",
       "      <td>review_scores_accuracy</td>\n",
       "      <td>float64</td>\n",
       "      <td>139</td>\n",
       "      <td>36008</td>\n",
       "      <td>10286</td>\n",
       "      <td>0.00386</td>\n",
       "      <td>0.285659</td>\n",
       "    </tr>\n",
       "  </tbody>\n",
       "</table>\n",
       "</div>"
      ],
      "text/plain": [
       "                                       Columns     Type  Unique   Size  \\\n",
       "review_scores_accuracy  review_scores_accuracy  float64     139  36008   \n",
       "\n",
       "                        Missing  % Unique  % Missing  \n",
       "review_scores_accuracy    10286   0.00386   0.285659  "
      ]
     },
     "execution_count": 78,
     "metadata": {},
     "output_type": "execute_result"
    }
   ],
   "source": [
    "df_info[df_info.index =='review_scores_accuracy']"
   ]
  },
  {
   "cell_type": "code",
   "execution_count": 79,
   "id": "e4e4218d",
   "metadata": {},
   "outputs": [
    {
     "data": {
      "text/plain": [
       "array([4.77, 4.7 , 4.93, 3.88, 4.72, 4.85,  nan, 4.91, 4.87, 4.67, 5.  ,\n",
       "       3.92, 4.86, 4.  , 4.83, 4.75, 4.95, 4.73, 4.58, 4.8 , 4.88, 4.25,\n",
       "       4.69, 4.84, 4.66, 4.24, 4.92, 4.39, 4.89, 4.79, 4.57, 4.81, 4.65,\n",
       "       4.6 , 4.78, 4.9 , 4.94, 4.98, 4.76, 4.33, 4.43, 4.5 , 4.56, 4.45,\n",
       "       4.63, 3.5 , 4.15, 4.35, 4.68, 4.18, 4.64, 4.38, 4.42, 4.4 , 4.2 ,\n",
       "       4.62, 4.74, 4.71, 4.97, 4.61, 2.5 , 4.46, 4.59, 4.96, 4.82, 4.32,\n",
       "       4.55, 4.21, 4.14, 4.53, 3.75, 4.48, 4.09, 4.99, 4.31, 3.  , 4.36,\n",
       "       4.47, 4.17, 4.52, 4.08, 1.  , 4.44, 4.3 , 4.29, 3.8 , 2.67, 4.49,\n",
       "       4.54, 3.9 , 4.19, 4.51, 3.69, 2.  , 3.67, 3.17, 3.43, 3.33, 4.37,\n",
       "       4.11, 3.44, 3.71, 4.34, 4.22, 4.28, 4.1 , 4.13, 3.91, 3.89, 4.23,\n",
       "       4.05, 3.95, 4.41, 3.2 , 3.6 , 4.16, 4.26, 3.63, 3.25, 3.4 , 4.27,\n",
       "       3.83, 3.86, 3.87, 3.78, 3.57, 4.06, 4.07, 3.82, 3.94, 3.96, 3.73,\n",
       "       2.33, 4.12, 3.77, 1.67, 3.14, 4.03, 2.75, 0.  ])"
      ]
     },
     "execution_count": 79,
     "metadata": {},
     "output_type": "execute_result"
    }
   ],
   "source": [
    "df_eda['review_scores_accuracy'].unique()\n"
   ]
  },
  {
   "cell_type": "code",
   "execution_count": null,
   "id": "a4425fc3",
   "metadata": {},
   "outputs": [],
   "source": []
  },
  {
   "cell_type": "markdown",
   "id": "d3f285c0",
   "metadata": {},
   "source": [
    "### 1.3.27. Feature: *'review_scores_cleanliness'*"
   ]
  },
  {
   "cell_type": "code",
   "execution_count": 80,
   "id": "4f69c29d",
   "metadata": {},
   "outputs": [
    {
     "data": {
      "text/html": [
       "<div>\n",
       "<style scoped>\n",
       "    .dataframe tbody tr th:only-of-type {\n",
       "        vertical-align: middle;\n",
       "    }\n",
       "\n",
       "    .dataframe tbody tr th {\n",
       "        vertical-align: top;\n",
       "    }\n",
       "\n",
       "    .dataframe thead th {\n",
       "        text-align: right;\n",
       "    }\n",
       "</style>\n",
       "<table border=\"1\" class=\"dataframe\">\n",
       "  <thead>\n",
       "    <tr style=\"text-align: right;\">\n",
       "      <th></th>\n",
       "      <th>Columns</th>\n",
       "      <th>Type</th>\n",
       "      <th>Unique</th>\n",
       "      <th>Size</th>\n",
       "      <th>Missing</th>\n",
       "      <th>% Unique</th>\n",
       "      <th>% Missing</th>\n",
       "    </tr>\n",
       "  </thead>\n",
       "  <tbody>\n",
       "    <tr>\n",
       "      <th>review_scores_cleanliness</th>\n",
       "      <td>review_scores_cleanliness</td>\n",
       "      <td>float64</td>\n",
       "      <td>166</td>\n",
       "      <td>36008</td>\n",
       "      <td>10285</td>\n",
       "      <td>0.00461</td>\n",
       "      <td>0.285631</td>\n",
       "    </tr>\n",
       "  </tbody>\n",
       "</table>\n",
       "</div>"
      ],
      "text/plain": [
       "                                             Columns     Type  Unique   Size  \\\n",
       "review_scores_cleanliness  review_scores_cleanliness  float64     166  36008   \n",
       "\n",
       "                           Missing  % Unique  % Missing  \n",
       "review_scores_cleanliness    10285   0.00461   0.285631  "
      ]
     },
     "execution_count": 80,
     "metadata": {},
     "output_type": "execute_result"
    }
   ],
   "source": [
    "df_info[df_info.index =='review_scores_cleanliness']"
   ]
  },
  {
   "cell_type": "code",
   "execution_count": 81,
   "id": "c6a231c0",
   "metadata": {},
   "outputs": [
    {
     "data": {
      "text/plain": [
       "array([4.65, 4.79, 4.93, 4.25, 4.46, 4.8 ,  nan, 4.7 , 4.86, 4.74, 4.17,\n",
       "       5.  , 4.67, 4.84, 4.77, 4.5 , 4.33, 4.95, 4.15, 4.53, 4.9 , 4.88,\n",
       "       4.75, 4.87, 4.56, 4.92, 4.64, 4.89, 4.82, 4.13, 4.94, 4.78, 4.71,\n",
       "       4.31, 4.45, 4.54, 4.59, 4.96, 4.4 , 4.72, 4.61, 4.76, 4.83, 4.99,\n",
       "       4.62, 4.47, 3.67, 4.36, 4.01, 4.48, 4.66, 4.85, 4.55, 4.08, 4.6 ,\n",
       "       3.82, 4.49, 4.41, 4.35, 4.98, 4.73, 4.81, 4.  , 4.63, 4.91, 3.8 ,\n",
       "       4.39, 4.69, 4.32, 4.42, 4.2 , 2.  , 4.52, 4.09, 4.21, 4.97, 4.68,\n",
       "       3.6 , 4.24, 4.26, 4.27, 4.38, 4.3 , 3.86, 4.37, 3.  , 4.22, 4.14,\n",
       "       4.57, 4.29, 3.83, 4.51, 4.18, 4.11, 4.43, 4.12, 4.58, 4.19, 4.44,\n",
       "       3.95, 3.5 , 3.88, 3.4 , 1.  , 4.06, 2.75, 3.43, 3.85, 3.7 , 3.96,\n",
       "       4.34, 4.16, 3.75, 3.29, 4.23, 3.81, 3.25, 4.1 , 4.04, 4.28, 3.89,\n",
       "       3.78, 4.07, 3.9 , 4.03, 3.76, 3.64, 3.84, 3.71, 2.67, 2.2 , 3.33,\n",
       "       3.57, 3.92, 3.2 , 3.97, 3.99, 2.5 , 3.93, 3.63, 4.05, 2.6 , 3.13,\n",
       "       3.17, 3.74, 3.14, 3.79, 4.02, 3.56, 3.94, 3.68, 3.55, 2.33, 3.45,\n",
       "       3.73, 3.91, 3.38, 3.87, 2.4 , 2.8 , 3.22, 3.69, 1.33, 3.42, 2.25,\n",
       "       2.83, 0.  ])"
      ]
     },
     "execution_count": 81,
     "metadata": {},
     "output_type": "execute_result"
    }
   ],
   "source": [
    "df_eda['review_scores_cleanliness'].unique()\n"
   ]
  },
  {
   "cell_type": "code",
   "execution_count": null,
   "id": "af998010",
   "metadata": {},
   "outputs": [],
   "source": []
  },
  {
   "cell_type": "markdown",
   "id": "7dd933f0",
   "metadata": {},
   "source": [
    "### 1.3.28. Feature: *'review_scores_checkin'*"
   ]
  },
  {
   "cell_type": "code",
   "execution_count": 82,
   "id": "89e56e2a",
   "metadata": {},
   "outputs": [
    {
     "data": {
      "text/html": [
       "<div>\n",
       "<style scoped>\n",
       "    .dataframe tbody tr th:only-of-type {\n",
       "        vertical-align: middle;\n",
       "    }\n",
       "\n",
       "    .dataframe tbody tr th {\n",
       "        vertical-align: top;\n",
       "    }\n",
       "\n",
       "    .dataframe thead th {\n",
       "        text-align: right;\n",
       "    }\n",
       "</style>\n",
       "<table border=\"1\" class=\"dataframe\">\n",
       "  <thead>\n",
       "    <tr style=\"text-align: right;\">\n",
       "      <th></th>\n",
       "      <th>Columns</th>\n",
       "      <th>Type</th>\n",
       "      <th>Unique</th>\n",
       "      <th>Size</th>\n",
       "      <th>Missing</th>\n",
       "      <th>% Unique</th>\n",
       "      <th>% Missing</th>\n",
       "    </tr>\n",
       "  </thead>\n",
       "  <tbody>\n",
       "    <tr>\n",
       "      <th>review_scores_checkin</th>\n",
       "      <td>review_scores_checkin</td>\n",
       "      <td>float64</td>\n",
       "      <td>116</td>\n",
       "      <td>36008</td>\n",
       "      <td>10287</td>\n",
       "      <td>0.003222</td>\n",
       "      <td>0.285687</td>\n",
       "    </tr>\n",
       "  </tbody>\n",
       "</table>\n",
       "</div>"
      ],
      "text/plain": [
       "                                     Columns     Type  Unique   Size  Missing  \\\n",
       "review_scores_checkin  review_scores_checkin  float64     116  36008    10287   \n",
       "\n",
       "                       % Unique  % Missing  \n",
       "review_scores_checkin  0.003222   0.285687  "
      ]
     },
     "execution_count": 82,
     "metadata": {},
     "output_type": "execute_result"
    }
   ],
   "source": [
    "df_info[df_info.index =='review_scores_checkin']"
   ]
  },
  {
   "cell_type": "code",
   "execution_count": 83,
   "id": "98918052",
   "metadata": {},
   "outputs": [
    {
     "data": {
      "text/plain": [
       "array([4.83, 4.81, 4.97, 4.69, 4.91,  nan, 5.  , 4.94, 4.92, 4.67, 4.9 ,\n",
       "       4.95, 4.86, 4.89, 4.73, 4.85, 4.88, 4.96, 4.25, 4.78, 4.71, 4.93,\n",
       "       4.72, 4.84, 4.8 , 4.99, 4.79, 4.82, 4.33, 4.75, 4.98, 4.7 , 4.47,\n",
       "       4.74, 4.77, 4.87, 3.  , 4.57, 4.  , 4.76, 4.65, 4.55, 4.5 , 4.63,\n",
       "       4.59, 4.64, 4.38, 4.56, 4.45, 4.29, 4.4 , 4.58, 4.6 , 4.27, 4.17,\n",
       "       4.32, 4.21, 4.68, 4.54, 3.5 , 4.3 , 4.61, 2.  , 4.46, 4.62, 4.36,\n",
       "       2.67, 4.53, 4.2 , 3.75, 4.44, 4.66, 3.94, 4.39, 4.43, 1.  , 4.11,\n",
       "       4.51, 4.31, 3.67, 4.22, 4.42, 3.33, 4.52, 4.1 , 4.48, 3.86, 4.14,\n",
       "       3.4 , 4.13, 2.5 , 4.41, 4.23, 3.8 , 3.71, 2.25, 2.33, 3.93, 4.49,\n",
       "       3.95, 3.25, 4.06, 4.09, 3.82, 4.37, 3.6 , 3.85, 3.88, 1.5 , 4.26,\n",
       "       4.18, 4.15, 4.34, 4.19, 4.35, 3.83, 0.  ])"
      ]
     },
     "execution_count": 83,
     "metadata": {},
     "output_type": "execute_result"
    }
   ],
   "source": [
    "df_eda['review_scores_checkin'].unique()\n"
   ]
  },
  {
   "cell_type": "code",
   "execution_count": null,
   "id": "1b011e82",
   "metadata": {},
   "outputs": [],
   "source": []
  },
  {
   "cell_type": "markdown",
   "id": "d4afee50",
   "metadata": {},
   "source": [
    "### 1.3.29. Feature: *'review_scores_communication'*"
   ]
  },
  {
   "cell_type": "code",
   "execution_count": 84,
   "id": "0c213c32",
   "metadata": {},
   "outputs": [
    {
     "data": {
      "text/html": [
       "<div>\n",
       "<style scoped>\n",
       "    .dataframe tbody tr th:only-of-type {\n",
       "        vertical-align: middle;\n",
       "    }\n",
       "\n",
       "    .dataframe tbody tr th {\n",
       "        vertical-align: top;\n",
       "    }\n",
       "\n",
       "    .dataframe thead th {\n",
       "        text-align: right;\n",
       "    }\n",
       "</style>\n",
       "<table border=\"1\" class=\"dataframe\">\n",
       "  <thead>\n",
       "    <tr style=\"text-align: right;\">\n",
       "      <th></th>\n",
       "      <th>Columns</th>\n",
       "      <th>Type</th>\n",
       "      <th>Unique</th>\n",
       "      <th>Size</th>\n",
       "      <th>Missing</th>\n",
       "      <th>% Unique</th>\n",
       "      <th>% Missing</th>\n",
       "    </tr>\n",
       "  </thead>\n",
       "  <tbody>\n",
       "    <tr>\n",
       "      <th>review_scores_communication</th>\n",
       "      <td>review_scores_communication</td>\n",
       "      <td>float64</td>\n",
       "      <td>134</td>\n",
       "      <td>36008</td>\n",
       "      <td>10285</td>\n",
       "      <td>0.003721</td>\n",
       "      <td>0.285631</td>\n",
       "    </tr>\n",
       "  </tbody>\n",
       "</table>\n",
       "</div>"
      ],
      "text/plain": [
       "                                                 Columns     Type  Unique  \\\n",
       "review_scores_communication  review_scores_communication  float64     134   \n",
       "\n",
       "                              Size  Missing  % Unique  % Missing  \n",
       "review_scores_communication  36008    10285  0.003721   0.285631  "
      ]
     },
     "execution_count": 84,
     "metadata": {},
     "output_type": "execute_result"
    }
   ],
   "source": [
    "df_info[df_info.index =='review_scores_communication']"
   ]
  },
  {
   "cell_type": "code",
   "execution_count": 85,
   "id": "bad7d5f1",
   "metadata": {},
   "outputs": [
    {
     "data": {
      "text/plain": [
       "array([4.91, 4.92, 4.95, 4.56, 4.77, 4.89,  nan, 4.83, 5.  , 4.87, 4.88,\n",
       "       4.75, 4.93, 4.98, 4.57, 4.96, 4.74, 4.85, 4.81, 4.52, 4.94, 4.58,\n",
       "       4.99, 4.8 , 4.9 , 4.63, 4.7 , 4.82, 4.73, 4.97, 4.67, 4.79, 4.76,\n",
       "       4.5 , 4.  , 4.66, 4.65, 4.4 , 4.71, 4.6 , 4.72, 4.86, 4.78, 4.33,\n",
       "       4.69, 4.64, 4.53, 4.1 , 4.68, 4.84, 3.75, 4.48, 4.61, 4.41, 4.07,\n",
       "       4.62, 4.36, 4.44, 4.51, 4.38, 1.  , 4.59, 3.67, 3.83, 4.49, 4.37,\n",
       "       4.2 , 4.35, 3.  , 4.43, 4.45, 4.14, 3.25, 4.55, 3.8 , 3.5 , 4.19,\n",
       "       4.17, 4.54, 4.13, 4.25, 4.11, 2.  , 4.47, 4.46, 4.21, 4.06, 4.22,\n",
       "       3.86, 4.3 , 4.29, 3.93, 4.34, 4.18, 3.4 , 4.39, 4.42, 3.43, 3.84,\n",
       "       3.33, 4.27, 2.5 , 3.63, 4.23, 3.88, 4.12, 1.5 , 3.29, 4.31, 4.03,\n",
       "       2.67, 3.81, 4.32, 4.26, 4.15, 2.33, 3.6 , 3.56, 3.58, 3.45, 4.05,\n",
       "       3.82, 2.8 , 4.28, 3.92, 2.6 , 3.91, 2.75, 3.9 , 4.16, 3.17, 3.57,\n",
       "       4.24, 4.08, 0.  ])"
      ]
     },
     "execution_count": 85,
     "metadata": {},
     "output_type": "execute_result"
    }
   ],
   "source": [
    "df_eda['review_scores_communication'].unique()\n"
   ]
  },
  {
   "cell_type": "code",
   "execution_count": null,
   "id": "190cc25f",
   "metadata": {},
   "outputs": [],
   "source": []
  },
  {
   "cell_type": "markdown",
   "id": "5dd1d83d",
   "metadata": {},
   "source": [
    "### 1.3.30. Feature: *'review_scores_location'*"
   ]
  },
  {
   "cell_type": "code",
   "execution_count": 86,
   "id": "c52b2679",
   "metadata": {},
   "outputs": [
    {
     "data": {
      "text/html": [
       "<div>\n",
       "<style scoped>\n",
       "    .dataframe tbody tr th:only-of-type {\n",
       "        vertical-align: middle;\n",
       "    }\n",
       "\n",
       "    .dataframe tbody tr th {\n",
       "        vertical-align: top;\n",
       "    }\n",
       "\n",
       "    .dataframe thead th {\n",
       "        text-align: right;\n",
       "    }\n",
       "</style>\n",
       "<table border=\"1\" class=\"dataframe\">\n",
       "  <thead>\n",
       "    <tr style=\"text-align: right;\">\n",
       "      <th></th>\n",
       "      <th>Columns</th>\n",
       "      <th>Type</th>\n",
       "      <th>Unique</th>\n",
       "      <th>Size</th>\n",
       "      <th>Missing</th>\n",
       "      <th>% Unique</th>\n",
       "      <th>% Missing</th>\n",
       "    </tr>\n",
       "  </thead>\n",
       "  <tbody>\n",
       "    <tr>\n",
       "      <th>review_scores_location</th>\n",
       "      <td>review_scores_location</td>\n",
       "      <td>float64</td>\n",
       "      <td>128</td>\n",
       "      <td>36008</td>\n",
       "      <td>10286</td>\n",
       "      <td>0.003555</td>\n",
       "      <td>0.285659</td>\n",
       "    </tr>\n",
       "  </tbody>\n",
       "</table>\n",
       "</div>"
      ],
      "text/plain": [
       "                                       Columns     Type  Unique   Size  \\\n",
       "review_scores_location  review_scores_location  float64     128  36008   \n",
       "\n",
       "                        Missing  % Unique  % Missing  \n",
       "review_scores_location    10286  0.003555   0.285659  "
      ]
     },
     "execution_count": 86,
     "metadata": {},
     "output_type": "execute_result"
    }
   ],
   "source": [
    "df_info[df_info.index =='review_scores_location']"
   ]
  },
  {
   "cell_type": "code",
   "execution_count": 87,
   "id": "11e74a71",
   "metadata": {},
   "outputs": [
    {
     "data": {
      "text/plain": [
       "array([4.77, 4.84, 4.94, 4.44, 4.83, 4.95,  nan, 4.91, 4.76, 4.92, 4.75,\n",
       "       4.25, 4.89, 5.  , 4.96, 4.71, 4.85, 4.88, 4.53, 4.58, 4.82, 4.7 ,\n",
       "       4.98, 4.93, 4.9 , 4.64, 4.37, 4.62, 4.31, 4.72, 4.81, 4.87, 4.86,\n",
       "       4.97, 4.99, 4.74, 4.33, 4.43, 4.57, 4.67, 4.45, 4.73, 4.63, 4.13,\n",
       "       4.51, 4.41, 4.54, 4.21, 4.2 , 4.5 , 3.5 , 4.65, 4.8 , 3.  , 4.79,\n",
       "       2.  , 4.  , 4.52, 4.26, 4.4 , 4.6 , 4.49, 4.78, 4.68, 4.22, 4.36,\n",
       "       4.55, 4.42, 4.69, 4.66, 4.61, 4.32, 4.24, 4.59, 3.92, 3.7 , 3.67,\n",
       "       4.3 , 4.29, 4.38, 4.46, 4.56, 2.5 , 4.28, 3.75, 4.17, 4.27, 1.  ,\n",
       "       4.47, 4.18, 4.1 , 4.11, 4.23, 4.14, 4.08, 3.83, 3.9 , 3.89, 3.91,\n",
       "       3.33, 3.86, 4.48, 4.16, 3.71, 3.88, 4.07, 3.44, 4.39, 3.87, 4.35,\n",
       "       3.8 , 3.6 , 4.34, 4.15, 3.78, 2.67, 2.75, 4.05, 3.11, 3.58, 3.43,\n",
       "       3.76, 3.57, 2.33, 3.25, 4.03, 4.19, 3.82, 0.  ])"
      ]
     },
     "execution_count": 87,
     "metadata": {},
     "output_type": "execute_result"
    }
   ],
   "source": [
    "df_eda['review_scores_location'].unique()\n"
   ]
  },
  {
   "cell_type": "code",
   "execution_count": null,
   "id": "6f28a373",
   "metadata": {},
   "outputs": [],
   "source": []
  },
  {
   "cell_type": "markdown",
   "id": "8e3eb0f8",
   "metadata": {},
   "source": [
    "### 1.3.31. Feature: *'review_scores_value'*"
   ]
  },
  {
   "cell_type": "code",
   "execution_count": 88,
   "id": "b596171c",
   "metadata": {},
   "outputs": [
    {
     "data": {
      "text/html": [
       "<div>\n",
       "<style scoped>\n",
       "    .dataframe tbody tr th:only-of-type {\n",
       "        vertical-align: middle;\n",
       "    }\n",
       "\n",
       "    .dataframe tbody tr th {\n",
       "        vertical-align: top;\n",
       "    }\n",
       "\n",
       "    .dataframe thead th {\n",
       "        text-align: right;\n",
       "    }\n",
       "</style>\n",
       "<table border=\"1\" class=\"dataframe\">\n",
       "  <thead>\n",
       "    <tr style=\"text-align: right;\">\n",
       "      <th></th>\n",
       "      <th>Columns</th>\n",
       "      <th>Type</th>\n",
       "      <th>Unique</th>\n",
       "      <th>Size</th>\n",
       "      <th>Missing</th>\n",
       "      <th>% Unique</th>\n",
       "      <th>% Missing</th>\n",
       "    </tr>\n",
       "  </thead>\n",
       "  <tbody>\n",
       "    <tr>\n",
       "      <th>review_scores_value</th>\n",
       "      <td>review_scores_value</td>\n",
       "      <td>float64</td>\n",
       "      <td>144</td>\n",
       "      <td>36008</td>\n",
       "      <td>10286</td>\n",
       "      <td>0.003999</td>\n",
       "      <td>0.285659</td>\n",
       "    </tr>\n",
       "  </tbody>\n",
       "</table>\n",
       "</div>"
      ],
      "text/plain": [
       "                                 Columns     Type  Unique   Size  Missing  \\\n",
       "review_scores_value  review_scores_value  float64     144  36008    10286   \n",
       "\n",
       "                     % Unique  % Missing  \n",
       "review_scores_value  0.003999   0.285659  "
      ]
     },
     "execution_count": 88,
     "metadata": {},
     "output_type": "execute_result"
    }
   ],
   "source": [
    "df_info[df_info.index =='review_scores_value']"
   ]
  },
  {
   "cell_type": "code",
   "execution_count": 89,
   "id": "55c938d8",
   "metadata": {},
   "outputs": [
    {
     "data": {
      "text/plain": [
       "array([4.67, 4.6 , 4.89, 4.38, 4.59, 4.73,  nan, 4.77, 4.78, 4.46, 5.  ,\n",
       "       4.08, 4.72, 4.57, 4.55, 4.65, 4.62, 4.83, 4.5 , 4.75, 4.54, 4.7 ,\n",
       "       4.44, 4.23, 4.88, 4.86, 4.82, 4.2 , 4.85, 4.63, 4.56, 4.74, 4.43,\n",
       "       4.84, 4.53, 4.66, 4.8 , 4.76, 4.68, 4.33, 4.79, 4.95, 4.71, 4.  ,\n",
       "       4.29, 4.97, 4.19, 4.45, 4.4 , 4.47, 4.81, 4.18, 4.49, 4.9 , 4.58,\n",
       "       3.75, 4.61, 4.36, 4.94, 4.51, 4.93, 4.87, 4.69, 4.91, 4.12, 4.15,\n",
       "       2.5 , 4.48, 4.64, 4.92, 3.  , 4.39, 4.37, 4.1 , 4.35, 3.43, 3.83,\n",
       "       4.42, 4.13, 4.41, 3.63, 4.52, 4.17, 4.31, 3.67, 4.27, 4.21, 4.22,\n",
       "       4.25, 4.32, 4.14, 4.28, 3.85, 4.34, 1.  , 4.3 , 4.04, 4.96, 3.6 ,\n",
       "       2.33, 3.5 , 4.26, 2.  , 2.75, 3.8 , 4.98, 3.33, 3.86, 3.88, 3.25,\n",
       "       3.71, 4.09, 3.93, 3.78, 4.11, 4.07, 2.67, 3.2 , 3.92, 3.89, 4.06,\n",
       "       4.16, 3.7 , 3.4 , 4.99, 4.24, 3.9 , 3.94, 3.13, 4.03, 3.95, 3.29,\n",
       "       3.91, 1.5 , 3.81, 4.05, 3.56, 3.98, 3.17, 3.57, 3.82, 3.73, 3.84,\n",
       "       3.62, 0.  ])"
      ]
     },
     "execution_count": 89,
     "metadata": {},
     "output_type": "execute_result"
    }
   ],
   "source": [
    "df_eda['review_scores_value'].unique()\n"
   ]
  },
  {
   "cell_type": "code",
   "execution_count": null,
   "id": "6bf03e9b",
   "metadata": {},
   "outputs": [],
   "source": []
  },
  {
   "cell_type": "markdown",
   "id": "5c73b99a",
   "metadata": {},
   "source": [
    "### 1.3.32. Feature: *'reviews_per_month'*"
   ]
  },
  {
   "cell_type": "code",
   "execution_count": 90,
   "id": "3c7bf148",
   "metadata": {},
   "outputs": [
    {
     "data": {
      "text/html": [
       "<div>\n",
       "<style scoped>\n",
       "    .dataframe tbody tr th:only-of-type {\n",
       "        vertical-align: middle;\n",
       "    }\n",
       "\n",
       "    .dataframe tbody tr th {\n",
       "        vertical-align: top;\n",
       "    }\n",
       "\n",
       "    .dataframe thead th {\n",
       "        text-align: right;\n",
       "    }\n",
       "</style>\n",
       "<table border=\"1\" class=\"dataframe\">\n",
       "  <thead>\n",
       "    <tr style=\"text-align: right;\">\n",
       "      <th></th>\n",
       "      <th>Columns</th>\n",
       "      <th>Type</th>\n",
       "      <th>Unique</th>\n",
       "      <th>Size</th>\n",
       "      <th>Missing</th>\n",
       "      <th>% Unique</th>\n",
       "      <th>% Missing</th>\n",
       "    </tr>\n",
       "  </thead>\n",
       "  <tbody>\n",
       "    <tr>\n",
       "      <th>reviews_per_month</th>\n",
       "      <td>reviews_per_month</td>\n",
       "      <td>float64</td>\n",
       "      <td>678</td>\n",
       "      <td>36008</td>\n",
       "      <td>10302</td>\n",
       "      <td>0.018829</td>\n",
       "      <td>0.286103</td>\n",
       "    </tr>\n",
       "  </tbody>\n",
       "</table>\n",
       "</div>"
      ],
      "text/plain": [
       "                             Columns     Type  Unique   Size  Missing  \\\n",
       "reviews_per_month  reviews_per_month  float64     678  36008    10302   \n",
       "\n",
       "                   % Unique  % Missing  \n",
       "reviews_per_month  0.018829   0.286103  "
      ]
     },
     "execution_count": 90,
     "metadata": {},
     "output_type": "execute_result"
    }
   ],
   "source": [
    "df_info[df_info.index =='reviews_per_month']"
   ]
  },
  {
   "cell_type": "code",
   "execution_count": 91,
   "id": "bcd0c0de",
   "metadata": {},
   "outputs": [
    {
     "data": {
      "text/plain": [
       "array([1.900e+00, 1.670e+00, 2.820e+00, 1.300e-01, 1.070e+00, 1.580e+00,\n",
       "             nan, 1.040e+00, 1.700e-01, 3.070e+00, 2.300e-01, 3.000e-02,\n",
       "       9.000e-02, 1.150e+00, 1.000e-02, 3.110e+00, 7.000e-02, 1.030e+00,\n",
       "       8.900e-01, 5.600e-01, 1.850e+00, 8.000e-02, 3.700e-01, 2.500e-01,\n",
       "       5.700e-01, 3.400e-01, 7.000e-01, 7.200e-01, 4.000e-02, 4.500e-01,\n",
       "       1.660e+00, 7.700e-01, 4.400e-01, 1.100e-01, 1.270e+00, 1.880e+00,\n",
       "       3.800e+00, 5.200e-01, 2.440e+00, 1.050e+00, 9.500e-01, 1.620e+00,\n",
       "       6.300e-01, 1.080e+00, 2.800e-01, 9.800e-01, 1.820e+00, 7.600e-01,\n",
       "       2.200e-01, 1.380e+00, 1.250e+00, 6.000e-01, 1.560e+00, 1.680e+00,\n",
       "       5.800e-01, 1.640e+00, 5.000e-02, 6.100e-01, 2.100e-01, 2.000e-02,\n",
       "       3.300e-01, 1.960e+00, 2.070e+00, 1.020e+00, 1.200e-01, 4.800e-01,\n",
       "       1.170e+00, 1.130e+00, 3.600e-01, 2.130e+00, 1.100e+00, 8.100e-01,\n",
       "       1.600e-01, 5.000e-01, 4.050e+00, 6.600e-01, 1.400e+00, 4.100e-01,\n",
       "       1.000e-01, 2.000e-01, 3.900e-01, 2.400e-01, 1.480e+00, 6.700e-01,\n",
       "       2.900e-01, 8.000e-01, 6.200e-01, 1.900e-01, 7.900e-01, 1.260e+00,\n",
       "       6.000e-02, 3.500e-01, 1.500e-01, 5.400e-01, 3.200e-01, 7.400e-01,\n",
       "       4.000e-01, 4.900e-01, 1.400e-01, 7.300e-01, 5.900e-01, 9.900e-01,\n",
       "       6.400e-01, 8.400e-01, 9.200e-01, 6.800e-01, 1.330e+00, 1.470e+00,\n",
       "       2.460e+00, 8.300e-01, 1.340e+00, 1.430e+00, 1.800e+00, 4.600e-01,\n",
       "       1.210e+00, 7.500e-01, 4.590e+00, 1.520e+00, 2.700e-01, 1.750e+00,\n",
       "       9.100e-01, 1.360e+00, 4.200e-01, 5.100e-01, 2.670e+00, 5.300e-01,\n",
       "       5.500e-01, 4.700e-01, 6.900e-01, 8.500e-01, 2.600e-01, 8.700e-01,\n",
       "       1.490e+00, 3.040e+00, 2.170e+00, 2.290e+00, 2.230e+00, 1.630e+00,\n",
       "       3.300e+00, 2.060e+00, 4.300e-01, 1.420e+00, 3.000e+00, 1.700e+00,\n",
       "       3.100e-01, 2.730e+00, 8.800e-01, 2.390e+00, 2.040e+00, 2.000e+00,\n",
       "       9.000e-01, 2.450e+00, 2.350e+00, 1.570e+00, 3.270e+00, 1.800e-01,\n",
       "       1.000e+00, 7.100e-01, 2.220e+00, 2.370e+00, 1.220e+00, 2.240e+00,\n",
       "       1.970e+00, 2.610e+00, 2.720e+00, 1.320e+00, 8.200e-01, 1.910e+00,\n",
       "       1.840e+00, 1.110e+00, 1.190e+00, 1.160e+00, 9.300e-01, 1.720e+00,\n",
       "       1.920e+00, 4.220e+00, 2.660e+00, 3.600e+00, 9.700e-01, 1.690e+00,\n",
       "       1.310e+00, 1.550e+00, 3.010e+00, 3.800e-01, 7.800e-01, 1.240e+00,\n",
       "       1.950e+00, 2.110e+00, 2.180e+00, 1.990e+00, 3.160e+00, 6.500e-01,\n",
       "       1.090e+00, 2.510e+00, 3.000e-01, 2.250e+00, 2.590e+00, 1.740e+00,\n",
       "       1.650e+00, 2.080e+00, 1.590e+00, 2.410e+00, 2.860e+00, 1.180e+00,\n",
       "       2.210e+00, 2.530e+00, 8.600e-01, 1.010e+00, 1.200e+00, 2.870e+00,\n",
       "       4.630e+00, 1.790e+00, 2.140e+00, 2.760e+00, 3.490e+00, 3.150e+00,\n",
       "       3.050e+00, 1.440e+00, 1.540e+00, 1.300e+00, 3.140e+00, 9.600e-01,\n",
       "       1.060e+00, 2.470e+00, 1.370e+00, 1.120e+00, 2.960e+00, 3.120e+00,\n",
       "       1.530e+00, 3.660e+00, 2.300e+00, 1.140e+00, 1.830e+00, 1.710e+00,\n",
       "       3.090e+00, 1.760e+00, 3.260e+00, 3.460e+00, 2.490e+00, 1.460e+00,\n",
       "       1.230e+00, 1.730e+00, 3.760e+00, 1.940e+00, 2.520e+00, 2.560e+00,\n",
       "       2.260e+00, 2.030e+00, 2.150e+00, 3.170e+00, 2.500e+00, 1.350e+00,\n",
       "       2.360e+00, 2.100e+00, 2.200e+00, 1.410e+00, 2.620e+00, 1.600e+00,\n",
       "       2.570e+00, 1.290e+00, 1.780e+00, 3.650e+00, 2.970e+00, 2.810e+00,\n",
       "       3.470e+00, 2.630e+00, 1.280e+00, 1.500e+00, 3.060e+00, 2.980e+00,\n",
       "       2.010e+00, 2.650e+00, 1.870e+00, 2.270e+00, 2.830e+00, 1.930e+00,\n",
       "       2.090e+00, 1.770e+00, 2.310e+00, 2.190e+00, 4.360e+00, 2.280e+00,\n",
       "       1.510e+00, 1.610e+00, 2.710e+00, 2.880e+00, 1.450e+00, 2.540e+00,\n",
       "       1.810e+00, 2.920e+00, 4.240e+00, 4.130e+00, 2.160e+00, 2.890e+00,\n",
       "       2.380e+00, 9.400e-01, 4.190e+00, 2.330e+00, 2.770e+00, 3.360e+00,\n",
       "       2.480e+00, 2.950e+00, 1.390e+00, 2.020e+00, 1.890e+00, 3.680e+00,\n",
       "       3.380e+00, 2.120e+00, 2.050e+00, 2.790e+00, 4.210e+00, 2.550e+00,\n",
       "       1.860e+00, 3.740e+00, 3.620e+00, 2.990e+00, 6.640e+00, 3.550e+00,\n",
       "       4.160e+00, 3.440e+00, 3.320e+00, 3.880e+00, 2.400e+00, 4.010e+00,\n",
       "       2.700e+00, 3.370e+00, 4.070e+00, 2.690e+00, 5.380e+00, 4.390e+00,\n",
       "       2.680e+00, 3.310e+00, 2.580e+00, 3.750e+00, 2.780e+00, 5.370e+00,\n",
       "       3.670e+00, 4.140e+00, 2.430e+00, 3.480e+00, 5.100e+00, 2.340e+00,\n",
       "       4.000e+00, 3.830e+00, 6.570e+00, 4.030e+00, 2.320e+00, 6.290e+00,\n",
       "       3.200e+00, 2.840e+00, 4.520e+00, 3.080e+00, 5.920e+00, 3.240e+00,\n",
       "       3.710e+00, 3.930e+00, 2.910e+00, 4.060e+00, 2.750e+00, 1.980e+00,\n",
       "       3.330e+00, 3.100e+00, 2.420e+00, 3.390e+00, 3.690e+00, 4.460e+00,\n",
       "       5.160e+00, 3.920e+00, 3.580e+00, 2.800e+00, 3.560e+00, 6.070e+00,\n",
       "       3.420e+00, 3.400e+00, 2.600e+00, 3.210e+00, 3.020e+00, 7.140e+00,\n",
       "       3.130e+00, 3.610e+00, 3.290e+00, 2.850e+00, 3.030e+00, 3.790e+00,\n",
       "       2.740e+00, 4.490e+00, 3.180e+00, 3.700e+00, 3.410e+00, 3.890e+00,\n",
       "       4.230e+00, 3.540e+00, 7.240e+00, 3.630e+00, 3.730e+00, 3.840e+00,\n",
       "       4.150e+00, 4.080e+00, 2.900e+00, 5.770e+00, 4.470e+00, 5.710e+00,\n",
       "       5.940e+00, 4.280e+00, 2.640e+00, 3.900e+00, 2.940e+00, 3.280e+00,\n",
       "       3.970e+00, 6.020e+00, 3.590e+00, 3.940e+00, 3.500e+00, 7.610e+00,\n",
       "       5.170e+00, 3.250e+00, 4.960e+00, 3.850e+00, 7.400e+00, 3.640e+00,\n",
       "       3.770e+00, 5.030e+00, 4.870e+00, 5.230e+00, 3.780e+00, 4.410e+00,\n",
       "       4.020e+00, 4.920e+00, 4.930e+00, 5.010e+00, 3.450e+00, 4.910e+00,\n",
       "       3.220e+00, 5.190e+00, 4.710e+00, 7.470e+00, 4.790e+00, 6.450e+00,\n",
       "       4.430e+00, 3.520e+00, 3.230e+00, 1.375e+01, 4.290e+00, 4.350e+00,\n",
       "       3.510e+00, 4.450e+00, 6.830e+00, 2.930e+00, 4.740e+00, 3.950e+00,\n",
       "       3.810e+00, 4.270e+00, 5.450e+00, 3.870e+00, 4.560e+00, 5.210e+00,\n",
       "       6.330e+00, 4.340e+00, 4.980e+00, 8.540e+00, 6.620e+00, 5.150e+00,\n",
       "       4.040e+00, 1.000e+01, 4.990e+00, 4.620e+00, 5.740e+00, 4.420e+00,\n",
       "       4.860e+00, 5.000e+00, 4.780e+00, 3.350e+00, 4.200e+00, 4.940e+00,\n",
       "       4.680e+00, 6.480e+00, 6.900e+00, 5.890e+00, 5.040e+00, 4.400e+00,\n",
       "       4.180e+00, 7.630e+00, 5.440e+00, 5.350e+00, 4.670e+00, 5.690e+00,\n",
       "       5.180e+00, 4.090e+00, 3.430e+00, 3.860e+00, 7.010e+00, 5.720e+00,\n",
       "       3.570e+00, 6.840e+00, 3.980e+00, 7.500e+00, 3.720e+00, 5.060e+00,\n",
       "       4.810e+00, 4.320e+00, 8.600e+00, 4.120e+00, 5.310e+00, 4.110e+00,\n",
       "       6.350e+00, 4.500e+00, 8.650e+00, 4.370e+00, 6.440e+00, 4.760e+00,\n",
       "       3.960e+00, 3.340e+00, 4.310e+00, 6.170e+00, 8.670e+00, 4.540e+00,\n",
       "       4.440e+00, 4.650e+00, 4.580e+00, 7.540e+00, 5.200e+00, 4.720e+00,\n",
       "       4.100e+00, 5.390e+00, 6.140e+00, 5.290e+00, 4.530e+00, 6.250e+00,\n",
       "       8.820e+00, 4.550e+00, 5.490e+00, 4.380e+00, 4.820e+00, 5.090e+00,\n",
       "       9.280e+00, 5.140e+00, 5.520e+00, 6.210e+00, 3.910e+00, 4.300e+00,\n",
       "       4.750e+00, 5.460e+00, 4.730e+00, 4.260e+00, 3.820e+00, 4.900e+00,\n",
       "       5.120e+00, 6.850e+00, 5.560e+00, 4.610e+00, 5.980e+00, 5.130e+00,\n",
       "       5.020e+00, 6.010e+00, 3.990e+00, 3.530e+00, 7.770e+00, 4.330e+00,\n",
       "       7.940e+00, 3.190e+00, 7.760e+00, 8.040e+00, 4.640e+00, 4.840e+00,\n",
       "       5.420e+00, 5.320e+00, 4.510e+00, 4.700e+00, 5.360e+00, 8.000e+00,\n",
       "       8.030e+00, 4.570e+00, 5.110e+00, 6.680e+00, 8.950e+00, 4.600e+00,\n",
       "       5.050e+00, 8.210e+00, 5.330e+00, 5.750e+00, 5.400e+00, 8.250e+00,\n",
       "       5.510e+00, 8.470e+00, 5.960e+00, 5.640e+00, 4.250e+00, 7.900e+00,\n",
       "       8.430e+00, 5.800e+00, 4.170e+00, 6.200e+00, 6.410e+00, 8.740e+00,\n",
       "       4.480e+00, 5.270e+00, 6.120e+00, 7.110e+00, 7.750e+00, 6.720e+00,\n",
       "       5.660e+00, 1.352e+01, 6.060e+00, 6.750e+00, 6.460e+00, 5.650e+00,\n",
       "       5.300e+00, 5.260e+00, 6.280e+00, 1.160e+01, 6.790e+00, 5.530e+00,\n",
       "       5.550e+00, 4.800e+00, 8.720e+00, 5.280e+00, 4.660e+00, 9.600e+00,\n",
       "       5.760e+00, 5.470e+00, 6.810e+00, 9.100e+00, 6.310e+00, 1.032e+01,\n",
       "       6.960e+00, 4.690e+00, 5.630e+00, 5.070e+00, 6.490e+00, 6.000e+00,\n",
       "       5.480e+00, 6.220e+00, 4.890e+00, 6.110e+00, 5.950e+00, 5.900e+00,\n",
       "       5.240e+00, 5.670e+00, 7.740e+00, 6.100e+00, 8.100e+00, 5.220e+00,\n",
       "       8.570e+00, 8.980e+00, 5.780e+00, 1.132e+01, 7.300e+00, 6.430e+00,\n",
       "       4.950e+00, 9.440e+00, 4.830e+00, 9.130e+00, 1.141e+01, 6.590e+00,\n",
       "       6.160e+00, 5.680e+00, 7.180e+00, 5.340e+00, 5.570e+00, 5.620e+00,\n",
       "       8.220e+00, 5.790e+00, 1.103e+01, 7.120e+00, 6.890e+00, 5.590e+00,\n",
       "       7.920e+00, 4.880e+00, 7.660e+00, 5.880e+00, 7.090e+00, 5.580e+00,\n",
       "       7.000e+00, 7.860e+00, 6.820e+00, 1.125e+01, 1.054e+01, 5.250e+00,\n",
       "       9.090e+00])"
      ]
     },
     "execution_count": 91,
     "metadata": {},
     "output_type": "execute_result"
    }
   ],
   "source": [
    "df_eda['reviews_per_month'].unique()\n"
   ]
  },
  {
   "cell_type": "code",
   "execution_count": null,
   "id": "cc919159",
   "metadata": {},
   "outputs": [],
   "source": []
  },
  {
   "cell_type": "code",
   "execution_count": null,
   "id": "cc821d21",
   "metadata": {},
   "outputs": [],
   "source": []
  },
  {
   "cell_type": "markdown",
   "id": "7b92e708",
   "metadata": {},
   "source": [
    "\"listing_url\"\n"
   ]
  },
  {
   "cell_type": "code",
   "execution_count": 109,
   "id": "ab4297f6",
   "metadata": {},
   "outputs": [
    {
     "data": {
      "text/html": [
       "<div>\n",
       "<style scoped>\n",
       "    .dataframe tbody tr th:only-of-type {\n",
       "        vertical-align: middle;\n",
       "    }\n",
       "\n",
       "    .dataframe tbody tr th {\n",
       "        vertical-align: top;\n",
       "    }\n",
       "\n",
       "    .dataframe thead th {\n",
       "        text-align: right;\n",
       "    }\n",
       "</style>\n",
       "<table border=\"1\" class=\"dataframe\">\n",
       "  <thead>\n",
       "    <tr style=\"text-align: right;\">\n",
       "      <th></th>\n",
       "      <th>Columns</th>\n",
       "      <th>Type</th>\n",
       "      <th>Unique</th>\n",
       "      <th>Size</th>\n",
       "      <th>Missing</th>\n",
       "      <th>% Unique</th>\n",
       "      <th>% Missing</th>\n",
       "    </tr>\n",
       "  </thead>\n",
       "  <tbody>\n",
       "    <tr>\n",
       "      <th>listing_url</th>\n",
       "      <td>listing_url</td>\n",
       "      <td>object</td>\n",
       "      <td>36008</td>\n",
       "      <td>36008</td>\n",
       "      <td>0</td>\n",
       "      <td>1.0</td>\n",
       "      <td>0.0</td>\n",
       "    </tr>\n",
       "  </tbody>\n",
       "</table>\n",
       "</div>"
      ],
      "text/plain": [
       "                 Columns    Type  Unique   Size  Missing  % Unique  % Missing\n",
       "listing_url  listing_url  object   36008  36008        0       1.0        0.0"
      ]
     },
     "execution_count": 109,
     "metadata": {},
     "output_type": "execute_result"
    }
   ],
   "source": [
    "df_info[df_info.index =='listing_url']"
   ]
  },
  {
   "cell_type": "code",
   "execution_count": 108,
   "id": "fa55919e",
   "metadata": {},
   "outputs": [
    {
     "data": {
      "text/plain": [
       "array(['https://www.airbnb.com/rooms/17878',\n",
       "       'https://www.airbnb.com/rooms/25026',\n",
       "       'https://www.airbnb.com/rooms/35764', ...,\n",
       "       'https://www.airbnb.com/rooms/1053789340172837654',\n",
       "       'https://www.airbnb.com/rooms/1053808194231554793',\n",
       "       'https://www.airbnb.com/rooms/1053823261878675052'], dtype=object)"
      ]
     },
     "execution_count": 108,
     "metadata": {},
     "output_type": "execute_result"
    }
   ],
   "source": [
    "df_eda['listing_url'].unique()"
   ]
  },
  {
   "cell_type": "markdown",
   "id": "8dccde9b",
   "metadata": {},
   "source": [
    "- \"scrape_id\"\n"
   ]
  },
  {
   "cell_type": "code",
   "execution_count": 115,
   "id": "e703fed6",
   "metadata": {},
   "outputs": [
    {
     "data": {
      "text/html": [
       "<div>\n",
       "<style scoped>\n",
       "    .dataframe tbody tr th:only-of-type {\n",
       "        vertical-align: middle;\n",
       "    }\n",
       "\n",
       "    .dataframe tbody tr th {\n",
       "        vertical-align: top;\n",
       "    }\n",
       "\n",
       "    .dataframe thead th {\n",
       "        text-align: right;\n",
       "    }\n",
       "</style>\n",
       "<table border=\"1\" class=\"dataframe\">\n",
       "  <thead>\n",
       "    <tr style=\"text-align: right;\">\n",
       "      <th></th>\n",
       "      <th>Columns</th>\n",
       "      <th>Type</th>\n",
       "      <th>Unique</th>\n",
       "      <th>Size</th>\n",
       "      <th>Missing</th>\n",
       "      <th>% Unique</th>\n",
       "      <th>% Missing</th>\n",
       "    </tr>\n",
       "  </thead>\n",
       "  <tbody>\n",
       "    <tr>\n",
       "      <th>scrape_id</th>\n",
       "      <td>scrape_id</td>\n",
       "      <td>int64</td>\n",
       "      <td>1</td>\n",
       "      <td>36008</td>\n",
       "      <td>0</td>\n",
       "      <td>0.000028</td>\n",
       "      <td>0.0</td>\n",
       "    </tr>\n",
       "  </tbody>\n",
       "</table>\n",
       "</div>"
      ],
      "text/plain": [
       "             Columns   Type  Unique   Size  Missing  % Unique  % Missing\n",
       "scrape_id  scrape_id  int64       1  36008        0  0.000028        0.0"
      ]
     },
     "execution_count": 115,
     "metadata": {},
     "output_type": "execute_result"
    }
   ],
   "source": [
    "df_info[df_info.index =='scrape_id']"
   ]
  },
  {
   "cell_type": "code",
   "execution_count": 114,
   "id": "f1d3d284",
   "metadata": {},
   "outputs": [
    {
     "data": {
      "text/plain": [
       "array([20231226034138], dtype=int64)"
      ]
     },
     "execution_count": 114,
     "metadata": {},
     "output_type": "execute_result"
    }
   ],
   "source": [
    "df_eda['scrape_id'].unique()"
   ]
  },
  {
   "cell_type": "code",
   "execution_count": null,
   "id": "e87f04c8",
   "metadata": {},
   "outputs": [],
   "source": []
  },
  {
   "cell_type": "code",
   "execution_count": null,
   "id": "39fbab5c",
   "metadata": {},
   "outputs": [],
   "source": []
  },
  {
   "cell_type": "markdown",
   "id": "182aefa5",
   "metadata": {},
   "source": [
    "- \"last_scraped\"\n"
   ]
  },
  {
   "cell_type": "code",
   "execution_count": 117,
   "id": "29f802f5",
   "metadata": {},
   "outputs": [
    {
     "data": {
      "text/html": [
       "<div>\n",
       "<style scoped>\n",
       "    .dataframe tbody tr th:only-of-type {\n",
       "        vertical-align: middle;\n",
       "    }\n",
       "\n",
       "    .dataframe tbody tr th {\n",
       "        vertical-align: top;\n",
       "    }\n",
       "\n",
       "    .dataframe thead th {\n",
       "        text-align: right;\n",
       "    }\n",
       "</style>\n",
       "<table border=\"1\" class=\"dataframe\">\n",
       "  <thead>\n",
       "    <tr style=\"text-align: right;\">\n",
       "      <th></th>\n",
       "      <th>Columns</th>\n",
       "      <th>Type</th>\n",
       "      <th>Unique</th>\n",
       "      <th>Size</th>\n",
       "      <th>Missing</th>\n",
       "      <th>% Unique</th>\n",
       "      <th>% Missing</th>\n",
       "    </tr>\n",
       "  </thead>\n",
       "  <tbody>\n",
       "    <tr>\n",
       "      <th>last_scraped</th>\n",
       "      <td>last_scraped</td>\n",
       "      <td>object</td>\n",
       "      <td>5</td>\n",
       "      <td>36008</td>\n",
       "      <td>0</td>\n",
       "      <td>0.000139</td>\n",
       "      <td>0.0</td>\n",
       "    </tr>\n",
       "  </tbody>\n",
       "</table>\n",
       "</div>"
      ],
      "text/plain": [
       "                   Columns    Type  Unique   Size  Missing  % Unique  \\\n",
       "last_scraped  last_scraped  object       5  36008        0  0.000139   \n",
       "\n",
       "              % Missing  \n",
       "last_scraped        0.0  "
      ]
     },
     "execution_count": 117,
     "metadata": {},
     "output_type": "execute_result"
    }
   ],
   "source": [
    "df_info[df_info.index =='last_scraped']"
   ]
  },
  {
   "cell_type": "code",
   "execution_count": 116,
   "id": "c5779b60",
   "metadata": {},
   "outputs": [
    {
     "data": {
      "text/plain": [
       "array(['2023-12-27', '2023-12-26', '2023-12-28', '2023-12-30',\n",
       "       '2023-12-29'], dtype=object)"
      ]
     },
     "execution_count": 116,
     "metadata": {},
     "output_type": "execute_result"
    }
   ],
   "source": [
    "df_eda['last_scraped'].unique()"
   ]
  },
  {
   "cell_type": "markdown",
   "id": "f93295c6",
   "metadata": {},
   "source": [
    "- \"source\"\n"
   ]
  },
  {
   "cell_type": "code",
   "execution_count": 118,
   "id": "5b872263",
   "metadata": {},
   "outputs": [
    {
     "data": {
      "text/html": [
       "<div>\n",
       "<style scoped>\n",
       "    .dataframe tbody tr th:only-of-type {\n",
       "        vertical-align: middle;\n",
       "    }\n",
       "\n",
       "    .dataframe tbody tr th {\n",
       "        vertical-align: top;\n",
       "    }\n",
       "\n",
       "    .dataframe thead th {\n",
       "        text-align: right;\n",
       "    }\n",
       "</style>\n",
       "<table border=\"1\" class=\"dataframe\">\n",
       "  <thead>\n",
       "    <tr style=\"text-align: right;\">\n",
       "      <th></th>\n",
       "      <th>Columns</th>\n",
       "      <th>Type</th>\n",
       "      <th>Unique</th>\n",
       "      <th>Size</th>\n",
       "      <th>Missing</th>\n",
       "      <th>% Unique</th>\n",
       "      <th>% Missing</th>\n",
       "    </tr>\n",
       "  </thead>\n",
       "  <tbody>\n",
       "    <tr>\n",
       "      <th>source</th>\n",
       "      <td>source</td>\n",
       "      <td>object</td>\n",
       "      <td>2</td>\n",
       "      <td>36008</td>\n",
       "      <td>0</td>\n",
       "      <td>0.000056</td>\n",
       "      <td>0.0</td>\n",
       "    </tr>\n",
       "  </tbody>\n",
       "</table>\n",
       "</div>"
      ],
      "text/plain": [
       "       Columns    Type  Unique   Size  Missing  % Unique  % Missing\n",
       "source  source  object       2  36008        0  0.000056        0.0"
      ]
     },
     "execution_count": 118,
     "metadata": {},
     "output_type": "execute_result"
    }
   ],
   "source": [
    "df_info[df_info.index =='source']"
   ]
  },
  {
   "cell_type": "code",
   "execution_count": 119,
   "id": "ebc72aef",
   "metadata": {},
   "outputs": [
    {
     "data": {
      "text/plain": [
       "array(['city scrape', 'previous scrape'], dtype=object)"
      ]
     },
     "execution_count": 119,
     "metadata": {},
     "output_type": "execute_result"
    }
   ],
   "source": [
    "df_eda['source'].unique()"
   ]
  },
  {
   "cell_type": "markdown",
   "id": "1d86e1d6",
   "metadata": {},
   "source": [
    "- \"name\"\n"
   ]
  },
  {
   "cell_type": "code",
   "execution_count": 123,
   "id": "32ed87b9",
   "metadata": {},
   "outputs": [
    {
     "data": {
      "text/html": [
       "<div>\n",
       "<style scoped>\n",
       "    .dataframe tbody tr th:only-of-type {\n",
       "        vertical-align: middle;\n",
       "    }\n",
       "\n",
       "    .dataframe tbody tr th {\n",
       "        vertical-align: top;\n",
       "    }\n",
       "\n",
       "    .dataframe thead th {\n",
       "        text-align: right;\n",
       "    }\n",
       "</style>\n",
       "<table border=\"1\" class=\"dataframe\">\n",
       "  <thead>\n",
       "    <tr style=\"text-align: right;\">\n",
       "      <th></th>\n",
       "      <th>Columns</th>\n",
       "      <th>Type</th>\n",
       "      <th>Unique</th>\n",
       "      <th>Size</th>\n",
       "      <th>Missing</th>\n",
       "      <th>% Unique</th>\n",
       "      <th>% Missing</th>\n",
       "    </tr>\n",
       "  </thead>\n",
       "  <tbody>\n",
       "    <tr>\n",
       "      <th>name</th>\n",
       "      <td>name</td>\n",
       "      <td>object</td>\n",
       "      <td>14150</td>\n",
       "      <td>36008</td>\n",
       "      <td>0</td>\n",
       "      <td>0.392968</td>\n",
       "      <td>0.0</td>\n",
       "    </tr>\n",
       "  </tbody>\n",
       "</table>\n",
       "</div>"
      ],
      "text/plain": [
       "     Columns    Type  Unique   Size  Missing  % Unique  % Missing\n",
       "name    name  object   14150  36008        0  0.392968        0.0"
      ]
     },
     "execution_count": 123,
     "metadata": {},
     "output_type": "execute_result"
    }
   ],
   "source": [
    "df_info[df_info.index =='name']"
   ]
  },
  {
   "cell_type": "code",
   "execution_count": 124,
   "id": "3bdef072",
   "metadata": {},
   "outputs": [
    {
     "data": {
      "text/plain": [
       "array(['Condo in Rio de Janeiro · ★4.70 · 2 bedrooms · 2 beds · 1 bath',\n",
       "       'Rental unit in Rio de Janeiro · ★4.72 · 1 bedroom · 1 bed · 1 bath',\n",
       "       'Loft in Rio de Janeiro · ★4.90 · 1 bedroom · 1 bed · 1.5 baths',\n",
       "       ...,\n",
       "       'Rental unit in Rio de Janeiro · ★New · Studio · 5 beds · 1 bath',\n",
       "       'Home in Rio de Janeiro · ★New · 5 bedrooms · 6 beds · 6.5 baths',\n",
       "       'Home in Rio de Janeiro · ★New · 1 bedroom · 4 beds · 1 bath'],\n",
       "      dtype=object)"
      ]
     },
     "execution_count": 124,
     "metadata": {},
     "output_type": "execute_result"
    }
   ],
   "source": [
    "df_eda['name'].unique()"
   ]
  },
  {
   "cell_type": "code",
   "execution_count": null,
   "id": "264cbfc0",
   "metadata": {},
   "outputs": [],
   "source": []
  },
  {
   "cell_type": "code",
   "execution_count": null,
   "id": "ead21028",
   "metadata": {},
   "outputs": [],
   "source": []
  },
  {
   "cell_type": "markdown",
   "id": "68fc2679",
   "metadata": {},
   "source": [
    "- \"picture_url\"\n"
   ]
  },
  {
   "cell_type": "code",
   "execution_count": 125,
   "id": "e5aa4f29",
   "metadata": {},
   "outputs": [
    {
     "data": {
      "text/html": [
       "<div>\n",
       "<style scoped>\n",
       "    .dataframe tbody tr th:only-of-type {\n",
       "        vertical-align: middle;\n",
       "    }\n",
       "\n",
       "    .dataframe tbody tr th {\n",
       "        vertical-align: top;\n",
       "    }\n",
       "\n",
       "    .dataframe thead th {\n",
       "        text-align: right;\n",
       "    }\n",
       "</style>\n",
       "<table border=\"1\" class=\"dataframe\">\n",
       "  <thead>\n",
       "    <tr style=\"text-align: right;\">\n",
       "      <th></th>\n",
       "      <th>Columns</th>\n",
       "      <th>Type</th>\n",
       "      <th>Unique</th>\n",
       "      <th>Size</th>\n",
       "      <th>Missing</th>\n",
       "      <th>% Unique</th>\n",
       "      <th>% Missing</th>\n",
       "    </tr>\n",
       "  </thead>\n",
       "  <tbody>\n",
       "    <tr>\n",
       "      <th>picture_url</th>\n",
       "      <td>picture_url</td>\n",
       "      <td>object</td>\n",
       "      <td>35265</td>\n",
       "      <td>36008</td>\n",
       "      <td>0</td>\n",
       "      <td>0.979366</td>\n",
       "      <td>0.0</td>\n",
       "    </tr>\n",
       "  </tbody>\n",
       "</table>\n",
       "</div>"
      ],
      "text/plain": [
       "                 Columns    Type  Unique   Size  Missing  % Unique  % Missing\n",
       "picture_url  picture_url  object   35265  36008        0  0.979366        0.0"
      ]
     },
     "execution_count": 125,
     "metadata": {},
     "output_type": "execute_result"
    }
   ],
   "source": [
    "df_info[df_info.index =='picture_url']"
   ]
  },
  {
   "cell_type": "code",
   "execution_count": 126,
   "id": "9c9deafd",
   "metadata": {},
   "outputs": [
    {
     "data": {
      "text/plain": [
       "array(['https://a0.muscache.com/pictures/65320518/30698f38_original.jpg',\n",
       "       'https://a0.muscache.com/pictures/a745aa21-b8dd-4959-a040-eb8e6e6f07ee.jpg',\n",
       "       'https://a0.muscache.com/pictures/23782972/1d3e55b0_original.jpg',\n",
       "       ...,\n",
       "       'https://a0.muscache.com/pictures/miso/Hosting-1053789340172837654/original/f4ff3194-fc5b-430a-808b-08a0e7c38205.jpeg',\n",
       "       'https://a0.muscache.com/pictures/hosting/Hosting-1053808194231554793/original/5a0f8d6f-2b9c-47c4-b903-ce0273419883.jpeg',\n",
       "       'https://a0.muscache.com/pictures/miso/Hosting-1053823261878675052/original/e50828b0-f968-40da-91a3-14a36009838e.jpeg'],\n",
       "      dtype=object)"
      ]
     },
     "execution_count": 126,
     "metadata": {},
     "output_type": "execute_result"
    }
   ],
   "source": [
    "df_eda['picture_url'].unique()"
   ]
  },
  {
   "cell_type": "markdown",
   "id": "85de66e3",
   "metadata": {},
   "source": [
    "- \"host_id\"\n"
   ]
  },
  {
   "cell_type": "code",
   "execution_count": 127,
   "id": "37243c5d",
   "metadata": {},
   "outputs": [
    {
     "data": {
      "text/html": [
       "<div>\n",
       "<style scoped>\n",
       "    .dataframe tbody tr th:only-of-type {\n",
       "        vertical-align: middle;\n",
       "    }\n",
       "\n",
       "    .dataframe tbody tr th {\n",
       "        vertical-align: top;\n",
       "    }\n",
       "\n",
       "    .dataframe thead th {\n",
       "        text-align: right;\n",
       "    }\n",
       "</style>\n",
       "<table border=\"1\" class=\"dataframe\">\n",
       "  <thead>\n",
       "    <tr style=\"text-align: right;\">\n",
       "      <th></th>\n",
       "      <th>Columns</th>\n",
       "      <th>Type</th>\n",
       "      <th>Unique</th>\n",
       "      <th>Size</th>\n",
       "      <th>Missing</th>\n",
       "      <th>% Unique</th>\n",
       "      <th>% Missing</th>\n",
       "    </tr>\n",
       "  </thead>\n",
       "  <tbody>\n",
       "    <tr>\n",
       "      <th>host_id</th>\n",
       "      <td>host_id</td>\n",
       "      <td>int64</td>\n",
       "      <td>21980</td>\n",
       "      <td>36008</td>\n",
       "      <td>0</td>\n",
       "      <td>0.61042</td>\n",
       "      <td>0.0</td>\n",
       "    </tr>\n",
       "  </tbody>\n",
       "</table>\n",
       "</div>"
      ],
      "text/plain": [
       "         Columns   Type  Unique   Size  Missing  % Unique  % Missing\n",
       "host_id  host_id  int64   21980  36008        0   0.61042        0.0"
      ]
     },
     "execution_count": 127,
     "metadata": {},
     "output_type": "execute_result"
    }
   ],
   "source": [
    "df_info[df_info.index =='host_id']"
   ]
  },
  {
   "cell_type": "code",
   "execution_count": 128,
   "id": "8ac13d10",
   "metadata": {},
   "outputs": [
    {
     "data": {
      "text/plain": [
       "array([    68997,    102840,    153691, ..., 206898000, 536983374,\n",
       "          694816], dtype=int64)"
      ]
     },
     "execution_count": 128,
     "metadata": {},
     "output_type": "execute_result"
    }
   ],
   "source": [
    "df_eda['host_id'].unique()"
   ]
  },
  {
   "cell_type": "markdown",
   "id": "aab04f11",
   "metadata": {},
   "source": [
    "- \"host_url\"\n"
   ]
  },
  {
   "cell_type": "code",
   "execution_count": 131,
   "id": "b49b5ad1",
   "metadata": {},
   "outputs": [
    {
     "data": {
      "text/html": [
       "<div>\n",
       "<style scoped>\n",
       "    .dataframe tbody tr th:only-of-type {\n",
       "        vertical-align: middle;\n",
       "    }\n",
       "\n",
       "    .dataframe tbody tr th {\n",
       "        vertical-align: top;\n",
       "    }\n",
       "\n",
       "    .dataframe thead th {\n",
       "        text-align: right;\n",
       "    }\n",
       "</style>\n",
       "<table border=\"1\" class=\"dataframe\">\n",
       "  <thead>\n",
       "    <tr style=\"text-align: right;\">\n",
       "      <th></th>\n",
       "      <th>Columns</th>\n",
       "      <th>Type</th>\n",
       "      <th>Unique</th>\n",
       "      <th>Size</th>\n",
       "      <th>Missing</th>\n",
       "      <th>% Unique</th>\n",
       "      <th>% Missing</th>\n",
       "    </tr>\n",
       "  </thead>\n",
       "  <tbody>\n",
       "    <tr>\n",
       "      <th>host_url</th>\n",
       "      <td>host_url</td>\n",
       "      <td>object</td>\n",
       "      <td>21980</td>\n",
       "      <td>36008</td>\n",
       "      <td>0</td>\n",
       "      <td>0.61042</td>\n",
       "      <td>0.0</td>\n",
       "    </tr>\n",
       "  </tbody>\n",
       "</table>\n",
       "</div>"
      ],
      "text/plain": [
       "           Columns    Type  Unique   Size  Missing  % Unique  % Missing\n",
       "host_url  host_url  object   21980  36008        0   0.61042        0.0"
      ]
     },
     "execution_count": 131,
     "metadata": {},
     "output_type": "execute_result"
    }
   ],
   "source": [
    "df_info[df_info.index =='host_url']"
   ]
  },
  {
   "cell_type": "code",
   "execution_count": 132,
   "id": "0c532d54",
   "metadata": {},
   "outputs": [
    {
     "data": {
      "text/plain": [
       "array(['https://www.airbnb.com/users/show/68997',\n",
       "       'https://www.airbnb.com/users/show/102840',\n",
       "       'https://www.airbnb.com/users/show/153691', ...,\n",
       "       'https://www.airbnb.com/users/show/206898000',\n",
       "       'https://www.airbnb.com/users/show/536983374',\n",
       "       'https://www.airbnb.com/users/show/694816'], dtype=object)"
      ]
     },
     "execution_count": 132,
     "metadata": {},
     "output_type": "execute_result"
    }
   ],
   "source": [
    "df_eda['host_url'].unique()"
   ]
  },
  {
   "cell_type": "markdown",
   "id": "fea74224",
   "metadata": {},
   "source": [
    "- \"host_verifications\"\n"
   ]
  },
  {
   "cell_type": "code",
   "execution_count": 133,
   "id": "d1cc0957",
   "metadata": {},
   "outputs": [
    {
     "data": {
      "text/html": [
       "<div>\n",
       "<style scoped>\n",
       "    .dataframe tbody tr th:only-of-type {\n",
       "        vertical-align: middle;\n",
       "    }\n",
       "\n",
       "    .dataframe tbody tr th {\n",
       "        vertical-align: top;\n",
       "    }\n",
       "\n",
       "    .dataframe thead th {\n",
       "        text-align: right;\n",
       "    }\n",
       "</style>\n",
       "<table border=\"1\" class=\"dataframe\">\n",
       "  <thead>\n",
       "    <tr style=\"text-align: right;\">\n",
       "      <th></th>\n",
       "      <th>Columns</th>\n",
       "      <th>Type</th>\n",
       "      <th>Unique</th>\n",
       "      <th>Size</th>\n",
       "      <th>Missing</th>\n",
       "      <th>% Unique</th>\n",
       "      <th>% Missing</th>\n",
       "    </tr>\n",
       "  </thead>\n",
       "  <tbody>\n",
       "    <tr>\n",
       "      <th>host_verifications</th>\n",
       "      <td>host_verifications</td>\n",
       "      <td>object</td>\n",
       "      <td>8</td>\n",
       "      <td>36008</td>\n",
       "      <td>9</td>\n",
       "      <td>0.000222</td>\n",
       "      <td>0.00025</td>\n",
       "    </tr>\n",
       "  </tbody>\n",
       "</table>\n",
       "</div>"
      ],
      "text/plain": [
       "                               Columns    Type  Unique   Size  Missing  \\\n",
       "host_verifications  host_verifications  object       8  36008        9   \n",
       "\n",
       "                    % Unique  % Missing  \n",
       "host_verifications  0.000222    0.00025  "
      ]
     },
     "execution_count": 133,
     "metadata": {},
     "output_type": "execute_result"
    }
   ],
   "source": [
    "df_info[df_info.index =='host_verifications']"
   ]
  },
  {
   "cell_type": "code",
   "execution_count": 134,
   "id": "62f373a1",
   "metadata": {},
   "outputs": [
    {
     "data": {
      "text/plain": [
       "array([\"['email', 'phone']\", \"['email', 'phone', 'work_email']\",\n",
       "       \"['phone']\", \"['email']\", \"['phone', 'work_email']\", nan, '[]',\n",
       "       \"['email', 'work_email']\", \"['email', 'phone', 'photographer']\"],\n",
       "      dtype=object)"
      ]
     },
     "execution_count": 134,
     "metadata": {},
     "output_type": "execute_result"
    }
   ],
   "source": [
    "df_eda['host_verifications'].unique()"
   ]
  },
  {
   "cell_type": "markdown",
   "id": "6c23108e",
   "metadata": {},
   "source": [
    "- \"neighbourhood_cleansed\"\n"
   ]
  },
  {
   "cell_type": "code",
   "execution_count": 135,
   "id": "8594c753",
   "metadata": {},
   "outputs": [
    {
     "data": {
      "text/html": [
       "<div>\n",
       "<style scoped>\n",
       "    .dataframe tbody tr th:only-of-type {\n",
       "        vertical-align: middle;\n",
       "    }\n",
       "\n",
       "    .dataframe tbody tr th {\n",
       "        vertical-align: top;\n",
       "    }\n",
       "\n",
       "    .dataframe thead th {\n",
       "        text-align: right;\n",
       "    }\n",
       "</style>\n",
       "<table border=\"1\" class=\"dataframe\">\n",
       "  <thead>\n",
       "    <tr style=\"text-align: right;\">\n",
       "      <th></th>\n",
       "      <th>Columns</th>\n",
       "      <th>Type</th>\n",
       "      <th>Unique</th>\n",
       "      <th>Size</th>\n",
       "      <th>Missing</th>\n",
       "      <th>% Unique</th>\n",
       "      <th>% Missing</th>\n",
       "    </tr>\n",
       "  </thead>\n",
       "  <tbody>\n",
       "    <tr>\n",
       "      <th>neighbourhood_cleansed</th>\n",
       "      <td>neighbourhood_cleansed</td>\n",
       "      <td>object</td>\n",
       "      <td>156</td>\n",
       "      <td>36008</td>\n",
       "      <td>0</td>\n",
       "      <td>0.004332</td>\n",
       "      <td>0.0</td>\n",
       "    </tr>\n",
       "  </tbody>\n",
       "</table>\n",
       "</div>"
      ],
      "text/plain": [
       "                                       Columns    Type  Unique   Size  \\\n",
       "neighbourhood_cleansed  neighbourhood_cleansed  object     156  36008   \n",
       "\n",
       "                        Missing  % Unique  % Missing  \n",
       "neighbourhood_cleansed        0  0.004332        0.0  "
      ]
     },
     "execution_count": 135,
     "metadata": {},
     "output_type": "execute_result"
    }
   ],
   "source": [
    "df_info[df_info.index =='neighbourhood_cleansed']"
   ]
  },
  {
   "cell_type": "code",
   "execution_count": 136,
   "id": "e7bce733",
   "metadata": {},
   "outputs": [
    {
     "data": {
      "text/plain": [
       "array(['Copacabana', 'Flamengo', 'Ipanema', 'Laranjeiras', 'Santa Teresa',\n",
       "       'Tijuca', 'Barra da Tijuca', 'Jacarepaguá', 'Jardim Botânico',\n",
       "       'Leblon', 'Joá', 'Leme', 'Vila da Penha', 'Botafogo', 'Centro',\n",
       "       'Gávea', 'Lagoa', 'Vidigal', 'Recreio dos Bandeirantes',\n",
       "       'Santo Cristo', 'Humaitá', 'Itanhangá', 'São Conrado',\n",
       "       'Praça Seca', 'Glória', 'Urca', 'Vargem Pequena', 'Saúde',\n",
       "       'Alto da Boa Vista', 'Cosme Velho', 'Vargem Grande',\n",
       "       'Penha Circular', 'Taquara', 'Jardim Sulacap', 'Estácio',\n",
       "       'Rocinha', 'Rio Comprido', 'Praça da Bandeira', 'Gamboa', 'Cosmos',\n",
       "       'Bonsucesso', 'Barra de Guaratiba', 'Piedade', 'Senador Camará',\n",
       "       'Bangu', 'Catete', 'Maracanã', 'Curicica', 'Engenho Novo',\n",
       "       'Vila Isabel', 'Andaraí', 'Cidade Nova', 'São Francisco Xavier',\n",
       "       'Guaratiba', 'Anil', 'Cachambi', 'Lins de Vasconcelos',\n",
       "       'Santa Cruz', 'Cavalcanti', 'Todos os Santos', 'Marechal Hermes',\n",
       "       'Freguesia (Jacarepaguá)', 'Paciência', 'Grajaú',\n",
       "       'Engenho de Dentro', 'Portuguesa', 'Campinho', 'Higienópolis',\n",
       "       'São Cristóvão', 'Camorim', 'Jacaré', 'Rocha Miranda', 'Riachuelo',\n",
       "       'Catumbi', 'Maria da Graça', 'Barros Filho', 'Gardênia Azul',\n",
       "       'Inhaúma', 'Campo Grande', 'Ricardo de Albuquerque', 'Pilares',\n",
       "       'Parada de Lucas', 'Pavuna', 'Penha', 'Del Castilho',\n",
       "       'Quintino Bocaiúva', 'Brás de Pina', 'Jardim Guanabara', 'Moneró',\n",
       "       'Madureira', 'Inhoaíba', 'Cidade de Deus', 'Irajá', 'Tauá',\n",
       "       'Pechincha', 'Gericinó', 'Sampaio', 'Rocha', 'Santíssimo',\n",
       "       'Encantado', 'Méier', 'Abolição', 'Realengo', 'Vila Valqueire',\n",
       "       'Bancários', 'Anchieta', 'Paquetá', 'Tomás Coelho', 'Guadalupe',\n",
       "       'Ramos', 'Parque Anchieta', 'Vasco da Gama', 'Pedra de Guaratiba',\n",
       "       'Bento Ribeiro', 'Osvaldo Cruz', 'Tanque', 'Vaz Lobo',\n",
       "       'Água Santa', 'Cocotá', 'Jardim Carioca', 'Zumbi', 'Sepetiba',\n",
       "       'Complexo do Alemão', 'Vicente de Carvalho', 'Cacuia',\n",
       "       'Engenho da Rainha', 'Padre Miguel', 'Praia da Bandeira',\n",
       "       'Freguesia (Ilha)', 'Vigário Geral', 'Cascadura',\n",
       "       'Senador Vasconcelos', 'Grumari', 'Cordovil', 'Honório Gurgel',\n",
       "       'Coelho Neto', 'Caju', 'Vila Kosmos', 'Acari', 'Olaria', 'Benfica',\n",
       "       'Jacarezinho', 'Vila Militar', 'Cidade Universitária',\n",
       "       'Magalhães Bastos', 'Deodoro', 'Pitangueiras', 'Ribeira',\n",
       "       'Jardim América', 'Galeão', 'Turiaçú', 'Colégio',\n",
       "       'Engenheiro Leal', 'Maré', 'Mangueira', 'Manguinhos'], dtype=object)"
      ]
     },
     "execution_count": 136,
     "metadata": {},
     "output_type": "execute_result"
    }
   ],
   "source": [
    "df_eda['neighbourhood_cleansed'].unique()"
   ]
  },
  {
   "cell_type": "markdown",
   "id": "089977a0",
   "metadata": {},
   "source": [
    "- \"latitude\"\n"
   ]
  },
  {
   "cell_type": "code",
   "execution_count": 137,
   "id": "c994e2e8",
   "metadata": {},
   "outputs": [
    {
     "data": {
      "text/html": [
       "<div>\n",
       "<style scoped>\n",
       "    .dataframe tbody tr th:only-of-type {\n",
       "        vertical-align: middle;\n",
       "    }\n",
       "\n",
       "    .dataframe tbody tr th {\n",
       "        vertical-align: top;\n",
       "    }\n",
       "\n",
       "    .dataframe thead th {\n",
       "        text-align: right;\n",
       "    }\n",
       "</style>\n",
       "<table border=\"1\" class=\"dataframe\">\n",
       "  <thead>\n",
       "    <tr style=\"text-align: right;\">\n",
       "      <th></th>\n",
       "      <th>Columns</th>\n",
       "      <th>Type</th>\n",
       "      <th>Unique</th>\n",
       "      <th>Size</th>\n",
       "      <th>Missing</th>\n",
       "      <th>% Unique</th>\n",
       "      <th>% Missing</th>\n",
       "    </tr>\n",
       "  </thead>\n",
       "  <tbody>\n",
       "    <tr>\n",
       "      <th>latitude</th>\n",
       "      <td>latitude</td>\n",
       "      <td>float64</td>\n",
       "      <td>20707</td>\n",
       "      <td>36008</td>\n",
       "      <td>0</td>\n",
       "      <td>0.575067</td>\n",
       "      <td>0.0</td>\n",
       "    </tr>\n",
       "  </tbody>\n",
       "</table>\n",
       "</div>"
      ],
      "text/plain": [
       "           Columns     Type  Unique   Size  Missing  % Unique  % Missing\n",
       "latitude  latitude  float64   20707  36008        0  0.575067        0.0"
      ]
     },
     "execution_count": 137,
     "metadata": {},
     "output_type": "execute_result"
    }
   ],
   "source": [
    "df_info[df_info.index =='latitude']"
   ]
  },
  {
   "cell_type": "code",
   "execution_count": 138,
   "id": "94e50255",
   "metadata": {},
   "outputs": [
    {
     "data": {
      "text/plain": [
       "array([-22.96599   , -22.97735   , -22.98107   , ..., -22.98054655,\n",
       "       -22.96833955, -22.91224091])"
      ]
     },
     "execution_count": 138,
     "metadata": {},
     "output_type": "execute_result"
    }
   ],
   "source": [
    "df_eda['latitude'].unique()"
   ]
  },
  {
   "cell_type": "markdown",
   "id": "8734ed57",
   "metadata": {},
   "source": [
    "- \"longitude\"\n"
   ]
  },
  {
   "cell_type": "code",
   "execution_count": 139,
   "id": "682e1178",
   "metadata": {},
   "outputs": [
    {
     "data": {
      "text/html": [
       "<div>\n",
       "<style scoped>\n",
       "    .dataframe tbody tr th:only-of-type {\n",
       "        vertical-align: middle;\n",
       "    }\n",
       "\n",
       "    .dataframe tbody tr th {\n",
       "        vertical-align: top;\n",
       "    }\n",
       "\n",
       "    .dataframe thead th {\n",
       "        text-align: right;\n",
       "    }\n",
       "</style>\n",
       "<table border=\"1\" class=\"dataframe\">\n",
       "  <thead>\n",
       "    <tr style=\"text-align: right;\">\n",
       "      <th></th>\n",
       "      <th>Columns</th>\n",
       "      <th>Type</th>\n",
       "      <th>Unique</th>\n",
       "      <th>Size</th>\n",
       "      <th>Missing</th>\n",
       "      <th>% Unique</th>\n",
       "      <th>% Missing</th>\n",
       "    </tr>\n",
       "  </thead>\n",
       "  <tbody>\n",
       "    <tr>\n",
       "      <th>longitude</th>\n",
       "      <td>longitude</td>\n",
       "      <td>float64</td>\n",
       "      <td>22606</td>\n",
       "      <td>36008</td>\n",
       "      <td>0</td>\n",
       "      <td>0.627805</td>\n",
       "      <td>0.0</td>\n",
       "    </tr>\n",
       "  </tbody>\n",
       "</table>\n",
       "</div>"
      ],
      "text/plain": [
       "             Columns     Type  Unique   Size  Missing  % Unique  % Missing\n",
       "longitude  longitude  float64   22606  36008        0  0.627805        0.0"
      ]
     },
     "execution_count": 139,
     "metadata": {},
     "output_type": "execute_result"
    }
   ],
   "source": [
    "df_info[df_info.index =='longitude']"
   ]
  },
  {
   "cell_type": "code",
   "execution_count": 140,
   "id": "396a71cc",
   "metadata": {},
   "outputs": [
    {
     "data": {
      "text/plain": [
       "array([-43.1794    , -43.19105   , -43.19136   , ..., -43.18585488,\n",
       "       -43.24083   , -43.17128824])"
      ]
     },
     "execution_count": 140,
     "metadata": {},
     "output_type": "execute_result"
    }
   ],
   "source": [
    "df_eda['longitude'].unique()"
   ]
  },
  {
   "cell_type": "markdown",
   "id": "96d56e4b",
   "metadata": {},
   "source": [
    "- \"property_type\"\n"
   ]
  },
  {
   "cell_type": "code",
   "execution_count": 141,
   "id": "02fcd840",
   "metadata": {},
   "outputs": [
    {
     "data": {
      "text/html": [
       "<div>\n",
       "<style scoped>\n",
       "    .dataframe tbody tr th:only-of-type {\n",
       "        vertical-align: middle;\n",
       "    }\n",
       "\n",
       "    .dataframe tbody tr th {\n",
       "        vertical-align: top;\n",
       "    }\n",
       "\n",
       "    .dataframe thead th {\n",
       "        text-align: right;\n",
       "    }\n",
       "</style>\n",
       "<table border=\"1\" class=\"dataframe\">\n",
       "  <thead>\n",
       "    <tr style=\"text-align: right;\">\n",
       "      <th></th>\n",
       "      <th>Columns</th>\n",
       "      <th>Type</th>\n",
       "      <th>Unique</th>\n",
       "      <th>Size</th>\n",
       "      <th>Missing</th>\n",
       "      <th>% Unique</th>\n",
       "      <th>% Missing</th>\n",
       "    </tr>\n",
       "  </thead>\n",
       "  <tbody>\n",
       "    <tr>\n",
       "      <th>property_type</th>\n",
       "      <td>property_type</td>\n",
       "      <td>object</td>\n",
       "      <td>85</td>\n",
       "      <td>36008</td>\n",
       "      <td>0</td>\n",
       "      <td>0.002361</td>\n",
       "      <td>0.0</td>\n",
       "    </tr>\n",
       "  </tbody>\n",
       "</table>\n",
       "</div>"
      ],
      "text/plain": [
       "                     Columns    Type  Unique   Size  Missing  % Unique  \\\n",
       "property_type  property_type  object      85  36008        0  0.002361   \n",
       "\n",
       "               % Missing  \n",
       "property_type        0.0  "
      ]
     },
     "execution_count": 141,
     "metadata": {},
     "output_type": "execute_result"
    }
   ],
   "source": [
    "df_info[df_info.index =='property_type']"
   ]
  },
  {
   "cell_type": "code",
   "execution_count": 142,
   "id": "8aeed513",
   "metadata": {},
   "outputs": [
    {
     "data": {
      "text/plain": [
       "array(['Entire condo', 'Entire rental unit', 'Entire loft',\n",
       "       'Private room in rental unit', 'Entire home',\n",
       "       'Private room in home', 'Private room in townhouse',\n",
       "       'Private room in bed and breakfast', 'Entire guest suite',\n",
       "       'Private room in guesthouse', 'Private room in guest suite',\n",
       "       'Private room in condo', 'Earthen home', 'Entire guesthouse',\n",
       "       'Entire cottage', 'Entire serviced apartment',\n",
       "       'Private room in treehouse', 'Private room in chalet',\n",
       "       'Room in boutique hotel', 'Shared room in home',\n",
       "       'Private room in earthen home', 'Entire townhouse', 'Boat',\n",
       "       'Private room in hostel', 'Entire chalet',\n",
       "       'Private room in serviced apartment', 'Shared room in rental unit',\n",
       "       'Treehouse', 'Entire villa', 'Room in serviced apartment',\n",
       "       'Entire cabin', 'Entire vacation home',\n",
       "       'Private room in casa particular', 'Private room in villa',\n",
       "       'Shared room', 'Room in aparthotel', 'Shared room in tiny home',\n",
       "       'Private room in loft', 'Entire place',\n",
       "       'Private room in tiny home', 'Shared room in bed and breakfast',\n",
       "       'Entire bungalow', 'Entire bed and breakfast',\n",
       "       'Shared room in villa', 'Private room', 'Shared room in hostel',\n",
       "       'Tiny home', 'Room in hotel', 'Shared room in guesthouse',\n",
       "       'Room in bed and breakfast', 'Shared room in condo',\n",
       "       'Room in hostel', 'Farm stay', 'Floor', 'Private room in castle',\n",
       "       'Shared room in loft', 'Casa particular', 'Private room in floor',\n",
       "       'Private room in nature lodge', 'Private room in cottage',\n",
       "       'Campsite', 'Private room in bungalow',\n",
       "       'Private room in farm stay', 'Houseboat',\n",
       "       'Shared room in bungalow', 'Private room in boat',\n",
       "       'Shared room in casa particular', 'Private room in barn',\n",
       "       'Shared room in guest suite', 'Camper/RV', 'Dome',\n",
       "       'Shared room in serviced apartment', 'Ranch',\n",
       "       'Private room in cabin', 'Shared room in townhouse',\n",
       "       'Shared room in vacation home', 'Private room in resort',\n",
       "       'Shared room in hotel', 'Private room in vacation home',\n",
       "       'Cycladic home', 'Shared room in tent',\n",
       "       'Shared room in nature lodge', 'Castle', 'Private room in tent',\n",
       "       'Shipping container'], dtype=object)"
      ]
     },
     "execution_count": 142,
     "metadata": {},
     "output_type": "execute_result"
    }
   ],
   "source": [
    "df_eda['property_type'].unique()"
   ]
  },
  {
   "cell_type": "markdown",
   "id": "9f81490b",
   "metadata": {},
   "source": [
    "- \"room_type\"\n"
   ]
  },
  {
   "cell_type": "code",
   "execution_count": 143,
   "id": "6524e7ba",
   "metadata": {},
   "outputs": [
    {
     "data": {
      "text/html": [
       "<div>\n",
       "<style scoped>\n",
       "    .dataframe tbody tr th:only-of-type {\n",
       "        vertical-align: middle;\n",
       "    }\n",
       "\n",
       "    .dataframe tbody tr th {\n",
       "        vertical-align: top;\n",
       "    }\n",
       "\n",
       "    .dataframe thead th {\n",
       "        text-align: right;\n",
       "    }\n",
       "</style>\n",
       "<table border=\"1\" class=\"dataframe\">\n",
       "  <thead>\n",
       "    <tr style=\"text-align: right;\">\n",
       "      <th></th>\n",
       "      <th>Columns</th>\n",
       "      <th>Type</th>\n",
       "      <th>Unique</th>\n",
       "      <th>Size</th>\n",
       "      <th>Missing</th>\n",
       "      <th>% Unique</th>\n",
       "      <th>% Missing</th>\n",
       "    </tr>\n",
       "  </thead>\n",
       "  <tbody>\n",
       "    <tr>\n",
       "      <th>room_type</th>\n",
       "      <td>room_type</td>\n",
       "      <td>object</td>\n",
       "      <td>4</td>\n",
       "      <td>36008</td>\n",
       "      <td>0</td>\n",
       "      <td>0.000111</td>\n",
       "      <td>0.0</td>\n",
       "    </tr>\n",
       "  </tbody>\n",
       "</table>\n",
       "</div>"
      ],
      "text/plain": [
       "             Columns    Type  Unique   Size  Missing  % Unique  % Missing\n",
       "room_type  room_type  object       4  36008        0  0.000111        0.0"
      ]
     },
     "execution_count": 143,
     "metadata": {},
     "output_type": "execute_result"
    }
   ],
   "source": [
    "df_info[df_info.index =='room_type']"
   ]
  },
  {
   "cell_type": "code",
   "execution_count": 144,
   "id": "b963bffc",
   "metadata": {},
   "outputs": [
    {
     "data": {
      "text/plain": [
       "array(['Entire home/apt', 'Private room', 'Shared room', 'Hotel room'],\n",
       "      dtype=object)"
      ]
     },
     "execution_count": 144,
     "metadata": {},
     "output_type": "execute_result"
    }
   ],
   "source": [
    "df_eda['room_type'].unique()"
   ]
  },
  {
   "cell_type": "code",
   "execution_count": 146,
   "id": "cfc415bb",
   "metadata": {},
   "outputs": [
    {
     "data": {
      "text/html": [
       "<div>\n",
       "<style scoped>\n",
       "    .dataframe tbody tr th:only-of-type {\n",
       "        vertical-align: middle;\n",
       "    }\n",
       "\n",
       "    .dataframe tbody tr th {\n",
       "        vertical-align: top;\n",
       "    }\n",
       "\n",
       "    .dataframe thead th {\n",
       "        text-align: right;\n",
       "    }\n",
       "</style>\n",
       "<table border=\"1\" class=\"dataframe\">\n",
       "  <thead>\n",
       "    <tr style=\"text-align: right;\">\n",
       "      <th></th>\n",
       "      <th>property_type</th>\n",
       "      <th>room_type</th>\n",
       "    </tr>\n",
       "  </thead>\n",
       "  <tbody>\n",
       "    <tr>\n",
       "      <th>26267</th>\n",
       "      <td>Cycladic home</td>\n",
       "      <td>Entire home/apt</td>\n",
       "    </tr>\n",
       "  </tbody>\n",
       "</table>\n",
       "</div>"
      ],
      "text/plain": [
       "       property_type        room_type\n",
       "26267  Cycladic home  Entire home/apt"
      ]
     },
     "execution_count": 146,
     "metadata": {},
     "output_type": "execute_result"
    }
   ],
   "source": [
    "df_eda[['property_type','room_type']][df_eda['property_type']=='Cycladic home']"
   ]
  },
  {
   "cell_type": "markdown",
   "id": "13abda77",
   "metadata": {},
   "source": [
    "- \"accommodates\"\n"
   ]
  },
  {
   "cell_type": "code",
   "execution_count": 147,
   "id": "10037fcb",
   "metadata": {},
   "outputs": [
    {
     "data": {
      "text/html": [
       "<div>\n",
       "<style scoped>\n",
       "    .dataframe tbody tr th:only-of-type {\n",
       "        vertical-align: middle;\n",
       "    }\n",
       "\n",
       "    .dataframe tbody tr th {\n",
       "        vertical-align: top;\n",
       "    }\n",
       "\n",
       "    .dataframe thead th {\n",
       "        text-align: right;\n",
       "    }\n",
       "</style>\n",
       "<table border=\"1\" class=\"dataframe\">\n",
       "  <thead>\n",
       "    <tr style=\"text-align: right;\">\n",
       "      <th></th>\n",
       "      <th>Columns</th>\n",
       "      <th>Type</th>\n",
       "      <th>Unique</th>\n",
       "      <th>Size</th>\n",
       "      <th>Missing</th>\n",
       "      <th>% Unique</th>\n",
       "      <th>% Missing</th>\n",
       "    </tr>\n",
       "  </thead>\n",
       "  <tbody>\n",
       "    <tr>\n",
       "      <th>accommodates</th>\n",
       "      <td>accommodates</td>\n",
       "      <td>int64</td>\n",
       "      <td>16</td>\n",
       "      <td>36008</td>\n",
       "      <td>0</td>\n",
       "      <td>0.000444</td>\n",
       "      <td>0.0</td>\n",
       "    </tr>\n",
       "  </tbody>\n",
       "</table>\n",
       "</div>"
      ],
      "text/plain": [
       "                   Columns   Type  Unique   Size  Missing  % Unique  % Missing\n",
       "accommodates  accommodates  int64      16  36008        0  0.000444        0.0"
      ]
     },
     "execution_count": 147,
     "metadata": {},
     "output_type": "execute_result"
    }
   ],
   "source": [
    "df_info[df_info.index =='accommodates']"
   ]
  },
  {
   "cell_type": "code",
   "execution_count": 148,
   "id": "a99b9bd3",
   "metadata": {},
   "outputs": [
    {
     "data": {
      "text/plain": [
       "array([ 5,  3,  2,  4, 13,  9, 16,  6, 14,  1, 10,  8, 12,  7, 11, 15],\n",
       "      dtype=int64)"
      ]
     },
     "execution_count": 148,
     "metadata": {},
     "output_type": "execute_result"
    }
   ],
   "source": [
    "df_eda['accommodates'].unique()"
   ]
  },
  {
   "cell_type": "markdown",
   "id": "e04920e1",
   "metadata": {},
   "source": [
    "- \"amenities\"\n"
   ]
  },
  {
   "cell_type": "code",
   "execution_count": 149,
   "id": "2cd27626",
   "metadata": {},
   "outputs": [
    {
     "data": {
      "text/html": [
       "<div>\n",
       "<style scoped>\n",
       "    .dataframe tbody tr th:only-of-type {\n",
       "        vertical-align: middle;\n",
       "    }\n",
       "\n",
       "    .dataframe tbody tr th {\n",
       "        vertical-align: top;\n",
       "    }\n",
       "\n",
       "    .dataframe thead th {\n",
       "        text-align: right;\n",
       "    }\n",
       "</style>\n",
       "<table border=\"1\" class=\"dataframe\">\n",
       "  <thead>\n",
       "    <tr style=\"text-align: right;\">\n",
       "      <th></th>\n",
       "      <th>Columns</th>\n",
       "      <th>Type</th>\n",
       "      <th>Unique</th>\n",
       "      <th>Size</th>\n",
       "      <th>Missing</th>\n",
       "      <th>% Unique</th>\n",
       "      <th>% Missing</th>\n",
       "    </tr>\n",
       "  </thead>\n",
       "  <tbody>\n",
       "    <tr>\n",
       "      <th>amenities</th>\n",
       "      <td>amenities</td>\n",
       "      <td>object</td>\n",
       "      <td>1</td>\n",
       "      <td>36008</td>\n",
       "      <td>0</td>\n",
       "      <td>0.000028</td>\n",
       "      <td>0.0</td>\n",
       "    </tr>\n",
       "  </tbody>\n",
       "</table>\n",
       "</div>"
      ],
      "text/plain": [
       "             Columns    Type  Unique   Size  Missing  % Unique  % Missing\n",
       "amenities  amenities  object       1  36008        0  0.000028        0.0"
      ]
     },
     "execution_count": 149,
     "metadata": {},
     "output_type": "execute_result"
    }
   ],
   "source": [
    "df_info[df_info.index =='amenities']"
   ]
  },
  {
   "cell_type": "code",
   "execution_count": 150,
   "id": "97d04525",
   "metadata": {},
   "outputs": [
    {
     "data": {
      "text/plain": [
       "array(['[]'], dtype=object)"
      ]
     },
     "execution_count": 150,
     "metadata": {},
     "output_type": "execute_result"
    }
   ],
   "source": [
    "df_eda['amenities'].unique()"
   ]
  },
  {
   "cell_type": "markdown",
   "id": "7dbf9f57",
   "metadata": {},
   "source": [
    "- \"price\"\n"
   ]
  },
  {
   "cell_type": "code",
   "execution_count": 153,
   "id": "c4e9b1b0",
   "metadata": {},
   "outputs": [
    {
     "data": {
      "text/html": [
       "<div>\n",
       "<style scoped>\n",
       "    .dataframe tbody tr th:only-of-type {\n",
       "        vertical-align: middle;\n",
       "    }\n",
       "\n",
       "    .dataframe tbody tr th {\n",
       "        vertical-align: top;\n",
       "    }\n",
       "\n",
       "    .dataframe thead th {\n",
       "        text-align: right;\n",
       "    }\n",
       "</style>\n",
       "<table border=\"1\" class=\"dataframe\">\n",
       "  <thead>\n",
       "    <tr style=\"text-align: right;\">\n",
       "      <th></th>\n",
       "      <th>Columns</th>\n",
       "      <th>Type</th>\n",
       "      <th>Unique</th>\n",
       "      <th>Size</th>\n",
       "      <th>Missing</th>\n",
       "      <th>% Unique</th>\n",
       "      <th>% Missing</th>\n",
       "    </tr>\n",
       "  </thead>\n",
       "  <tbody>\n",
       "    <tr>\n",
       "      <th>price</th>\n",
       "      <td>price</td>\n",
       "      <td>object</td>\n",
       "      <td>3230</td>\n",
       "      <td>36008</td>\n",
       "      <td>1771</td>\n",
       "      <td>0.089702</td>\n",
       "      <td>0.049184</td>\n",
       "    </tr>\n",
       "  </tbody>\n",
       "</table>\n",
       "</div>"
      ],
      "text/plain": [
       "      Columns    Type  Unique   Size  Missing  % Unique  % Missing\n",
       "price   price  object    3230  36008     1771  0.089702   0.049184"
      ]
     },
     "execution_count": 153,
     "metadata": {},
     "output_type": "execute_result"
    }
   ],
   "source": [
    "df_info[df_info.index =='price']"
   ]
  },
  {
   "cell_type": "code",
   "execution_count": 154,
   "id": "3aacab1c",
   "metadata": {},
   "outputs": [
    {
     "data": {
      "text/plain": [
       "array([1357.,  865.,  373., ..., 1197., 2777., 2537.])"
      ]
     },
     "execution_count": 154,
     "metadata": {},
     "output_type": "execute_result"
    }
   ],
   "source": [
    "df_eda['price'].unique()"
   ]
  },
  {
   "cell_type": "markdown",
   "id": "a1b9a18d",
   "metadata": {},
   "source": [
    "- \"minimum_nights\"\n"
   ]
  },
  {
   "cell_type": "code",
   "execution_count": 155,
   "id": "981e84ca",
   "metadata": {},
   "outputs": [
    {
     "data": {
      "text/html": [
       "<div>\n",
       "<style scoped>\n",
       "    .dataframe tbody tr th:only-of-type {\n",
       "        vertical-align: middle;\n",
       "    }\n",
       "\n",
       "    .dataframe tbody tr th {\n",
       "        vertical-align: top;\n",
       "    }\n",
       "\n",
       "    .dataframe thead th {\n",
       "        text-align: right;\n",
       "    }\n",
       "</style>\n",
       "<table border=\"1\" class=\"dataframe\">\n",
       "  <thead>\n",
       "    <tr style=\"text-align: right;\">\n",
       "      <th></th>\n",
       "      <th>Columns</th>\n",
       "      <th>Type</th>\n",
       "      <th>Unique</th>\n",
       "      <th>Size</th>\n",
       "      <th>Missing</th>\n",
       "      <th>% Unique</th>\n",
       "      <th>% Missing</th>\n",
       "    </tr>\n",
       "  </thead>\n",
       "  <tbody>\n",
       "    <tr>\n",
       "      <th>minimum_nights</th>\n",
       "      <td>minimum_nights</td>\n",
       "      <td>int64</td>\n",
       "      <td>71</td>\n",
       "      <td>36008</td>\n",
       "      <td>0</td>\n",
       "      <td>0.001972</td>\n",
       "      <td>0.0</td>\n",
       "    </tr>\n",
       "  </tbody>\n",
       "</table>\n",
       "</div>"
      ],
      "text/plain": [
       "                       Columns   Type  Unique   Size  Missing  % Unique  \\\n",
       "minimum_nights  minimum_nights  int64      71  36008        0  0.001972   \n",
       "\n",
       "                % Missing  \n",
       "minimum_nights        0.0  "
      ]
     },
     "execution_count": 155,
     "metadata": {},
     "output_type": "execute_result"
    }
   ],
   "source": [
    "df_info[df_info.index =='minimum_nights']"
   ]
  },
  {
   "cell_type": "code",
   "execution_count": 156,
   "id": "f95c900b",
   "metadata": {},
   "outputs": [
    {
     "data": {
      "text/plain": [
       "array([   5,    2,    3,    4,    1,   20,    6,   22,   78,   30,   90,\n",
       "         60,    7,   21,   10,   14,   15,   12,   45,   50,   31,   28,\n",
       "          8,  365,  630,  300,    9,   34,  180,   25,   19,   23,   29,\n",
       "         32,  360,  120,  500,   17,  730,   11,  200,   16,   40,   18,\n",
       "         24,   27,   13,   80,  100,   89,  158,   36,   95,  720,  184,\n",
       "         35,  109, 1125,  999,  150, 1000,  960,   44,   88,  362,   49,\n",
       "         55,   26,  188,   99,  110], dtype=int64)"
      ]
     },
     "execution_count": 156,
     "metadata": {},
     "output_type": "execute_result"
    }
   ],
   "source": [
    "df_eda['minimum_nights'].unique()"
   ]
  },
  {
   "cell_type": "markdown",
   "id": "b44c4bc4",
   "metadata": {},
   "source": [
    "- \"maximum_nights\"\n"
   ]
  },
  {
   "cell_type": "code",
   "execution_count": 157,
   "id": "14065684",
   "metadata": {},
   "outputs": [
    {
     "data": {
      "text/html": [
       "<div>\n",
       "<style scoped>\n",
       "    .dataframe tbody tr th:only-of-type {\n",
       "        vertical-align: middle;\n",
       "    }\n",
       "\n",
       "    .dataframe tbody tr th {\n",
       "        vertical-align: top;\n",
       "    }\n",
       "\n",
       "    .dataframe thead th {\n",
       "        text-align: right;\n",
       "    }\n",
       "</style>\n",
       "<table border=\"1\" class=\"dataframe\">\n",
       "  <thead>\n",
       "    <tr style=\"text-align: right;\">\n",
       "      <th></th>\n",
       "      <th>Columns</th>\n",
       "      <th>Type</th>\n",
       "      <th>Unique</th>\n",
       "      <th>Size</th>\n",
       "      <th>Missing</th>\n",
       "      <th>% Unique</th>\n",
       "      <th>% Missing</th>\n",
       "    </tr>\n",
       "  </thead>\n",
       "  <tbody>\n",
       "    <tr>\n",
       "      <th>maximum_nights</th>\n",
       "      <td>maximum_nights</td>\n",
       "      <td>int64</td>\n",
       "      <td>194</td>\n",
       "      <td>36008</td>\n",
       "      <td>0</td>\n",
       "      <td>0.005388</td>\n",
       "      <td>0.0</td>\n",
       "    </tr>\n",
       "  </tbody>\n",
       "</table>\n",
       "</div>"
      ],
      "text/plain": [
       "                       Columns   Type  Unique   Size  Missing  % Unique  \\\n",
       "maximum_nights  maximum_nights  int64     194  36008        0  0.005388   \n",
       "\n",
       "                % Missing  \n",
       "maximum_nights        0.0  "
      ]
     },
     "execution_count": 157,
     "metadata": {},
     "output_type": "execute_result"
    }
   ],
   "source": [
    "df_info[df_info.index =='maximum_nights']"
   ]
  },
  {
   "cell_type": "code",
   "execution_count": 158,
   "id": "a5463209",
   "metadata": {},
   "outputs": [
    {
     "data": {
      "text/plain": [
       "array([  28,   60,   15,  365,  180,  760,   89,   30,  750,   90,  730,\n",
       "       1125,   10,   14,  100,  150,   20,  420,   92,   21,    7,  500,\n",
       "          9,   29,  520,  358,   16,  120,   31,  800,  720,   45,  366,\n",
       "          5,    8,  250,  360,   50,  110,   27,  380,   35,   40, 1825,\n",
       "         26,   36,   80, 1124,  300,  320,    6,   91, 1000,   34,   70,\n",
       "        200,    4, 1123,  280,   59,   99,  370,   88,  130,   12,  140,\n",
       "        190,   25,  900, 1001,  170,   87,   32, 1110,   22,  160,   18,\n",
       "        600,   85,   17,  400,   24,   13,  155,   11,  998,   55,  277,\n",
       "          3,  210,  182,  912,  920,   38, 1120,  352,   61,  240,   93,\n",
       "       1095,  350,   19,  666,   48,  270,  356,   75,   33,   56,   65,\n",
       "         62,   47,    1,   43,   23,   37,  121, 1122,   69,   81,  700,\n",
       "        364,  220,  336,  179,  161, 1109,  610,  369,  185,    2,  125,\n",
       "         44,  244,  580,  290, 1100,  999,  199,   84,  333,   68,  226,\n",
       "         42,  540,  790, 1008, 1053,  325,   95,  102,  275,  368,  960,\n",
       "        152,  390,  186,  980,  398, 1097,  195,  690,  680,  330,  707,\n",
       "        299,  194,  729,  450,  395,  650,  363,   63,  112,   98,   72,\n",
       "         96,  385,  396,   86,  135,  183,  289,  189,   79,   66,  276,\n",
       "        175,   49,  888, 1029,  165,  105,  362], dtype=int64)"
      ]
     },
     "execution_count": 158,
     "metadata": {},
     "output_type": "execute_result"
    }
   ],
   "source": [
    "df_eda['maximum_nights'].unique()"
   ]
  },
  {
   "cell_type": "markdown",
   "id": "fde90af2",
   "metadata": {},
   "source": [
    "- \"minimum_minimum_nights\"\n"
   ]
  },
  {
   "cell_type": "code",
   "execution_count": 159,
   "id": "7e85756f",
   "metadata": {},
   "outputs": [
    {
     "data": {
      "text/html": [
       "<div>\n",
       "<style scoped>\n",
       "    .dataframe tbody tr th:only-of-type {\n",
       "        vertical-align: middle;\n",
       "    }\n",
       "\n",
       "    .dataframe tbody tr th {\n",
       "        vertical-align: top;\n",
       "    }\n",
       "\n",
       "    .dataframe thead th {\n",
       "        text-align: right;\n",
       "    }\n",
       "</style>\n",
       "<table border=\"1\" class=\"dataframe\">\n",
       "  <thead>\n",
       "    <tr style=\"text-align: right;\">\n",
       "      <th></th>\n",
       "      <th>Columns</th>\n",
       "      <th>Type</th>\n",
       "      <th>Unique</th>\n",
       "      <th>Size</th>\n",
       "      <th>Missing</th>\n",
       "      <th>% Unique</th>\n",
       "      <th>% Missing</th>\n",
       "    </tr>\n",
       "  </thead>\n",
       "  <tbody>\n",
       "    <tr>\n",
       "      <th>minimum_minimum_nights</th>\n",
       "      <td>minimum_minimum_nights</td>\n",
       "      <td>int64</td>\n",
       "      <td>69</td>\n",
       "      <td>36008</td>\n",
       "      <td>0</td>\n",
       "      <td>0.001916</td>\n",
       "      <td>0.0</td>\n",
       "    </tr>\n",
       "  </tbody>\n",
       "</table>\n",
       "</div>"
      ],
      "text/plain": [
       "                                       Columns   Type  Unique   Size  Missing  \\\n",
       "minimum_minimum_nights  minimum_minimum_nights  int64      69  36008        0   \n",
       "\n",
       "                        % Unique  % Missing  \n",
       "minimum_minimum_nights  0.001916        0.0  "
      ]
     },
     "execution_count": 159,
     "metadata": {},
     "output_type": "execute_result"
    }
   ],
   "source": [
    "df_info[df_info.index =='minimum_minimum_nights']"
   ]
  },
  {
   "cell_type": "code",
   "execution_count": 160,
   "id": "64e12b0a",
   "metadata": {},
   "outputs": [
    {
     "data": {
      "text/plain": [
       "array([   5,    2,    1,    3,    4,   20,    6,   22,   78,   30,   90,\n",
       "         60,    7,   21,   10,   14,   15,   12,    8,   31,   50,  365,\n",
       "        630,  300,    9,   13,   34,   25,   28,   23,   45,   29,   40,\n",
       "         32,  180,  360,  120,   19,  500,   17,  730,   11,  200,   16,\n",
       "         18,   24,   27,   80,  100,   89,  158,   36,   95,   26,  184,\n",
       "         35,  109, 1125,  150, 1000,  960,   44,   88,   39,   49,   55,\n",
       "        188,   99,  110], dtype=int64)"
      ]
     },
     "execution_count": 160,
     "metadata": {},
     "output_type": "execute_result"
    }
   ],
   "source": [
    "df_eda['minimum_minimum_nights'].unique()"
   ]
  },
  {
   "cell_type": "markdown",
   "id": "749b44de",
   "metadata": {},
   "source": [
    "- \"maximum_minimum_nights\n"
   ]
  },
  {
   "cell_type": "code",
   "execution_count": 161,
   "id": "dd43e319",
   "metadata": {},
   "outputs": [
    {
     "data": {
      "text/html": [
       "<div>\n",
       "<style scoped>\n",
       "    .dataframe tbody tr th:only-of-type {\n",
       "        vertical-align: middle;\n",
       "    }\n",
       "\n",
       "    .dataframe tbody tr th {\n",
       "        vertical-align: top;\n",
       "    }\n",
       "\n",
       "    .dataframe thead th {\n",
       "        text-align: right;\n",
       "    }\n",
       "</style>\n",
       "<table border=\"1\" class=\"dataframe\">\n",
       "  <thead>\n",
       "    <tr style=\"text-align: right;\">\n",
       "      <th></th>\n",
       "      <th>Columns</th>\n",
       "      <th>Type</th>\n",
       "      <th>Unique</th>\n",
       "      <th>Size</th>\n",
       "      <th>Missing</th>\n",
       "      <th>% Unique</th>\n",
       "      <th>% Missing</th>\n",
       "    </tr>\n",
       "  </thead>\n",
       "  <tbody>\n",
       "    <tr>\n",
       "      <th>maximum_minimum_nights</th>\n",
       "      <td>maximum_minimum_nights</td>\n",
       "      <td>int64</td>\n",
       "      <td>77</td>\n",
       "      <td>36008</td>\n",
       "      <td>0</td>\n",
       "      <td>0.002138</td>\n",
       "      <td>0.0</td>\n",
       "    </tr>\n",
       "  </tbody>\n",
       "</table>\n",
       "</div>"
      ],
      "text/plain": [
       "                                       Columns   Type  Unique   Size  Missing  \\\n",
       "maximum_minimum_nights  maximum_minimum_nights  int64      77  36008        0   \n",
       "\n",
       "                        % Unique  % Missing  \n",
       "maximum_minimum_nights  0.002138        0.0  "
      ]
     },
     "execution_count": 161,
     "metadata": {},
     "output_type": "execute_result"
    }
   ],
   "source": [
    "df_info[df_info.index =='maximum_minimum_nights']"
   ]
  },
  {
   "cell_type": "code",
   "execution_count": 162,
   "id": "fdd5e0ad",
   "metadata": {},
   "outputs": [
    {
     "data": {
      "text/plain": [
       "array([   5,    4,    6,    7,    3,    1,   20,    9,    2,   10,   22,\n",
       "         78,   30,   90,   60,   14,   21,    8,   15,   12,   45,   50,\n",
       "         31,   28,  365,  630,  300,  100,   34,  200,  180,   25,   19,\n",
       "         23,   29,   16,   11,   32,  140,  360,  120,  500,   17,  730,\n",
       "         62,   40,   18,   27,   24,   13,   80, 1125,   89,  158,   36,\n",
       "         95,  720,  184,   35,  109,  400,  150, 1000,  960,   91,   44,\n",
       "        999,   88,   39,   26,   56,   49,   55,  900,  188,   99,  110],\n",
       "      dtype=int64)"
      ]
     },
     "execution_count": 162,
     "metadata": {},
     "output_type": "execute_result"
    }
   ],
   "source": [
    "df_eda['maximum_minimum_nights'].unique()"
   ]
  },
  {
   "cell_type": "markdown",
   "id": "aa1ac853",
   "metadata": {},
   "source": [
    "- \"minimum_maximum_nights\"\n"
   ]
  },
  {
   "cell_type": "code",
   "execution_count": 163,
   "id": "9d5c09ca",
   "metadata": {},
   "outputs": [
    {
     "data": {
      "text/html": [
       "<div>\n",
       "<style scoped>\n",
       "    .dataframe tbody tr th:only-of-type {\n",
       "        vertical-align: middle;\n",
       "    }\n",
       "\n",
       "    .dataframe tbody tr th {\n",
       "        vertical-align: top;\n",
       "    }\n",
       "\n",
       "    .dataframe thead th {\n",
       "        text-align: right;\n",
       "    }\n",
       "</style>\n",
       "<table border=\"1\" class=\"dataframe\">\n",
       "  <thead>\n",
       "    <tr style=\"text-align: right;\">\n",
       "      <th></th>\n",
       "      <th>Columns</th>\n",
       "      <th>Type</th>\n",
       "      <th>Unique</th>\n",
       "      <th>Size</th>\n",
       "      <th>Missing</th>\n",
       "      <th>% Unique</th>\n",
       "      <th>% Missing</th>\n",
       "    </tr>\n",
       "  </thead>\n",
       "  <tbody>\n",
       "    <tr>\n",
       "      <th>minimum_maximum_nights</th>\n",
       "      <td>minimum_maximum_nights</td>\n",
       "      <td>int64</td>\n",
       "      <td>170</td>\n",
       "      <td>36008</td>\n",
       "      <td>0</td>\n",
       "      <td>0.004721</td>\n",
       "      <td>0.0</td>\n",
       "    </tr>\n",
       "  </tbody>\n",
       "</table>\n",
       "</div>"
      ],
      "text/plain": [
       "                                       Columns   Type  Unique   Size  Missing  \\\n",
       "minimum_maximum_nights  minimum_maximum_nights  int64     170  36008        0   \n",
       "\n",
       "                        % Unique  % Missing  \n",
       "minimum_maximum_nights  0.004721        0.0  "
      ]
     },
     "execution_count": 163,
     "metadata": {},
     "output_type": "execute_result"
    }
   ],
   "source": [
    "df_info[df_info.index =='minimum_maximum_nights']"
   ]
  },
  {
   "cell_type": "code",
   "execution_count": 164,
   "id": "5a5d7e8b",
   "metadata": {},
   "outputs": [
    {
     "data": {
      "text/plain": [
       "array([  28,   60,    7,  365,  180,  760,   89,   30, 1125,  750,  730,\n",
       "         10,   90,  150,   20,   92,   21,    1,  500,    9,   14,  520,\n",
       "        358,   15,   29,   31,  800,  720,   45,  366,    5,    8,  250,\n",
       "        360,   50,  110,   27,  120,  380,   35,   40, 1825,   26,   80,\n",
       "       1124,  300,  320,    6,   91, 1000,   34,    2,  200,  280,    4,\n",
       "       1123,   59,   99,  370,   70,  130,   12,   25,  900,  170,   87,\n",
       "         32,  731, 1110,   22,   18,  100,  190,  600,   85,   17,  140,\n",
       "        400,   24,   13,  155,   11, 1001,  160,   88,  277,    3,  210,\n",
       "        182,  912,  920,   38, 1120,   16,  352,   93, 1095,   19,  999,\n",
       "         48,  270,  356,   75,   33,   56,   55,   47,   65,   43,   36,\n",
       "         62,   23,   37,  121, 1122,   69,   81,  364,  220,  336,  179,\n",
       "        161, 1109,  610,  369,   61,  125,   44,  244,  350,  580,  199,\n",
       "         84,  333,  226,   42,  540, 1008, 1053,  325,  700,  102,  275,\n",
       "        186, 1097,  390,  185,  299,  240,  729,   95,  290, 1100,  330,\n",
       "        395,  650,   72,  385,  450,  135,  289,  189,   63,  368,   79,\n",
       "         66,  276,   49, 1029,  105], dtype=int64)"
      ]
     },
     "execution_count": 164,
     "metadata": {},
     "output_type": "execute_result"
    }
   ],
   "source": [
    "df_eda['minimum_maximum_nights'].unique()"
   ]
  },
  {
   "cell_type": "markdown",
   "id": "031ced78",
   "metadata": {},
   "source": [
    "- \"maximum_maximum_nights\"\n"
   ]
  },
  {
   "cell_type": "code",
   "execution_count": 165,
   "id": "a6c17811",
   "metadata": {},
   "outputs": [
    {
     "data": {
      "text/html": [
       "<div>\n",
       "<style scoped>\n",
       "    .dataframe tbody tr th:only-of-type {\n",
       "        vertical-align: middle;\n",
       "    }\n",
       "\n",
       "    .dataframe tbody tr th {\n",
       "        vertical-align: top;\n",
       "    }\n",
       "\n",
       "    .dataframe thead th {\n",
       "        text-align: right;\n",
       "    }\n",
       "</style>\n",
       "<table border=\"1\" class=\"dataframe\">\n",
       "  <thead>\n",
       "    <tr style=\"text-align: right;\">\n",
       "      <th></th>\n",
       "      <th>Columns</th>\n",
       "      <th>Type</th>\n",
       "      <th>Unique</th>\n",
       "      <th>Size</th>\n",
       "      <th>Missing</th>\n",
       "      <th>% Unique</th>\n",
       "      <th>% Missing</th>\n",
       "    </tr>\n",
       "  </thead>\n",
       "  <tbody>\n",
       "    <tr>\n",
       "      <th>maximum_maximum_nights</th>\n",
       "      <td>maximum_maximum_nights</td>\n",
       "      <td>int64</td>\n",
       "      <td>172</td>\n",
       "      <td>36008</td>\n",
       "      <td>0</td>\n",
       "      <td>0.004777</td>\n",
       "      <td>0.0</td>\n",
       "    </tr>\n",
       "  </tbody>\n",
       "</table>\n",
       "</div>"
      ],
      "text/plain": [
       "                                       Columns   Type  Unique   Size  Missing  \\\n",
       "maximum_maximum_nights  maximum_maximum_nights  int64     172  36008        0   \n",
       "\n",
       "                        % Unique  % Missing  \n",
       "maximum_maximum_nights  0.004777        0.0  "
      ]
     },
     "execution_count": 165,
     "metadata": {},
     "output_type": "execute_result"
    }
   ],
   "source": [
    "df_info[df_info.index =='maximum_maximum_nights']"
   ]
  },
  {
   "cell_type": "code",
   "execution_count": 166,
   "id": "167ca2e8",
   "metadata": {},
   "outputs": [
    {
     "data": {
      "text/plain": [
       "array([  28,   60,   15,  365,  180,  760,   89,   30, 1125,  750,  730,\n",
       "         10,   90,  150,   20,   92,   21,  500,    9,   14,  520,    7,\n",
       "        358,   31,  800,  720,   45,    5,    8,  250,  360,   50,  110,\n",
       "         27,  120,  380,   35,   40, 1825,   26,   80, 1124,  300,   29,\n",
       "        320,    6,   91,  100, 1000,   34,  200,    4, 1123,  280,   59,\n",
       "         99,  370,   88,   70,  130,   12,  140,   25,  900,  170,   87,\n",
       "         32,  731, 1110,   22,  366,  160,   18,  190,  600,   85,   17,\n",
       "        400,   24,   13,  155,   11, 1001,  277,    3,  210,  182,  912,\n",
       "        920,   38, 1120,   16,  352,   93, 1095,   33,  999,   19,   48,\n",
       "        270,  356,   75,   56,   55,   47,   65,    1,   43,   36,   62,\n",
       "         23,   37,  121, 1122,   69,   81,  364,  220,  336,  179,  161,\n",
       "       1109,  610,  369,    2,   61,  125,   44,  244,  350,  580, 1100,\n",
       "        199,   84,  333,  226,   42,  540, 1008, 1053,  325,  700,  102,\n",
       "        275,  186, 1097,  390,  185,  299,  240,  729,   95,  290,  330,\n",
       "        395,  650,   72,  385,  450,  135,  289,  189,   63,  368,   79,\n",
       "         66,  276,   49,  317, 1029,  165,  105], dtype=int64)"
      ]
     },
     "execution_count": 166,
     "metadata": {},
     "output_type": "execute_result"
    }
   ],
   "source": [
    "df_eda['maximum_maximum_nights'].unique()"
   ]
  },
  {
   "cell_type": "markdown",
   "id": "ab2fdd5e",
   "metadata": {},
   "source": [
    "- \"minimum_nights_avg_ntm\"\n"
   ]
  },
  {
   "cell_type": "code",
   "execution_count": 167,
   "id": "2fc171d6",
   "metadata": {},
   "outputs": [
    {
     "data": {
      "text/html": [
       "<div>\n",
       "<style scoped>\n",
       "    .dataframe tbody tr th:only-of-type {\n",
       "        vertical-align: middle;\n",
       "    }\n",
       "\n",
       "    .dataframe tbody tr th {\n",
       "        vertical-align: top;\n",
       "    }\n",
       "\n",
       "    .dataframe thead th {\n",
       "        text-align: right;\n",
       "    }\n",
       "</style>\n",
       "<table border=\"1\" class=\"dataframe\">\n",
       "  <thead>\n",
       "    <tr style=\"text-align: right;\">\n",
       "      <th></th>\n",
       "      <th>Columns</th>\n",
       "      <th>Type</th>\n",
       "      <th>Unique</th>\n",
       "      <th>Size</th>\n",
       "      <th>Missing</th>\n",
       "      <th>% Unique</th>\n",
       "      <th>% Missing</th>\n",
       "    </tr>\n",
       "  </thead>\n",
       "  <tbody>\n",
       "    <tr>\n",
       "      <th>minimum_nights_avg_ntm</th>\n",
       "      <td>minimum_nights_avg_ntm</td>\n",
       "      <td>float64</td>\n",
       "      <td>252</td>\n",
       "      <td>36008</td>\n",
       "      <td>0</td>\n",
       "      <td>0.006998</td>\n",
       "      <td>0.0</td>\n",
       "    </tr>\n",
       "  </tbody>\n",
       "</table>\n",
       "</div>"
      ],
      "text/plain": [
       "                                       Columns     Type  Unique   Size  \\\n",
       "minimum_nights_avg_ntm  minimum_nights_avg_ntm  float64     252  36008   \n",
       "\n",
       "                        Missing  % Unique  % Missing  \n",
       "minimum_nights_avg_ntm        0  0.006998        0.0  "
      ]
     },
     "execution_count": 167,
     "metadata": {},
     "output_type": "execute_result"
    }
   ],
   "source": [
    "df_info[df_info.index =='minimum_nights_avg_ntm']"
   ]
  },
  {
   "cell_type": "code",
   "execution_count": 168,
   "id": "b9465314",
   "metadata": {},
   "outputs": [
    {
     "data": {
      "text/plain": [
       "array([5.000e+00, 2.200e+00, 3.100e+00, 3.200e+00, 3.000e+00, 4.000e+00,\n",
       "       1.000e+00, 2.300e+00, 2.100e+00, 2.800e+00, 2.000e+01, 5.200e+00,\n",
       "       2.900e+00, 2.700e+00, 6.000e+00, 2.000e+00, 4.900e+00, 3.300e+00,\n",
       "       7.000e+00, 1.300e+00, 2.200e+01, 1.900e+00, 3.600e+00, 7.800e+01,\n",
       "       3.000e+01, 9.000e+01, 6.000e+01, 5.800e+00, 8.800e+00, 2.100e+01,\n",
       "       7.200e+00, 5.500e+00, 5.100e+00, 3.500e+00, 5.400e+00, 4.100e+00,\n",
       "       1.000e+01, 1.400e+01, 2.400e+00, 4.200e+00, 5.300e+00, 2.910e+01,\n",
       "       5.900e+00, 9.900e+00, 4.500e+00, 1.100e+00, 1.500e+01, 4.400e+00,\n",
       "       6.900e+00, 1.390e+01, 6.800e+00, 3.900e+00, 1.200e+01, 3.400e+00,\n",
       "       4.370e+01, 6.300e+00, 4.700e+00, 5.000e+01, 1.500e+00, 3.100e+01,\n",
       "       1.400e+00, 1.700e+00, 9.700e+00, 2.500e+00, 2.940e+01, 2.690e+01,\n",
       "       1.600e+00, 2.600e+00, 6.200e+00, 7.900e+00, 3.650e+02, 1.200e+00,\n",
       "       4.600e+00, 6.300e+02, 3.000e+02, 2.870e+01, 4.800e+00, 9.000e+00,\n",
       "       4.300e+00, 3.400e+01, 1.380e+01, 1.110e+01, 6.420e+01, 6.400e+00,\n",
       "       1.630e+02, 8.000e+00, 2.760e+01, 1.190e+01, 5.900e+01, 2.500e+01,\n",
       "       1.460e+01, 2.800e+01, 1.440e+01, 1.870e+01, 9.600e+00, 3.800e+00,\n",
       "       2.300e+01, 1.270e+01, 3.700e+00, 1.860e+01, 4.500e+01, 1.470e+01,\n",
       "       2.900e+01, 1.540e+01, 9.500e+00, 1.880e+01, 5.710e+01, 3.200e+01,\n",
       "       1.620e+01, 1.800e+02, 2.950e+01, 2.710e+01, 3.600e+02, 1.200e+02,\n",
       "       1.330e+01, 9.800e+00, 1.900e+01, 1.130e+01, 9.100e+00, 9.270e+01,\n",
       "       2.550e+01, 5.000e+02, 1.700e+01, 7.300e+02, 1.150e+01, 8.300e+00,\n",
       "       2.660e+01, 1.800e+00, 1.490e+01, 2.770e+01, 6.500e+00, 1.410e+01,\n",
       "       1.100e+01, 2.000e+02, 8.580e+01, 7.240e+01, 1.600e+01, 8.880e+01,\n",
       "       1.990e+01, 7.700e+00, 4.000e+01, 1.800e+01, 1.360e+01, 9.300e+00,\n",
       "       2.030e+01, 6.700e+00, 2.400e+01, 2.720e+01, 2.260e+01, 6.100e+00,\n",
       "       5.600e+00, 2.700e+01, 7.600e+00, 9.400e+00, 1.300e+01, 1.980e+01,\n",
       "       8.000e+01, 1.240e+01, 1.710e+01, 2.461e+02, 1.660e+01, 8.900e+01,\n",
       "       1.580e+02, 3.600e+01, 9.500e+01, 6.705e+02, 1.000e+02, 7.400e+00,\n",
       "       1.840e+02, 8.400e+00, 3.430e+01, 2.840e+01, 1.750e+01, 3.500e+01,\n",
       "       2.070e+01, 1.370e+01, 8.100e+00, 2.589e+02, 2.930e+01, 2.080e+01,\n",
       "       7.100e+00, 5.700e+00, 1.090e+02, 1.950e+01, 1.160e+01, 1.125e+03,\n",
       "       1.890e+01, 8.700e+00, 2.650e+01, 5.840e+01, 1.820e+01, 2.740e+01,\n",
       "       2.480e+01, 1.060e+01, 1.500e+02, 6.600e+00, 8.500e+00, 1.230e+01,\n",
       "       1.000e+03, 9.600e+02, 7.800e+00, 8.400e+01, 2.730e+01, 1.250e+01,\n",
       "       1.480e+01, 4.400e+01, 7.980e+01, 1.930e+01, 2.920e+01, 4.470e+01,\n",
       "       2.160e+01, 2.970e+01, 8.800e+01, 1.350e+01, 3.900e+01, 2.750e+01,\n",
       "       2.270e+01, 4.480e+01, 1.210e+01, 2.990e+01, 7.500e+00, 1.510e+01,\n",
       "       4.900e+01, 3.411e+02, 2.810e+01, 7.300e+00, 5.940e+01, 2.727e+02,\n",
       "       5.500e+01, 1.680e+01, 2.960e+01, 1.970e+01, 2.860e+01, 2.370e+01,\n",
       "       2.490e+01, 1.650e+01, 1.880e+02, 9.900e+01, 2.580e+01, 1.430e+01,\n",
       "       2.310e+01, 1.170e+01, 1.030e+01, 1.100e+02, 2.460e+01, 1.420e+01,\n",
       "       2.980e+01, 8.900e+00, 3.368e+02, 1.280e+01, 2.120e+01, 1.960e+01])"
      ]
     },
     "execution_count": 168,
     "metadata": {},
     "output_type": "execute_result"
    }
   ],
   "source": [
    "df_eda['minimum_nights_avg_ntm'].unique()"
   ]
  },
  {
   "cell_type": "markdown",
   "id": "1766e3c0",
   "metadata": {},
   "source": [
    "- \"maximum_nights_avg_ntm\"\n"
   ]
  },
  {
   "cell_type": "code",
   "execution_count": 169,
   "id": "01c1b11e",
   "metadata": {},
   "outputs": [
    {
     "data": {
      "text/html": [
       "<div>\n",
       "<style scoped>\n",
       "    .dataframe tbody tr th:only-of-type {\n",
       "        vertical-align: middle;\n",
       "    }\n",
       "\n",
       "    .dataframe tbody tr th {\n",
       "        vertical-align: top;\n",
       "    }\n",
       "\n",
       "    .dataframe thead th {\n",
       "        text-align: right;\n",
       "    }\n",
       "</style>\n",
       "<table border=\"1\" class=\"dataframe\">\n",
       "  <thead>\n",
       "    <tr style=\"text-align: right;\">\n",
       "      <th></th>\n",
       "      <th>Columns</th>\n",
       "      <th>Type</th>\n",
       "      <th>Unique</th>\n",
       "      <th>Size</th>\n",
       "      <th>Missing</th>\n",
       "      <th>% Unique</th>\n",
       "      <th>% Missing</th>\n",
       "    </tr>\n",
       "  </thead>\n",
       "  <tbody>\n",
       "    <tr>\n",
       "      <th>maximum_nights_avg_ntm</th>\n",
       "      <td>maximum_nights_avg_ntm</td>\n",
       "      <td>float64</td>\n",
       "      <td>875</td>\n",
       "      <td>36008</td>\n",
       "      <td>0</td>\n",
       "      <td>0.0243</td>\n",
       "      <td>0.0</td>\n",
       "    </tr>\n",
       "  </tbody>\n",
       "</table>\n",
       "</div>"
      ],
      "text/plain": [
       "                                       Columns     Type  Unique   Size  \\\n",
       "maximum_nights_avg_ntm  maximum_nights_avg_ntm  float64     875  36008   \n",
       "\n",
       "                        Missing  % Unique  % Missing  \n",
       "maximum_nights_avg_ntm        0    0.0243        0.0  "
      ]
     },
     "execution_count": 169,
     "metadata": {},
     "output_type": "execute_result"
    }
   ],
   "source": [
    "df_info[df_info.index =='maximum_nights_avg_ntm']"
   ]
  },
  {
   "cell_type": "code",
   "execution_count": 170,
   "id": "4b390555",
   "metadata": {},
   "outputs": [
    {
     "data": {
      "text/plain": [
       "array([2.8000e+01, 6.0000e+01, 1.4700e+01, 3.6500e+02, 1.8000e+02,\n",
       "       7.6000e+02, 8.9000e+01, 3.0000e+01, 1.1250e+03, 7.5000e+02,\n",
       "       7.3000e+02, 7.8270e+02, 1.0000e+01, 9.0000e+01, 1.5000e+02,\n",
       "       2.0000e+01, 9.2000e+01, 2.1000e+01, 1.1147e+03, 5.0000e+02,\n",
       "       1.1130e+02, 9.0000e+00, 1.4000e+01, 5.2000e+02, 7.0000e+00,\n",
       "       3.5800e+02, 1.5000e+01, 9.1840e+02, 3.1000e+01, 8.0000e+02,\n",
       "       1.1122e+03, 7.2000e+02, 4.5000e+01, 7.2540e+02, 5.0000e+00,\n",
       "       8.0000e+00, 2.5000e+02, 3.6000e+02, 5.0000e+01, 1.1000e+02,\n",
       "       2.4010e+02, 2.7000e+01, 1.2000e+02, 1.0988e+03, 3.8000e+02,\n",
       "       3.5000e+01, 4.0000e+01, 1.8250e+03, 2.6000e+01, 8.4400e+01,\n",
       "       8.0000e+01, 1.1240e+03, 3.0000e+02, 2.9000e+01, 3.2000e+02,\n",
       "       6.0000e+00, 9.1000e+01, 9.8100e+01, 1.0000e+03, 3.4000e+01,\n",
       "       1.1199e+03, 6.6100e+01, 1.0624e+03, 1.0814e+03, 1.1018e+03,\n",
       "       4.8260e+02, 2.0000e+02, 1.0551e+03, 4.0000e+00, 1.1230e+03,\n",
       "       5.9400e+01, 7.1710e+02, 2.8000e+02, 5.9000e+01, 9.9000e+01,\n",
       "       3.7000e+02, 1.0605e+03, 8.6800e+01, 8.7400e+01, 8.4190e+02,\n",
       "       6.4900e+01, 7.0000e+01, 1.3000e+02, 1.2000e+01, 1.3640e+02,\n",
       "       7.1110e+02, 1.0742e+03, 2.5000e+01, 9.0000e+02, 8.1000e+01,\n",
       "       8.2400e+01, 8.6700e+01, 1.7000e+02, 3.0900e+01, 2.9900e+01,\n",
       "       8.7000e+01, 3.2000e+01, 2.8100e+01, 9.2700e+01, 1.0659e+03,\n",
       "       7.3100e+02, 1.1100e+03, 3.5760e+02, 1.2240e+02, 2.2000e+01,\n",
       "       4.7000e+01, 1.3140e+02, 1.0995e+03, 3.6600e+02, 1.5470e+02,\n",
       "       3.6420e+02, 1.8000e+01, 1.0000e+02, 1.0864e+03, 1.9000e+02,\n",
       "       6.0000e+02, 8.5000e+01, 1.0609e+03, 1.7000e+01, 1.0998e+03,\n",
       "       1.2390e+02, 9.3800e+01, 1.4000e+02, 8.6900e+01, 4.7640e+02,\n",
       "       1.0093e+03, 4.7070e+02, 4.0000e+02, 3.5500e+02, 3.6350e+02,\n",
       "       2.4000e+01, 6.0640e+02, 1.0847e+03, 5.8500e+01, 1.0586e+03,\n",
       "       1.0765e+03, 7.7290e+02, 1.3000e+01, 8.1600e+01, 2.6970e+02,\n",
       "       1.0947e+03, 2.6060e+02, 8.9600e+01, 1.5500e+02, 1.1000e+01,\n",
       "       1.0010e+03, 5.2600e+01, 1.6000e+02, 9.3370e+02, 5.3600e+02,\n",
       "       6.5090e+02, 8.8000e+01, 1.0891e+03, 6.1480e+02, 8.7300e+01,\n",
       "       3.6170e+02, 1.7440e+02, 2.7700e+02, 1.0190e+02, 5.9390e+02,\n",
       "       3.0000e+00, 2.1000e+02, 9.0400e+01, 7.7200e+01, 5.8400e+01,\n",
       "       1.5100e+01, 9.4120e+02, 1.8200e+02, 1.0688e+03, 4.0340e+02,\n",
       "       5.8900e+01, 1.0178e+03, 1.0915e+03, 1.1227e+03, 5.6590e+02,\n",
       "       8.2540e+02, 9.6320e+02, 9.4380e+02, 9.1200e+02, 1.0638e+03,\n",
       "       6.8480e+02, 9.2000e+02, 1.1700e+01, 1.0489e+03, 6.6300e+01,\n",
       "       1.0917e+03, 1.1071e+03, 2.9800e+01, 1.0793e+03, 3.8000e+01,\n",
       "       1.1200e+03, 2.9600e+01, 1.0969e+03, 1.1620e+02, 2.4730e+02,\n",
       "       2.9500e+01, 1.2080e+02, 1.6000e+01, 3.5200e+02, 9.3000e+01,\n",
       "       1.0950e+03, 4.8430e+02, 1.0718e+03, 3.0100e+01, 9.9900e+02,\n",
       "       1.9000e+01, 6.3400e+01, 8.5600e+02, 4.8000e+01, 2.7000e+02,\n",
       "       1.1380e+02, 1.2330e+02, 6.0630e+02, 3.5600e+02, 1.4230e+02,\n",
       "       7.5000e+01, 3.3000e+01, 5.6000e+01, 5.5000e+01, 1.4150e+02,\n",
       "       6.5000e+01, 4.5930e+02, 1.0000e+00, 4.3000e+01, 3.6000e+01,\n",
       "       6.2000e+01, 4.0870e+02, 2.3000e+01, 3.7000e+01, 1.1095e+03,\n",
       "       1.2100e+02, 1.0656e+03, 8.7100e+01, 1.1220e+03, 6.9000e+01,\n",
       "       1.1044e+03, 5.2800e+01, 1.0510e+03, 2.9580e+02, 3.7290e+02,\n",
       "       1.0430e+02, 1.9800e+01, 3.6400e+02, 5.2540e+02, 2.2000e+02,\n",
       "       3.3600e+02, 1.7900e+02, 4.3170e+02, 8.9090e+02, 1.0994e+03,\n",
       "       1.6100e+02, 1.0509e+03, 1.9600e+01, 1.0944e+03, 8.5340e+02,\n",
       "       1.1090e+03, 8.5350e+02, 1.1125e+03, 1.1174e+03, 1.0771e+03,\n",
       "       8.9120e+02, 1.1041e+03, 1.0541e+03, 5.0900e+01, 7.7050e+02,\n",
       "       1.1224e+03, 1.5250e+02, 1.0932e+03, 9.6610e+02, 6.1000e+02,\n",
       "       9.8800e+01, 1.0142e+03, 1.0795e+03, 3.6900e+02, 9.5610e+02,\n",
       "       7.5670e+02, 1.0818e+03, 1.0614e+03, 1.1099e+03, 1.0941e+03,\n",
       "       8.9300e+01, 9.5630e+02, 1.0513e+03, 1.1096e+03, 1.1070e+03,\n",
       "       8.1570e+02, 3.2560e+02, 1.1750e+02, 8.4420e+02, 2.0000e+00,\n",
       "       5.8250e+02, 6.1000e+01, 1.2500e+02, 4.4000e+01, 2.4400e+02,\n",
       "       3.8170e+02, 5.1830e+02, 8.5300e+01, 9.2990e+02, 3.5000e+02,\n",
       "       5.8000e+02, 3.3980e+02, 1.1140e+02, 1.1049e+03, 1.0265e+03,\n",
       "       2.9400e+01, 1.1149e+03, 9.3770e+02, 1.0495e+03, 1.9900e+02,\n",
       "       1.0889e+03, 8.8800e+01, 1.0872e+03, 1.0736e+03, 9.2730e+02,\n",
       "       1.0898e+03, 1.2900e+02, 4.2200e+01, 1.1205e+03, 9.5370e+02,\n",
       "       9.4890e+02, 9.5240e+02, 3.7600e+01, 9.5840e+02, 1.0108e+03,\n",
       "       8.4000e+01, 9.7510e+02, 8.4560e+02, 8.9840e+02, 3.3300e+02,\n",
       "       1.0740e+03, 2.2600e+02, 2.4260e+02, 5.9300e+01, 1.0685e+03,\n",
       "       5.9040e+02, 2.8990e+02, 4.2000e+01, 5.4000e+02, 5.7900e+01,\n",
       "       6.5800e+01, 1.0948e+03, 8.6940e+02, 1.8400e+01, 1.0080e+03,\n",
       "       9.9800e+01, 1.0530e+03, 1.0381e+03, 5.7290e+02, 9.0310e+02,\n",
       "       3.2500e+02, 5.8700e+01, 7.0000e+02, 6.8700e+01, 2.9700e+01,\n",
       "       1.4450e+02, 8.8100e+01, 1.0200e+02, 1.7840e+02, 8.8080e+02,\n",
       "       7.9740e+02, 3.9510e+02, 1.0536e+03, 7.8900e+01, 1.0670e+02,\n",
       "       1.1124e+03, 7.9380e+02, 6.6290e+02, 1.4800e+01, 2.7500e+02,\n",
       "       6.3200e+01, 1.0996e+03, 8.8300e+01, 8.0320e+02, 6.4910e+02,\n",
       "       6.5940e+02, 9.7100e+01, 1.8600e+02, 9.2900e+01, 9.3230e+02,\n",
       "       9.4100e+01, 1.0400e+02, 1.1215e+03, 4.5500e+01, 6.2800e+01,\n",
       "       5.8860e+02, 1.0044e+03, 1.0272e+03, 4.9100e+01, 6.7300e+01,\n",
       "       4.1600e+01, 5.1700e+01, 4.6980e+02, 3.7550e+02, 1.1023e+03,\n",
       "       1.1148e+03, 8.3950e+02, 6.4500e+01, 7.1700e+01, 1.0970e+03,\n",
       "       3.9000e+02, 1.1173e+03, 9.9000e+00, 1.0564e+03, 1.8500e+02,\n",
       "       3.5470e+02, 5.1590e+02, 5.8300e+01, 9.9410e+02, 8.1330e+02,\n",
       "       6.0800e+01, 1.0117e+03, 3.5510e+02, 3.2600e+01, 2.9900e+02,\n",
       "       8.2520e+02, 4.7300e+02, 8.0620e+02, 9.4800e+01, 1.0923e+03,\n",
       "       3.5650e+02, 8.8390e+02, 9.8460e+02, 8.5140e+02, 3.9940e+02,\n",
       "       3.9010e+02, 8.8210e+02, 4.7050e+02, 3.0190e+02, 8.6210e+02,\n",
       "       8.2100e+01, 8.4700e+02, 8.8180e+02, 9.9440e+02, 9.1710e+02,\n",
       "       9.0490e+02, 1.0532e+03, 1.1141e+03, 1.0971e+03, 7.9220e+02,\n",
       "       1.1500e+02, 2.4000e+02, 1.1019e+03, 1.0787e+03, 1.1014e+03,\n",
       "       7.2900e+02, 1.1020e+03, 3.7450e+02, 8.6200e+01, 1.0067e+03,\n",
       "       1.1340e+02, 5.5100e+01, 1.2730e+02, 1.1225e+03, 2.4400e+01,\n",
       "       1.4900e+01, 9.5000e+01, 7.2100e+01, 1.0820e+02, 1.1680e+02,\n",
       "       1.2810e+02, 3.2480e+02, 3.5360e+02, 8.8940e+02, 2.9000e+02,\n",
       "       1.0993e+03, 3.5630e+02, 4.3040e+02, 8.5800e+01, 7.2700e+01,\n",
       "       4.6880e+02, 1.9420e+02, 7.4750e+02, 1.1000e+03, 5.7300e+01,\n",
       "       1.1190e+02, 1.9700e+01, 2.9260e+02, 1.6090e+02, 1.0200e+01,\n",
       "       3.3000e+02, 1.0920e+03, 2.8800e+01, 1.0918e+03, 3.3510e+02,\n",
       "       4.0640e+02, 6.1800e+01, 3.3270e+02, 1.0766e+03, 7.3300e+01,\n",
       "       5.7540e+02, 3.5420e+02, 1.0309e+03, 3.5930e+02, 7.9430e+02,\n",
       "       3.5790e+02, 1.1045e+03, 1.0711e+03, 3.6490e+02, 1.0655e+03,\n",
       "       7.0750e+02, 1.0395e+03, 6.9700e+01, 6.1600e+01, 3.6130e+02,\n",
       "       1.0916e+03, 1.1107e+03, 5.2900e+01, 2.3280e+02, 3.6460e+02,\n",
       "       3.9500e+02, 1.0317e+03, 6.9500e+01, 9.7700e+01, 3.3680e+02,\n",
       "       8.2600e+01, 5.3200e+01, 6.5000e+02, 1.0230e+02, 1.2530e+02,\n",
       "       7.2000e+01, 1.0166e+03, 3.6250e+02, 9.1350e+02, 7.3900e+01,\n",
       "       6.9640e+02, 3.3210e+02, 7.2490e+02, 4.6280e+02, 1.1073e+03,\n",
       "       9.2400e+01, 1.0035e+03, 6.7290e+02, 1.1072e+03, 7.4990e+02,\n",
       "       1.0131e+03, 7.5260e+02, 8.4900e+02, 6.0870e+02, 6.4680e+02,\n",
       "       8.1540e+02, 7.5170e+02, 5.6600e+01, 3.9300e+01, 9.2500e+01,\n",
       "       1.0800e+02, 9.9910e+02, 2.2800e+02, 5.3100e+01, 7.9100e+01,\n",
       "       3.4950e+02, 9.7270e+02, 1.8300e+01, 3.8500e+02, 3.6330e+02,\n",
       "       1.0890e+03, 9.6140e+02, 9.2110e+02, 1.0883e+03, 4.5000e+02,\n",
       "       3.5340e+02, 1.1232e+03, 5.8490e+02, 3.5810e+02, 1.7800e+02,\n",
       "       3.5050e+02, 7.2050e+02, 2.1140e+02, 9.5890e+02, 5.8010e+02,\n",
       "       8.0100e+01, 8.0030e+02, 5.3000e+01, 1.4740e+02, 1.8910e+02,\n",
       "       7.2770e+02, 2.1160e+02, 1.1155e+03, 2.3300e+02, 7.6100e+02,\n",
       "       7.6330e+02, 4.0500e+01, 8.8400e+01, 5.9600e+01, 8.4660e+02,\n",
       "       2.4700e+02, 3.6040e+02, 3.4890e+02, 9.4420e+02, 1.1152e+03,\n",
       "       4.6360e+02, 1.0984e+03, 9.6080e+02, 3.4240e+02, 1.5400e+01,\n",
       "       9.3900e+01, 3.1860e+02, 5.5200e+01, 3.5150e+02, 9.2280e+02,\n",
       "       1.1260e+02, 6.6200e+01, 2.7320e+02, 1.0481e+03, 1.0300e+01,\n",
       "       6.4000e+01, 1.6380e+02, 4.3020e+02, 3.4350e+02, 3.5840e+02,\n",
       "       2.5660e+02, 6.5400e+01, 9.8500e+01, 3.3650e+02, 2.0180e+02,\n",
       "       5.0640e+02, 8.0700e+01, 1.3500e+02, 3.9930e+02, 9.8910e+02,\n",
       "       3.0200e+01, 1.2570e+02, 5.8730e+02, 8.6400e+01, 7.3520e+02,\n",
       "       8.5850e+02, 1.1690e+02, 1.3990e+02, 1.1450e+02, 1.1145e+03,\n",
       "       1.0942e+03, 3.6090e+02, 8.5380e+02, 4.1360e+02, 3.5960e+02,\n",
       "       2.5180e+02, 1.8900e+01, 5.7590e+02, 2.4900e+01, 1.0500e+01,\n",
       "       3.5290e+02, 1.1083e+03, 3.1770e+02, 8.6090e+02, 2.8900e+02,\n",
       "       3.5870e+02, 4.1000e+00, 1.7320e+02, 3.5530e+02, 8.3200e+01,\n",
       "       8.5610e+02, 1.0216e+03, 8.9200e+01, 3.0050e+02, 1.0968e+03,\n",
       "       8.2500e+01, 3.5770e+02, 1.7570e+02, 1.5130e+02, 5.9900e+01,\n",
       "       6.3800e+01, 1.2950e+02, 1.8900e+02, 3.1840e+02, 2.4700e+01,\n",
       "       5.9500e+01, 6.3000e+01, 4.0520e+02, 5.8970e+02, 2.1850e+02,\n",
       "       3.6800e+02, 9.4000e+01, 1.0825e+03, 3.5580e+02, 1.5390e+02,\n",
       "       3.2810e+02, 1.0520e+02, 2.7360e+02, 8.9800e+01, 1.5660e+02,\n",
       "       3.5710e+02, 1.2220e+02, 7.3720e+02, 1.5980e+02, 8.6600e+01,\n",
       "       8.9400e+01, 1.1027e+03, 3.5610e+02, 2.4230e+02, 1.0772e+03,\n",
       "       3.5310e+02, 9.2510e+02, 7.9700e+01, 3.5260e+02, 3.5860e+02,\n",
       "       3.0490e+02, 7.2200e+01, 8.4600e+01, 3.5920e+02, 9.5170e+02,\n",
       "       7.5200e+01, 2.5890e+02, 9.2040e+02, 1.0866e+03, 4.4970e+02,\n",
       "       7.5100e+01, 9.2100e+02, 1.0344e+03, 1.0570e+02, 3.2140e+02,\n",
       "       7.9000e+01, 9.8220e+02, 5.3300e+01, 6.6000e+01, 3.3840e+02,\n",
       "       7.6810e+02, 6.9900e+01, 2.7600e+02, 1.1170e+02, 3.2200e+02,\n",
       "       2.8610e+02, 6.3490e+02, 8.8600e+01, 7.6100e+01, 9.0080e+02,\n",
       "       6.5600e+01, 1.0289e+03, 3.8740e+02, 1.1110e+03, 1.1180e+03,\n",
       "       3.5300e+02, 8.2900e+01, 1.9490e+02, 3.3520e+02, 2.6130e+02,\n",
       "       3.2570e+02, 1.0084e+03, 9.5470e+02, 6.9600e+01, 8.7500e+01,\n",
       "       1.8100e+01, 3.5590e+02, 2.2090e+02, 1.0370e+03, 3.6190e+02,\n",
       "       1.0976e+03, 1.1230e+02, 3.6840e+02, 3.5940e+02, 4.9000e+01,\n",
       "       6.0390e+02, 8.2280e+02, 1.8800e+01, 1.0322e+03, 4.4360e+02,\n",
       "       7.0600e+01, 2.9370e+02, 1.0900e+02, 4.0170e+02, 9.5930e+02,\n",
       "       9.0700e+01, 7.1300e+01, 7.1200e+01, 2.2500e+02, 1.8290e+02,\n",
       "       1.3830e+02, 7.3600e+01, 7.4100e+01, 1.9330e+02, 1.5860e+02,\n",
       "       1.1040e+02, 4.1110e+02, 2.7790e+02, 1.5540e+02, 1.4490e+02,\n",
       "       5.3730e+02, 6.9800e+01, 9.2600e+01, 7.0100e+01, 3.3720e+02,\n",
       "       9.4630e+02, 1.0059e+03, 1.0460e+02, 2.4720e+02, 6.3010e+02,\n",
       "       6.4200e+02, 2.5600e+02, 2.4500e+01, 3.5040e+02, 1.1109e+03,\n",
       "       3.4940e+02, 6.3300e+01, 5.5700e+01, 2.9940e+02, 1.4470e+02,\n",
       "       3.4360e+02, 3.6290e+02, 1.9940e+02, 5.9800e+01, 3.6180e+02,\n",
       "       9.7120e+02, 2.1380e+02, 7.2760e+02, 7.9400e+01, 3.5680e+02,\n",
       "       3.8100e+02, 3.7400e+02, 6.5080e+02, 6.4840e+02, 6.4750e+02,\n",
       "       6.7380e+02, 2.4940e+02, 6.8070e+02, 7.2850e+02, 6.6400e+01,\n",
       "       1.1200e+02, 1.0290e+03, 4.8020e+02, 4.9190e+02, 3.4900e+01,\n",
       "       6.1700e+01, 6.1500e+01, 2.9890e+02, 6.8500e+01, 1.3760e+02,\n",
       "       7.0200e+01, 9.4700e+01, 1.6170e+02, 3.8760e+02, 1.2200e+02,\n",
       "       3.4500e+02, 3.5190e+02, 1.0635e+03, 6.6600e+01, 6.1110e+02,\n",
       "       9.5520e+02, 1.0500e+02, 9.9600e+01, 6.7600e+01, 3.9900e+01,\n",
       "       8.7700e+01, 5.1000e+00, 1.0560e+03, 6.6580e+02, 8.1030e+02,\n",
       "       8.5100e+01, 4.5400e+02, 3.4570e+02, 9.9180e+02, 3.0400e+01,\n",
       "       6.0200e+01, 6.8010e+02, 2.9320e+02, 4.3100e+01, 3.5450e+02,\n",
       "       3.2110e+02, 4.3740e+02, 1.6610e+02, 8.9170e+02, 8.9700e+01,\n",
       "       3.4220e+02, 3.4730e+02, 5.9440e+02, 4.3500e+02, 4.9440e+02,\n",
       "       3.4490e+02, 5.2700e+01, 4.9700e+01, 5.5300e+01, 3.2300e+01,\n",
       "       3.1500e+01, 1.0960e+02, 7.8000e+01, 1.9270e+02, 3.6010e+02])"
      ]
     },
     "execution_count": 170,
     "metadata": {},
     "output_type": "execute_result"
    }
   ],
   "source": [
    "df_eda['maximum_nights_avg_ntm'].unique()"
   ]
  },
  {
   "cell_type": "markdown",
   "id": "cb806c63",
   "metadata": {},
   "source": [
    "- \"has_availability\"\n"
   ]
  },
  {
   "cell_type": "code",
   "execution_count": 171,
   "id": "7f9725ad",
   "metadata": {},
   "outputs": [
    {
     "data": {
      "text/html": [
       "<div>\n",
       "<style scoped>\n",
       "    .dataframe tbody tr th:only-of-type {\n",
       "        vertical-align: middle;\n",
       "    }\n",
       "\n",
       "    .dataframe tbody tr th {\n",
       "        vertical-align: top;\n",
       "    }\n",
       "\n",
       "    .dataframe thead th {\n",
       "        text-align: right;\n",
       "    }\n",
       "</style>\n",
       "<table border=\"1\" class=\"dataframe\">\n",
       "  <thead>\n",
       "    <tr style=\"text-align: right;\">\n",
       "      <th></th>\n",
       "      <th>Columns</th>\n",
       "      <th>Type</th>\n",
       "      <th>Unique</th>\n",
       "      <th>Size</th>\n",
       "      <th>Missing</th>\n",
       "      <th>% Unique</th>\n",
       "      <th>% Missing</th>\n",
       "    </tr>\n",
       "  </thead>\n",
       "  <tbody>\n",
       "    <tr>\n",
       "      <th>has_availability</th>\n",
       "      <td>has_availability</td>\n",
       "      <td>object</td>\n",
       "      <td>2</td>\n",
       "      <td>36008</td>\n",
       "      <td>1771</td>\n",
       "      <td>0.000056</td>\n",
       "      <td>0.049184</td>\n",
       "    </tr>\n",
       "  </tbody>\n",
       "</table>\n",
       "</div>"
      ],
      "text/plain": [
       "                           Columns    Type  Unique   Size  Missing  % Unique  \\\n",
       "has_availability  has_availability  object       2  36008     1771  0.000056   \n",
       "\n",
       "                  % Missing  \n",
       "has_availability   0.049184  "
      ]
     },
     "execution_count": 171,
     "metadata": {},
     "output_type": "execute_result"
    }
   ],
   "source": [
    "df_info[df_info.index =='has_availability']"
   ]
  },
  {
   "cell_type": "code",
   "execution_count": 172,
   "id": "dd95cef8",
   "metadata": {},
   "outputs": [
    {
     "data": {
      "text/plain": [
       "array(['t', nan, 'f'], dtype=object)"
      ]
     },
     "execution_count": 172,
     "metadata": {},
     "output_type": "execute_result"
    }
   ],
   "source": [
    "df_eda['has_availability'].unique()"
   ]
  },
  {
   "cell_type": "markdown",
   "id": "2e9e6288",
   "metadata": {},
   "source": [
    "- \"availability_30\"\n"
   ]
  },
  {
   "cell_type": "code",
   "execution_count": 173,
   "id": "e91b13fc",
   "metadata": {},
   "outputs": [
    {
     "data": {
      "text/html": [
       "<div>\n",
       "<style scoped>\n",
       "    .dataframe tbody tr th:only-of-type {\n",
       "        vertical-align: middle;\n",
       "    }\n",
       "\n",
       "    .dataframe tbody tr th {\n",
       "        vertical-align: top;\n",
       "    }\n",
       "\n",
       "    .dataframe thead th {\n",
       "        text-align: right;\n",
       "    }\n",
       "</style>\n",
       "<table border=\"1\" class=\"dataframe\">\n",
       "  <thead>\n",
       "    <tr style=\"text-align: right;\">\n",
       "      <th></th>\n",
       "      <th>Columns</th>\n",
       "      <th>Type</th>\n",
       "      <th>Unique</th>\n",
       "      <th>Size</th>\n",
       "      <th>Missing</th>\n",
       "      <th>% Unique</th>\n",
       "      <th>% Missing</th>\n",
       "    </tr>\n",
       "  </thead>\n",
       "  <tbody>\n",
       "    <tr>\n",
       "      <th>availability_30</th>\n",
       "      <td>availability_30</td>\n",
       "      <td>int64</td>\n",
       "      <td>31</td>\n",
       "      <td>36008</td>\n",
       "      <td>0</td>\n",
       "      <td>0.000861</td>\n",
       "      <td>0.0</td>\n",
       "    </tr>\n",
       "  </tbody>\n",
       "</table>\n",
       "</div>"
      ],
      "text/plain": [
       "                         Columns   Type  Unique   Size  Missing  % Unique  \\\n",
       "availability_30  availability_30  int64      31  36008        0  0.000861   \n",
       "\n",
       "                 % Missing  \n",
       "availability_30        0.0  "
      ]
     },
     "execution_count": 173,
     "metadata": {},
     "output_type": "execute_result"
    }
   ],
   "source": [
    "df_info[df_info.index =='availability_30']"
   ]
  },
  {
   "cell_type": "code",
   "execution_count": 174,
   "id": "b668167e",
   "metadata": {},
   "outputs": [
    {
     "data": {
      "text/plain": [
       "array([ 5,  3,  4, 15,  6, 30, 18, 24, 14,  0, 16, 25,  1, 20, 19, 28,  8,\n",
       "       23, 27, 21,  7,  2, 29, 17, 26, 12, 11,  9, 22, 13, 10],\n",
       "      dtype=int64)"
      ]
     },
     "execution_count": 174,
     "metadata": {},
     "output_type": "execute_result"
    }
   ],
   "source": [
    "df_eda['availability_30'].unique()"
   ]
  },
  {
   "cell_type": "markdown",
   "id": "ddc07394",
   "metadata": {},
   "source": [
    "- \"availability_60\"\n"
   ]
  },
  {
   "cell_type": "code",
   "execution_count": 175,
   "id": "d55b33bd",
   "metadata": {},
   "outputs": [
    {
     "data": {
      "text/html": [
       "<div>\n",
       "<style scoped>\n",
       "    .dataframe tbody tr th:only-of-type {\n",
       "        vertical-align: middle;\n",
       "    }\n",
       "\n",
       "    .dataframe tbody tr th {\n",
       "        vertical-align: top;\n",
       "    }\n",
       "\n",
       "    .dataframe thead th {\n",
       "        text-align: right;\n",
       "    }\n",
       "</style>\n",
       "<table border=\"1\" class=\"dataframe\">\n",
       "  <thead>\n",
       "    <tr style=\"text-align: right;\">\n",
       "      <th></th>\n",
       "      <th>Columns</th>\n",
       "      <th>Type</th>\n",
       "      <th>Unique</th>\n",
       "      <th>Size</th>\n",
       "      <th>Missing</th>\n",
       "      <th>% Unique</th>\n",
       "      <th>% Missing</th>\n",
       "    </tr>\n",
       "  </thead>\n",
       "  <tbody>\n",
       "    <tr>\n",
       "      <th>availability_60</th>\n",
       "      <td>availability_60</td>\n",
       "      <td>int64</td>\n",
       "      <td>61</td>\n",
       "      <td>36008</td>\n",
       "      <td>0</td>\n",
       "      <td>0.001694</td>\n",
       "      <td>0.0</td>\n",
       "    </tr>\n",
       "  </tbody>\n",
       "</table>\n",
       "</div>"
      ],
      "text/plain": [
       "                         Columns   Type  Unique   Size  Missing  % Unique  \\\n",
       "availability_60  availability_60  int64      61  36008        0  0.001694   \n",
       "\n",
       "                 % Missing  \n",
       "availability_60        0.0  "
      ]
     },
     "execution_count": 175,
     "metadata": {},
     "output_type": "execute_result"
    }
   ],
   "source": [
    "df_info[df_info.index =='availability_60']"
   ]
  },
  {
   "cell_type": "code",
   "execution_count": 176,
   "id": "7227ef2e",
   "metadata": {},
   "outputs": [
    {
     "data": {
      "text/plain": [
       "array([ 7, 18,  9, 38, 22, 60, 51, 13, 20,  0, 33,  1, 43, 25, 58,  3, 31,\n",
       "        5, 19, 44, 57, 39,  6, 40, 59, 34, 52, 11, 30,  2, 24, 23, 46, 26,\n",
       "       10, 45, 17, 15, 14, 21,  4, 54, 37, 29, 48, 41, 49, 27, 32, 47, 55,\n",
       "       53, 42, 28, 50, 16, 56,  8, 35, 12, 36], dtype=int64)"
      ]
     },
     "execution_count": 176,
     "metadata": {},
     "output_type": "execute_result"
    }
   ],
   "source": [
    "df_eda['availability_60'].unique()"
   ]
  },
  {
   "cell_type": "markdown",
   "id": "a68637ef",
   "metadata": {},
   "source": [
    "- \"availability_90\"\n"
   ]
  },
  {
   "cell_type": "code",
   "execution_count": 177,
   "id": "6fa5e1db",
   "metadata": {},
   "outputs": [
    {
     "data": {
      "text/html": [
       "<div>\n",
       "<style scoped>\n",
       "    .dataframe tbody tr th:only-of-type {\n",
       "        vertical-align: middle;\n",
       "    }\n",
       "\n",
       "    .dataframe tbody tr th {\n",
       "        vertical-align: top;\n",
       "    }\n",
       "\n",
       "    .dataframe thead th {\n",
       "        text-align: right;\n",
       "    }\n",
       "</style>\n",
       "<table border=\"1\" class=\"dataframe\">\n",
       "  <thead>\n",
       "    <tr style=\"text-align: right;\">\n",
       "      <th></th>\n",
       "      <th>Columns</th>\n",
       "      <th>Type</th>\n",
       "      <th>Unique</th>\n",
       "      <th>Size</th>\n",
       "      <th>Missing</th>\n",
       "      <th>% Unique</th>\n",
       "      <th>% Missing</th>\n",
       "    </tr>\n",
       "  </thead>\n",
       "  <tbody>\n",
       "    <tr>\n",
       "      <th>availability_90</th>\n",
       "      <td>availability_90</td>\n",
       "      <td>int64</td>\n",
       "      <td>91</td>\n",
       "      <td>36008</td>\n",
       "      <td>0</td>\n",
       "      <td>0.002527</td>\n",
       "      <td>0.0</td>\n",
       "    </tr>\n",
       "  </tbody>\n",
       "</table>\n",
       "</div>"
      ],
      "text/plain": [
       "                         Columns   Type  Unique   Size  Missing  % Unique  \\\n",
       "availability_90  availability_90  int64      91  36008        0  0.002527   \n",
       "\n",
       "                 % Missing  \n",
       "availability_90        0.0  "
      ]
     },
     "execution_count": 177,
     "metadata": {},
     "output_type": "execute_result"
    }
   ],
   "source": [
    "df_info[df_info.index =='availability_90']"
   ]
  },
  {
   "cell_type": "code",
   "execution_count": 178,
   "id": "64fde391",
   "metadata": {},
   "outputs": [
    {
     "data": {
      "text/plain": [
       "array([14, 48, 12, 41, 27, 39, 90, 65, 81, 37, 43, 50,  0, 63,  1, 73, 26,\n",
       "       88, 31,  6, 61, 55, 35, 13, 19, 74, 68,  4, 87,  2, 69, 49, 11, 70,\n",
       "       89, 25, 82, 52, 34,  3, 54, 53, 76, 10, 32, 47, 15, 64, 42, 44, 51,\n",
       "       16, 84, 67, 30, 59, 78, 29, 40, 24, 45, 71, 17, 79, 57, 62, 77, 60,\n",
       "       46, 75, 83, 66, 72, 33, 58, 28,  8, 38, 36,  9, 86, 18, 56, 21, 20,\n",
       "       80,  5, 85, 23,  7, 22], dtype=int64)"
      ]
     },
     "execution_count": 178,
     "metadata": {},
     "output_type": "execute_result"
    }
   ],
   "source": [
    "df_eda['availability_90'].unique()"
   ]
  },
  {
   "cell_type": "markdown",
   "id": "2a89edcd",
   "metadata": {},
   "source": [
    "- \"availability_365\"\n"
   ]
  },
  {
   "cell_type": "code",
   "execution_count": 179,
   "id": "949fafb0",
   "metadata": {},
   "outputs": [
    {
     "data": {
      "text/html": [
       "<div>\n",
       "<style scoped>\n",
       "    .dataframe tbody tr th:only-of-type {\n",
       "        vertical-align: middle;\n",
       "    }\n",
       "\n",
       "    .dataframe tbody tr th {\n",
       "        vertical-align: top;\n",
       "    }\n",
       "\n",
       "    .dataframe thead th {\n",
       "        text-align: right;\n",
       "    }\n",
       "</style>\n",
       "<table border=\"1\" class=\"dataframe\">\n",
       "  <thead>\n",
       "    <tr style=\"text-align: right;\">\n",
       "      <th></th>\n",
       "      <th>Columns</th>\n",
       "      <th>Type</th>\n",
       "      <th>Unique</th>\n",
       "      <th>Size</th>\n",
       "      <th>Missing</th>\n",
       "      <th>% Unique</th>\n",
       "      <th>% Missing</th>\n",
       "    </tr>\n",
       "  </thead>\n",
       "  <tbody>\n",
       "    <tr>\n",
       "      <th>availability_365</th>\n",
       "      <td>availability_365</td>\n",
       "      <td>int64</td>\n",
       "      <td>366</td>\n",
       "      <td>36008</td>\n",
       "      <td>0</td>\n",
       "      <td>0.010164</td>\n",
       "      <td>0.0</td>\n",
       "    </tr>\n",
       "  </tbody>\n",
       "</table>\n",
       "</div>"
      ],
      "text/plain": [
       "                           Columns   Type  Unique   Size  Missing  % Unique  \\\n",
       "availability_365  availability_365  int64     366  36008        0  0.010164   \n",
       "\n",
       "                  % Missing  \n",
       "availability_365        0.0  "
      ]
     },
     "execution_count": 179,
     "metadata": {},
     "output_type": "execute_result"
    }
   ],
   "source": [
    "df_info[df_info.index =='availability_365']"
   ]
  },
  {
   "cell_type": "code",
   "execution_count": 180,
   "id": "e859c47f",
   "metadata": {},
   "outputs": [
    {
     "data": {
      "text/plain": [
       "array([269, 228,  62,  44, 293, 245, 365, 319, 356, 312, 308, 294,   0,\n",
       "       338,   1,  73, 234, 306, 271, 363, 287, 262,  67, 330, 215, 100,\n",
       "       264,  80,  76, 143, 362,   3,  31, 249, 321,  16, 345, 179, 200,\n",
       "        41, 171, 357,  20, 323,  34,  58,  26, 144, 233, 242, 351,  37,\n",
       "       364, 238,  18, 298, 244,   2,  69,  10, 318, 192, 339,  42, 134,\n",
       "       326, 216, 329, 157,  30, 240, 174, 268, 149, 353,  89, 207, 292,\n",
       "       135, 301, 159, 239,  64, 224, 316, 354, 180, 325, 302, 103, 154,\n",
       "       172,  61, 346, 230, 175, 331, 137, 121, 300, 335, 155, 136, 165,\n",
       "       189,   6,  83, 130, 324, 148, 358, 299, 145, 349, 162, 277, 336,\n",
       "       168, 328, 359,  53,  72, 123,  24, 343,  93, 303, 352, 273, 206,\n",
       "       327, 296,  57,  52, 221,  29, 128, 227, 320,  87,  39, 350,  11,\n",
       "       347, 281, 272,  60, 342, 225,  90, 138, 307, 113, 315, 124,  86,\n",
       "       126, 304, 201,  98, 170, 212,   5, 229, 310, 258, 232, 153,  46,\n",
       "        78, 334, 109, 283, 360, 114, 290, 344, 236,  40, 317, 348,  82,\n",
       "        17,  74, 166,  32,  70, 291,  55,  84, 213,  25, 160, 208, 117,\n",
       "       322,  12, 280, 361,  22,  66, 355, 246, 341, 164, 125, 151,  33,\n",
       "         7,   4, 176,  63,  47,  14, 223,  79, 156, 243, 263, 204, 131,\n",
       "       173, 147, 261,  35,  27,  43, 285,  75, 169, 340,  51, 257, 158,\n",
       "       115, 270,  92, 127,  91,  71, 210,  88, 260,  94,  95, 188, 314,\n",
       "        77,  15, 309, 289, 278, 178, 184, 265,  36, 284, 102, 182, 108,\n",
       "       333, 163,  99, 305, 199, 311,  68,  49, 256, 186, 259, 274, 111,\n",
       "       252, 247, 286, 217, 235, 118, 241, 255, 251,  21, 276, 141, 101,\n",
       "       226,  65, 142, 279,  81, 254,  45, 203, 152, 161, 266, 198, 297,\n",
       "        50,  54, 313,  85, 140,  23, 332, 267, 222,   9,  28, 106,  48,\n",
       "         8, 288,  96, 282,  38,  59, 181, 122, 202, 337,  13, 133,  97,\n",
       "       150, 191, 110, 205, 177, 183, 139, 105, 129, 190, 214, 237,  19,\n",
       "       112, 250, 196, 116, 119, 107,  56, 132, 194, 146, 104, 275, 295,\n",
       "       193, 167, 231, 195, 219, 197, 220, 120, 187, 253, 211, 209, 218,\n",
       "       248, 185], dtype=int64)"
      ]
     },
     "execution_count": 180,
     "metadata": {},
     "output_type": "execute_result"
    }
   ],
   "source": [
    "df_eda['availability_365'].unique()"
   ]
  },
  {
   "cell_type": "markdown",
   "id": "8edbd442",
   "metadata": {},
   "source": [
    "- \"calendar_last_scraped\"\n"
   ]
  },
  {
   "cell_type": "code",
   "execution_count": 181,
   "id": "cd6ac641",
   "metadata": {},
   "outputs": [
    {
     "data": {
      "text/html": [
       "<div>\n",
       "<style scoped>\n",
       "    .dataframe tbody tr th:only-of-type {\n",
       "        vertical-align: middle;\n",
       "    }\n",
       "\n",
       "    .dataframe tbody tr th {\n",
       "        vertical-align: top;\n",
       "    }\n",
       "\n",
       "    .dataframe thead th {\n",
       "        text-align: right;\n",
       "    }\n",
       "</style>\n",
       "<table border=\"1\" class=\"dataframe\">\n",
       "  <thead>\n",
       "    <tr style=\"text-align: right;\">\n",
       "      <th></th>\n",
       "      <th>Columns</th>\n",
       "      <th>Type</th>\n",
       "      <th>Unique</th>\n",
       "      <th>Size</th>\n",
       "      <th>Missing</th>\n",
       "      <th>% Unique</th>\n",
       "      <th>% Missing</th>\n",
       "    </tr>\n",
       "  </thead>\n",
       "  <tbody>\n",
       "  </tbody>\n",
       "</table>\n",
       "</div>"
      ],
      "text/plain": [
       "Empty DataFrame\n",
       "Columns: [Columns, Type, Unique, Size, Missing, % Unique, % Missing]\n",
       "Index: []"
      ]
     },
     "execution_count": 181,
     "metadata": {},
     "output_type": "execute_result"
    }
   ],
   "source": [
    "df_info[df_info.index =='listcalendar_last_scrapeding_url']"
   ]
  },
  {
   "cell_type": "code",
   "execution_count": 182,
   "id": "af4f8311",
   "metadata": {},
   "outputs": [
    {
     "data": {
      "text/plain": [
       "array(['2023-12-27', '2023-12-26', '2023-12-28', '2023-12-30',\n",
       "       '2023-12-29'], dtype=object)"
      ]
     },
     "execution_count": 182,
     "metadata": {},
     "output_type": "execute_result"
    }
   ],
   "source": [
    "df_eda['calendar_last_scraped'].unique()"
   ]
  },
  {
   "cell_type": "markdown",
   "id": "eeba90fb",
   "metadata": {},
   "source": [
    "- \"number_of_reviews\"\n"
   ]
  },
  {
   "cell_type": "code",
   "execution_count": 183,
   "id": "4daa7305",
   "metadata": {},
   "outputs": [
    {
     "data": {
      "text/html": [
       "<div>\n",
       "<style scoped>\n",
       "    .dataframe tbody tr th:only-of-type {\n",
       "        vertical-align: middle;\n",
       "    }\n",
       "\n",
       "    .dataframe tbody tr th {\n",
       "        vertical-align: top;\n",
       "    }\n",
       "\n",
       "    .dataframe thead th {\n",
       "        text-align: right;\n",
       "    }\n",
       "</style>\n",
       "<table border=\"1\" class=\"dataframe\">\n",
       "  <thead>\n",
       "    <tr style=\"text-align: right;\">\n",
       "      <th></th>\n",
       "      <th>Columns</th>\n",
       "      <th>Type</th>\n",
       "      <th>Unique</th>\n",
       "      <th>Size</th>\n",
       "      <th>Missing</th>\n",
       "      <th>% Unique</th>\n",
       "      <th>% Missing</th>\n",
       "    </tr>\n",
       "  </thead>\n",
       "  <tbody>\n",
       "    <tr>\n",
       "      <th>number_of_reviews</th>\n",
       "      <td>number_of_reviews</td>\n",
       "      <td>int64</td>\n",
       "      <td>367</td>\n",
       "      <td>36008</td>\n",
       "      <td>0</td>\n",
       "      <td>0.010192</td>\n",
       "      <td>0.0</td>\n",
       "    </tr>\n",
       "  </tbody>\n",
       "</table>\n",
       "</div>"
      ],
      "text/plain": [
       "                             Columns   Type  Unique   Size  Missing  % Unique  \\\n",
       "number_of_reviews  number_of_reviews  int64     367  36008        0  0.010192   \n",
       "\n",
       "                   % Missing  \n",
       "number_of_reviews        0.0  "
      ]
     },
     "execution_count": 183,
     "metadata": {},
     "output_type": "execute_result"
    }
   ],
   "source": [
    "df_info[df_info.index =='number_of_reviews']"
   ]
  },
  {
   "cell_type": "code",
   "execution_count": 184,
   "id": "933f1098",
   "metadata": {},
   "outputs": [
    {
     "data": {
      "text/plain": [
       "array([311, 275, 454,  17, 152, 227,   0, 163,  24, 431,   4,  12, 156,\n",
       "         1, 463,   7, 153, 111,  82, 257,  53,  37,  78,  42,  84,  11,\n",
       "       106,  70, 236, 113,  69,  16, 182, 293, 555,  74,  89, 351, 154,\n",
       "       143, 234,  97, 160, 144, 261, 115,  25,   2,  40, 180, 119, 229,\n",
       "        85,  83, 235,  41, 270,   5,  81,  30,   3,  46, 281, 404, 167,\n",
       "       104, 148,  29,  63, 164, 161,  52, 313, 155,  48,  66, 157, 587,\n",
       "        20,  86, 196,  60,  45,   9,  50,  51,  21,  34, 176,   8, 216,\n",
       "        88,  43, 116,  18,  95,  94,  10,  14,  28,  39, 110,  55,  15,\n",
       "         6,  13,  27,  80, 138, 125, 128,  35, 100, 221, 208, 171, 135,\n",
       "       337, 195, 166, 177, 131, 168,  61,  93, 181, 109, 627, 204, 228,\n",
       "       249,  96,  32, 130, 191,  56,  68, 358,  47,  31,  44, 267, 126,\n",
       "        64,  92, 245,  91,  19, 102, 412, 286, 220, 309,  22, 183, 122,\n",
       "       301, 136, 218, 108,  38,  72,  90, 437, 205, 272,  58, 190,  76,\n",
       "       101, 402, 225, 372,  49, 117, 413, 319,  33, 170,  77,  54,  79,\n",
       "        71, 240,  26, 264,  65, 121, 112, 328, 197, 184,  87,  23, 134,\n",
       "       133, 142, 141,  62, 280, 158, 278, 219, 250, 345, 103, 217, 242,\n",
       "        67, 213, 310, 169, 114, 199, 251, 247, 552, 406,  57,  36,  75,\n",
       "       151, 173, 188,  73, 383,  99, 150, 140, 211, 241, 253, 105, 231,\n",
       "       146, 340,  59, 305, 321, 214, 120, 187, 288, 333, 107, 223, 198,\n",
       "       307, 124,  98, 165, 192, 189, 344, 537, 201, 336, 139, 377, 179,\n",
       "       368, 127, 118, 363, 230, 292, 145, 132, 352, 424, 259, 209, 369,\n",
       "       357, 252, 147, 400, 206, 446, 123, 296, 262, 239, 364, 290, 246,\n",
       "       149, 193, 185, 299, 200, 162, 298, 312, 137, 326, 401, 304, 295,\n",
       "       390, 355, 273, 300, 159, 254, 172, 233, 202, 129, 244, 483, 175,\n",
       "       238, 314, 178, 276, 371, 226, 266, 186, 203, 174, 207, 279, 334,\n",
       "       263, 194, 212, 243, 222, 331, 407, 353, 343, 283, 638, 329, 374,\n",
       "       210, 330, 291, 258, 284, 484, 287, 224, 320, 465, 308, 426, 255,\n",
       "       318, 532, 327, 232, 500, 356, 433, 315, 397, 448, 256, 381, 391,\n",
       "       346, 504, 269], dtype=int64)"
      ]
     },
     "execution_count": 184,
     "metadata": {},
     "output_type": "execute_result"
    }
   ],
   "source": [
    "df_eda['number_of_reviews'].unique()"
   ]
  },
  {
   "cell_type": "markdown",
   "id": "81683470",
   "metadata": {},
   "source": [
    "- \"number_of_reviews_ltm\"\n"
   ]
  },
  {
   "cell_type": "code",
   "execution_count": 185,
   "id": "8e4ea7ea",
   "metadata": {},
   "outputs": [
    {
     "data": {
      "text/html": [
       "<div>\n",
       "<style scoped>\n",
       "    .dataframe tbody tr th:only-of-type {\n",
       "        vertical-align: middle;\n",
       "    }\n",
       "\n",
       "    .dataframe tbody tr th {\n",
       "        vertical-align: top;\n",
       "    }\n",
       "\n",
       "    .dataframe thead th {\n",
       "        text-align: right;\n",
       "    }\n",
       "</style>\n",
       "<table border=\"1\" class=\"dataframe\">\n",
       "  <thead>\n",
       "    <tr style=\"text-align: right;\">\n",
       "      <th></th>\n",
       "      <th>Columns</th>\n",
       "      <th>Type</th>\n",
       "      <th>Unique</th>\n",
       "      <th>Size</th>\n",
       "      <th>Missing</th>\n",
       "      <th>% Unique</th>\n",
       "      <th>% Missing</th>\n",
       "    </tr>\n",
       "  </thead>\n",
       "  <tbody>\n",
       "    <tr>\n",
       "      <th>number_of_reviews_ltm</th>\n",
       "      <td>number_of_reviews_ltm</td>\n",
       "      <td>int64</td>\n",
       "      <td>99</td>\n",
       "      <td>36008</td>\n",
       "      <td>0</td>\n",
       "      <td>0.002749</td>\n",
       "      <td>0.0</td>\n",
       "    </tr>\n",
       "  </tbody>\n",
       "</table>\n",
       "</div>"
      ],
      "text/plain": [
       "                                     Columns   Type  Unique   Size  Missing  \\\n",
       "number_of_reviews_ltm  number_of_reviews_ltm  int64      99  36008        0   \n",
       "\n",
       "                       % Unique  % Missing  \n",
       "number_of_reviews_ltm  0.002749        0.0  "
      ]
     },
     "execution_count": 185,
     "metadata": {},
     "output_type": "execute_result"
    }
   ],
   "source": [
    "df_info[df_info.index =='number_of_reviews_ltm']"
   ]
  },
  {
   "cell_type": "code",
   "execution_count": 186,
   "id": "ddf9fa44",
   "metadata": {},
   "outputs": [
    {
     "data": {
      "text/plain": [
       "array([ 29,  36,   0,  14,  12,   3,  25,  16,  28,  26,  23,  13,  31,\n",
       "         4,  10,   8,  27,  34,  22,   1,  65,   6,  15,  30,  51,  21,\n",
       "         2,  18,   7,   5,  54,  33,  64,  24,  39,  17,   9,  11,  35,\n",
       "        20,  44,  40,  45,  38,  43,  63,  55,  19,  46,  37,  32,  57,\n",
       "        49,  41,  50,  42,  47,  48,  61,  66,  59,  75,  53,  56,  60,\n",
       "        62,  76,  52,  92,  74,  58, 108,  91,  87,  73,  81,  78,  68,\n",
       "        77,  70,  82, 115,  85, 120, 124,  96,  89,  80, 105,  67,  72,\n",
       "        69,  93,  71,  84, 113,  98,  79,  94], dtype=int64)"
      ]
     },
     "execution_count": 186,
     "metadata": {},
     "output_type": "execute_result"
    }
   ],
   "source": [
    "df_eda['number_of_reviews_ltm'].unique()"
   ]
  },
  {
   "cell_type": "markdown",
   "id": "a30565a5",
   "metadata": {},
   "source": [
    "- \"number_of_reviews_l30d\"\n"
   ]
  },
  {
   "cell_type": "code",
   "execution_count": 187,
   "id": "83d677b0",
   "metadata": {},
   "outputs": [
    {
     "data": {
      "text/html": [
       "<div>\n",
       "<style scoped>\n",
       "    .dataframe tbody tr th:only-of-type {\n",
       "        vertical-align: middle;\n",
       "    }\n",
       "\n",
       "    .dataframe tbody tr th {\n",
       "        vertical-align: top;\n",
       "    }\n",
       "\n",
       "    .dataframe thead th {\n",
       "        text-align: right;\n",
       "    }\n",
       "</style>\n",
       "<table border=\"1\" class=\"dataframe\">\n",
       "  <thead>\n",
       "    <tr style=\"text-align: right;\">\n",
       "      <th></th>\n",
       "      <th>Columns</th>\n",
       "      <th>Type</th>\n",
       "      <th>Unique</th>\n",
       "      <th>Size</th>\n",
       "      <th>Missing</th>\n",
       "      <th>% Unique</th>\n",
       "      <th>% Missing</th>\n",
       "    </tr>\n",
       "  </thead>\n",
       "  <tbody>\n",
       "    <tr>\n",
       "      <th>number_of_reviews_l30d</th>\n",
       "      <td>number_of_reviews_l30d</td>\n",
       "      <td>int64</td>\n",
       "      <td>15</td>\n",
       "      <td>36008</td>\n",
       "      <td>0</td>\n",
       "      <td>0.000417</td>\n",
       "      <td>0.0</td>\n",
       "    </tr>\n",
       "  </tbody>\n",
       "</table>\n",
       "</div>"
      ],
      "text/plain": [
       "                                       Columns   Type  Unique   Size  Missing  \\\n",
       "number_of_reviews_l30d  number_of_reviews_l30d  int64      15  36008        0   \n",
       "\n",
       "                        % Unique  % Missing  \n",
       "number_of_reviews_l30d  0.000417        0.0  "
      ]
     },
     "execution_count": 187,
     "metadata": {},
     "output_type": "execute_result"
    }
   ],
   "source": [
    "df_info[df_info.index =='number_of_reviews_l30d']"
   ]
  },
  {
   "cell_type": "code",
   "execution_count": 188,
   "id": "7b0b0482",
   "metadata": {},
   "outputs": [
    {
     "data": {
      "text/plain": [
       "array([ 4,  2,  0,  3,  1,  6,  5,  7, 11, 10,  8,  9, 14, 13, 12],\n",
       "      dtype=int64)"
      ]
     },
     "execution_count": 188,
     "metadata": {},
     "output_type": "execute_result"
    }
   ],
   "source": [
    "df_eda['number_of_reviews_l30d'].unique()"
   ]
  },
  {
   "cell_type": "markdown",
   "id": "a881ef93",
   "metadata": {},
   "source": [
    "- \"instant_bookable\"\n"
   ]
  },
  {
   "cell_type": "code",
   "execution_count": 189,
   "id": "02d0cdea",
   "metadata": {},
   "outputs": [
    {
     "data": {
      "text/html": [
       "<div>\n",
       "<style scoped>\n",
       "    .dataframe tbody tr th:only-of-type {\n",
       "        vertical-align: middle;\n",
       "    }\n",
       "\n",
       "    .dataframe tbody tr th {\n",
       "        vertical-align: top;\n",
       "    }\n",
       "\n",
       "    .dataframe thead th {\n",
       "        text-align: right;\n",
       "    }\n",
       "</style>\n",
       "<table border=\"1\" class=\"dataframe\">\n",
       "  <thead>\n",
       "    <tr style=\"text-align: right;\">\n",
       "      <th></th>\n",
       "      <th>Columns</th>\n",
       "      <th>Type</th>\n",
       "      <th>Unique</th>\n",
       "      <th>Size</th>\n",
       "      <th>Missing</th>\n",
       "      <th>% Unique</th>\n",
       "      <th>% Missing</th>\n",
       "    </tr>\n",
       "  </thead>\n",
       "  <tbody>\n",
       "    <tr>\n",
       "      <th>instant_bookable</th>\n",
       "      <td>instant_bookable</td>\n",
       "      <td>object</td>\n",
       "      <td>2</td>\n",
       "      <td>36008</td>\n",
       "      <td>0</td>\n",
       "      <td>0.000056</td>\n",
       "      <td>0.0</td>\n",
       "    </tr>\n",
       "  </tbody>\n",
       "</table>\n",
       "</div>"
      ],
      "text/plain": [
       "                           Columns    Type  Unique   Size  Missing  % Unique  \\\n",
       "instant_bookable  instant_bookable  object       2  36008        0  0.000056   \n",
       "\n",
       "                  % Missing  \n",
       "instant_bookable        0.0  "
      ]
     },
     "execution_count": 189,
     "metadata": {},
     "output_type": "execute_result"
    }
   ],
   "source": [
    "df_info[df_info.index =='instant_bookable']"
   ]
  },
  {
   "cell_type": "code",
   "execution_count": 190,
   "id": "9559e798",
   "metadata": {},
   "outputs": [
    {
     "data": {
      "text/plain": [
       "array(['f', 't'], dtype=object)"
      ]
     },
     "execution_count": 190,
     "metadata": {},
     "output_type": "execute_result"
    }
   ],
   "source": [
    "df_eda['instant_bookable'].unique()"
   ]
  },
  {
   "cell_type": "markdown",
   "id": "552d311e",
   "metadata": {},
   "source": [
    "- \"calculated_host_listings_count\"\n"
   ]
  },
  {
   "cell_type": "code",
   "execution_count": 191,
   "id": "98b848cd",
   "metadata": {},
   "outputs": [
    {
     "data": {
      "text/html": [
       "<div>\n",
       "<style scoped>\n",
       "    .dataframe tbody tr th:only-of-type {\n",
       "        vertical-align: middle;\n",
       "    }\n",
       "\n",
       "    .dataframe tbody tr th {\n",
       "        vertical-align: top;\n",
       "    }\n",
       "\n",
       "    .dataframe thead th {\n",
       "        text-align: right;\n",
       "    }\n",
       "</style>\n",
       "<table border=\"1\" class=\"dataframe\">\n",
       "  <thead>\n",
       "    <tr style=\"text-align: right;\">\n",
       "      <th></th>\n",
       "      <th>Columns</th>\n",
       "      <th>Type</th>\n",
       "      <th>Unique</th>\n",
       "      <th>Size</th>\n",
       "      <th>Missing</th>\n",
       "      <th>% Unique</th>\n",
       "      <th>% Missing</th>\n",
       "    </tr>\n",
       "  </thead>\n",
       "  <tbody>\n",
       "    <tr>\n",
       "      <th>calculated_host_listings_count</th>\n",
       "      <td>calculated_host_listings_count</td>\n",
       "      <td>int64</td>\n",
       "      <td>58</td>\n",
       "      <td>36008</td>\n",
       "      <td>0</td>\n",
       "      <td>0.001611</td>\n",
       "      <td>0.0</td>\n",
       "    </tr>\n",
       "  </tbody>\n",
       "</table>\n",
       "</div>"
      ],
      "text/plain": [
       "                                                       Columns   Type  Unique  \\\n",
       "calculated_host_listings_count  calculated_host_listings_count  int64      58   \n",
       "\n",
       "                                 Size  Missing  % Unique  % Missing  \n",
       "calculated_host_listings_count  36008        0  0.001611        0.0  "
      ]
     },
     "execution_count": 191,
     "metadata": {},
     "output_type": "execute_result"
    }
   ],
   "source": [
    "df_info[df_info.index =='calculated_host_listings_count']"
   ]
  },
  {
   "cell_type": "code",
   "execution_count": 192,
   "id": "ea8529af",
   "metadata": {},
   "outputs": [
    {
     "data": {
      "text/plain": [
       "array([  1,   2,   5,  10,   4,  18,   7,   3,   8,   6, 142,  11,  50,\n",
       "         9,  21,  15,  46,  14,  35,  24,  47,  32,  12,  29,  37,  23,\n",
       "        16,  25,  69,  85,  13,  33,  17,  19,  42,  38,  30,  40,  51,\n",
       "        43,  20,  26, 185, 157,  80,  49,  41,  39,  22,  28,  77,  27,\n",
       "       128,  57,  56,  31, 145,  34], dtype=int64)"
      ]
     },
     "execution_count": 192,
     "metadata": {},
     "output_type": "execute_result"
    }
   ],
   "source": [
    "df_eda['calculated_host_listings_count'].unique()"
   ]
  },
  {
   "cell_type": "markdown",
   "id": "3fbe4235",
   "metadata": {},
   "source": [
    "- \"calculated_host_listings_count_entire_homes\"\n"
   ]
  },
  {
   "cell_type": "code",
   "execution_count": 193,
   "id": "d0f14bc2",
   "metadata": {},
   "outputs": [
    {
     "data": {
      "text/html": [
       "<div>\n",
       "<style scoped>\n",
       "    .dataframe tbody tr th:only-of-type {\n",
       "        vertical-align: middle;\n",
       "    }\n",
       "\n",
       "    .dataframe tbody tr th {\n",
       "        vertical-align: top;\n",
       "    }\n",
       "\n",
       "    .dataframe thead th {\n",
       "        text-align: right;\n",
       "    }\n",
       "</style>\n",
       "<table border=\"1\" class=\"dataframe\">\n",
       "  <thead>\n",
       "    <tr style=\"text-align: right;\">\n",
       "      <th></th>\n",
       "      <th>Columns</th>\n",
       "      <th>Type</th>\n",
       "      <th>Unique</th>\n",
       "      <th>Size</th>\n",
       "      <th>Missing</th>\n",
       "      <th>% Unique</th>\n",
       "      <th>% Missing</th>\n",
       "    </tr>\n",
       "  </thead>\n",
       "  <tbody>\n",
       "    <tr>\n",
       "      <th>calculated_host_listings_count_entire_homes</th>\n",
       "      <td>calculated_host_listings_count_entire_homes</td>\n",
       "      <td>int64</td>\n",
       "      <td>60</td>\n",
       "      <td>36008</td>\n",
       "      <td>0</td>\n",
       "      <td>0.001666</td>\n",
       "      <td>0.0</td>\n",
       "    </tr>\n",
       "  </tbody>\n",
       "</table>\n",
       "</div>"
      ],
      "text/plain": [
       "                                                                                 Columns  \\\n",
       "calculated_host_listings_count_entire_homes  calculated_host_listings_count_entire_homes   \n",
       "\n",
       "                                              Type  Unique   Size  Missing  \\\n",
       "calculated_host_listings_count_entire_homes  int64      60  36008        0   \n",
       "\n",
       "                                             % Unique  % Missing  \n",
       "calculated_host_listings_count_entire_homes  0.001666        0.0  "
      ]
     },
     "execution_count": 193,
     "metadata": {},
     "output_type": "execute_result"
    }
   ],
   "source": [
    "df_info[df_info.index =='calculated_host_listings_count_entire_homes']"
   ]
  },
  {
   "cell_type": "code",
   "execution_count": 194,
   "id": "9a39e5a7",
   "metadata": {},
   "outputs": [
    {
     "data": {
      "text/plain": [
       "array([  1,   2,   5,   0,   9,  18,   7,   3,   8,   6,   4,  10, 142,\n",
       "        11,  42,  20,  13,  14,  35,  22,  47,  32,  12,  29,  15,  37,\n",
       "        23,  16,  24,  69,  84,  50,  17,  46,  38,  40,  43,  25,  26,\n",
       "        36, 185, 152,  80,  49,  41,  21,  39,  19,  28,  77, 115,  57,\n",
       "        51,  56,  30,  27,  31, 145,  33,  34], dtype=int64)"
      ]
     },
     "execution_count": 194,
     "metadata": {},
     "output_type": "execute_result"
    }
   ],
   "source": [
    "df_eda['calculated_host_listings_count_entire_homes'].unique()"
   ]
  },
  {
   "cell_type": "markdown",
   "id": "8a57fdbe",
   "metadata": {},
   "source": [
    "- \"calculated_host_listings_count_private_rooms\"\n"
   ]
  },
  {
   "cell_type": "code",
   "execution_count": 195,
   "id": "74a666bd",
   "metadata": {},
   "outputs": [
    {
     "data": {
      "text/html": [
       "<div>\n",
       "<style scoped>\n",
       "    .dataframe tbody tr th:only-of-type {\n",
       "        vertical-align: middle;\n",
       "    }\n",
       "\n",
       "    .dataframe tbody tr th {\n",
       "        vertical-align: top;\n",
       "    }\n",
       "\n",
       "    .dataframe thead th {\n",
       "        text-align: right;\n",
       "    }\n",
       "</style>\n",
       "<table border=\"1\" class=\"dataframe\">\n",
       "  <thead>\n",
       "    <tr style=\"text-align: right;\">\n",
       "      <th></th>\n",
       "      <th>Columns</th>\n",
       "      <th>Type</th>\n",
       "      <th>Unique</th>\n",
       "      <th>Size</th>\n",
       "      <th>Missing</th>\n",
       "      <th>% Unique</th>\n",
       "      <th>% Missing</th>\n",
       "    </tr>\n",
       "  </thead>\n",
       "  <tbody>\n",
       "    <tr>\n",
       "      <th>calculated_host_listings_count_private_rooms</th>\n",
       "      <td>calculated_host_listings_count_private_rooms</td>\n",
       "      <td>int64</td>\n",
       "      <td>18</td>\n",
       "      <td>36008</td>\n",
       "      <td>0</td>\n",
       "      <td>0.0005</td>\n",
       "      <td>0.0</td>\n",
       "    </tr>\n",
       "  </tbody>\n",
       "</table>\n",
       "</div>"
      ],
      "text/plain": [
       "                                                                                   Columns  \\\n",
       "calculated_host_listings_count_private_rooms  calculated_host_listings_count_private_rooms   \n",
       "\n",
       "                                               Type  Unique   Size  Missing  \\\n",
       "calculated_host_listings_count_private_rooms  int64      18  36008        0   \n",
       "\n",
       "                                              % Unique  % Missing  \n",
       "calculated_host_listings_count_private_rooms    0.0005        0.0  "
      ]
     },
     "execution_count": 195,
     "metadata": {},
     "output_type": "execute_result"
    }
   ],
   "source": [
    "df_info[df_info.index =='calculated_host_listings_count_private_rooms']"
   ]
  },
  {
   "cell_type": "code",
   "execution_count": 196,
   "id": "ca4d5a41",
   "metadata": {},
   "outputs": [
    {
     "data": {
      "text/plain": [
       "array([ 0,  1,  2,  3,  5,  4,  8,  9,  7, 12, 11,  6, 10, 21, 13, 14, 18,\n",
       "       17], dtype=int64)"
      ]
     },
     "execution_count": 196,
     "metadata": {},
     "output_type": "execute_result"
    }
   ],
   "source": [
    "df_eda['calculated_host_listings_count_private_rooms'].unique()"
   ]
  },
  {
   "cell_type": "markdown",
   "id": "604e1e0b",
   "metadata": {},
   "source": [
    "- \"calculated_host_listings_count_shared_rooms\""
   ]
  },
  {
   "cell_type": "code",
   "execution_count": 197,
   "id": "ed6ea391",
   "metadata": {},
   "outputs": [
    {
     "data": {
      "text/html": [
       "<div>\n",
       "<style scoped>\n",
       "    .dataframe tbody tr th:only-of-type {\n",
       "        vertical-align: middle;\n",
       "    }\n",
       "\n",
       "    .dataframe tbody tr th {\n",
       "        vertical-align: top;\n",
       "    }\n",
       "\n",
       "    .dataframe thead th {\n",
       "        text-align: right;\n",
       "    }\n",
       "</style>\n",
       "<table border=\"1\" class=\"dataframe\">\n",
       "  <thead>\n",
       "    <tr style=\"text-align: right;\">\n",
       "      <th></th>\n",
       "      <th>Columns</th>\n",
       "      <th>Type</th>\n",
       "      <th>Unique</th>\n",
       "      <th>Size</th>\n",
       "      <th>Missing</th>\n",
       "      <th>% Unique</th>\n",
       "      <th>% Missing</th>\n",
       "    </tr>\n",
       "  </thead>\n",
       "  <tbody>\n",
       "    <tr>\n",
       "      <th>calculated_host_listings_count_shared_rooms</th>\n",
       "      <td>calculated_host_listings_count_shared_rooms</td>\n",
       "      <td>int64</td>\n",
       "      <td>16</td>\n",
       "      <td>36008</td>\n",
       "      <td>0</td>\n",
       "      <td>0.000444</td>\n",
       "      <td>0.0</td>\n",
       "    </tr>\n",
       "  </tbody>\n",
       "</table>\n",
       "</div>"
      ],
      "text/plain": [
       "                                                                                 Columns  \\\n",
       "calculated_host_listings_count_shared_rooms  calculated_host_listings_count_shared_rooms   \n",
       "\n",
       "                                              Type  Unique   Size  Missing  \\\n",
       "calculated_host_listings_count_shared_rooms  int64      16  36008        0   \n",
       "\n",
       "                                             % Unique  % Missing  \n",
       "calculated_host_listings_count_shared_rooms  0.000444        0.0  "
      ]
     },
     "execution_count": 197,
     "metadata": {},
     "output_type": "execute_result"
    }
   ],
   "source": [
    "df_info[df_info.index =='calculated_host_listings_count_shared_rooms']"
   ]
  },
  {
   "cell_type": "code",
   "execution_count": 198,
   "id": "309d668c",
   "metadata": {},
   "outputs": [
    {
     "data": {
      "text/plain": [
       "array([ 0,  1,  9,  4,  2,  6,  3, 10,  5,  7,  8, 19, 11, 16, 13, 15],\n",
       "      dtype=int64)"
      ]
     },
     "execution_count": 198,
     "metadata": {},
     "output_type": "execute_result"
    }
   ],
   "source": [
    "df_eda['calculated_host_listings_count_shared_rooms'].unique()"
   ]
  },
  {
   "cell_type": "code",
   "execution_count": null,
   "id": "2429d7a5",
   "metadata": {},
   "outputs": [],
   "source": []
  },
  {
   "cell_type": "code",
   "execution_count": null,
   "id": "8d527009",
   "metadata": {},
   "outputs": [],
   "source": []
  },
  {
   "cell_type": "code",
   "execution_count": null,
   "id": "686cf030",
   "metadata": {},
   "outputs": [],
   "source": []
  },
  {
   "cell_type": "code",
   "execution_count": null,
   "id": "a2ea07b3",
   "metadata": {},
   "outputs": [],
   "source": []
  }
 ],
 "metadata": {
  "kernelspec": {
   "display_name": "Python 3 (ipykernel)",
   "language": "python",
   "name": "python3"
  },
  "language_info": {
   "codemirror_mode": {
    "name": "ipython",
    "version": 3
   },
   "file_extension": ".py",
   "mimetype": "text/x-python",
   "name": "python",
   "nbconvert_exporter": "python",
   "pygments_lexer": "ipython3",
   "version": "3.11.4"
  }
 },
 "nbformat": 4,
 "nbformat_minor": 5
}
